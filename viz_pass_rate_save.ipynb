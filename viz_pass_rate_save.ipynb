{
 "cells": [
  {
   "cell_type": "code",
   "execution_count": 1,
   "metadata": {},
   "outputs": [
    {
     "data": {
      "application/javascript": [
       "IPython.notebook.set_autosave_interval(5000)"
      ]
     },
     "metadata": {},
     "output_type": "display_data"
    },
    {
     "name": "stdout",
     "output_type": "stream",
     "text": [
      "Autosaving every 5 seconds\n"
     ]
    }
   ],
   "source": [
    "import sys\n",
    "import os \n",
    "from itertools import product\n",
    "import matplotlib.pyplot as plt\n",
    "import matplotlib.image as mpimg\n",
    "from ipywidgets import interact\n",
    "import ipywidgets as widgets\n",
    "# import pickle\n",
    "\n",
    "%autosave 5"
   ]
  },
  {
   "cell_type": "code",
   "execution_count": 5,
   "metadata": {},
   "outputs": [],
   "source": [
    "\"\"\"gather the pre-computed results from figshare\"\"\"\n",
    "\n",
    "download_data = True\n",
    "\n",
    "if download_data:\n",
    "    # download data \n",
    "    img_dl_cmd = 'curl --header \"Host: s3-eu-west-1.amazonaws.com\" --header \"User-Agent: Mozilla/5.0 (Macintosh; Intel Mac OS X 10_14_0) AppleWebKit/537.36 (KHTML, like Gecko) Chrome/70.0.3538.77 Safari/537.36\" --header \"Accept: text/html,application/xhtml+xml,application/xml;q=0.9,image/webp,image/apng,*/*;q=0.8\" --header \"Accept-Language: en-US,en;q=0.9,zh-CN;q=0.8,zh;q=0.7,zh-TW;q=0.6,ja;q=0.5\" \"https://s3-eu-west-1.amazonaws.com/pfigshare-u-files/13474631/retrieval.tar.gz\" -o \"retrieval.tar.gz\" -L'\n",
    "    _ = os.system(img_dl_cmd)\n",
    "\n",
    "    # create a cache dir \n",
    "    if not os.path.exists('cache'):\n",
    "        os.makedirs('cache')\n",
    "\n",
    "    # move the file to cache    \n",
    "    if os.path.exists('retrieval.tar.gz'):    \n",
    "        _ = os.system('mv retrieval.tar.gz cache/')\n",
    "    else: \n",
    "        assert os.path.exists('cache/retrieval.tar.gz')\n",
    "\n",
    "    # unzip the folder\n",
    "    _ = os.system('tar -xzf cache/retrieval.tar.gz -C cache/')\n",
    "\n",
    "temp_plt_path = os.path.join('cache/retrieval')\n",
    "assert os.path.exists(temp_plt_path), 'oops you need to fetch my data 1st...'    \n",
    "print('Done!')"
   ]
  },
  {
   "cell_type": "code",
   "execution_count": 6,
   "metadata": {},
   "outputs": [],
   "source": [
    "\"\"\"\n",
    "constant\n",
    "\"\"\"\n",
    "POSSIBLE_RULE_TYPES = ['null', 'demand', 'inhibit', 'demand+inhibit']\n",
    "# simulation parameters \n",
    "chk_siz_list = [4, 8, 16, 32, 64]\n",
    "min_mat_list = [0, 1, 2, 4, 8, 16, 32, 64]\n",
    "# max_mis_list = [0, 1, 2, 4, 8, 16, 32, 64]\n",
    "max_mis_list = [0, 1]\n",
    "ncks = len(chk_siz_list)\n",
    "nm1s = len(min_mat_list)\n",
    "nm2s = len(max_mis_list)\n",
    "\n",
    "\"\"\"\n",
    "fixed parameters\n",
    "\"\"\"\n",
    "# event parameters\n",
    "n_params = 64\n",
    "event_len = 512\n",
    "n_branches = 3\n",
    "event_len_trunc = 64 \n",
    "ms_deday = 0.0\n",
    "\n",
    "# sample size \n",
    "n_sims = 500\n",
    "\n",
    "n_qs = event_len // event_len_trunc\n",
    "model_param_lists = [chk_siz_list, min_mat_list, max_mis_list]\n",
    "\n",
    "# # log dir \n",
    "# plt_root = '/tigress/qlu/logs/retrieval_dynamics/plots/tradeoff'\n",
    "# log_root = '/tigress/qlu/logs/retrieval_dynamics/log/tradeoff'"
   ]
  },
  {
   "cell_type": "code",
   "execution_count": null,
   "metadata": {},
   "outputs": [],
   "source": [
    "\"\"\"\n",
    "variation parameters\n",
    "\"\"\"\n",
    "ambiguity_all = [.25]\n",
    "noise_all = [0, 0.01]\n",
    "n_retrievals_all = [1, 3]\n",
    "# mismatch_sensitivity_all = [0, 1.0]\n",
    "mismatch_sensitivity_all = [1.0]\n",
    "penalty_strenth_all = [0, 1]\n",
    "\n",
    "# temp_plt_path = os.path.join(plt_root, 'temp')\n",
    "# img_dict_path = os.path.join(temp_plt_path, 'imgs.p')\n",
    "# if os.path.exists(img_dict_path): \n",
    "#     imgs = pickle.load(open(img_dict_path, \"rb\" ))\n",
    "# else: \n",
    "# form the param_tuple -> image dict\n",
    "plt_format = '.png'\n",
    "imgs = {}\n",
    "for ambiguity, noise, n_retrievals, mismatch_sensitivity, penalty_strenth, fixed_m2_val in product(\n",
    "    ambiguity_all, noise_all, n_retrievals_all, \n",
    "    mismatch_sensitivity_all, penalty_strenth_all, max_mis_list): \n",
    "    # setup the key \n",
    "    img_param_tup = (\n",
    "        ambiguity, noise, n_retrievals, mismatch_sensitivity, fixed_m2_val, penalty_strenth)\n",
    "    # load the image \n",
    "    fname = 'amb_%.2f_noise_%.3f_nRs_%d_mms_%d_m2v_%d_ps_%1.f' % img_param_tup + plt_format\n",
    "    fpath = os.path.join(temp_plt_path, fname)\n",
    "    # build key-image dict \n",
    "    imgs[img_param_tup] = mpimg.imread(fpath)\n",
    "# # save images \n",
    "# pickle.dump(imgs, open(img_dict_path, \"wb\"))        \n",
    "    \n",
    "# print('done, image loading') "
   ]
  },
  {
   "cell_type": "code",
   "execution_count": null,
   "metadata": {},
   "outputs": [],
   "source": [
    "%matplotlib notebook\n",
    "\n",
    "# build the param_tuple -> imshow mapping\n",
    "def switch_img(ambiguity, noise, n_retrievals, mismatch_sensitivity, fixed_m2_val, penalty_strenth):\n",
    "    ax.imshow(\n",
    "        imgs[(ambiguity, noise, n_retrievals, mismatch_sensitivity, fixed_m2_val, penalty_strenth)],\n",
    "    )\n",
    "    f.tight_layout()\n",
    "\n",
    "f, ax = plt.subplots(1,1, figsize = (8, 6))\n",
    "ax.axis('off')\n",
    "\n",
    "# set up the plot \n",
    "interact(\n",
    "    switch_img,\n",
    "    ambiguity=widgets.ToggleButtons(\n",
    "        options=ambiguity_all, \n",
    "        value=ambiguity_all[0], \n",
    "        description='ambiguity', \n",
    "        disabled=False\n",
    "    ),\n",
    "    noise=widgets.ToggleButtons(\n",
    "        options=noise_all, \n",
    "        value=noise_all[0], \n",
    "        description='noise', \n",
    "        disabled=False\n",
    "    ),\n",
    "    n_retrievals=widgets.ToggleButtons(\n",
    "        options=n_retrievals_all, \n",
    "        value=n_retrievals_all[0], \n",
    "        description='n_retrievals', \n",
    "        disabled=False\n",
    "    ),\n",
    "    mismatch_sensitivity=widgets.ToggleButtons(\n",
    "        options=mismatch_sensitivity_all, \n",
    "        value=mismatch_sensitivity_all[-1], \n",
    "        description='mismatch_sensitivity', \n",
    "        disabled=False\n",
    "    ),\n",
    "    fixed_m2_val = widgets.SelectionSlider(\n",
    "        options=max_mis_list, \n",
    "        value=max_mis_list[0],\n",
    "        description='Max-mismatch', \n",
    "        disabled=False,\n",
    "        continuous_update=False,\n",
    "        orientation='horizontal',\n",
    "        readout=True\n",
    "    ), \n",
    "    penalty_strenth=widgets.ToggleButtons(\n",
    "        options=penalty_strenth_all, \n",
    "        value=penalty_strenth_all[-1],\n",
    "        description='Penalty strenth', \n",
    "        disabled=False,\n",
    "    ), \n",
    ")"
   ]
  },
  {
   "cell_type": "code",
   "execution_count": null,
   "metadata": {},
   "outputs": [],
   "source": []
  }
 ],
 "metadata": {
  "kernelspec": {
   "display_name": "Python 3",
   "language": "python",
   "name": "python3"
  },
  "language_info": {
   "codemirror_mode": {
    "name": "ipython",
    "version": 3
   },
   "file_extension": ".py",
   "mimetype": "text/x-python",
   "name": "python",
   "nbconvert_exporter": "python",
   "pygments_lexer": "ipython3",
   "version": "3.6.4"
  },
  "widgets": {
   "application/vnd.jupyter.widget-state+json": {
    "state": {
     "003b0cb8e63f4d0cb542830439faef5c": {
      "model_module": "@jupyter-widgets/controls",
      "model_module_version": "1.4.0",
      "model_name": "RadioButtonsModel",
      "state": {
       "_options_labels": [
        "0",
        "0.01"
       ],
       "description": "noise",
       "index": 0,
       "layout": "IPY_MODEL_2d197a13aa134362bf46d474b9e8a9b0",
       "style": "IPY_MODEL_363c0803eb394e2aa2d50c9d1a1c7499"
      }
     },
     "005a0762503746c5a0fdd530858b317a": {
      "model_module": "@jupyter-widgets/base",
      "model_module_version": "1.1.0",
      "model_name": "LayoutModel",
      "state": {}
     },
     "0144f955617e43ec8c53008c77388528": {
      "model_module": "@jupyter-widgets/controls",
      "model_module_version": "1.4.0",
      "model_name": "DescriptionStyleModel",
      "state": {
       "description_width": ""
      }
     },
     "0148d23cb5454dd8ae93c4ca605f76ac": {
      "model_module": "@jupyter-widgets/controls",
      "model_module_version": "1.4.0",
      "model_name": "SelectionSliderModel",
      "state": {
       "_options_labels": [
        "0",
        "0.5",
        "1"
       ],
       "continuous_update": false,
       "description": "Penalty strenth",
       "index": 0,
       "layout": "IPY_MODEL_705a38ac826d420f92eb04578e8cd747",
       "style": "IPY_MODEL_bb0245b8fe334697a12356c3d2a3391f"
      }
     },
     "021b5d9b463f43f6b740ea45566f28cd": {
      "model_module": "@jupyter-widgets/base",
      "model_module_version": "1.1.0",
      "model_name": "LayoutModel",
      "state": {}
     },
     "02b748e19ff44935b87362795ab08597": {
      "model_module": "@jupyter-widgets/controls",
      "model_module_version": "1.4.0",
      "model_name": "ToggleButtonsStyleModel",
      "state": {
       "button_width": "",
       "description_width": ""
      }
     },
     "02ca5b5828e74598a6d18c97b876aca3": {
      "model_module": "@jupyter-widgets/base",
      "model_module_version": "1.1.0",
      "model_name": "LayoutModel",
      "state": {}
     },
     "03476c7a16eb458e83ab0a0a2d400b4f": {
      "model_module": "@jupyter-widgets/base",
      "model_module_version": "1.1.0",
      "model_name": "LayoutModel",
      "state": {}
     },
     "03a4584bce644b92bbe869aaba5c4980": {
      "model_module": "@jupyter-widgets/controls",
      "model_module_version": "1.4.0",
      "model_name": "RadioButtonsModel",
      "state": {
       "_options_labels": [
        "0",
        "1",
        "2",
        "4",
        "8",
        "16",
        "32",
        "64"
       ],
       "description": "max_mismatch",
       "index": 0,
       "layout": "IPY_MODEL_02ca5b5828e74598a6d18c97b876aca3",
       "style": "IPY_MODEL_bc6d87591160456697738a7dfa9856c1"
      }
     },
     "0450a897bd4842dfa3061db7ce24ddf4": {
      "model_module": "@jupyter-widgets/base",
      "model_module_version": "1.1.0",
      "model_name": "LayoutModel",
      "state": {}
     },
     "0494b8c1f7d040649fc605be777e495d": {
      "model_module": "@jupyter-widgets/controls",
      "model_module_version": "1.4.0",
      "model_name": "VBoxModel",
      "state": {
       "_dom_classes": [
        "widget-interact"
       ],
       "children": [
        "IPY_MODEL_16b9ce80f0e24864aed22918e2147c35",
        "IPY_MODEL_9598a2bfdc744e16adcce5375a4b66d1",
        "IPY_MODEL_f81f01706cfb4a8bb1e0c4adf1f5eeb4",
        "IPY_MODEL_0bdbd558326a435084e64bdc528d6253",
        "IPY_MODEL_f3cf7519961c4cc8afd40e7ad03dbe62",
        "IPY_MODEL_1be8f6e9dfdc4db48aa4956a90e83489",
        "IPY_MODEL_66cf2d07572a404a9f18ffbfc9103379"
       ],
       "layout": "IPY_MODEL_f70f1f31f7b04dc29bb26cdf677225e4"
      }
     },
     "04b2271a41f14419bb23bc252bafddc4": {
      "model_module": "@jupyter-widgets/controls",
      "model_module_version": "1.4.0",
      "model_name": "DescriptionStyleModel",
      "state": {
       "description_width": ""
      }
     },
     "04b37813f3ff4143ab01c1dad53dca7c": {
      "model_module": "@jupyter-widgets/controls",
      "model_module_version": "1.4.0",
      "model_name": "RadioButtonsModel",
      "state": {
       "_options_labels": [
        "0",
        "1",
        "2",
        "4",
        "8",
        "16",
        "32",
        "64"
       ],
       "description": "max_mismatch",
       "index": 0,
       "layout": "IPY_MODEL_e3c66ac6fb74432abcacddf9a3f59571",
       "style": "IPY_MODEL_d50245bb192242d595db6fc1231fdbc5"
      }
     },
     "04d382f6b9904518ba7de94e179cad7f": {
      "model_module": "@jupyter-widgets/controls",
      "model_module_version": "1.4.0",
      "model_name": "RadioButtonsModel",
      "state": {
       "_options_labels": [
        "0.25"
       ],
       "description": "ambiguity",
       "index": 0,
       "layout": "IPY_MODEL_c41bd148cf884a2daebe13609449b5e8",
       "style": "IPY_MODEL_2944807194004fdfb1a8469bb93487a7"
      }
     },
     "0533d78f72934ae58cf3e8799a5e5676": {
      "model_module": "@jupyter-widgets/controls",
      "model_module_version": "1.4.0",
      "model_name": "DescriptionStyleModel",
      "state": {
       "description_width": ""
      }
     },
     "06841cf3103048518b34fcac8a40cce7": {
      "model_module": "@jupyter-widgets/controls",
      "model_module_version": "1.4.0",
      "model_name": "SelectionSliderModel",
      "state": {
       "_options_labels": [
        "0",
        "1",
        "2",
        "4",
        "8",
        "16",
        "32",
        "64"
       ],
       "continuous_update": false,
       "description": "Max-mismatch",
       "index": 0,
       "layout": "IPY_MODEL_0e80ff0a0fb24e56aca5545e66386b33",
       "style": "IPY_MODEL_8158ec06c05d498d838e6d040798ab40"
      }
     },
     "08a5c24c088e4154a8ca8814f7957e25": {
      "model_module": "@jupyter-widgets/controls",
      "model_module_version": "1.4.0",
      "model_name": "DescriptionStyleModel",
      "state": {
       "description_width": ""
      }
     },
     "08c6fa1419984b4b98cb3fa38c042822": {
      "model_module": "@jupyter-widgets/output",
      "model_module_version": "1.0.0",
      "model_name": "OutputModel",
      "state": {
       "layout": "IPY_MODEL_4ae6b1fd58c7476692b468a0b56e8bdf"
      }
     },
     "08ccfb535daa4eadbf80cca61629ee8a": {
      "model_module": "@jupyter-widgets/controls",
      "model_module_version": "1.4.0",
      "model_name": "DescriptionStyleModel",
      "state": {
       "description_width": ""
      }
     },
     "090a61965440485386f05f71cf9a93af": {
      "model_module": "@jupyter-widgets/base",
      "model_module_version": "1.1.0",
      "model_name": "LayoutModel",
      "state": {}
     },
     "0922b474f8d2474b88bba1a5a3066407": {
      "model_module": "@jupyter-widgets/controls",
      "model_module_version": "1.4.0",
      "model_name": "RadioButtonsModel",
      "state": {
       "_options_labels": [
        "1",
        "3"
       ],
       "description": "n_retrievals",
       "index": 0,
       "layout": "IPY_MODEL_df6fececfdc1428d8189388f0d0a2036",
       "style": "IPY_MODEL_e5cf6d65293a4ff88c98f180a956f52c"
      }
     },
     "094e989458fe4a96a6913cc19500eeec": {
      "model_module": "@jupyter-widgets/controls",
      "model_module_version": "1.4.0",
      "model_name": "RadioButtonsModel",
      "state": {
       "_options_labels": [
        "1",
        "0.5",
        "0"
       ],
       "description": "penalty_strenth",
       "index": 0,
       "layout": "IPY_MODEL_85efe5203e5d48299bcc07852df226ae",
       "style": "IPY_MODEL_0533d78f72934ae58cf3e8799a5e5676"
      }
     },
     "0967d63a43eb426daf6817ead86a0d6a": {
      "model_module": "@jupyter-widgets/base",
      "model_module_version": "1.1.0",
      "model_name": "LayoutModel",
      "state": {}
     },
     "09a56ba18f9345e98c727f688c1e0626": {
      "model_module": "@jupyter-widgets/controls",
      "model_module_version": "1.4.0",
      "model_name": "RadioButtonsModel",
      "state": {
       "_options_labels": [
        "1",
        "0.5",
        "0"
       ],
       "description": "penalty_strenth",
       "index": 0,
       "layout": "IPY_MODEL_bb90ef0c3efd434fa79a035852780e85",
       "style": "IPY_MODEL_7a58ef8927e947d7bc199535d0733fb4"
      }
     },
     "09b4eddc85ff437182990d3484b94f35": {
      "model_module": "@jupyter-widgets/base",
      "model_module_version": "1.1.0",
      "model_name": "LayoutModel",
      "state": {}
     },
     "09e3afb730904dc1a437416e4fe003e7": {
      "model_module": "@jupyter-widgets/controls",
      "model_module_version": "1.4.0",
      "model_name": "RadioButtonsModel",
      "state": {
       "_options_labels": [
        "1",
        "0.5",
        "0"
       ],
       "description": "penalty_strenth",
       "index": 0,
       "layout": "IPY_MODEL_7bdc75f40a2946969c83c387ee994e6f",
       "style": "IPY_MODEL_fe459b24bc3e4a7e8f6b09111a0b77ae"
      }
     },
     "0a30b192a99f4c72ad15be0d26ad2289": {
      "model_module": "@jupyter-widgets/base",
      "model_module_version": "1.1.0",
      "model_name": "LayoutModel",
      "state": {}
     },
     "0a6e0db645584d6081f55d14d48cff56": {
      "model_module": "@jupyter-widgets/base",
      "model_module_version": "1.1.0",
      "model_name": "LayoutModel",
      "state": {}
     },
     "0a7e9bc53a6e4b69bc7f2018bf1981d8": {
      "model_module": "@jupyter-widgets/controls",
      "model_module_version": "1.4.0",
      "model_name": "DescriptionStyleModel",
      "state": {
       "description_width": ""
      }
     },
     "0ab124aa1bf5401890b8e509aa2bb1f7": {
      "model_module": "@jupyter-widgets/base",
      "model_module_version": "1.1.0",
      "model_name": "LayoutModel",
      "state": {}
     },
     "0b56526ed2d54c808c67ce3ab015feef": {
      "model_module": "@jupyter-widgets/controls",
      "model_module_version": "1.4.0",
      "model_name": "RadioButtonsModel",
      "state": {
       "_options_labels": [
        "0.25"
       ],
       "description": "ambiguity",
       "index": 0,
       "layout": "IPY_MODEL_bdbc5646fe234be3a728ac3b826a0354",
       "style": "IPY_MODEL_e02c5bc63edc4445a5ee413326eec8b4"
      }
     },
     "0bb556c8e323499eb79058cc32140bde": {
      "model_module": "@jupyter-widgets/base",
      "model_module_version": "1.1.0",
      "model_name": "LayoutModel",
      "state": {}
     },
     "0bdbd558326a435084e64bdc528d6253": {
      "model_module": "@jupyter-widgets/controls",
      "model_module_version": "1.4.0",
      "model_name": "RadioButtonsModel",
      "state": {
       "_options_labels": [
        "0",
        "1.0"
       ],
       "description": "mismatch_sensitivity",
       "index": 1,
       "layout": "IPY_MODEL_38c22e318cea4991b4f67d9ba777c19b",
       "style": "IPY_MODEL_b23223e78c9e4a7d8ea803e23a19a1e1"
      }
     },
     "0c08f3fdaa59459d9bebb6b9f05f354d": {
      "model_module": "@jupyter-widgets/controls",
      "model_module_version": "1.4.0",
      "model_name": "ToggleButtonsStyleModel",
      "state": {
       "button_width": "",
       "description_width": ""
      }
     },
     "0c17a65914384c21888cda3d8e0fa0a1": {
      "model_module": "@jupyter-widgets/base",
      "model_module_version": "1.1.0",
      "model_name": "LayoutModel",
      "state": {}
     },
     "0cd6f44647c044dcb6e46dc7b9db7ee6": {
      "model_module": "@jupyter-widgets/controls",
      "model_module_version": "1.4.0",
      "model_name": "ToggleButtonsModel",
      "state": {
       "_options_labels": [
        "0",
        "1"
       ],
       "button_style": "",
       "description": "Penalty strenth",
       "icons": [],
       "index": 1,
       "layout": "IPY_MODEL_2da421f1c163482986f796accc70df42",
       "style": "IPY_MODEL_74ce5aecfa044d3eb43cd4cf3eb7e0d5",
       "tooltips": []
      }
     },
     "0d3b645881ba4d6c9c04160c3d31e357": {
      "model_module": "@jupyter-widgets/base",
      "model_module_version": "1.1.0",
      "model_name": "LayoutModel",
      "state": {}
     },
     "0da1e7a73b684861ae1bc234bc45c077": {
      "model_module": "@jupyter-widgets/controls",
      "model_module_version": "1.4.0",
      "model_name": "RadioButtonsModel",
      "state": {
       "_options_labels": [
        "0",
        "0.01"
       ],
       "description": "noise",
       "index": 0,
       "layout": "IPY_MODEL_713446a2b2f24180870e315a48d3d978",
       "style": "IPY_MODEL_9986472f0d3045d48a7f57c22f190bae"
      }
     },
     "0da7625f498f41bf8404ee0e46fefdd5": {
      "model_module": "@jupyter-widgets/base",
      "model_module_version": "1.1.0",
      "model_name": "LayoutModel",
      "state": {}
     },
     "0e154860f55e4e06993673ebb4b2e78e": {
      "model_module": "@jupyter-widgets/base",
      "model_module_version": "1.1.0",
      "model_name": "LayoutModel",
      "state": {}
     },
     "0e405bd4d56443f8b05c2a88f1cf6db8": {
      "model_module": "@jupyter-widgets/controls",
      "model_module_version": "1.4.0",
      "model_name": "RadioButtonsModel",
      "state": {
       "_options_labels": [
        "0.25"
       ],
       "description": "ambiguity",
       "index": 0,
       "layout": "IPY_MODEL_f4e0cb713a864d26adf831eb0936b77e",
       "style": "IPY_MODEL_c234aa902f90477b9c687427fad696ce"
      }
     },
     "0e80ff0a0fb24e56aca5545e66386b33": {
      "model_module": "@jupyter-widgets/base",
      "model_module_version": "1.1.0",
      "model_name": "LayoutModel",
      "state": {}
     },
     "0ecb25f1accb4d78b1cb9171102647d3": {
      "model_module": "@jupyter-widgets/base",
      "model_module_version": "1.1.0",
      "model_name": "LayoutModel",
      "state": {}
     },
     "0eeb416e331b45e985cb3725d07f1a02": {
      "model_module": "@jupyter-widgets/controls",
      "model_module_version": "1.4.0",
      "model_name": "RadioButtonsModel",
      "state": {
       "_options_labels": [
        "0",
        "0.01"
       ],
       "description": "noise",
       "index": 0,
       "layout": "IPY_MODEL_49aa049921ee498f85b094b387ea0da3",
       "style": "IPY_MODEL_08a5c24c088e4154a8ca8814f7957e25"
      }
     },
     "0fbbfe56794243c683c9b76d02131de4": {
      "model_module": "@jupyter-widgets/base",
      "model_module_version": "1.1.0",
      "model_name": "LayoutModel",
      "state": {}
     },
     "1013b0db7f9642d7a94dde8ac968918d": {
      "model_module": "@jupyter-widgets/controls",
      "model_module_version": "1.4.0",
      "model_name": "RadioButtonsModel",
      "state": {
       "_options_labels": [
        "0",
        "1",
        "2",
        "4",
        "8",
        "16",
        "32",
        "64"
       ],
       "description": "max_mismatch",
       "index": 0,
       "layout": "IPY_MODEL_5b1d3d1b5f714df5b83738001fd6d4a9",
       "style": "IPY_MODEL_2fcf52fc96ab4d4a8eba97a46a8e92cf"
      }
     },
     "1029c07dc9014be8b0e677291b55caa9": {
      "model_module": "@jupyter-widgets/controls",
      "model_module_version": "1.4.0",
      "model_name": "RadioButtonsModel",
      "state": {
       "_options_labels": [
        "1",
        "0.5",
        "0"
       ],
       "description": "penalty_strenth",
       "index": 0,
       "layout": "IPY_MODEL_0da7625f498f41bf8404ee0e46fefdd5",
       "style": "IPY_MODEL_85cac2f3552345adac0e703d73720a1f"
      }
     },
     "10631a8c24ec4b398be96d1bf7b2b805": {
      "model_module": "@jupyter-widgets/base",
      "model_module_version": "1.1.0",
      "model_name": "LayoutModel",
      "state": {}
     },
     "106ed8ffdf44477caf5120d61928722f": {
      "model_module": "@jupyter-widgets/controls",
      "model_module_version": "1.4.0",
      "model_name": "DescriptionStyleModel",
      "state": {
       "description_width": ""
      }
     },
     "108803633c784e9283cf52e79320685b": {
      "model_module": "@jupyter-widgets/base",
      "model_module_version": "1.1.0",
      "model_name": "LayoutModel",
      "state": {}
     },
     "10af501f6fcd4c6084d98f9dbe2251ef": {
      "model_module": "@jupyter-widgets/base",
      "model_module_version": "1.1.0",
      "model_name": "LayoutModel",
      "state": {}
     },
     "11780744eb494b0995043e4f7383dda6": {
      "model_module": "@jupyter-widgets/controls",
      "model_module_version": "1.4.0",
      "model_name": "ToggleButtonsStyleModel",
      "state": {
       "button_width": "",
       "description_width": ""
      }
     },
     "1190b0377f7d487e996849511b5b963d": {
      "model_module": "@jupyter-widgets/output",
      "model_module_version": "1.0.0",
      "model_name": "OutputModel",
      "state": {
       "layout": "IPY_MODEL_8f3dbd12b5ba4132ad47d87c1859fe75"
      }
     },
     "12c08013a4094f8b869c0eb5f52a4645": {
      "model_module": "@jupyter-widgets/base",
      "model_module_version": "1.1.0",
      "model_name": "LayoutModel",
      "state": {}
     },
     "12eedc765d6a4c129297621208753655": {
      "model_module": "@jupyter-widgets/base",
      "model_module_version": "1.1.0",
      "model_name": "LayoutModel",
      "state": {}
     },
     "12f6e90bb8664f6dae61747208398da7": {
      "model_module": "@jupyter-widgets/controls",
      "model_module_version": "1.4.0",
      "model_name": "DescriptionStyleModel",
      "state": {
       "description_width": ""
      }
     },
     "138ee153462649b79ca9c31a08c9ce2f": {
      "model_module": "@jupyter-widgets/controls",
      "model_module_version": "1.4.0",
      "model_name": "ToggleButtonsModel",
      "state": {
       "_options_labels": [
        "0",
        "1.0"
       ],
       "button_style": "",
       "description": "mismatch_sensitivity",
       "icons": [],
       "index": 1,
       "layout": "IPY_MODEL_8d658f86d5ba4c1994a3eefacece2219",
       "style": "IPY_MODEL_872656631e0e49f08716a707a5902c56",
       "tooltips": []
      }
     },
     "145aac1124924fdd852687246fdd585f": {
      "model_module": "@jupyter-widgets/controls",
      "model_module_version": "1.4.0",
      "model_name": "RadioButtonsModel",
      "state": {
       "_options_labels": [
        "0.25"
       ],
       "description": "ambiguity",
       "index": 0,
       "layout": "IPY_MODEL_cf97f03667694c8499a176452b317129",
       "style": "IPY_MODEL_f3d57dddf6ce4526aa063a3ea351f218"
      }
     },
     "154b322ebf0d4e3bbb9946e697305fad": {
      "model_module": "@jupyter-widgets/base",
      "model_module_version": "1.1.0",
      "model_name": "LayoutModel",
      "state": {}
     },
     "1562f34fab3645bc80f358c0118a3179": {
      "model_module": "@jupyter-widgets/controls",
      "model_module_version": "1.4.0",
      "model_name": "DescriptionStyleModel",
      "state": {
       "description_width": ""
      }
     },
     "164af1b3e0ff498bb9bdc2956ee30c63": {
      "model_module": "@jupyter-widgets/controls",
      "model_module_version": "1.4.0",
      "model_name": "DescriptionStyleModel",
      "state": {
       "description_width": ""
      }
     },
     "16b9ce80f0e24864aed22918e2147c35": {
      "model_module": "@jupyter-widgets/controls",
      "model_module_version": "1.4.0",
      "model_name": "RadioButtonsModel",
      "state": {
       "_options_labels": [
        "0.25"
       ],
       "description": "ambiguity",
       "index": 0,
       "layout": "IPY_MODEL_1c45d51e43f34c02800a6b8fbc934695",
       "style": "IPY_MODEL_f36dadf15a8d4dc9bb487f03d27da467"
      }
     },
     "16fbcf112fbf4e27923bd2b37024ff88": {
      "model_module": "@jupyter-widgets/controls",
      "model_module_version": "1.4.0",
      "model_name": "DescriptionStyleModel",
      "state": {
       "description_width": ""
      }
     },
     "1787be80c28542cf8e52fcb157532c8f": {
      "model_module": "@jupyter-widgets/controls",
      "model_module_version": "1.4.0",
      "model_name": "DescriptionStyleModel",
      "state": {
       "description_width": ""
      }
     },
     "1797536c8ef54f05bf8f2b85d4466290": {
      "model_module": "@jupyter-widgets/base",
      "model_module_version": "1.1.0",
      "model_name": "LayoutModel",
      "state": {}
     },
     "1831725fe1754cab9bdb41716bb6e7e7": {
      "model_module": "@jupyter-widgets/base",
      "model_module_version": "1.1.0",
      "model_name": "LayoutModel",
      "state": {}
     },
     "18fe84f34fe645768350cfa3fc161619": {
      "model_module": "@jupyter-widgets/base",
      "model_module_version": "1.1.0",
      "model_name": "LayoutModel",
      "state": {}
     },
     "19388f22539348e1a7cd2cfbf2b99579": {
      "model_module": "@jupyter-widgets/controls",
      "model_module_version": "1.4.0",
      "model_name": "RadioButtonsModel",
      "state": {
       "_options_labels": [
        "1",
        "3"
       ],
       "description": "n_retrievals",
       "index": 0,
       "layout": "IPY_MODEL_12c08013a4094f8b869c0eb5f52a4645",
       "style": "IPY_MODEL_4adcaefcf0ff41b7b1982718623e7fa2"
      }
     },
     "19401cf444af4037ac01544dc3e0882b": {
      "model_module": "@jupyter-widgets/controls",
      "model_module_version": "1.4.0",
      "model_name": "DescriptionStyleModel",
      "state": {
       "description_width": ""
      }
     },
     "19b73638b9134942813ccb0979e24831": {
      "model_module": "@jupyter-widgets/base",
      "model_module_version": "1.1.0",
      "model_name": "LayoutModel",
      "state": {}
     },
     "1a9605ed028242579412d49da0cc766b": {
      "model_module": "@jupyter-widgets/controls",
      "model_module_version": "1.4.0",
      "model_name": "DescriptionStyleModel",
      "state": {
       "description_width": ""
      }
     },
     "1a9ee41c84af42aeb874ff86bd1a683b": {
      "model_module": "@jupyter-widgets/controls",
      "model_module_version": "1.4.0",
      "model_name": "RadioButtonsModel",
      "state": {
       "_options_labels": [
        "0",
        "1.0"
       ],
       "description": "mismatch_sensitivity",
       "index": 1,
       "layout": "IPY_MODEL_6220f1acb436456ba0dbd67f90cf5102",
       "style": "IPY_MODEL_6f7cdecf88b04bd89975c58f353c22a2"
      }
     },
     "1b938210603e48d3aaee70510078e230": {
      "model_module": "@jupyter-widgets/controls",
      "model_module_version": "1.4.0",
      "model_name": "ToggleButtonsModel",
      "state": {
       "_options_labels": [
        "0",
        "1"
       ],
       "button_style": "",
       "description": "Penalty strenth",
       "icons": [],
       "index": 1,
       "layout": "IPY_MODEL_aac0807de07f4031982a2034b10cc672",
       "style": "IPY_MODEL_2a5a592657ab4c4d9e7e7a990c975659",
       "tooltips": []
      }
     },
     "1bdbe93cc1f342ad9104632f765d9753": {
      "model_module": "@jupyter-widgets/controls",
      "model_module_version": "1.4.0",
      "model_name": "DescriptionStyleModel",
      "state": {
       "description_width": ""
      }
     },
     "1be8f6e9dfdc4db48aa4956a90e83489": {
      "model_module": "@jupyter-widgets/controls",
      "model_module_version": "1.4.0",
      "model_name": "SelectionSliderModel",
      "state": {
       "_options_labels": [
        "0",
        "1"
       ],
       "continuous_update": false,
       "description": "Penalty strenth",
       "index": 1,
       "layout": "IPY_MODEL_4a9d78166f4147c19a6b7a54f745986b",
       "style": "IPY_MODEL_5dc3189bcdd344e480f4c90a65a3e5d5"
      }
     },
     "1c05795d50b54f23b86ce8a00911869d": {
      "model_module": "@jupyter-widgets/output",
      "model_module_version": "1.0.0",
      "model_name": "OutputModel",
      "state": {
       "layout": "IPY_MODEL_745034b2ba06412e9cb3a550fa148f20"
      }
     },
     "1c45d51e43f34c02800a6b8fbc934695": {
      "model_module": "@jupyter-widgets/base",
      "model_module_version": "1.1.0",
      "model_name": "LayoutModel",
      "state": {}
     },
     "1c5c0a2927db42ada8f434af7412a6fe": {
      "model_module": "@jupyter-widgets/base",
      "model_module_version": "1.1.0",
      "model_name": "LayoutModel",
      "state": {}
     },
     "1c8e3d3c19ae472697a5daeb57993cf2": {
      "model_module": "@jupyter-widgets/controls",
      "model_module_version": "1.4.0",
      "model_name": "RadioButtonsModel",
      "state": {
       "_options_labels": [
        "0.25"
       ],
       "description": "ambiguity",
       "index": 0,
       "layout": "IPY_MODEL_e3f09af93fbf47649b9a577868a4875d",
       "style": "IPY_MODEL_0144f955617e43ec8c53008c77388528"
      }
     },
     "1d349f174d3b40e1801e71d88e8d97b8": {
      "model_module": "@jupyter-widgets/base",
      "model_module_version": "1.1.0",
      "model_name": "LayoutModel",
      "state": {}
     },
     "1dd612e52116493fa6f035161ad7ed2e": {
      "model_module": "@jupyter-widgets/controls",
      "model_module_version": "1.4.0",
      "model_name": "RadioButtonsModel",
      "state": {
       "_options_labels": [
        "1",
        "3"
       ],
       "description": "n_retrievals",
       "index": 0,
       "layout": "IPY_MODEL_5922d1b01029418bbdfabeebd4fd104f",
       "style": "IPY_MODEL_42b9ab55b2f94855b390829dbe13e4e4"
      }
     },
     "200070fac8a3471990326830a0127ae1": {
      "model_module": "@jupyter-widgets/controls",
      "model_module_version": "1.4.0",
      "model_name": "RadioButtonsModel",
      "state": {
       "_options_labels": [
        "0",
        "0.01"
       ],
       "description": "noise",
       "index": 0,
       "layout": "IPY_MODEL_d0029ec128a1468d82fffc408ce8dd51",
       "style": "IPY_MODEL_b4d3c1ddea99402ebf5cc4bd5aaf4fb4"
      }
     },
     "20ad04341fcd470ab9f8bbc146fd32b9": {
      "model_module": "@jupyter-widgets/base",
      "model_module_version": "1.1.0",
      "model_name": "LayoutModel",
      "state": {}
     },
     "213975f3b7fd48be9b5e02df35e07627": {
      "model_module": "@jupyter-widgets/base",
      "model_module_version": "1.1.0",
      "model_name": "LayoutModel",
      "state": {}
     },
     "22a07f4d213e4ef2a3ed2839fff9e1d0": {
      "model_module": "@jupyter-widgets/base",
      "model_module_version": "1.1.0",
      "model_name": "LayoutModel",
      "state": {}
     },
     "231daa65322042f885ad1cd5170ba0d0": {
      "model_module": "@jupyter-widgets/base",
      "model_module_version": "1.1.0",
      "model_name": "LayoutModel",
      "state": {}
     },
     "231f35d322d249b5be8b2618a7479ba1": {
      "model_module": "@jupyter-widgets/controls",
      "model_module_version": "1.4.0",
      "model_name": "DescriptionStyleModel",
      "state": {
       "description_width": ""
      }
     },
     "24221e7a22f44653ad75b804a244f165": {
      "model_module": "@jupyter-widgets/base",
      "model_module_version": "1.1.0",
      "model_name": "LayoutModel",
      "state": {}
     },
     "2483450f0cd944e58a65bceb604febc0": {
      "model_module": "@jupyter-widgets/base",
      "model_module_version": "1.1.0",
      "model_name": "LayoutModel",
      "state": {}
     },
     "24e1a94a6b35479399895daeb4cd6926": {
      "model_module": "@jupyter-widgets/controls",
      "model_module_version": "1.4.0",
      "model_name": "DescriptionStyleModel",
      "state": {
       "description_width": ""
      }
     },
     "2508c40ca1fb47ff930573b58d3a2f99": {
      "model_module": "@jupyter-widgets/base",
      "model_module_version": "1.1.0",
      "model_name": "LayoutModel",
      "state": {}
     },
     "25b7a723831f4641b5160b26b843654b": {
      "model_module": "@jupyter-widgets/controls",
      "model_module_version": "1.4.0",
      "model_name": "RadioButtonsModel",
      "state": {
       "_options_labels": [
        "0",
        "1.0"
       ],
       "description": "mismatch_sensitivity",
       "index": 0,
       "layout": "IPY_MODEL_409c1cf4e6c5476996dc81867580bbe1",
       "style": "IPY_MODEL_78e05b3276914fe28bf6d225daa46120"
      }
     },
     "260099cc0a8248f4a571ecd68b21535c": {
      "model_module": "@jupyter-widgets/controls",
      "model_module_version": "1.4.0",
      "model_name": "RadioButtonsModel",
      "state": {
       "_options_labels": [
        "1",
        "0.5",
        "0"
       ],
       "description": "penalty_strenth",
       "index": 0,
       "layout": "IPY_MODEL_10af501f6fcd4c6084d98f9dbe2251ef",
       "style": "IPY_MODEL_12f6e90bb8664f6dae61747208398da7"
      }
     },
     "261b2d97679d41c681a306342cd4701d": {
      "model_module": "@jupyter-widgets/controls",
      "model_module_version": "1.4.0",
      "model_name": "VBoxModel",
      "state": {
       "_dom_classes": [
        "widget-interact"
       ],
       "children": [
        "IPY_MODEL_f3ed379e52714b9e888a8ea634c7e5b7",
        "IPY_MODEL_9244c5baa2734c529fd940c444013235",
        "IPY_MODEL_19388f22539348e1a7cd2cfbf2b99579",
        "IPY_MODEL_44bad7d0e64a46c082fd33f6ba111692",
        "IPY_MODEL_a6a519b877584f9ca085a84399e68492",
        "IPY_MODEL_dc0d651004d7420689c3c67d35ee272e",
        "IPY_MODEL_eab0c2e346c046609ff7b8057dbbd174"
       ],
       "layout": "IPY_MODEL_417b05d94b154d878c9f58435109765f"
      }
     },
     "263331d7ca59470dbb6c9c2a56dbbcb9": {
      "model_module": "@jupyter-widgets/base",
      "model_module_version": "1.1.0",
      "model_name": "LayoutModel",
      "state": {}
     },
     "264156545fd247939024842ec68b147b": {
      "model_module": "@jupyter-widgets/controls",
      "model_module_version": "1.4.0",
      "model_name": "VBoxModel",
      "state": {
       "_dom_classes": [
        "widget-interact"
       ],
       "children": [
        "IPY_MODEL_d5fa6b93da5d4656a1ab62e3c06e80c8",
        "IPY_MODEL_0eeb416e331b45e985cb3725d07f1a02",
        "IPY_MODEL_a464460132aa477e937fd8728a021ee3",
        "IPY_MODEL_d131d05350974aeebec1ebf83935b93c",
        "IPY_MODEL_3631fde8d5f54168ae58f6da239b31cc",
        "IPY_MODEL_0148d23cb5454dd8ae93c4ca605f76ac",
        "IPY_MODEL_63e68ced0e464e219eed19a68291e144"
       ],
       "layout": "IPY_MODEL_e8d5d76caec54b3a8a2d4c569f4c09b5"
      }
     },
     "2678d8d4fc0f4cf5b6a8926792d8cc05": {
      "model_module": "@jupyter-widgets/controls",
      "model_module_version": "1.4.0",
      "model_name": "RadioButtonsModel",
      "state": {
       "_options_labels": [
        "0",
        "0.01"
       ],
       "description": "noise",
       "index": 0,
       "layout": "IPY_MODEL_005a0762503746c5a0fdd530858b317a",
       "style": "IPY_MODEL_97dfb85b81ff4dcc8ddd71569dda86f5"
      }
     },
     "26ac40849fed4075b02a409263b3757c": {
      "model_module": "@jupyter-widgets/output",
      "model_module_version": "1.0.0",
      "model_name": "OutputModel",
      "state": {
       "layout": "IPY_MODEL_3c91e248ec1d420da1894f1f7bd43b13"
      }
     },
     "26d0e99166ef4a72ba412b7ef8e3ae57": {
      "model_module": "@jupyter-widgets/controls",
      "model_module_version": "1.4.0",
      "model_name": "DescriptionStyleModel",
      "state": {
       "description_width": ""
      }
     },
     "272dc1bc7a6144cb95b3e9d7ddcb8a1e": {
      "model_module": "@jupyter-widgets/controls",
      "model_module_version": "1.4.0",
      "model_name": "RadioButtonsModel",
      "state": {
       "_options_labels": [
        "0",
        "0.01"
       ],
       "description": "noise",
       "index": 0,
       "layout": "IPY_MODEL_c88892b84bb14566a190806a338a8c48",
       "style": "IPY_MODEL_dd34629a33774dfdb06827cc5b42cf63"
      }
     },
     "275ca6290c9a45e5a03f1c73dd1fe89e": {
      "model_module": "@jupyter-widgets/controls",
      "model_module_version": "1.4.0",
      "model_name": "DescriptionStyleModel",
      "state": {
       "description_width": ""
      }
     },
     "278ebd1eb5974ebd81988fe25bd66058": {
      "model_module": "@jupyter-widgets/controls",
      "model_module_version": "1.4.0",
      "model_name": "RadioButtonsModel",
      "state": {
       "_options_labels": [
        "0",
        "1",
        "2",
        "4",
        "8",
        "16",
        "32",
        "64"
       ],
       "description": "max_mismatch",
       "index": 0,
       "layout": "IPY_MODEL_c70a58ce573743ff8cc587910fb4f34b",
       "style": "IPY_MODEL_51b6c2396e1448aebd544ce08ae3141e"
      }
     },
     "281f16d8e9824133b00388fc87e438fb": {
      "model_module": "@jupyter-widgets/base",
      "model_module_version": "1.1.0",
      "model_name": "LayoutModel",
      "state": {}
     },
     "28e3ed00dad14071a577b2c9d0648332": {
      "model_module": "@jupyter-widgets/controls",
      "model_module_version": "1.4.0",
      "model_name": "ToggleButtonsStyleModel",
      "state": {
       "button_width": "",
       "description_width": ""
      }
     },
     "2944807194004fdfb1a8469bb93487a7": {
      "model_module": "@jupyter-widgets/controls",
      "model_module_version": "1.4.0",
      "model_name": "DescriptionStyleModel",
      "state": {
       "description_width": ""
      }
     },
     "296afb0b36344f208d9997e5a92a9b9a": {
      "model_module": "@jupyter-widgets/controls",
      "model_module_version": "1.4.0",
      "model_name": "DescriptionStyleModel",
      "state": {
       "description_width": ""
      }
     },
     "29b1638ada77423f999e819242fe1ce6": {
      "model_module": "@jupyter-widgets/controls",
      "model_module_version": "1.4.0",
      "model_name": "RadioButtonsModel",
      "state": {
       "_options_labels": [
        "1",
        "3"
       ],
       "description": "n_retrievals",
       "index": 0,
       "layout": "IPY_MODEL_ee400187f4ae4070b9af4bb790b8121a",
       "style": "IPY_MODEL_bcfc98b95b6047b88dc0da39ec1d76e3"
      }
     },
     "29b947d44f1e41008b185790a48c77d4": {
      "model_module": "@jupyter-widgets/controls",
      "model_module_version": "1.4.0",
      "model_name": "DescriptionStyleModel",
      "state": {
       "description_width": ""
      }
     },
     "2a168d2275914dc7a6342d7f08f931b2": {
      "model_module": "@jupyter-widgets/base",
      "model_module_version": "1.1.0",
      "model_name": "LayoutModel",
      "state": {}
     },
     "2a5a592657ab4c4d9e7e7a990c975659": {
      "model_module": "@jupyter-widgets/controls",
      "model_module_version": "1.4.0",
      "model_name": "ToggleButtonsStyleModel",
      "state": {
       "button_width": "",
       "description_width": ""
      }
     },
     "2ac0f76761f3457b8e3b725e76256c29": {
      "model_module": "@jupyter-widgets/controls",
      "model_module_version": "1.4.0",
      "model_name": "RadioButtonsModel",
      "state": {
       "_options_labels": [
        "0",
        "1.0"
       ],
       "description": "mismatch_sensitivity",
       "index": 0,
       "layout": "IPY_MODEL_d89dfebb155a4e2d8929f5b6773e9aac",
       "style": "IPY_MODEL_a30ef1857f2d47a2a8546601ff277933"
      }
     },
     "2b531cc2dbae4e3b9d676ec432650cfe": {
      "model_module": "@jupyter-widgets/controls",
      "model_module_version": "1.4.0",
      "model_name": "ToggleButtonsStyleModel",
      "state": {
       "button_width": "",
       "description_width": ""
      }
     },
     "2bb78736b34b451995c9b354a4833e33": {
      "model_module": "@jupyter-widgets/controls",
      "model_module_version": "1.4.0",
      "model_name": "DescriptionStyleModel",
      "state": {
       "description_width": ""
      }
     },
     "2cff8db97928474384f9e6afd30041d1": {
      "model_module": "@jupyter-widgets/controls",
      "model_module_version": "1.4.0",
      "model_name": "RadioButtonsModel",
      "state": {
       "_options_labels": [
        "0.25"
       ],
       "description": "ambiguity",
       "index": 0,
       "layout": "IPY_MODEL_231daa65322042f885ad1cd5170ba0d0",
       "style": "IPY_MODEL_9b8081db580342a094ab6aaa6813d47d"
      }
     },
     "2d197a13aa134362bf46d474b9e8a9b0": {
      "model_module": "@jupyter-widgets/base",
      "model_module_version": "1.1.0",
      "model_name": "LayoutModel",
      "state": {}
     },
     "2da421f1c163482986f796accc70df42": {
      "model_module": "@jupyter-widgets/base",
      "model_module_version": "1.1.0",
      "model_name": "LayoutModel",
      "state": {}
     },
     "2dee705b75914320bf07a0a6552eaadd": {
      "model_module": "@jupyter-widgets/controls",
      "model_module_version": "1.4.0",
      "model_name": "SelectionSliderModel",
      "state": {
       "_options_labels": [
        "0",
        "1",
        "2",
        "4",
        "8",
        "16",
        "32",
        "64"
       ],
       "continuous_update": false,
       "description": "Max-mismatch",
       "index": 0,
       "layout": "IPY_MODEL_c79e6ebe93e5482eae5bb8ed8f5a376e",
       "style": "IPY_MODEL_4bafdb024f90430abf080fce3795e35f"
      }
     },
     "2e540e1e51b84a1ab614197b4b2f1e87": {
      "model_module": "@jupyter-widgets/controls",
      "model_module_version": "1.4.0",
      "model_name": "DescriptionStyleModel",
      "state": {
       "description_width": ""
      }
     },
     "2ea977d17a5e49bfafb5fdca4b3ec6ca": {
      "model_module": "@jupyter-widgets/base",
      "model_module_version": "1.1.0",
      "model_name": "LayoutModel",
      "state": {}
     },
     "2edaf7d23a7348b5b3f9e2bed752f2a8": {
      "model_module": "@jupyter-widgets/controls",
      "model_module_version": "1.4.0",
      "model_name": "RadioButtonsModel",
      "state": {
       "_options_labels": [
        "0",
        "0.01"
       ],
       "description": "noise",
       "index": 0,
       "layout": "IPY_MODEL_f5920c564d784d3e9de78eea4c89c0be",
       "style": "IPY_MODEL_eadc2493d49d494db9e728e3655a1843"
      }
     },
     "2ef9dfd2675243169a5f137e21d15d05": {
      "model_module": "@jupyter-widgets/output",
      "model_module_version": "1.0.0",
      "model_name": "OutputModel",
      "state": {
       "layout": "IPY_MODEL_8de17e11752c48efb8706eb5bab03789"
      }
     },
     "2fcf52fc96ab4d4a8eba97a46a8e92cf": {
      "model_module": "@jupyter-widgets/controls",
      "model_module_version": "1.4.0",
      "model_name": "DescriptionStyleModel",
      "state": {
       "description_width": ""
      }
     },
     "2ff33da2e00545249bf094da5125c60a": {
      "model_module": "@jupyter-widgets/base",
      "model_module_version": "1.1.0",
      "model_name": "LayoutModel",
      "state": {}
     },
     "2ffd8d7aa36640d29dee2588afb505c2": {
      "model_module": "@jupyter-widgets/controls",
      "model_module_version": "1.4.0",
      "model_name": "VBoxModel",
      "state": {
       "_dom_classes": [
        "widget-interact"
       ],
       "children": [
        "IPY_MODEL_76cd9007ab9c4b36a672ceb12e26caff",
        "IPY_MODEL_8355a8e14c53434f985473c54245543a",
        "IPY_MODEL_f72639dd02d84d54b3583ea1044ef14d",
        "IPY_MODEL_b1094598ddad4c6d924a028e68f72acd",
        "IPY_MODEL_53061cd5665d4dc1a202be0f73fcec06",
        "IPY_MODEL_1029c07dc9014be8b0e677291b55caa9",
        "IPY_MODEL_ec87c57a144d45d8975dcce294a4c124"
       ],
       "layout": "IPY_MODEL_753db5a73cf04f229341cbcfbccd36de"
      }
     },
     "3096d9520da0443484baf21c2734198f": {
      "model_module": "@jupyter-widgets/base",
      "model_module_version": "1.1.0",
      "model_name": "LayoutModel",
      "state": {}
     },
     "312cc7705ff7462ba132b1f051e3acb4": {
      "model_module": "@jupyter-widgets/controls",
      "model_module_version": "1.4.0",
      "model_name": "RadioButtonsModel",
      "state": {
       "_options_labels": [
        "0",
        "0.01"
       ],
       "description": "noise",
       "index": 0,
       "layout": "IPY_MODEL_f1cc39d8420348bd875eecab79aabe03",
       "style": "IPY_MODEL_569d3004f07b48b0b772edc7c3caecde"
      }
     },
     "3262dadb5d98486e9ceb6d7b2ae0e50d": {
      "model_module": "@jupyter-widgets/controls",
      "model_module_version": "1.4.0",
      "model_name": "VBoxModel",
      "state": {
       "_dom_classes": [
        "widget-interact"
       ],
       "children": [
        "IPY_MODEL_387406de582849f3b80619256f775dcb",
        "IPY_MODEL_b6f47521d2234c8f8a3ad1669c53cf2a",
        "IPY_MODEL_9a63239140004770b9fc8ade5a8bd972",
        "IPY_MODEL_84869679b8034d00921a138d6524e428",
        "IPY_MODEL_1013b0db7f9642d7a94dde8ac968918d",
        "IPY_MODEL_8f4d9938b1194752b71b09c365b6fcf3",
        "IPY_MODEL_1190b0377f7d487e996849511b5b963d"
       ],
       "layout": "IPY_MODEL_2483450f0cd944e58a65bceb604febc0"
      }
     },
     "3322287ecbcb44f7b5e87780f807cc65": {
      "model_module": "@jupyter-widgets/base",
      "model_module_version": "1.1.0",
      "model_name": "LayoutModel",
      "state": {}
     },
     "34ed630059424b2bbbaff1fdcb0d664f": {
      "model_module": "@jupyter-widgets/base",
      "model_module_version": "1.1.0",
      "model_name": "LayoutModel",
      "state": {}
     },
     "353116a94ba64e23b1c735fa56fd6c16": {
      "model_module": "@jupyter-widgets/controls",
      "model_module_version": "1.4.0",
      "model_name": "ToggleButtonsStyleModel",
      "state": {
       "button_width": "",
       "description_width": ""
      }
     },
     "3587468756c94629b9841da345664529": {
      "model_module": "@jupyter-widgets/base",
      "model_module_version": "1.1.0",
      "model_name": "LayoutModel",
      "state": {}
     },
     "3631fde8d5f54168ae58f6da239b31cc": {
      "model_module": "@jupyter-widgets/controls",
      "model_module_version": "1.4.0",
      "model_name": "SelectionSliderModel",
      "state": {
       "_options_labels": [
        "0",
        "1",
        "2",
        "4",
        "8",
        "16",
        "32",
        "64"
       ],
       "continuous_update": false,
       "description": "Max-mismatch",
       "index": 0,
       "layout": "IPY_MODEL_8f83cb0aea0a4b4f81f7a1942bd5a801",
       "style": "IPY_MODEL_b296a6603a1d4ecd8f695fc8af5d0acb"
      }
     },
     "363c0803eb394e2aa2d50c9d1a1c7499": {
      "model_module": "@jupyter-widgets/controls",
      "model_module_version": "1.4.0",
      "model_name": "DescriptionStyleModel",
      "state": {
       "description_width": ""
      }
     },
     "36810d4368454aa691466d943e2f8eee": {
      "model_module": "@jupyter-widgets/controls",
      "model_module_version": "1.4.0",
      "model_name": "DescriptionStyleModel",
      "state": {
       "description_width": ""
      }
     },
     "37343743862d4b1bb98c7211159fdca3": {
      "model_module": "@jupyter-widgets/controls",
      "model_module_version": "1.4.0",
      "model_name": "DescriptionStyleModel",
      "state": {
       "description_width": ""
      }
     },
     "37a5031ce99140f5993036f7ad6745eb": {
      "model_module": "@jupyter-widgets/base",
      "model_module_version": "1.1.0",
      "model_name": "LayoutModel",
      "state": {}
     },
     "37bb8b785105448db7962898e885a582": {
      "model_module": "@jupyter-widgets/controls",
      "model_module_version": "1.4.0",
      "model_name": "RadioButtonsModel",
      "state": {
       "_options_labels": [
        "0",
        "0.01"
       ],
       "description": "noise",
       "index": 0,
       "layout": "IPY_MODEL_10631a8c24ec4b398be96d1bf7b2b805",
       "style": "IPY_MODEL_9503ea0ec3264035aaf62492c1ec1161"
      }
     },
     "38423a15ce2e4ed2b0b292c0887770c4": {
      "model_module": "@jupyter-widgets/base",
      "model_module_version": "1.1.0",
      "model_name": "LayoutModel",
      "state": {}
     },
     "38655282b4b04fff809db0a7cfb3fba4": {
      "model_module": "@jupyter-widgets/controls",
      "model_module_version": "1.4.0",
      "model_name": "DescriptionStyleModel",
      "state": {
       "description_width": ""
      }
     },
     "387406de582849f3b80619256f775dcb": {
      "model_module": "@jupyter-widgets/controls",
      "model_module_version": "1.4.0",
      "model_name": "RadioButtonsModel",
      "state": {
       "_options_labels": [
        "0.25"
       ],
       "description": "ambiguity",
       "index": 0,
       "layout": "IPY_MODEL_a00863f309d2433dac16239b3f24179e",
       "style": "IPY_MODEL_d49103fbf20a4f71a0a016f7f4c3144f"
      }
     },
     "3886f90be6134136be93b8fa9be77f90": {
      "model_module": "@jupyter-widgets/base",
      "model_module_version": "1.1.0",
      "model_name": "LayoutModel",
      "state": {}
     },
     "38c22e318cea4991b4f67d9ba777c19b": {
      "model_module": "@jupyter-widgets/base",
      "model_module_version": "1.1.0",
      "model_name": "LayoutModel",
      "state": {}
     },
     "3937a82ca6f44f30a48df564eef185c8": {
      "model_module": "@jupyter-widgets/controls",
      "model_module_version": "1.4.0",
      "model_name": "RadioButtonsModel",
      "state": {
       "_options_labels": [
        "0",
        "1.0"
       ],
       "description": "mismatch_sensitivity",
       "index": 1,
       "layout": "IPY_MODEL_34ed630059424b2bbbaff1fdcb0d664f",
       "style": "IPY_MODEL_66cd2ee54dbe4a74bbb432e20ff9226f"
      }
     },
     "398bd307df7c4dec9d977841e3f79d46": {
      "model_module": "@jupyter-widgets/controls",
      "model_module_version": "1.4.0",
      "model_name": "DescriptionStyleModel",
      "state": {
       "description_width": ""
      }
     },
     "39c8b90bce764876ac1fb4dbfd33a2ec": {
      "model_module": "@jupyter-widgets/controls",
      "model_module_version": "1.4.0",
      "model_name": "DescriptionStyleModel",
      "state": {
       "description_width": ""
      }
     },
     "3a169d3a13714ddc83ec67a0bda0737b": {
      "model_module": "@jupyter-widgets/base",
      "model_module_version": "1.1.0",
      "model_name": "LayoutModel",
      "state": {}
     },
     "3b794ec7250b4d6ab2ec6b8d4bf2bf7c": {
      "model_module": "@jupyter-widgets/base",
      "model_module_version": "1.1.0",
      "model_name": "LayoutModel",
      "state": {}
     },
     "3bf08897e65740e1a7fea4ff28bc4b03": {
      "model_module": "@jupyter-widgets/controls",
      "model_module_version": "1.4.0",
      "model_name": "RadioButtonsModel",
      "state": {
       "_options_labels": [
        "0",
        "1.0"
       ],
       "description": "mismatch_sensitivity",
       "index": 0,
       "layout": "IPY_MODEL_bd7f60c3e83343a8a34cd08b7b19c91d",
       "style": "IPY_MODEL_5d8bd1182108488cbddf7dc159b7b056"
      }
     },
     "3c539ddcee3642bd95a47a7ec2b3cdf7": {
      "model_module": "@jupyter-widgets/base",
      "model_module_version": "1.1.0",
      "model_name": "LayoutModel",
      "state": {}
     },
     "3c91e248ec1d420da1894f1f7bd43b13": {
      "model_module": "@jupyter-widgets/base",
      "model_module_version": "1.1.0",
      "model_name": "LayoutModel",
      "state": {}
     },
     "3cb5ef30d5af46caa3ddb746b2ed9031": {
      "model_module": "@jupyter-widgets/base",
      "model_module_version": "1.1.0",
      "model_name": "LayoutModel",
      "state": {}
     },
     "3e1ded26e1b245ae8556496ea9edfa89": {
      "model_module": "@jupyter-widgets/base",
      "model_module_version": "1.1.0",
      "model_name": "LayoutModel",
      "state": {}
     },
     "3e3a89a85e2345829d9bf80e45b66a9c": {
      "model_module": "@jupyter-widgets/controls",
      "model_module_version": "1.4.0",
      "model_name": "RadioButtonsModel",
      "state": {
       "_options_labels": [
        "0.25"
       ],
       "description": "ambiguity",
       "index": 0,
       "layout": "IPY_MODEL_8c38b8ea98f64fa09e5671ee8cafe504",
       "style": "IPY_MODEL_296afb0b36344f208d9997e5a92a9b9a"
      }
     },
     "3e54e9c803f245dcaf2b4d4c26942e77": {
      "model_module": "@jupyter-widgets/controls",
      "model_module_version": "1.4.0",
      "model_name": "ToggleButtonsModel",
      "state": {
       "_options_labels": [
        "1",
        "3"
       ],
       "button_style": "",
       "description": "n_retrievals",
       "icons": [],
       "index": 0,
       "layout": "IPY_MODEL_20ad04341fcd470ab9f8bbc146fd32b9",
       "style": "IPY_MODEL_981effe1fdfe46f083e9441ba8d9f52c",
       "tooltips": []
      }
     },
     "3ea390993ec74c988e0c273369712daf": {
      "model_module": "@jupyter-widgets/base",
      "model_module_version": "1.1.0",
      "model_name": "LayoutModel",
      "state": {}
     },
     "3ebfd0be284d4587b4767401ec1c9694": {
      "model_module": "@jupyter-widgets/base",
      "model_module_version": "1.1.0",
      "model_name": "LayoutModel",
      "state": {}
     },
     "3ee121c1bd7e4af49307ec1547c8cd03": {
      "model_module": "@jupyter-widgets/controls",
      "model_module_version": "1.4.0",
      "model_name": "RadioButtonsModel",
      "state": {
       "_options_labels": [
        "1",
        "3"
       ],
       "description": "n_retrievals",
       "index": 0,
       "layout": "IPY_MODEL_6ee84cb0926e488bb3d1ede92f4df244",
       "style": "IPY_MODEL_ed38627eb9744ee0bb252c55e7bea75b"
      }
     },
     "3f0de913924e42acba6eb3406876bdb4": {
      "model_module": "@jupyter-widgets/base",
      "model_module_version": "1.1.0",
      "model_name": "LayoutModel",
      "state": {}
     },
     "3fcadd84960c4d08b7b3bb86440d1d35": {
      "model_module": "@jupyter-widgets/base",
      "model_module_version": "1.1.0",
      "model_name": "LayoutModel",
      "state": {}
     },
     "403ae0cdd2f54b9eb256e4ec7a5a344f": {
      "model_module": "@jupyter-widgets/base",
      "model_module_version": "1.1.0",
      "model_name": "LayoutModel",
      "state": {}
     },
     "409c1cf4e6c5476996dc81867580bbe1": {
      "model_module": "@jupyter-widgets/base",
      "model_module_version": "1.1.0",
      "model_name": "LayoutModel",
      "state": {}
     },
     "416f40e65c134b5d8f5873b9d9def16e": {
      "model_module": "@jupyter-widgets/controls",
      "model_module_version": "1.4.0",
      "model_name": "VBoxModel",
      "state": {
       "_dom_classes": [
        "widget-interact"
       ],
       "children": [
        "IPY_MODEL_f54c32246eb44f1ba6c29837badbd217",
        "IPY_MODEL_0da1e7a73b684861ae1bc234bc45c077",
        "IPY_MODEL_a5f6ca9cf4dd43f58ad1ec9acbc902cb",
        "IPY_MODEL_67a0d7504f214c51b6c4547732660f23",
        "IPY_MODEL_50e7ad843d3849758396a92c0095ca72",
        "IPY_MODEL_ba30419cb3794f9cae454b16dba7e4bc",
        "IPY_MODEL_e459660659b044f98a4cb36955924fdd"
       ],
       "layout": "IPY_MODEL_fb66a4f064524618820bad6d5e3cb851"
      }
     },
     "417b05d94b154d878c9f58435109765f": {
      "model_module": "@jupyter-widgets/base",
      "model_module_version": "1.1.0",
      "model_name": "LayoutModel",
      "state": {}
     },
     "4255d167abeb4b9b9441340822c76b81": {
      "model_module": "@jupyter-widgets/base",
      "model_module_version": "1.1.0",
      "model_name": "LayoutModel",
      "state": {}
     },
     "4280ad125bf64dcbb323d656f735933f": {
      "model_module": "@jupyter-widgets/controls",
      "model_module_version": "1.4.0",
      "model_name": "DescriptionStyleModel",
      "state": {
       "description_width": ""
      }
     },
     "42812c489b0b41fdb8d5a71e8c4e85fa": {
      "model_module": "@jupyter-widgets/controls",
      "model_module_version": "1.4.0",
      "model_name": "RadioButtonsModel",
      "state": {
       "_options_labels": [
        "0.25"
       ],
       "description": "ambiguity",
       "index": 0,
       "layout": "IPY_MODEL_b47ea815a5eb48aabab073e63090bb7d",
       "style": "IPY_MODEL_48ce3bd62e584bb298a297ef2b9abe33"
      }
     },
     "42b9ab55b2f94855b390829dbe13e4e4": {
      "model_module": "@jupyter-widgets/controls",
      "model_module_version": "1.4.0",
      "model_name": "DescriptionStyleModel",
      "state": {
       "description_width": ""
      }
     },
     "42d6260301fa44439f8d622b2c2847b8": {
      "model_module": "@jupyter-widgets/controls",
      "model_module_version": "1.4.0",
      "model_name": "ToggleButtonsStyleModel",
      "state": {
       "button_width": "",
       "description_width": ""
      }
     },
     "43163a62666f46ceb82deb5748cc412b": {
      "model_module": "@jupyter-widgets/base",
      "model_module_version": "1.1.0",
      "model_name": "LayoutModel",
      "state": {}
     },
     "431a27c872994773ac7d384a20639153": {
      "model_module": "@jupyter-widgets/controls",
      "model_module_version": "1.4.0",
      "model_name": "DescriptionStyleModel",
      "state": {
       "description_width": ""
      }
     },
     "43c37a9353b84719bea4cc6fc9235f20": {
      "model_module": "@jupyter-widgets/base",
      "model_module_version": "1.1.0",
      "model_name": "LayoutModel",
      "state": {}
     },
     "43e9923cd7d44d7aa1bea675ed81d50c": {
      "model_module": "@jupyter-widgets/controls",
      "model_module_version": "1.4.0",
      "model_name": "DescriptionStyleModel",
      "state": {
       "description_width": ""
      }
     },
     "43ecfb92e82c4674b62048e84c3e49ec": {
      "model_module": "@jupyter-widgets/base",
      "model_module_version": "1.1.0",
      "model_name": "LayoutModel",
      "state": {}
     },
     "4402a403b8de4405a8790a5e9314098d": {
      "model_module": "@jupyter-widgets/controls",
      "model_module_version": "1.4.0",
      "model_name": "RadioButtonsModel",
      "state": {
       "_options_labels": [
        "0",
        "1.0"
       ],
       "description": "mismatch_sensitivity",
       "index": 0,
       "layout": "IPY_MODEL_c33e6b267ffe4a559fd3a7fc41f27921",
       "style": "IPY_MODEL_29b947d44f1e41008b185790a48c77d4"
      }
     },
     "4446e1a607ab4bf78ede51a01931e433": {
      "model_module": "@jupyter-widgets/base",
      "model_module_version": "1.1.0",
      "model_name": "LayoutModel",
      "state": {}
     },
     "449f260e1ef84327a69112a425b80278": {
      "model_module": "@jupyter-widgets/controls",
      "model_module_version": "1.4.0",
      "model_name": "DescriptionStyleModel",
      "state": {
       "description_width": ""
      }
     },
     "44bad7d0e64a46c082fd33f6ba111692": {
      "model_module": "@jupyter-widgets/controls",
      "model_module_version": "1.4.0",
      "model_name": "RadioButtonsModel",
      "state": {
       "_options_labels": [
        "0",
        "1.0"
       ],
       "description": "mismatch_sensitivity",
       "index": 0,
       "layout": "IPY_MODEL_f2e57c38b6f646faaee3432cf959510f",
       "style": "IPY_MODEL_62648865c3b04171834ea680733703fb"
      }
     },
     "45602eac527b4c48bff6e2dfb0e81c0c": {
      "model_module": "@jupyter-widgets/controls",
      "model_module_version": "1.4.0",
      "model_name": "RadioButtonsModel",
      "state": {
       "_options_labels": [
        "0",
        "0.01"
       ],
       "description": "noise",
       "index": 0,
       "layout": "IPY_MODEL_dd224b5b135d49d993c2dcfcf83f78ce",
       "style": "IPY_MODEL_eff0eaf09d704f449b1ddf233812b944"
      }
     },
     "45a34fd41f6941cc8beca2ad1d4a84d0": {
      "model_module": "@jupyter-widgets/controls",
      "model_module_version": "1.4.0",
      "model_name": "DescriptionStyleModel",
      "state": {
       "description_width": ""
      }
     },
     "45e3e2fc013c44dbbdb12b34d5662857": {
      "model_module": "@jupyter-widgets/controls",
      "model_module_version": "1.4.0",
      "model_name": "DescriptionStyleModel",
      "state": {
       "description_width": ""
      }
     },
     "460c40c7a5a04679bddce942392bc2d4": {
      "model_module": "@jupyter-widgets/controls",
      "model_module_version": "1.4.0",
      "model_name": "DescriptionStyleModel",
      "state": {
       "description_width": ""
      }
     },
     "4627492900df4840906704aef2e208b4": {
      "model_module": "@jupyter-widgets/controls",
      "model_module_version": "1.4.0",
      "model_name": "DescriptionStyleModel",
      "state": {
       "description_width": ""
      }
     },
     "46f78643952c45b4a5ddf5a3710e73a1": {
      "model_module": "@jupyter-widgets/controls",
      "model_module_version": "1.4.0",
      "model_name": "RadioButtonsModel",
      "state": {
       "_options_labels": [
        "1",
        "3"
       ],
       "description": "n_retrievals",
       "index": 0,
       "layout": "IPY_MODEL_3fcadd84960c4d08b7b3bb86440d1d35",
       "style": "IPY_MODEL_231f35d322d249b5be8b2618a7479ba1"
      }
     },
     "4702118038414accbb0dccbe6d0a2914": {
      "model_module": "@jupyter-widgets/controls",
      "model_module_version": "1.4.0",
      "model_name": "RadioButtonsModel",
      "state": {
       "_options_labels": [
        "0.25"
       ],
       "description": "ambiguity",
       "index": 0,
       "layout": "IPY_MODEL_802de5fafa4b4b27a6e0b157c2fe1c21",
       "style": "IPY_MODEL_6dd569b25d1847e5859d72abd40e8b99"
      }
     },
     "47071fc24e4b4040a440568add92f7c6": {
      "model_module": "@jupyter-widgets/controls",
      "model_module_version": "1.4.0",
      "model_name": "ToggleButtonsModel",
      "state": {
       "_options_labels": [
        "0",
        "1"
       ],
       "button_style": "",
       "description": "Penalty strenth",
       "icons": [],
       "index": 1,
       "layout": "IPY_MODEL_3a169d3a13714ddc83ec67a0bda0737b",
       "style": "IPY_MODEL_2b531cc2dbae4e3b9d676ec432650cfe",
       "tooltips": []
      }
     },
     "4778173892d14c419ceeb2363a26ace1": {
      "model_module": "@jupyter-widgets/controls",
      "model_module_version": "1.4.0",
      "model_name": "RadioButtonsModel",
      "state": {
       "_options_labels": [
        "0.25"
       ],
       "description": "ambiguity",
       "index": 0,
       "layout": "IPY_MODEL_482732028f7c4b52a55ced0d376e31a8",
       "style": "IPY_MODEL_8a9e6cf5841a4b86ace4a251d7e4446d"
      }
     },
     "47b43d7fcb72460eac83082cc8f1d2b0": {
      "model_module": "@jupyter-widgets/base",
      "model_module_version": "1.1.0",
      "model_name": "LayoutModel",
      "state": {}
     },
     "47d4a05deeb94fceb8a0bba965256fac": {
      "model_module": "@jupyter-widgets/controls",
      "model_module_version": "1.4.0",
      "model_name": "DescriptionStyleModel",
      "state": {
       "description_width": ""
      }
     },
     "481440064b794f63b08c3e8ef0b6377f": {
      "model_module": "@jupyter-widgets/controls",
      "model_module_version": "1.4.0",
      "model_name": "DescriptionStyleModel",
      "state": {
       "description_width": ""
      }
     },
     "482732028f7c4b52a55ced0d376e31a8": {
      "model_module": "@jupyter-widgets/base",
      "model_module_version": "1.1.0",
      "model_name": "LayoutModel",
      "state": {}
     },
     "48ce3bd62e584bb298a297ef2b9abe33": {
      "model_module": "@jupyter-widgets/controls",
      "model_module_version": "1.4.0",
      "model_name": "DescriptionStyleModel",
      "state": {
       "description_width": ""
      }
     },
     "48d681ce4783469f800c0b81b5481ece": {
      "model_module": "@jupyter-widgets/base",
      "model_module_version": "1.1.0",
      "model_name": "LayoutModel",
      "state": {}
     },
     "49aa049921ee498f85b094b387ea0da3": {
      "model_module": "@jupyter-widgets/base",
      "model_module_version": "1.1.0",
      "model_name": "LayoutModel",
      "state": {}
     },
     "4a0bb967a57e4515949c0e062825fd4f": {
      "model_module": "@jupyter-widgets/controls",
      "model_module_version": "1.4.0",
      "model_name": "DescriptionStyleModel",
      "state": {
       "description_width": ""
      }
     },
     "4a3596bec605463fbf86b5cf295852cd": {
      "model_module": "@jupyter-widgets/controls",
      "model_module_version": "1.4.0",
      "model_name": "DescriptionStyleModel",
      "state": {
       "description_width": ""
      }
     },
     "4a646a3b45314103bb42825e9cf61661": {
      "model_module": "@jupyter-widgets/controls",
      "model_module_version": "1.4.0",
      "model_name": "ToggleButtonsModel",
      "state": {
       "_options_labels": [
        "0",
        "1.0"
       ],
       "button_style": "",
       "description": "mismatch_sensitivity",
       "icons": [],
       "index": 1,
       "layout": "IPY_MODEL_ef0c02f1d5384105ac6e71b121be2e40",
       "style": "IPY_MODEL_0c08f3fdaa59459d9bebb6b9f05f354d",
       "tooltips": []
      }
     },
     "4a9d78166f4147c19a6b7a54f745986b": {
      "model_module": "@jupyter-widgets/base",
      "model_module_version": "1.1.0",
      "model_name": "LayoutModel",
      "state": {}
     },
     "4aad49b786a44ff19ccaa9b1941dd174": {
      "model_module": "@jupyter-widgets/controls",
      "model_module_version": "1.4.0",
      "model_name": "RadioButtonsModel",
      "state": {
       "_options_labels": [
        "0",
        "1.0"
       ],
       "description": "mismatch_sensitivity",
       "index": 1,
       "layout": "IPY_MODEL_3ea390993ec74c988e0c273369712daf",
       "style": "IPY_MODEL_a392fdf3d26641cba99485d7a9d74949"
      }
     },
     "4adaa2051e754f21aa4a16e02507aad4": {
      "model_module": "@jupyter-widgets/base",
      "model_module_version": "1.1.0",
      "model_name": "LayoutModel",
      "state": {}
     },
     "4adcaefcf0ff41b7b1982718623e7fa2": {
      "model_module": "@jupyter-widgets/controls",
      "model_module_version": "1.4.0",
      "model_name": "DescriptionStyleModel",
      "state": {
       "description_width": ""
      }
     },
     "4ae6b1fd58c7476692b468a0b56e8bdf": {
      "model_module": "@jupyter-widgets/base",
      "model_module_version": "1.1.0",
      "model_name": "LayoutModel",
      "state": {}
     },
     "4bafdb024f90430abf080fce3795e35f": {
      "model_module": "@jupyter-widgets/controls",
      "model_module_version": "1.4.0",
      "model_name": "DescriptionStyleModel",
      "state": {
       "description_width": ""
      }
     },
     "4bb4c1996fb349ae91c9f50be956a1d8": {
      "model_module": "@jupyter-widgets/controls",
      "model_module_version": "1.4.0",
      "model_name": "VBoxModel",
      "state": {
       "_dom_classes": [
        "widget-interact"
       ],
       "children": [
        "IPY_MODEL_b09ce4a308a945ebbb2ec34fdfe5f671",
        "IPY_MODEL_65a3189852c743c4b23990ada7b2bd2a",
        "IPY_MODEL_ea65aa20467e415d98f71fe47ef44e46",
        "IPY_MODEL_4e80f7336b014e3b8eb8fb1c7f43eaa2",
        "IPY_MODEL_f9a70626d6d940c2a88f20d949b395fd",
        "IPY_MODEL_09a56ba18f9345e98c727f688c1e0626",
        "IPY_MODEL_bed1db98ff6b4df8a59fc7df9d1cd962"
       ],
       "layout": "IPY_MODEL_5cb690d602e546368096d4fe07cb2932"
      }
     },
     "4c74f6b51f18471794e52f9e5879e8f6": {
      "model_module": "@jupyter-widgets/controls",
      "model_module_version": "1.4.0",
      "model_name": "ToggleButtonsStyleModel",
      "state": {
       "button_width": "",
       "description_width": ""
      }
     },
     "4d439f9282924b7f9cc4de28c59f7bc1": {
      "model_module": "@jupyter-widgets/controls",
      "model_module_version": "1.4.0",
      "model_name": "VBoxModel",
      "state": {
       "_dom_classes": [
        "widget-interact"
       ],
       "children": [
        "IPY_MODEL_3e3a89a85e2345829d9bf80e45b66a9c",
        "IPY_MODEL_e9197a6dc7334c9fa93a2c2a2b5697b0",
        "IPY_MODEL_975282d5676d4cd180bd92f199de4d3c",
        "IPY_MODEL_ab41944780d147f9a31bf2b39cf12bf4",
        "IPY_MODEL_ed16cde9083b4e32ac2458bc5f4c65fb",
        "IPY_MODEL_e472fae90e264cb182ca44026f3200cd",
        "IPY_MODEL_86c5ad289ccb4f4288898d2d0f99094e"
       ],
       "layout": "IPY_MODEL_b8229aabb5e2488abdd4568cacb7fafb"
      }
     },
     "4e7a0c7bcef9419995eb45ca3ef88aac": {
      "model_module": "@jupyter-widgets/controls",
      "model_module_version": "1.4.0",
      "model_name": "ToggleButtonsModel",
      "state": {
       "_options_labels": [
        "0.25"
       ],
       "button_style": "",
       "description": "ambiguity",
       "icons": [],
       "index": 0,
       "layout": "IPY_MODEL_0bb556c8e323499eb79058cc32140bde",
       "style": "IPY_MODEL_4c74f6b51f18471794e52f9e5879e8f6",
       "tooltips": []
      }
     },
     "4e80f7336b014e3b8eb8fb1c7f43eaa2": {
      "model_module": "@jupyter-widgets/controls",
      "model_module_version": "1.4.0",
      "model_name": "RadioButtonsModel",
      "state": {
       "_options_labels": [
        "0",
        "1.0"
       ],
       "description": "mismatch_sensitivity",
       "index": 0,
       "layout": "IPY_MODEL_f84a3f0be64f4117a64aa589290854f9",
       "style": "IPY_MODEL_04b2271a41f14419bb23bc252bafddc4"
      }
     },
     "4ec6f0cd7fdd4f5eadb372c650e73df6": {
      "model_module": "@jupyter-widgets/controls",
      "model_module_version": "1.4.0",
      "model_name": "RadioButtonsModel",
      "state": {
       "_options_labels": [
        "0.25"
       ],
       "description": "ambiguity",
       "index": 0,
       "layout": "IPY_MODEL_e2cf581f9f554dedb68c7b1b312abc8f",
       "style": "IPY_MODEL_e58bd62cb2f144e39a0b9c2bc3800ad1"
      }
     },
     "4efc326075a74447920fab6cfe053c4d": {
      "model_module": "@jupyter-widgets/base",
      "model_module_version": "1.1.0",
      "model_name": "LayoutModel",
      "state": {}
     },
     "5060f74c1bd24773aa957e332c7b7ec8": {
      "model_module": "@jupyter-widgets/base",
      "model_module_version": "1.1.0",
      "model_name": "LayoutModel",
      "state": {}
     },
     "50e7ad843d3849758396a92c0095ca72": {
      "model_module": "@jupyter-widgets/controls",
      "model_module_version": "1.4.0",
      "model_name": "SelectionSliderModel",
      "state": {
       "_options_labels": [
        "0",
        "1",
        "2",
        "4",
        "8",
        "16",
        "32",
        "64"
       ],
       "continuous_update": false,
       "description": "Max-mismatch",
       "index": 0,
       "layout": "IPY_MODEL_80ac31d22cfd4da0986e76a8ba837ec6",
       "style": "IPY_MODEL_6c7a70cea4504969b65864d969964f32"
      }
     },
     "51581864fd654769b4c31bc2a15b41a1": {
      "model_module": "@jupyter-widgets/controls",
      "model_module_version": "1.4.0",
      "model_name": "SelectionSliderModel",
      "state": {
       "_options_labels": [
        "0",
        "1",
        "2",
        "4",
        "8",
        "16",
        "32",
        "64"
       ],
       "continuous_update": false,
       "description": "Max-mismatch",
       "index": 0,
       "layout": "IPY_MODEL_0967d63a43eb426daf6817ead86a0d6a",
       "style": "IPY_MODEL_164af1b3e0ff498bb9bdc2956ee30c63"
      }
     },
     "51b6c2396e1448aebd544ce08ae3141e": {
      "model_module": "@jupyter-widgets/controls",
      "model_module_version": "1.4.0",
      "model_name": "DescriptionStyleModel",
      "state": {
       "description_width": ""
      }
     },
     "5218f266d0de48459ff69818c5b781f6": {
      "model_module": "@jupyter-widgets/base",
      "model_module_version": "1.1.0",
      "model_name": "LayoutModel",
      "state": {}
     },
     "53061cd5665d4dc1a202be0f73fcec06": {
      "model_module": "@jupyter-widgets/controls",
      "model_module_version": "1.4.0",
      "model_name": "RadioButtonsModel",
      "state": {
       "_options_labels": [
        "0",
        "1",
        "2",
        "4",
        "8",
        "16",
        "32",
        "64"
       ],
       "description": "max_mismatch",
       "index": 0,
       "layout": "IPY_MODEL_5218f266d0de48459ff69818c5b781f6",
       "style": "IPY_MODEL_2e540e1e51b84a1ab614197b4b2f1e87"
      }
     },
     "53c8d8b2d377411d873c5d9c68fb4f82": {
      "model_module": "@jupyter-widgets/controls",
      "model_module_version": "1.4.0",
      "model_name": "VBoxModel",
      "state": {
       "_dom_classes": [
        "widget-interact"
       ],
       "children": [
        "IPY_MODEL_553908040aee4ec49cecb5cd30366f33",
        "IPY_MODEL_92e2711f9d6240759efd2c9be953dea4",
        "IPY_MODEL_55c01c71f83d4e6c8a3e1b8eb784d002",
        "IPY_MODEL_e3500a243b564534a88521d4fd60abc1",
        "IPY_MODEL_fdb0f3d89eb14c759168c6b21b0e3cc5",
        "IPY_MODEL_b4b24e4f1ebf457aa5da37ecd2674365",
        "IPY_MODEL_bde7cfb7b6ae4c53a3381aff5a8a5c8e"
       ],
       "layout": "IPY_MODEL_43ecfb92e82c4674b62048e84c3e49ec"
      }
     },
     "5488fbb378d14f1d9a85807b42bb72d4": {
      "model_module": "@jupyter-widgets/base",
      "model_module_version": "1.1.0",
      "model_name": "LayoutModel",
      "state": {}
     },
     "54b61c9ba1cb4f5a96303553c3b8c006": {
      "model_module": "@jupyter-widgets/controls",
      "model_module_version": "1.4.0",
      "model_name": "DescriptionStyleModel",
      "state": {
       "description_width": ""
      }
     },
     "553908040aee4ec49cecb5cd30366f33": {
      "model_module": "@jupyter-widgets/controls",
      "model_module_version": "1.4.0",
      "model_name": "ToggleButtonsModel",
      "state": {
       "_options_labels": [
        "0.25"
       ],
       "button_style": "",
       "description": "ambiguity",
       "icons": [],
       "index": 0,
       "layout": "IPY_MODEL_3f0de913924e42acba6eb3406876bdb4",
       "style": "IPY_MODEL_d853a99aadd747dbbb63996eb552ffb6",
       "tooltips": []
      }
     },
     "55c01c71f83d4e6c8a3e1b8eb784d002": {
      "model_module": "@jupyter-widgets/controls",
      "model_module_version": "1.4.0",
      "model_name": "ToggleButtonsModel",
      "state": {
       "_options_labels": [
        "1",
        "3"
       ],
       "button_style": "",
       "description": "n_retrievals",
       "icons": [],
       "index": 1,
       "layout": "IPY_MODEL_6effe088d8a84afeb6b6bbd141c293aa",
       "style": "IPY_MODEL_c1336e4c2f9b4aa7b6d3ba283234744d",
       "tooltips": []
      }
     },
     "560833329a994768947be44d616a9a06": {
      "model_module": "@jupyter-widgets/base",
      "model_module_version": "1.1.0",
      "model_name": "LayoutModel",
      "state": {}
     },
     "5612fe7546984373bc7b50427f3634ca": {
      "model_module": "@jupyter-widgets/controls",
      "model_module_version": "1.4.0",
      "model_name": "SliderStyleModel",
      "state": {
       "description_width": ""
      }
     },
     "563c2b027c434691b7e32c4168c773af": {
      "model_module": "@jupyter-widgets/controls",
      "model_module_version": "1.4.0",
      "model_name": "DescriptionStyleModel",
      "state": {
       "description_width": ""
      }
     },
     "5672f425e2f4485f91a9bbc2495b49cd": {
      "model_module": "@jupyter-widgets/controls",
      "model_module_version": "1.4.0",
      "model_name": "DescriptionStyleModel",
      "state": {
       "description_width": ""
      }
     },
     "569d3004f07b48b0b772edc7c3caecde": {
      "model_module": "@jupyter-widgets/controls",
      "model_module_version": "1.4.0",
      "model_name": "DescriptionStyleModel",
      "state": {
       "description_width": ""
      }
     },
     "56a17cb15f37466fb84ce408419645f2": {
      "model_module": "@jupyter-widgets/base",
      "model_module_version": "1.1.0",
      "model_name": "LayoutModel",
      "state": {}
     },
     "56e7964248494991969da9efb5d994d9": {
      "model_module": "@jupyter-widgets/controls",
      "model_module_version": "1.4.0",
      "model_name": "VBoxModel",
      "state": {
       "_dom_classes": [
        "widget-interact"
       ],
       "children": [
        "IPY_MODEL_42812c489b0b41fdb8d5a71e8c4e85fa",
        "IPY_MODEL_90142626a41d44d1a68c6f741c4ccf89",
        "IPY_MODEL_29b1638ada77423f999e819242fe1ce6",
        "IPY_MODEL_4aad49b786a44ff19ccaa9b1941dd174",
        "IPY_MODEL_ae132abdd4e9467e91c31fb75a25e11c",
        "IPY_MODEL_89b37572f0cb41cc8d0dd4aaca69106d",
        "IPY_MODEL_f8a0dc98998346be888fa8ac5755cc6c"
       ],
       "layout": "IPY_MODEL_d265b1fb0d0e47e4939aa78121ec6396"
      }
     },
     "5922d1b01029418bbdfabeebd4fd104f": {
      "model_module": "@jupyter-widgets/base",
      "model_module_version": "1.1.0",
      "model_name": "LayoutModel",
      "state": {}
     },
     "5a8f0a5d0ef54378b078d6974f828248": {
      "model_module": "@jupyter-widgets/controls",
      "model_module_version": "1.4.0",
      "model_name": "RadioButtonsModel",
      "state": {
       "_options_labels": [
        "0",
        "1",
        "2",
        "4",
        "8",
        "16",
        "32",
        "64"
       ],
       "description": "max_mismatch",
       "index": 0,
       "layout": "IPY_MODEL_38423a15ce2e4ed2b0b292c0887770c4",
       "style": "IPY_MODEL_9a171a8099074c73aca8d5c18a6099de"
      }
     },
     "5aa9583945e04be4b7f42dfecc76a0fd": {
      "model_module": "@jupyter-widgets/controls",
      "model_module_version": "1.4.0",
      "model_name": "DescriptionStyleModel",
      "state": {
       "description_width": ""
      }
     },
     "5b1d3d1b5f714df5b83738001fd6d4a9": {
      "model_module": "@jupyter-widgets/base",
      "model_module_version": "1.1.0",
      "model_name": "LayoutModel",
      "state": {}
     },
     "5b3544b3ae7741daa13f603c863b2e1b": {
      "model_module": "@jupyter-widgets/output",
      "model_module_version": "1.0.0",
      "model_name": "OutputModel",
      "state": {
       "layout": "IPY_MODEL_4adaa2051e754f21aa4a16e02507aad4"
      }
     },
     "5b580d04aa4949428c29cf23b237563d": {
      "model_module": "@jupyter-widgets/base",
      "model_module_version": "1.1.0",
      "model_name": "LayoutModel",
      "state": {}
     },
     "5cb690d602e546368096d4fe07cb2932": {
      "model_module": "@jupyter-widgets/base",
      "model_module_version": "1.1.0",
      "model_name": "LayoutModel",
      "state": {}
     },
     "5d4268e6e6fd422e92ff3748891807af": {
      "model_module": "@jupyter-widgets/base",
      "model_module_version": "1.1.0",
      "model_name": "LayoutModel",
      "state": {}
     },
     "5d551dc254cb413298b408743f896dec": {
      "model_module": "@jupyter-widgets/output",
      "model_module_version": "1.0.0",
      "model_name": "OutputModel",
      "state": {
       "layout": "IPY_MODEL_e9dc5c6eb4c64a1cb18aa4069c4d99b1"
      }
     },
     "5d8bd1182108488cbddf7dc159b7b056": {
      "model_module": "@jupyter-widgets/controls",
      "model_module_version": "1.4.0",
      "model_name": "DescriptionStyleModel",
      "state": {
       "description_width": ""
      }
     },
     "5dad2d222e81481882151640478812ef": {
      "model_module": "@jupyter-widgets/base",
      "model_module_version": "1.1.0",
      "model_name": "LayoutModel",
      "state": {}
     },
     "5dc3189bcdd344e480f4c90a65a3e5d5": {
      "model_module": "@jupyter-widgets/controls",
      "model_module_version": "1.4.0",
      "model_name": "DescriptionStyleModel",
      "state": {
       "description_width": ""
      }
     },
     "5e8de52399b0438e9068a9961be8a94f": {
      "model_module": "@jupyter-widgets/controls",
      "model_module_version": "1.4.0",
      "model_name": "ToggleButtonsStyleModel",
      "state": {
       "button_width": "",
       "description_width": ""
      }
     },
     "5f850356cdc14296a94409bf9aea2da4": {
      "model_module": "@jupyter-widgets/controls",
      "model_module_version": "1.4.0",
      "model_name": "RadioButtonsModel",
      "state": {
       "_options_labels": [
        "1",
        "3"
       ],
       "description": "n_retrievals",
       "index": 0,
       "layout": "IPY_MODEL_24221e7a22f44653ad75b804a244f165",
       "style": "IPY_MODEL_80c808d523274fa88ae808a2c68ea2ca"
      }
     },
     "5f983cfa84e94bf4b0df44dcd02d0878": {
      "model_module": "@jupyter-widgets/base",
      "model_module_version": "1.1.0",
      "model_name": "LayoutModel",
      "state": {}
     },
     "604e6bc44df74732a3018ffc0c25072a": {
      "model_module": "@jupyter-widgets/controls",
      "model_module_version": "1.4.0",
      "model_name": "DescriptionStyleModel",
      "state": {
       "description_width": ""
      }
     },
     "6220f1acb436456ba0dbd67f90cf5102": {
      "model_module": "@jupyter-widgets/base",
      "model_module_version": "1.1.0",
      "model_name": "LayoutModel",
      "state": {}
     },
     "624087b37aca4227bf1ead044f988942": {
      "model_module": "@jupyter-widgets/base",
      "model_module_version": "1.1.0",
      "model_name": "LayoutModel",
      "state": {}
     },
     "62648865c3b04171834ea680733703fb": {
      "model_module": "@jupyter-widgets/controls",
      "model_module_version": "1.4.0",
      "model_name": "DescriptionStyleModel",
      "state": {
       "description_width": ""
      }
     },
     "62658ca3d8dc4ff787e4cd7620b0e3bc": {
      "model_module": "@jupyter-widgets/base",
      "model_module_version": "1.1.0",
      "model_name": "LayoutModel",
      "state": {}
     },
     "62954c701936445c9a5c22bc9e5d9e2b": {
      "model_module": "@jupyter-widgets/base",
      "model_module_version": "1.1.0",
      "model_name": "LayoutModel",
      "state": {}
     },
     "62999377d2be4bbd8767ac448a701e84": {
      "model_module": "@jupyter-widgets/controls",
      "model_module_version": "1.4.0",
      "model_name": "DescriptionStyleModel",
      "state": {
       "description_width": ""
      }
     },
     "62b05966b48742c48eb162a3fa889623": {
      "model_module": "@jupyter-widgets/output",
      "model_module_version": "1.0.0",
      "model_name": "OutputModel",
      "state": {
       "layout": "IPY_MODEL_df79e4701d544525a9f66793b2a91208"
      }
     },
     "63e68ced0e464e219eed19a68291e144": {
      "model_module": "@jupyter-widgets/output",
      "model_module_version": "1.0.0",
      "model_name": "OutputModel",
      "state": {
       "layout": "IPY_MODEL_d62e54c2b15746c08011e76419e38b7a"
      }
     },
     "64131bb44a384fb6b2f451565d0a95e5": {
      "model_module": "@jupyter-widgets/controls",
      "model_module_version": "1.4.0",
      "model_name": "RadioButtonsModel",
      "state": {
       "_options_labels": [
        "0.25"
       ],
       "description": "ambiguity",
       "index": 0,
       "layout": "IPY_MODEL_ffb6dbe6a6b5423ba9ad9cb88b223a92",
       "style": "IPY_MODEL_5aa9583945e04be4b7f42dfecc76a0fd"
      }
     },
     "64ef30eca1144d4bb27332b03827ec20": {
      "model_module": "@jupyter-widgets/base",
      "model_module_version": "1.1.0",
      "model_name": "LayoutModel",
      "state": {}
     },
     "65a3189852c743c4b23990ada7b2bd2a": {
      "model_module": "@jupyter-widgets/controls",
      "model_module_version": "1.4.0",
      "model_name": "RadioButtonsModel",
      "state": {
       "_options_labels": [
        "0",
        "0.01"
       ],
       "description": "noise",
       "index": 0,
       "layout": "IPY_MODEL_d8968271f2e24a8e831c981de8649386",
       "style": "IPY_MODEL_39c8b90bce764876ac1fb4dbfd33a2ec"
      }
     },
     "65b117626c374b72a48cd150e0bb2c15": {
      "model_module": "@jupyter-widgets/base",
      "model_module_version": "1.1.0",
      "model_name": "LayoutModel",
      "state": {}
     },
     "65ff8c7b641c43ff99e05dd1f4161455": {
      "model_module": "@jupyter-widgets/base",
      "model_module_version": "1.1.0",
      "model_name": "LayoutModel",
      "state": {}
     },
     "6625cb1c2a044cfc8de86a07181467f8": {
      "model_module": "@jupyter-widgets/controls",
      "model_module_version": "1.4.0",
      "model_name": "ToggleButtonsModel",
      "state": {
       "_options_labels": [
        "0",
        "0.01"
       ],
       "button_style": "",
       "description": "noise",
       "icons": [],
       "index": 0,
       "layout": "IPY_MODEL_d70fda493eba4a4b972b67fee5742e99",
       "style": "IPY_MODEL_28e3ed00dad14071a577b2c9d0648332",
       "tooltips": []
      }
     },
     "6649ab492e0845eb8112935b00d5e593": {
      "model_module": "@jupyter-widgets/controls",
      "model_module_version": "1.4.0",
      "model_name": "RadioButtonsModel",
      "state": {
       "_options_labels": [
        "0",
        "1.0"
       ],
       "description": "mismatch_sensitivity",
       "index": 0,
       "layout": "IPY_MODEL_9550001c35a6469c8846d2934e098609",
       "style": "IPY_MODEL_9d11a08849e04a9fa7fb998d01bb4d74"
      }
     },
     "669a05e104c04fe78ee0d564214ae76a": {
      "model_module": "@jupyter-widgets/controls",
      "model_module_version": "1.4.0",
      "model_name": "RadioButtonsModel",
      "state": {
       "_options_labels": [
        "1",
        "3"
       ],
       "description": "n_retrievals",
       "index": 0,
       "layout": "IPY_MODEL_62658ca3d8dc4ff787e4cd7620b0e3bc",
       "style": "IPY_MODEL_38655282b4b04fff809db0a7cfb3fba4"
      }
     },
     "66b1be95477a4226b1ecc82e8496a7c7": {
      "model_module": "@jupyter-widgets/controls",
      "model_module_version": "1.4.0",
      "model_name": "DescriptionStyleModel",
      "state": {
       "description_width": ""
      }
     },
     "66bbd8ef3e7043da8e48f09f48560212": {
      "model_module": "@jupyter-widgets/controls",
      "model_module_version": "1.4.0",
      "model_name": "VBoxModel",
      "state": {
       "_dom_classes": [
        "widget-interact"
       ],
       "children": [
        "IPY_MODEL_db5668f3d0af4be2b9a3ee12c4ce7650",
        "IPY_MODEL_f2d0608997a0470fae1fa8a6a0bceeb5",
        "IPY_MODEL_3e54e9c803f245dcaf2b4d4c26942e77",
        "IPY_MODEL_138ee153462649b79ca9c31a08c9ce2f",
        "IPY_MODEL_8e19fdccddcc48659544e184fe4e659d",
        "IPY_MODEL_47071fc24e4b4040a440568add92f7c6",
        "IPY_MODEL_9443305ac4da44788770f2a84142c3ba"
       ],
       "layout": "IPY_MODEL_79f96d22a36243489f8259ec7ad62100"
      }
     },
     "66cd2ee54dbe4a74bbb432e20ff9226f": {
      "model_module": "@jupyter-widgets/controls",
      "model_module_version": "1.4.0",
      "model_name": "DescriptionStyleModel",
      "state": {
       "description_width": ""
      }
     },
     "66cf2d07572a404a9f18ffbfc9103379": {
      "model_module": "@jupyter-widgets/output",
      "model_module_version": "1.0.0",
      "model_name": "OutputModel",
      "state": {
       "layout": "IPY_MODEL_a70c8c5f11b74a078f7679525e5d2acc"
      }
     },
     "671b2e4fbd3e490b8e14131806aa8b18": {
      "model_module": "@jupyter-widgets/controls",
      "model_module_version": "1.4.0",
      "model_name": "DescriptionStyleModel",
      "state": {
       "description_width": ""
      }
     },
     "67a0d7504f214c51b6c4547732660f23": {
      "model_module": "@jupyter-widgets/controls",
      "model_module_version": "1.4.0",
      "model_name": "RadioButtonsModel",
      "state": {
       "_options_labels": [
        "0",
        "1.0"
       ],
       "description": "mismatch_sensitivity",
       "index": 1,
       "layout": "IPY_MODEL_6a2feb927c4c4c9ea1fb2c2d30d9ba61",
       "style": "IPY_MODEL_b238bd16228342f7850a9e1c730228f1"
      }
     },
     "6998ae1924e24bdcbae29bc03e840c25": {
      "model_module": "@jupyter-widgets/controls",
      "model_module_version": "1.4.0",
      "model_name": "SelectionSliderModel",
      "state": {
       "_options_labels": [
        "0",
        "1",
        "2",
        "4",
        "8",
        "16",
        "32",
        "64"
       ],
       "continuous_update": false,
       "description": "fixed_m2_val",
       "index": 0,
       "layout": "IPY_MODEL_f06d4cd5d215446294ead26a9a779f3a",
       "style": "IPY_MODEL_ccf348b813074ccca90619af4cfea105"
      }
     },
     "69e468c78ff24ee69062a88a45c57e48": {
      "model_module": "@jupyter-widgets/output",
      "model_module_version": "1.0.0",
      "model_name": "OutputModel",
      "state": {
       "layout": "IPY_MODEL_624087b37aca4227bf1ead044f988942"
      }
     },
     "6a2feb927c4c4c9ea1fb2c2d30d9ba61": {
      "model_module": "@jupyter-widgets/base",
      "model_module_version": "1.1.0",
      "model_name": "LayoutModel",
      "state": {}
     },
     "6a355b19fbe749ba83d50d821151c57e": {
      "model_module": "@jupyter-widgets/controls",
      "model_module_version": "1.4.0",
      "model_name": "DescriptionStyleModel",
      "state": {
       "description_width": ""
      }
     },
     "6a97cd1e1d1c4cd19bbc25e7802d9b00": {
      "model_module": "@jupyter-widgets/controls",
      "model_module_version": "1.4.0",
      "model_name": "DescriptionStyleModel",
      "state": {
       "description_width": ""
      }
     },
     "6b5c24b7d693431a8ace1d709a61386c": {
      "model_module": "@jupyter-widgets/controls",
      "model_module_version": "1.4.0",
      "model_name": "DescriptionStyleModel",
      "state": {
       "description_width": ""
      }
     },
     "6b7ab56a9959440eaab814ba39b8afe2": {
      "model_module": "@jupyter-widgets/controls",
      "model_module_version": "1.4.0",
      "model_name": "RadioButtonsModel",
      "state": {
       "_options_labels": [
        "0",
        "0.01"
       ],
       "description": "noise",
       "index": 0,
       "layout": "IPY_MODEL_81654d8de95e450699991991b37dcecc",
       "style": "IPY_MODEL_43e9923cd7d44d7aa1bea675ed81d50c"
      }
     },
     "6bb38838cde74a9d80c485d0f0f86729": {
      "model_module": "@jupyter-widgets/base",
      "model_module_version": "1.1.0",
      "model_name": "LayoutModel",
      "state": {}
     },
     "6c2824a344314ff383d1f58f12b13e35": {
      "model_module": "@jupyter-widgets/base",
      "model_module_version": "1.1.0",
      "model_name": "LayoutModel",
      "state": {}
     },
     "6c39c98beb3e4a39a550ac1111997d71": {
      "model_module": "@jupyter-widgets/controls",
      "model_module_version": "1.4.0",
      "model_name": "RadioButtonsModel",
      "state": {
       "_options_labels": [
        "0.25"
       ],
       "description": "ambiguity",
       "index": 0,
       "layout": "IPY_MODEL_75726d298ee64b03bee9c032ecaed584",
       "style": "IPY_MODEL_f0d43437ae2a42d18bd2a67f2193e3a8"
      }
     },
     "6c7a70cea4504969b65864d969964f32": {
      "model_module": "@jupyter-widgets/controls",
      "model_module_version": "1.4.0",
      "model_name": "DescriptionStyleModel",
      "state": {
       "description_width": ""
      }
     },
     "6c8c373aaba947948b66ce49e31e7332": {
      "model_module": "@jupyter-widgets/base",
      "model_module_version": "1.1.0",
      "model_name": "LayoutModel",
      "state": {}
     },
     "6dd569b25d1847e5859d72abd40e8b99": {
      "model_module": "@jupyter-widgets/controls",
      "model_module_version": "1.4.0",
      "model_name": "DescriptionStyleModel",
      "state": {
       "description_width": ""
      }
     },
     "6df02b9f92914fe2bd542c2cf40f002e": {
      "model_module": "@jupyter-widgets/controls",
      "model_module_version": "1.4.0",
      "model_name": "RadioButtonsModel",
      "state": {
       "_options_labels": [
        "1",
        "3"
       ],
       "description": "n_retrievals",
       "index": 0,
       "layout": "IPY_MODEL_1831725fe1754cab9bdb41716bb6e7e7",
       "style": "IPY_MODEL_671b2e4fbd3e490b8e14131806aa8b18"
      }
     },
     "6e4f2b81de8f46e8906d0ad66931ff93": {
      "model_module": "@jupyter-widgets/base",
      "model_module_version": "1.1.0",
      "model_name": "LayoutModel",
      "state": {}
     },
     "6e61053a7475449b9d6a47332f79497e": {
      "model_module": "@jupyter-widgets/controls",
      "model_module_version": "1.4.0",
      "model_name": "RadioButtonsModel",
      "state": {
       "_options_labels": [
        "0",
        "0.01"
       ],
       "description": "noise",
       "index": 0,
       "layout": "IPY_MODEL_5d4268e6e6fd422e92ff3748891807af",
       "style": "IPY_MODEL_e2a02c1a8a25482eb5b5581e723d6f08"
      }
     },
     "6ee84cb0926e488bb3d1ede92f4df244": {
      "model_module": "@jupyter-widgets/base",
      "model_module_version": "1.1.0",
      "model_name": "LayoutModel",
      "state": {}
     },
     "6effe088d8a84afeb6b6bbd141c293aa": {
      "model_module": "@jupyter-widgets/base",
      "model_module_version": "1.1.0",
      "model_name": "LayoutModel",
      "state": {}
     },
     "6f10c9caee6a4158bd4e884b74717f0f": {
      "model_module": "@jupyter-widgets/output",
      "model_module_version": "1.0.0",
      "model_name": "OutputModel",
      "state": {
       "layout": "IPY_MODEL_fbfa38d4c36f41399fd409c62046fe11"
      }
     },
     "6f47b3818f65459298798aca103d7100": {
      "model_module": "@jupyter-widgets/controls",
      "model_module_version": "1.4.0",
      "model_name": "RadioButtonsModel",
      "state": {
       "_options_labels": [
        "0.25"
       ],
       "description": "ambiguity",
       "index": 0,
       "layout": "IPY_MODEL_22a07f4d213e4ef2a3ed2839fff9e1d0",
       "style": "IPY_MODEL_e4f4f88e70d6423091a3d5d6791f03a9"
      }
     },
     "6f7cdecf88b04bd89975c58f353c22a2": {
      "model_module": "@jupyter-widgets/controls",
      "model_module_version": "1.4.0",
      "model_name": "DescriptionStyleModel",
      "state": {
       "description_width": ""
      }
     },
     "6fe8439641004d7aa29d6cd2f2a58107": {
      "model_module": "@jupyter-widgets/controls",
      "model_module_version": "1.4.0",
      "model_name": "SelectionSliderModel",
      "state": {
       "_options_labels": [
        "0",
        "1",
        "2",
        "4",
        "8",
        "16",
        "32",
        "64"
       ],
       "continuous_update": false,
       "description": "Max-mismatch",
       "index": 0,
       "layout": "IPY_MODEL_f6de4efcca83496b82000a5546adb175",
       "style": "IPY_MODEL_9d592830fcf2414cbbe6f2b62c9df68b"
      }
     },
     "705a38ac826d420f92eb04578e8cd747": {
      "model_module": "@jupyter-widgets/base",
      "model_module_version": "1.1.0",
      "model_name": "LayoutModel",
      "state": {}
     },
     "70d5e876757940459f5eb35eb5736a4e": {
      "model_module": "@jupyter-widgets/base",
      "model_module_version": "1.1.0",
      "model_name": "LayoutModel",
      "state": {}
     },
     "70ea0b07b1c14d67a8af1eeafe4b5df9": {
      "model_module": "@jupyter-widgets/controls",
      "model_module_version": "1.4.0",
      "model_name": "RadioButtonsModel",
      "state": {
       "_options_labels": [
        "1",
        "3"
       ],
       "description": "n_retrievals",
       "index": 0,
       "layout": "IPY_MODEL_5060f74c1bd24773aa957e332c7b7ec8",
       "style": "IPY_MODEL_460c40c7a5a04679bddce942392bc2d4"
      }
     },
     "713446a2b2f24180870e315a48d3d978": {
      "model_module": "@jupyter-widgets/base",
      "model_module_version": "1.1.0",
      "model_name": "LayoutModel",
      "state": {}
     },
     "721dc58404dc4af5940871e99fac5d44": {
      "model_module": "@jupyter-widgets/controls",
      "model_module_version": "1.4.0",
      "model_name": "RadioButtonsModel",
      "state": {
       "_options_labels": [
        "1",
        "0.5",
        "0"
       ],
       "description": "penalty_strenth",
       "index": 0,
       "layout": "IPY_MODEL_a76a163a728a4c978cd16df891eadc9c",
       "style": "IPY_MODEL_47d4a05deeb94fceb8a0bba965256fac"
      }
     },
     "7262298598404ec09665681cfb46feec": {
      "model_module": "@jupyter-widgets/controls",
      "model_module_version": "1.4.0",
      "model_name": "DescriptionStyleModel",
      "state": {
       "description_width": ""
      }
     },
     "72b8f1834a214289afebdb7b61935476": {
      "model_module": "@jupyter-widgets/controls",
      "model_module_version": "1.4.0",
      "model_name": "RadioButtonsModel",
      "state": {
       "_options_labels": [
        "0.25"
       ],
       "description": "ambiguity",
       "index": 0,
       "layout": "IPY_MODEL_ef8e652e7f104f63b18201053924dcd7",
       "style": "IPY_MODEL_ea23e7021c3b483faed0f231f397b820"
      }
     },
     "745034b2ba06412e9cb3a550fa148f20": {
      "model_module": "@jupyter-widgets/base",
      "model_module_version": "1.1.0",
      "model_name": "LayoutModel",
      "state": {}
     },
     "74ce5aecfa044d3eb43cd4cf3eb7e0d5": {
      "model_module": "@jupyter-widgets/controls",
      "model_module_version": "1.4.0",
      "model_name": "ToggleButtonsStyleModel",
      "state": {
       "button_width": "",
       "description_width": ""
      }
     },
     "74fbcbd8b544408794eabdd986d2f405": {
      "model_module": "@jupyter-widgets/base",
      "model_module_version": "1.1.0",
      "model_name": "LayoutModel",
      "state": {}
     },
     "751bcabfaace48d4b2c55c71fd4522e6": {
      "model_module": "@jupyter-widgets/output",
      "model_module_version": "1.0.0",
      "model_name": "OutputModel",
      "state": {
       "layout": "IPY_MODEL_5b580d04aa4949428c29cf23b237563d"
      }
     },
     "753db5a73cf04f229341cbcfbccd36de": {
      "model_module": "@jupyter-widgets/base",
      "model_module_version": "1.1.0",
      "model_name": "LayoutModel",
      "state": {}
     },
     "75726d298ee64b03bee9c032ecaed584": {
      "model_module": "@jupyter-widgets/base",
      "model_module_version": "1.1.0",
      "model_name": "LayoutModel",
      "state": {}
     },
     "75d0e3acf17546b3b6f6b2e711f42d0f": {
      "model_module": "@jupyter-widgets/base",
      "model_module_version": "1.1.0",
      "model_name": "LayoutModel",
      "state": {}
     },
     "7611cd596f93420d8096e470c616bcd8": {
      "model_module": "@jupyter-widgets/controls",
      "model_module_version": "1.4.0",
      "model_name": "RadioButtonsModel",
      "state": {
       "_options_labels": [
        "1",
        "3"
       ],
       "description": "n_retrievals",
       "index": 0,
       "layout": "IPY_MODEL_12eedc765d6a4c129297621208753655",
       "style": "IPY_MODEL_8719267b36044baa83902d8313ea0837"
      }
     },
     "761d5f61523d47e38af37c2728978e65": {
      "model_module": "@jupyter-widgets/base",
      "model_module_version": "1.1.0",
      "model_name": "LayoutModel",
      "state": {}
     },
     "76354e86f62143c98dcaae25574e3f80": {
      "model_module": "@jupyter-widgets/base",
      "model_module_version": "1.1.0",
      "model_name": "LayoutModel",
      "state": {}
     },
     "76804e765d37449f816b7a82edc8dd81": {
      "model_module": "@jupyter-widgets/controls",
      "model_module_version": "1.4.0",
      "model_name": "DescriptionStyleModel",
      "state": {
       "description_width": ""
      }
     },
     "768cb0dc988043aa9baaf2c151be90d4": {
      "model_module": "@jupyter-widgets/controls",
      "model_module_version": "1.4.0",
      "model_name": "RadioButtonsModel",
      "state": {
       "_options_labels": [
        "0",
        "1.0"
       ],
       "description": "mismatch_sensitivity",
       "index": 0,
       "layout": "IPY_MODEL_e850f468b4224cdc8526e2e4407f44a6",
       "style": "IPY_MODEL_1562f34fab3645bc80f358c0118a3179"
      }
     },
     "76a2ea8097014cf6afc7c79f1d8cce8f": {
      "model_module": "@jupyter-widgets/controls",
      "model_module_version": "1.4.0",
      "model_name": "RadioButtonsModel",
      "state": {
       "_options_labels": [
        "1",
        "3"
       ],
       "description": "n_retrievals",
       "index": 0,
       "layout": "IPY_MODEL_93d2d722214c4044ae24384d323e9511",
       "style": "IPY_MODEL_275ca6290c9a45e5a03f1c73dd1fe89e"
      }
     },
     "76cd9007ab9c4b36a672ceb12e26caff": {
      "model_module": "@jupyter-widgets/controls",
      "model_module_version": "1.4.0",
      "model_name": "RadioButtonsModel",
      "state": {
       "_options_labels": [
        "0.25"
       ],
       "description": "ambiguity",
       "index": 0,
       "layout": "IPY_MODEL_bc368177e0d340e59740fae51fca63dc",
       "style": "IPY_MODEL_ad6bb3079ae54671b8c654b0563943e0"
      }
     },
     "76d397105d6542f59be778f3654d4a81": {
      "model_module": "@jupyter-widgets/controls",
      "model_module_version": "1.4.0",
      "model_name": "ToggleButtonsStyleModel",
      "state": {
       "button_width": "",
       "description_width": ""
      }
     },
     "76e799e5af0045fab6e51f8c5a2ff4e8": {
      "model_module": "@jupyter-widgets/controls",
      "model_module_version": "1.4.0",
      "model_name": "VBoxModel",
      "state": {
       "_dom_classes": [
        "widget-interact"
       ],
       "children": [
        "IPY_MODEL_a0af02f7fe9c4874932da0faf49334a0",
        "IPY_MODEL_45602eac527b4c48bff6e2dfb0e81c0c",
        "IPY_MODEL_84271554616e4f53a6bb141958046f7d",
        "IPY_MODEL_795b0a5628e74f02a36708e19617c666",
        "IPY_MODEL_f58adb97d8694b4c8771f0c5ff0ae64c",
        "IPY_MODEL_e832dd03074c4ac289837885f8634193",
        "IPY_MODEL_96b3dfb529e542478e344cc2d2d15adc"
       ],
       "layout": "IPY_MODEL_6bb38838cde74a9d80c485d0f0f86729"
      }
     },
     "771ee14c393d4020bc47329267aed749": {
      "model_module": "@jupyter-widgets/controls",
      "model_module_version": "1.4.0",
      "model_name": "DescriptionStyleModel",
      "state": {
       "description_width": ""
      }
     },
     "773b79ed97e3425eb7ef621aaf995f5b": {
      "model_module": "@jupyter-widgets/base",
      "model_module_version": "1.1.0",
      "model_name": "LayoutModel",
      "state": {}
     },
     "77e2acd195004a1998f327d603b804f9": {
      "model_module": "@jupyter-widgets/base",
      "model_module_version": "1.1.0",
      "model_name": "LayoutModel",
      "state": {}
     },
     "7816349164f44da9903555f5099df82f": {
      "model_module": "@jupyter-widgets/base",
      "model_module_version": "1.1.0",
      "model_name": "LayoutModel",
      "state": {}
     },
     "78a5136fb52f4e669046e9c7ef722ac1": {
      "model_module": "@jupyter-widgets/controls",
      "model_module_version": "1.4.0",
      "model_name": "DescriptionStyleModel",
      "state": {
       "description_width": ""
      }
     },
     "78aa4de5c50249aeb300b9bdf39ed296": {
      "model_module": "@jupyter-widgets/base",
      "model_module_version": "1.1.0",
      "model_name": "LayoutModel",
      "state": {}
     },
     "78e05b3276914fe28bf6d225daa46120": {
      "model_module": "@jupyter-widgets/controls",
      "model_module_version": "1.4.0",
      "model_name": "DescriptionStyleModel",
      "state": {
       "description_width": ""
      }
     },
     "795b0a5628e74f02a36708e19617c666": {
      "model_module": "@jupyter-widgets/controls",
      "model_module_version": "1.4.0",
      "model_name": "RadioButtonsModel",
      "state": {
       "_options_labels": [
        "0",
        "1.0"
       ],
       "description": "mismatch_sensitivity",
       "index": 1,
       "layout": "IPY_MODEL_802675432915401094b38845398ef02b",
       "style": "IPY_MODEL_b73e90170bf14ccc9a811004444ab8ba"
      }
     },
     "79f96d22a36243489f8259ec7ad62100": {
      "model_module": "@jupyter-widgets/base",
      "model_module_version": "1.1.0",
      "model_name": "LayoutModel",
      "state": {}
     },
     "7a215799984540379a14ef29669f387e": {
      "model_module": "@jupyter-widgets/controls",
      "model_module_version": "1.4.0",
      "model_name": "ToggleButtonsModel",
      "state": {
       "_options_labels": [
        "0",
        "1"
       ],
       "button_style": "",
       "description": "Penalty strenth",
       "icons": [],
       "index": 1,
       "layout": "IPY_MODEL_3587468756c94629b9841da345664529",
       "style": "IPY_MODEL_a527fd7bf4d242a2b694329b50097628",
       "tooltips": []
      }
     },
     "7a3cd8d79d304965aa52ac73bbfd04a6": {
      "model_module": "@jupyter-widgets/controls",
      "model_module_version": "1.4.0",
      "model_name": "RadioButtonsModel",
      "state": {
       "_options_labels": [
        "1",
        "3"
       ],
       "description": "n_retrievals",
       "index": 0,
       "layout": "IPY_MODEL_bbdad78f53104e07b549de6d5d1ac2e3",
       "style": "IPY_MODEL_e2fbb728c3c644ff9e6704b058464ce4"
      }
     },
     "7a58ef8927e947d7bc199535d0733fb4": {
      "model_module": "@jupyter-widgets/controls",
      "model_module_version": "1.4.0",
      "model_name": "DescriptionStyleModel",
      "state": {
       "description_width": ""
      }
     },
     "7a6db8ff15d742f1976b7408556d2d6e": {
      "model_module": "@jupyter-widgets/controls",
      "model_module_version": "1.4.0",
      "model_name": "SelectionSliderModel",
      "state": {
       "_options_labels": [
        "0",
        "1",
        "2",
        "4",
        "8",
        "16",
        "32",
        "64"
       ],
       "continuous_update": false,
       "description": "Max-mismatch",
       "index": 0,
       "layout": "IPY_MODEL_4255d167abeb4b9b9441340822c76b81",
       "style": "IPY_MODEL_a03557f389b24913b394f50d7d6541fe"
      }
     },
     "7aa3146e47374c248a8b5be71d69e571": {
      "model_module": "@jupyter-widgets/controls",
      "model_module_version": "1.4.0",
      "model_name": "ToggleButtonsModel",
      "state": {
       "_options_labels": [
        "1",
        "3"
       ],
       "button_style": "",
       "description": "n_retrievals",
       "icons": [],
       "index": 0,
       "layout": "IPY_MODEL_0e154860f55e4e06993673ebb4b2e78e",
       "style": "IPY_MODEL_efc92b1d4b714e7e9732de7cde3b3873",
       "tooltips": []
      }
     },
     "7aab15a5ab564e5e9d53e3aeec4fa0d6": {
      "model_module": "@jupyter-widgets/controls",
      "model_module_version": "1.4.0",
      "model_name": "SelectionSliderModel",
      "state": {
       "_options_labels": [
        "0",
        "1",
        "2",
        "4",
        "8",
        "16",
        "32",
        "64"
       ],
       "continuous_update": false,
       "description": "Max-mismatch",
       "index": 0,
       "layout": "IPY_MODEL_0fbbfe56794243c683c9b76d02131de4",
       "style": "IPY_MODEL_c456b594ec004d52bac9e4b138e8f25a"
      }
     },
     "7accb034136042f7baac6440fe389701": {
      "model_module": "@jupyter-widgets/controls",
      "model_module_version": "1.4.0",
      "model_name": "VBoxModel",
      "state": {
       "_dom_classes": [
        "widget-interact"
       ],
       "children": [
        "IPY_MODEL_0b56526ed2d54c808c67ce3ab015feef",
        "IPY_MODEL_8462029f133740cbaad184fc882d986f",
        "IPY_MODEL_0922b474f8d2474b88bba1a5a3066407",
        "IPY_MODEL_9c8c73e5eef449aba443a42641ff29b9",
        "IPY_MODEL_c5c5da2f6eae464f8fa6642285ed345c",
        "IPY_MODEL_e5dae9b852284fc096acf3fdbac08f84",
        "IPY_MODEL_5b3544b3ae7741daa13f603c863b2e1b"
       ],
       "layout": "IPY_MODEL_dae7b1d5c804451abf14fd2ebe0f123f"
      }
     },
     "7ae0bcb5440d44058ff6fe9ccfc906a2": {
      "model_module": "@jupyter-widgets/controls",
      "model_module_version": "1.4.0",
      "model_name": "RadioButtonsModel",
      "state": {
       "_options_labels": [
        "0",
        "1.0"
       ],
       "description": "mismatch_sensitivity",
       "index": 1,
       "layout": "IPY_MODEL_3ebfd0be284d4587b4767401ec1c9694",
       "style": "IPY_MODEL_bc5c2d21480942f39fdd81a637455e0d"
      }
     },
     "7b31d54da56d49c393ed4ccdbbdadf6e": {
      "model_module": "@jupyter-widgets/base",
      "model_module_version": "1.1.0",
      "model_name": "LayoutModel",
      "state": {}
     },
     "7bdc75f40a2946969c83c387ee994e6f": {
      "model_module": "@jupyter-widgets/base",
      "model_module_version": "1.1.0",
      "model_name": "LayoutModel",
      "state": {}
     },
     "7bdec0e216fb495d8c28b20fe2e6b1f4": {
      "model_module": "@jupyter-widgets/controls",
      "model_module_version": "1.4.0",
      "model_name": "DescriptionStyleModel",
      "state": {
       "description_width": ""
      }
     },
     "7bf510b47f2e4db9b87c075cf3fabaee": {
      "model_module": "@jupyter-widgets/base",
      "model_module_version": "1.1.0",
      "model_name": "LayoutModel",
      "state": {}
     },
     "7c86bfe26a104d12bf51f8e82479b055": {
      "model_module": "@jupyter-widgets/controls",
      "model_module_version": "1.4.0",
      "model_name": "VBoxModel",
      "state": {
       "_dom_classes": [
        "widget-interact"
       ],
       "children": [
        "IPY_MODEL_a215c20d249d438eb9440bdc792350a9",
        "IPY_MODEL_6b7ab56a9959440eaab814ba39b8afe2",
        "IPY_MODEL_1dd612e52116493fa6f035161ad7ed2e",
        "IPY_MODEL_a4ff8c6f12cf44548b2384687bceff34",
        "IPY_MODEL_7e5f20cfcd344dd9b23ad1476ea9f030",
        "IPY_MODEL_a3d9d0f176fd461ab181d2c43f6c888e",
        "IPY_MODEL_a8d8a5b915a0407eb250c66247459133"
       ],
       "layout": "IPY_MODEL_81810946226d4a94b601b025ddba87a9"
      }
     },
     "7d13dbc2fcc4424da57a270a59b95135": {
      "model_module": "@jupyter-widgets/controls",
      "model_module_version": "1.4.0",
      "model_name": "DescriptionStyleModel",
      "state": {
       "description_width": ""
      }
     },
     "7d1e119fa83746a887a8dc405a848c43": {
      "model_module": "@jupyter-widgets/controls",
      "model_module_version": "1.4.0",
      "model_name": "DescriptionStyleModel",
      "state": {
       "description_width": ""
      }
     },
     "7d675e2598d54d0680ba3fc5c77a1699": {
      "model_module": "@jupyter-widgets/base",
      "model_module_version": "1.1.0",
      "model_name": "LayoutModel",
      "state": {}
     },
     "7d6e44411f0345f787138745a9050565": {
      "model_module": "@jupyter-widgets/base",
      "model_module_version": "1.1.0",
      "model_name": "LayoutModel",
      "state": {}
     },
     "7d74394e1ecb410587155acf679f34b7": {
      "model_module": "@jupyter-widgets/controls",
      "model_module_version": "1.4.0",
      "model_name": "DescriptionStyleModel",
      "state": {
       "description_width": ""
      }
     },
     "7e324c1123d9438ca5acfc3d331ce76d": {
      "model_module": "@jupyter-widgets/base",
      "model_module_version": "1.1.0",
      "model_name": "LayoutModel",
      "state": {}
     },
     "7e5f20cfcd344dd9b23ad1476ea9f030": {
      "model_module": "@jupyter-widgets/controls",
      "model_module_version": "1.4.0",
      "model_name": "SelectionSliderModel",
      "state": {
       "_options_labels": [
        "0",
        "1",
        "2",
        "4",
        "8",
        "16",
        "32",
        "64"
       ],
       "continuous_update": false,
       "description": "Max-mismatch",
       "index": 0,
       "layout": "IPY_MODEL_a187f83cf87b4b8eafd46b0a38988844",
       "style": "IPY_MODEL_7d13dbc2fcc4424da57a270a59b95135"
      }
     },
     "7f403fbe4b4b4b20a51d636498139ff4": {
      "model_module": "@jupyter-widgets/output",
      "model_module_version": "1.0.0",
      "model_name": "OutputModel",
      "state": {
       "layout": "IPY_MODEL_560833329a994768947be44d616a9a06"
      }
     },
     "7f895e2f846a4dac983b77b89e10aa68": {
      "model_module": "@jupyter-widgets/controls",
      "model_module_version": "1.4.0",
      "model_name": "RadioButtonsModel",
      "state": {
       "_options_labels": [
        "1",
        "0.5",
        "0"
       ],
       "description": "penalty_strenth",
       "index": 0,
       "layout": "IPY_MODEL_09b4eddc85ff437182990d3484b94f35",
       "style": "IPY_MODEL_4a3596bec605463fbf86b5cf295852cd"
      }
     },
     "7fc4abbfbc6444bcb75f527335413f0a": {
      "model_module": "@jupyter-widgets/controls",
      "model_module_version": "1.4.0",
      "model_name": "DescriptionStyleModel",
      "state": {
       "description_width": ""
      }
     },
     "802675432915401094b38845398ef02b": {
      "model_module": "@jupyter-widgets/base",
      "model_module_version": "1.1.0",
      "model_name": "LayoutModel",
      "state": {}
     },
     "802de5fafa4b4b27a6e0b157c2fe1c21": {
      "model_module": "@jupyter-widgets/base",
      "model_module_version": "1.1.0",
      "model_name": "LayoutModel",
      "state": {}
     },
     "8092803a453f4b2f8d52d05e230284c7": {
      "model_module": "@jupyter-widgets/controls",
      "model_module_version": "1.4.0",
      "model_name": "VBoxModel",
      "state": {
       "_dom_classes": [
        "widget-interact"
       ],
       "children": [
        "IPY_MODEL_4702118038414accbb0dccbe6d0a2914",
        "IPY_MODEL_272dc1bc7a6144cb95b3e9d7ddcb8a1e",
        "IPY_MODEL_7611cd596f93420d8096e470c616bcd8",
        "IPY_MODEL_6649ab492e0845eb8112935b00d5e593",
        "IPY_MODEL_f0f3bba08f9f4ddfb52b2b3944683350",
        "IPY_MODEL_7f895e2f846a4dac983b77b89e10aa68",
        "IPY_MODEL_f4a6ecf3f0cf4c14975a0a1f05ad7d33"
       ],
       "layout": "IPY_MODEL_9059b771f6d74cfba37ae23b90c5caca"
      }
     },
     "80ac31d22cfd4da0986e76a8ba837ec6": {
      "model_module": "@jupyter-widgets/base",
      "model_module_version": "1.1.0",
      "model_name": "LayoutModel",
      "state": {}
     },
     "80c808d523274fa88ae808a2c68ea2ca": {
      "model_module": "@jupyter-widgets/controls",
      "model_module_version": "1.4.0",
      "model_name": "DescriptionStyleModel",
      "state": {
       "description_width": ""
      }
     },
     "80d91d43699e4bfcb8a187af05bb7ba0": {
      "model_module": "@jupyter-widgets/controls",
      "model_module_version": "1.4.0",
      "model_name": "DescriptionStyleModel",
      "state": {
       "description_width": ""
      }
     },
     "8158ec06c05d498d838e6d040798ab40": {
      "model_module": "@jupyter-widgets/controls",
      "model_module_version": "1.4.0",
      "model_name": "DescriptionStyleModel",
      "state": {
       "description_width": ""
      }
     },
     "815b69e08b0c4af5b63baa3b7444ac7c": {
      "model_module": "@jupyter-widgets/controls",
      "model_module_version": "1.4.0",
      "model_name": "RadioButtonsModel",
      "state": {
       "_options_labels": [
        "0.25"
       ],
       "description": "ambiguity",
       "index": 0,
       "layout": "IPY_MODEL_82e86286a5ff44e6bf57b806d7102cfa",
       "style": "IPY_MODEL_62999377d2be4bbd8767ac448a701e84"
      }
     },
     "81654d8de95e450699991991b37dcecc": {
      "model_module": "@jupyter-widgets/base",
      "model_module_version": "1.1.0",
      "model_name": "LayoutModel",
      "state": {}
     },
     "81810946226d4a94b601b025ddba87a9": {
      "model_module": "@jupyter-widgets/base",
      "model_module_version": "1.1.0",
      "model_name": "LayoutModel",
      "state": {}
     },
     "82addc33f7f6466abf2fac950ed903bc": {
      "model_module": "@jupyter-widgets/controls",
      "model_module_version": "1.4.0",
      "model_name": "DescriptionStyleModel",
      "state": {
       "description_width": ""
      }
     },
     "82e86286a5ff44e6bf57b806d7102cfa": {
      "model_module": "@jupyter-widgets/base",
      "model_module_version": "1.1.0",
      "model_name": "LayoutModel",
      "state": {}
     },
     "8355a8e14c53434f985473c54245543a": {
      "model_module": "@jupyter-widgets/controls",
      "model_module_version": "1.4.0",
      "model_name": "RadioButtonsModel",
      "state": {
       "_options_labels": [
        "0",
        "0.01"
       ],
       "description": "noise",
       "index": 0,
       "layout": "IPY_MODEL_c6730d26089a449a8b5c9607ae570228",
       "style": "IPY_MODEL_106ed8ffdf44477caf5120d61928722f"
      }
     },
     "83d283420b0a43cb9bafaafee499c263": {
      "model_module": "@jupyter-widgets/controls",
      "model_module_version": "1.4.0",
      "model_name": "RadioButtonsModel",
      "state": {
       "_options_labels": [
        "1",
        "3"
       ],
       "description": "n_retrievals",
       "index": 0,
       "layout": "IPY_MODEL_7d675e2598d54d0680ba3fc5c77a1699",
       "style": "IPY_MODEL_aa1e90a30a854d7baf357690a0e68820"
      }
     },
     "84271554616e4f53a6bb141958046f7d": {
      "model_module": "@jupyter-widgets/controls",
      "model_module_version": "1.4.0",
      "model_name": "RadioButtonsModel",
      "state": {
       "_options_labels": [
        "1",
        "3"
       ],
       "description": "n_retrievals",
       "index": 0,
       "layout": "IPY_MODEL_3c539ddcee3642bd95a47a7ec2b3cdf7",
       "style": "IPY_MODEL_91448885ee9145f0b904af5d8546d316"
      }
     },
     "8427eaea56a7438c897eebbba773e492": {
      "model_module": "@jupyter-widgets/controls",
      "model_module_version": "1.4.0",
      "model_name": "ToggleButtonsStyleModel",
      "state": {
       "button_width": "",
       "description_width": ""
      }
     },
     "8462029f133740cbaad184fc882d986f": {
      "model_module": "@jupyter-widgets/controls",
      "model_module_version": "1.4.0",
      "model_name": "RadioButtonsModel",
      "state": {
       "_options_labels": [
        "0",
        "0.01"
       ],
       "description": "noise",
       "index": 0,
       "layout": "IPY_MODEL_de39aef15ecf42faba438a6d8a33bb64",
       "style": "IPY_MODEL_ad3b61b4226e4482ba6eab3b8800c187"
      }
     },
     "84869679b8034d00921a138d6524e428": {
      "model_module": "@jupyter-widgets/controls",
      "model_module_version": "1.4.0",
      "model_name": "RadioButtonsModel",
      "state": {
       "_options_labels": [
        "0",
        "1.0"
       ],
       "description": "mismatch_sensitivity",
       "index": 0,
       "layout": "IPY_MODEL_75d0e3acf17546b3b6f6b2e711f42d0f",
       "style": "IPY_MODEL_37343743862d4b1bb98c7211159fdca3"
      }
     },
     "85cac2f3552345adac0e703d73720a1f": {
      "model_module": "@jupyter-widgets/controls",
      "model_module_version": "1.4.0",
      "model_name": "DescriptionStyleModel",
      "state": {
       "description_width": ""
      }
     },
     "85efe5203e5d48299bcc07852df226ae": {
      "model_module": "@jupyter-widgets/base",
      "model_module_version": "1.1.0",
      "model_name": "LayoutModel",
      "state": {}
     },
     "868a904e59c542a491421c065eb3f090": {
      "model_module": "@jupyter-widgets/controls",
      "model_module_version": "1.4.0",
      "model_name": "DescriptionStyleModel",
      "state": {
       "description_width": ""
      }
     },
     "86c5ad289ccb4f4288898d2d0f99094e": {
      "model_module": "@jupyter-widgets/output",
      "model_module_version": "1.0.0",
      "model_name": "OutputModel",
      "state": {
       "layout": "IPY_MODEL_03476c7a16eb458e83ab0a0a2d400b4f"
      }
     },
     "86d161f19a6146e7a47d7d232271ef14": {
      "model_module": "@jupyter-widgets/base",
      "model_module_version": "1.1.0",
      "model_name": "LayoutModel",
      "state": {}
     },
     "8719267b36044baa83902d8313ea0837": {
      "model_module": "@jupyter-widgets/controls",
      "model_module_version": "1.4.0",
      "model_name": "DescriptionStyleModel",
      "state": {
       "description_width": ""
      }
     },
     "872656631e0e49f08716a707a5902c56": {
      "model_module": "@jupyter-widgets/controls",
      "model_module_version": "1.4.0",
      "model_name": "ToggleButtonsStyleModel",
      "state": {
       "button_width": "",
       "description_width": ""
      }
     },
     "873a794ff2aa45228aa7d54083387119": {
      "model_module": "@jupyter-widgets/base",
      "model_module_version": "1.1.0",
      "model_name": "LayoutModel",
      "state": {}
     },
     "877a159cf9d5481b90401bcf102f977b": {
      "model_module": "@jupyter-widgets/output",
      "model_module_version": "1.0.0",
      "model_name": "OutputModel",
      "state": {
       "layout": "IPY_MODEL_9cc350a164cd46b69bc4c198b01c5ed7"
      }
     },
     "879cd8ba764e4fa0838e2790230ebccf": {
      "model_module": "@jupyter-widgets/base",
      "model_module_version": "1.1.0",
      "model_name": "LayoutModel",
      "state": {}
     },
     "87b756538c04430db913532f6109ee75": {
      "model_module": "@jupyter-widgets/controls",
      "model_module_version": "1.4.0",
      "model_name": "RadioButtonsModel",
      "state": {
       "_options_labels": [
        "0",
        "0.01"
       ],
       "description": "noise",
       "index": 0,
       "layout": "IPY_MODEL_1c5c0a2927db42ada8f434af7412a6fe",
       "style": "IPY_MODEL_f96186cd94cb4c9d9852cdae8432b022"
      }
     },
     "8900297b56bf4fa3b63a95cd6b664c5d": {
      "model_module": "@jupyter-widgets/controls",
      "model_module_version": "1.4.0",
      "model_name": "DescriptionStyleModel",
      "state": {
       "description_width": ""
      }
     },
     "89b37572f0cb41cc8d0dd4aaca69106d": {
      "model_module": "@jupyter-widgets/controls",
      "model_module_version": "1.4.0",
      "model_name": "SelectionSliderModel",
      "state": {
       "_options_labels": [
        "0",
        "1"
       ],
       "continuous_update": false,
       "description": "Penalty strenth",
       "index": 1,
       "layout": "IPY_MODEL_daa73855449c42b19835231a179b5088",
       "style": "IPY_MODEL_f1aacded61d0400fb4fa2c0ffb5dbbce"
      }
     },
     "89d70093ecc14fd9ae9c7d1124a8b48d": {
      "model_module": "@jupyter-widgets/controls",
      "model_module_version": "1.4.0",
      "model_name": "DescriptionStyleModel",
      "state": {
       "description_width": ""
      }
     },
     "8a20ec967a3c4b8db63ffb890bb8fdb9": {
      "model_module": "@jupyter-widgets/controls",
      "model_module_version": "1.4.0",
      "model_name": "DescriptionStyleModel",
      "state": {
       "description_width": ""
      }
     },
     "8a9e6cf5841a4b86ace4a251d7e4446d": {
      "model_module": "@jupyter-widgets/controls",
      "model_module_version": "1.4.0",
      "model_name": "DescriptionStyleModel",
      "state": {
       "description_width": ""
      }
     },
     "8ab4c783f6444a39aed23f1ba43cf76c": {
      "model_module": "@jupyter-widgets/controls",
      "model_module_version": "1.4.0",
      "model_name": "DescriptionStyleModel",
      "state": {
       "description_width": ""
      }
     },
     "8b234f6c00db4e60a84567196d6f30c5": {
      "model_module": "@jupyter-widgets/controls",
      "model_module_version": "1.4.0",
      "model_name": "VBoxModel",
      "state": {
       "_dom_classes": [
        "widget-interact"
       ],
       "children": [
        "IPY_MODEL_9538fa3754e54266be152baf5c1e1d8c",
        "IPY_MODEL_200070fac8a3471990326830a0127ae1",
        "IPY_MODEL_3ee121c1bd7e4af49307ec1547c8cd03",
        "IPY_MODEL_768cb0dc988043aa9baaf2c151be90d4",
        "IPY_MODEL_03a4584bce644b92bbe869aaba5c4980",
        "IPY_MODEL_fd4865d1d61646ea8255b2b0f8214ad9",
        "IPY_MODEL_6f10c9caee6a4158bd4e884b74717f0f"
       ],
       "layout": "IPY_MODEL_ff4c3e43df6247ee8fa107b96dcf000c"
      }
     },
     "8c38b8ea98f64fa09e5671ee8cafe504": {
      "model_module": "@jupyter-widgets/base",
      "model_module_version": "1.1.0",
      "model_name": "LayoutModel",
      "state": {}
     },
     "8d658f86d5ba4c1994a3eefacece2219": {
      "model_module": "@jupyter-widgets/base",
      "model_module_version": "1.1.0",
      "model_name": "LayoutModel",
      "state": {}
     },
     "8de17e11752c48efb8706eb5bab03789": {
      "model_module": "@jupyter-widgets/base",
      "model_module_version": "1.1.0",
      "model_name": "LayoutModel",
      "state": {}
     },
     "8e19fdccddcc48659544e184fe4e659d": {
      "model_module": "@jupyter-widgets/controls",
      "model_module_version": "1.4.0",
      "model_name": "SelectionSliderModel",
      "state": {
       "_options_labels": [
        "0",
        "1",
        "2",
        "4",
        "8",
        "16",
        "32",
        "64"
       ],
       "continuous_update": false,
       "description": "Max-mismatch",
       "index": 0,
       "layout": "IPY_MODEL_1797536c8ef54f05bf8f2b85d4466290",
       "style": "IPY_MODEL_6a97cd1e1d1c4cd19bbc25e7802d9b00"
      }
     },
     "8e330e6205584bfdbe5beb41379ca327": {
      "model_module": "@jupyter-widgets/controls",
      "model_module_version": "1.4.0",
      "model_name": "ButtonStyleModel",
      "state": {}
     },
     "8ee725638c67497a8240ade5e5d3b228": {
      "model_module": "@jupyter-widgets/controls",
      "model_module_version": "1.4.0",
      "model_name": "DescriptionStyleModel",
      "state": {
       "description_width": ""
      }
     },
     "8f3dbd12b5ba4132ad47d87c1859fe75": {
      "model_module": "@jupyter-widgets/base",
      "model_module_version": "1.1.0",
      "model_name": "LayoutModel",
      "state": {}
     },
     "8f4d9938b1194752b71b09c365b6fcf3": {
      "model_module": "@jupyter-widgets/controls",
      "model_module_version": "1.4.0",
      "model_name": "RadioButtonsModel",
      "state": {
       "_options_labels": [
        "1",
        "0.5",
        "0"
       ],
       "description": "penalty_strenth",
       "index": 0,
       "layout": "IPY_MODEL_6c8c373aaba947948b66ce49e31e7332",
       "style": "IPY_MODEL_901e2d3972c645bab728a139a2cedc05"
      }
     },
     "8f83cb0aea0a4b4f81f7a1942bd5a801": {
      "model_module": "@jupyter-widgets/base",
      "model_module_version": "1.1.0",
      "model_name": "LayoutModel",
      "state": {}
     },
     "90142626a41d44d1a68c6f741c4ccf89": {
      "model_module": "@jupyter-widgets/controls",
      "model_module_version": "1.4.0",
      "model_name": "RadioButtonsModel",
      "state": {
       "_options_labels": [
        "0",
        "0.01"
       ],
       "description": "noise",
       "index": 0,
       "layout": "IPY_MODEL_62954c701936445c9a5c22bc9e5d9e2b",
       "style": "IPY_MODEL_8ab4c783f6444a39aed23f1ba43cf76c"
      }
     },
     "901e2d3972c645bab728a139a2cedc05": {
      "model_module": "@jupyter-widgets/controls",
      "model_module_version": "1.4.0",
      "model_name": "DescriptionStyleModel",
      "state": {
       "description_width": ""
      }
     },
     "9059b771f6d74cfba37ae23b90c5caca": {
      "model_module": "@jupyter-widgets/base",
      "model_module_version": "1.1.0",
      "model_name": "LayoutModel",
      "state": {}
     },
     "9083f48ec2074cb0913626d872bf3a98": {
      "model_module": "@jupyter-widgets/output",
      "model_module_version": "1.0.0",
      "model_name": "OutputModel",
      "state": {
       "layout": "IPY_MODEL_0450a897bd4842dfa3061db7ce24ddf4"
      }
     },
     "91448885ee9145f0b904af5d8546d316": {
      "model_module": "@jupyter-widgets/controls",
      "model_module_version": "1.4.0",
      "model_name": "DescriptionStyleModel",
      "state": {
       "description_width": ""
      }
     },
     "9243f4a517664682a839ad856930adb2": {
      "model_module": "@jupyter-widgets/base",
      "model_module_version": "1.1.0",
      "model_name": "LayoutModel",
      "state": {}
     },
     "9244c5baa2734c529fd940c444013235": {
      "model_module": "@jupyter-widgets/controls",
      "model_module_version": "1.4.0",
      "model_name": "RadioButtonsModel",
      "state": {
       "_options_labels": [
        "0",
        "0.01"
       ],
       "description": "noise",
       "index": 0,
       "layout": "IPY_MODEL_bcf2f011aee443a1a4340d7f9f83f175",
       "style": "IPY_MODEL_868a904e59c542a491421c065eb3f090"
      }
     },
     "92e2711f9d6240759efd2c9be953dea4": {
      "model_module": "@jupyter-widgets/controls",
      "model_module_version": "1.4.0",
      "model_name": "ToggleButtonsModel",
      "state": {
       "_options_labels": [
        "0",
        "0.01"
       ],
       "button_style": "",
       "description": "noise",
       "icons": [],
       "index": 0,
       "layout": "IPY_MODEL_2ff33da2e00545249bf094da5125c60a",
       "style": "IPY_MODEL_c6e8b3c1f5bb4bab9aa217fe51116560",
       "tooltips": []
      }
     },
     "93c2081095794030b5c2c56814de542c": {
      "model_module": "@jupyter-widgets/base",
      "model_module_version": "1.1.0",
      "model_name": "LayoutModel",
      "state": {
       "height": "80px",
       "width": "50%"
      }
     },
     "93d27d9b13cf46acb48c0832c72fe966": {
      "model_module": "@jupyter-widgets/controls",
      "model_module_version": "1.4.0",
      "model_name": "SelectionSliderModel",
      "state": {
       "_options_labels": [
        "0",
        "0.5",
        "1"
       ],
       "continuous_update": false,
       "description": "Penalty strenth",
       "index": 2,
       "layout": "IPY_MODEL_eb20bd47d6124e6e9c409f1292f195e5",
       "style": "IPY_MODEL_16fbcf112fbf4e27923bd2b37024ff88"
      }
     },
     "93d2d722214c4044ae24384d323e9511": {
      "model_module": "@jupyter-widgets/base",
      "model_module_version": "1.1.0",
      "model_name": "LayoutModel",
      "state": {}
     },
     "9443305ac4da44788770f2a84142c3ba": {
      "model_module": "@jupyter-widgets/output",
      "model_module_version": "1.0.0",
      "model_name": "OutputModel",
      "state": {
       "layout": "IPY_MODEL_47b43d7fcb72460eac83082cc8f1d2b0"
      }
     },
     "9503ea0ec3264035aaf62492c1ec1161": {
      "model_module": "@jupyter-widgets/controls",
      "model_module_version": "1.4.0",
      "model_name": "DescriptionStyleModel",
      "state": {
       "description_width": ""
      }
     },
     "9538fa3754e54266be152baf5c1e1d8c": {
      "model_module": "@jupyter-widgets/controls",
      "model_module_version": "1.4.0",
      "model_name": "RadioButtonsModel",
      "state": {
       "_options_labels": [
        "0.25"
       ],
       "description": "ambiguity",
       "index": 0,
       "layout": "IPY_MODEL_56a17cb15f37466fb84ce408419645f2",
       "style": "IPY_MODEL_563c2b027c434691b7e32c4168c773af"
      }
     },
     "9550001c35a6469c8846d2934e098609": {
      "model_module": "@jupyter-widgets/base",
      "model_module_version": "1.1.0",
      "model_name": "LayoutModel",
      "state": {}
     },
     "9598a2bfdc744e16adcce5375a4b66d1": {
      "model_module": "@jupyter-widgets/controls",
      "model_module_version": "1.4.0",
      "model_name": "RadioButtonsModel",
      "state": {
       "_options_labels": [
        "0",
        "0.01"
       ],
       "description": "noise",
       "index": 0,
       "layout": "IPY_MODEL_b3e12fae221249a19b1e2d3f901efa82",
       "style": "IPY_MODEL_24e1a94a6b35479399895daeb4cd6926"
      }
     },
     "96b36df4e601460da3b481bd6ff7dcb3": {
      "model_module": "@jupyter-widgets/controls",
      "model_module_version": "1.4.0",
      "model_name": "ToggleButtonsStyleModel",
      "state": {
       "button_width": "",
       "description_width": ""
      }
     },
     "96b3dfb529e542478e344cc2d2d15adc": {
      "model_module": "@jupyter-widgets/output",
      "model_module_version": "1.0.0",
      "model_name": "OutputModel",
      "state": {
       "layout": "IPY_MODEL_2ea977d17a5e49bfafb5fdca4b3ec6ca",
       "outputs": [
        {
         "ename": "KeyError",
         "evalue": "(0.25, 0, 1, 1.0, 24, 1)",
         "output_type": "error",
         "traceback": [
          "\u001b[0;31m---------------------------------------------------------------------------\u001b[0m",
          "\u001b[0;31mKeyError\u001b[0m                                  Traceback (most recent call last)",
          "\u001b[0;32m~/anaconda3/lib/python3.6/site-packages/ipywidgets/widgets/interaction.py\u001b[0m in \u001b[0;36mupdate\u001b[0;34m(self, *args)\u001b[0m\n\u001b[1;32m    249\u001b[0m                     \u001b[0mvalue\u001b[0m \u001b[0;34m=\u001b[0m \u001b[0mwidget\u001b[0m\u001b[0;34m.\u001b[0m\u001b[0mget_interact_value\u001b[0m\u001b[0;34m(\u001b[0m\u001b[0;34m)\u001b[0m\u001b[0;34m\u001b[0m\u001b[0m\n\u001b[1;32m    250\u001b[0m                     \u001b[0mself\u001b[0m\u001b[0;34m.\u001b[0m\u001b[0mkwargs\u001b[0m\u001b[0;34m[\u001b[0m\u001b[0mwidget\u001b[0m\u001b[0;34m.\u001b[0m\u001b[0m_kwarg\u001b[0m\u001b[0;34m]\u001b[0m \u001b[0;34m=\u001b[0m \u001b[0mvalue\u001b[0m\u001b[0;34m\u001b[0m\u001b[0m\n\u001b[0;32m--> 251\u001b[0;31m                 \u001b[0mself\u001b[0m\u001b[0;34m.\u001b[0m\u001b[0mresult\u001b[0m \u001b[0;34m=\u001b[0m \u001b[0mself\u001b[0m\u001b[0;34m.\u001b[0m\u001b[0mf\u001b[0m\u001b[0;34m(\u001b[0m\u001b[0;34m**\u001b[0m\u001b[0mself\u001b[0m\u001b[0;34m.\u001b[0m\u001b[0mkwargs\u001b[0m\u001b[0;34m)\u001b[0m\u001b[0;34m\u001b[0m\u001b[0m\n\u001b[0m\u001b[1;32m    252\u001b[0m                 \u001b[0mshow_inline_matplotlib_plots\u001b[0m\u001b[0;34m(\u001b[0m\u001b[0;34m)\u001b[0m\u001b[0;34m\u001b[0m\u001b[0m\n\u001b[1;32m    253\u001b[0m                 \u001b[0;32mif\u001b[0m \u001b[0mself\u001b[0m\u001b[0;34m.\u001b[0m\u001b[0mauto_display\u001b[0m \u001b[0;32mand\u001b[0m \u001b[0mself\u001b[0m\u001b[0;34m.\u001b[0m\u001b[0mresult\u001b[0m \u001b[0;32mis\u001b[0m \u001b[0;32mnot\u001b[0m \u001b[0;32mNone\u001b[0m\u001b[0;34m:\u001b[0m\u001b[0;34m\u001b[0m\u001b[0m\n",
          "\u001b[0;32m<ipython-input-17-ab189f248349>\u001b[0m in \u001b[0;36mswitch_img\u001b[0;34m(ambiguity, noise, n_retrievals, mismatch_sensitivity, fixed_m2_val, penalty_strenth)\u001b[0m\n\u001b[1;32m      2\u001b[0m \u001b[0;32mdef\u001b[0m \u001b[0mswitch_img\u001b[0m\u001b[0;34m(\u001b[0m\u001b[0mambiguity\u001b[0m\u001b[0;34m,\u001b[0m \u001b[0mnoise\u001b[0m\u001b[0;34m,\u001b[0m \u001b[0mn_retrievals\u001b[0m\u001b[0;34m,\u001b[0m \u001b[0mmismatch_sensitivity\u001b[0m\u001b[0;34m,\u001b[0m \u001b[0mfixed_m2_val\u001b[0m\u001b[0;34m,\u001b[0m \u001b[0mpenalty_strenth\u001b[0m\u001b[0;34m)\u001b[0m\u001b[0;34m:\u001b[0m\u001b[0;34m\u001b[0m\u001b[0m\n\u001b[1;32m      3\u001b[0m     ax.imshow(\n\u001b[0;32m----> 4\u001b[0;31m         \u001b[0mimgs\u001b[0m\u001b[0;34m[\u001b[0m\u001b[0;34m(\u001b[0m\u001b[0mambiguity\u001b[0m\u001b[0;34m,\u001b[0m \u001b[0mnoise\u001b[0m\u001b[0;34m,\u001b[0m \u001b[0mn_retrievals\u001b[0m\u001b[0;34m,\u001b[0m \u001b[0mmismatch_sensitivity\u001b[0m\u001b[0;34m,\u001b[0m \u001b[0mfixed_m2_val\u001b[0m\u001b[0;34m,\u001b[0m \u001b[0mpenalty_strenth\u001b[0m\u001b[0;34m)\u001b[0m\u001b[0;34m]\u001b[0m\u001b[0;34m\u001b[0m\u001b[0m\n\u001b[0m\u001b[1;32m      5\u001b[0m     )\n",
          "\u001b[0;31mKeyError\u001b[0m: (0.25, 0, 1, 1.0, 24, 1)"
         ]
        }
       ]
      }
     },
     "975282d5676d4cd180bd92f199de4d3c": {
      "model_module": "@jupyter-widgets/controls",
      "model_module_version": "1.4.0",
      "model_name": "RadioButtonsModel",
      "state": {
       "_options_labels": [
        "1",
        "3"
       ],
       "description": "n_retrievals",
       "index": 0,
       "layout": "IPY_MODEL_773b79ed97e3425eb7ef621aaf995f5b",
       "style": "IPY_MODEL_9a2c9c55611c4717b42857ae48cb85f6"
      }
     },
     "97d7b83dd3df40c4a286545c7b05a53d": {
      "model_module": "@jupyter-widgets/base",
      "model_module_version": "1.1.0",
      "model_name": "LayoutModel",
      "state": {}
     },
     "97dfb85b81ff4dcc8ddd71569dda86f5": {
      "model_module": "@jupyter-widgets/controls",
      "model_module_version": "1.4.0",
      "model_name": "DescriptionStyleModel",
      "state": {
       "description_width": ""
      }
     },
     "981effe1fdfe46f083e9441ba8d9f52c": {
      "model_module": "@jupyter-widgets/controls",
      "model_module_version": "1.4.0",
      "model_name": "ToggleButtonsStyleModel",
      "state": {
       "button_width": "",
       "description_width": ""
      }
     },
     "990fe0f488694ec486e241620533c8b2": {
      "model_module": "@jupyter-widgets/output",
      "model_module_version": "1.0.0",
      "model_name": "OutputModel",
      "state": {
       "layout": "IPY_MODEL_aea5093f4df947db8bd555d66e64f17d"
      }
     },
     "9986472f0d3045d48a7f57c22f190bae": {
      "model_module": "@jupyter-widgets/controls",
      "model_module_version": "1.4.0",
      "model_name": "DescriptionStyleModel",
      "state": {
       "description_width": ""
      }
     },
     "9a171a8099074c73aca8d5c18a6099de": {
      "model_module": "@jupyter-widgets/controls",
      "model_module_version": "1.4.0",
      "model_name": "DescriptionStyleModel",
      "state": {
       "description_width": ""
      }
     },
     "9a2c9c55611c4717b42857ae48cb85f6": {
      "model_module": "@jupyter-widgets/controls",
      "model_module_version": "1.4.0",
      "model_name": "DescriptionStyleModel",
      "state": {
       "description_width": ""
      }
     },
     "9a63239140004770b9fc8ade5a8bd972": {
      "model_module": "@jupyter-widgets/controls",
      "model_module_version": "1.4.0",
      "model_name": "RadioButtonsModel",
      "state": {
       "_options_labels": [
        "1",
        "3"
       ],
       "description": "n_retrievals",
       "index": 0,
       "layout": "IPY_MODEL_7b31d54da56d49c393ed4ccdbbdadf6e",
       "style": "IPY_MODEL_54b61c9ba1cb4f5a96303553c3b8c006"
      }
     },
     "9af4b8fb579c439b9e83b1db02a136e4": {
      "model_module": "@jupyter-widgets/base",
      "model_module_version": "1.1.0",
      "model_name": "LayoutModel",
      "state": {}
     },
     "9b8081db580342a094ab6aaa6813d47d": {
      "model_module": "@jupyter-widgets/controls",
      "model_module_version": "1.4.0",
      "model_name": "DescriptionStyleModel",
      "state": {
       "description_width": ""
      }
     },
     "9c8c73e5eef449aba443a42641ff29b9": {
      "model_module": "@jupyter-widgets/controls",
      "model_module_version": "1.4.0",
      "model_name": "RadioButtonsModel",
      "state": {
       "_options_labels": [
        "0",
        "1.0"
       ],
       "description": "mismatch_sensitivity",
       "index": 1,
       "layout": "IPY_MODEL_86d161f19a6146e7a47d7d232271ef14",
       "style": "IPY_MODEL_4280ad125bf64dcbb323d656f735933f"
      }
     },
     "9cc350a164cd46b69bc4c198b01c5ed7": {
      "model_module": "@jupyter-widgets/base",
      "model_module_version": "1.1.0",
      "model_name": "LayoutModel",
      "state": {}
     },
     "9cdeb1e0f6464fbcb9a6fe2c11d6c38c": {
      "model_module": "@jupyter-widgets/base",
      "model_module_version": "1.1.0",
      "model_name": "LayoutModel",
      "state": {}
     },
     "9d11a08849e04a9fa7fb998d01bb4d74": {
      "model_module": "@jupyter-widgets/controls",
      "model_module_version": "1.4.0",
      "model_name": "DescriptionStyleModel",
      "state": {
       "description_width": ""
      }
     },
     "9d592830fcf2414cbbe6f2b62c9df68b": {
      "model_module": "@jupyter-widgets/controls",
      "model_module_version": "1.4.0",
      "model_name": "DescriptionStyleModel",
      "state": {
       "description_width": ""
      }
     },
     "9f6c3380039b4016a62ba1ce8bec2ae0": {
      "model_module": "@jupyter-widgets/base",
      "model_module_version": "1.1.0",
      "model_name": "LayoutModel",
      "state": {}
     },
     "a00863f309d2433dac16239b3f24179e": {
      "model_module": "@jupyter-widgets/base",
      "model_module_version": "1.1.0",
      "model_name": "LayoutModel",
      "state": {}
     },
     "a03557f389b24913b394f50d7d6541fe": {
      "model_module": "@jupyter-widgets/controls",
      "model_module_version": "1.4.0",
      "model_name": "DescriptionStyleModel",
      "state": {
       "description_width": ""
      }
     },
     "a0540a0c68124e9f831e9df14fc22b88": {
      "model_module": "@jupyter-widgets/base",
      "model_module_version": "1.1.0",
      "model_name": "LayoutModel",
      "state": {}
     },
     "a05eccfdc53144169026bdafb7da932c": {
      "model_module": "@jupyter-widgets/base",
      "model_module_version": "1.1.0",
      "model_name": "LayoutModel",
      "state": {}
     },
     "a07bb0f031234c159aeb8713a9991870": {
      "model_module": "@jupyter-widgets/controls",
      "model_module_version": "1.4.0",
      "model_name": "ToggleButtonsStyleModel",
      "state": {
       "button_width": "",
       "description_width": ""
      }
     },
     "a0941626960a4d75ba572b816ede1d17": {
      "model_module": "@jupyter-widgets/controls",
      "model_module_version": "1.4.0",
      "model_name": "VBoxModel",
      "state": {
       "_dom_classes": [
        "widget-interact"
       ],
       "children": [
        "IPY_MODEL_b68e3534c7244763964ce214e80be1b5",
        "IPY_MODEL_87b756538c04430db913532f6109ee75",
        "IPY_MODEL_70ea0b07b1c14d67a8af1eeafe4b5df9",
        "IPY_MODEL_3937a82ca6f44f30a48df564eef185c8",
        "IPY_MODEL_7aab15a5ab564e5e9d53e3aeec4fa0d6",
        "IPY_MODEL_7a215799984540379a14ef29669f387e",
        "IPY_MODEL_f28ddfc06ee847a9a334ddd0d2591b5b"
       ],
       "layout": "IPY_MODEL_4efc326075a74447920fab6cfe053c4d"
      }
     },
     "a0af02f7fe9c4874932da0faf49334a0": {
      "model_module": "@jupyter-widgets/controls",
      "model_module_version": "1.4.0",
      "model_name": "RadioButtonsModel",
      "state": {
       "_options_labels": [
        "0.25"
       ],
       "description": "ambiguity",
       "index": 0,
       "layout": "IPY_MODEL_0c17a65914384c21888cda3d8e0fa0a1",
       "style": "IPY_MODEL_08ccfb535daa4eadbf80cca61629ee8a"
      }
     },
     "a0d4198ef4d84cda9f9f997df1374a16": {
      "model_module": "@jupyter-widgets/controls",
      "model_module_version": "1.4.0",
      "model_name": "DescriptionStyleModel",
      "state": {
       "description_width": ""
      }
     },
     "a18615e3f6a7433fbcb4e08a0ea94bd9": {
      "model_module": "@jupyter-widgets/controls",
      "model_module_version": "1.4.0",
      "model_name": "RadioButtonsModel",
      "state": {
       "_options_labels": [
        "0",
        "1.0"
       ],
       "description": "mismatch_sensitivity",
       "index": 0,
       "layout": "IPY_MODEL_761d5f61523d47e38af37c2728978e65",
       "style": "IPY_MODEL_7bdec0e216fb495d8c28b20fe2e6b1f4"
      }
     },
     "a187f83cf87b4b8eafd46b0a38988844": {
      "model_module": "@jupyter-widgets/base",
      "model_module_version": "1.1.0",
      "model_name": "LayoutModel",
      "state": {}
     },
     "a19086316ad646e7a88fed6553011c09": {
      "model_module": "@jupyter-widgets/base",
      "model_module_version": "1.1.0",
      "model_name": "LayoutModel",
      "state": {}
     },
     "a1df5a2a0129472c97809ee5e74d082a": {
      "model_module": "@jupyter-widgets/controls",
      "model_module_version": "1.4.0",
      "model_name": "DescriptionStyleModel",
      "state": {
       "description_width": ""
      }
     },
     "a215c20d249d438eb9440bdc792350a9": {
      "model_module": "@jupyter-widgets/controls",
      "model_module_version": "1.4.0",
      "model_name": "RadioButtonsModel",
      "state": {
       "_options_labels": [
        "0.25"
       ],
       "description": "ambiguity",
       "index": 0,
       "layout": "IPY_MODEL_d186fcef60124a359f53ad8d0a1cbfb6",
       "style": "IPY_MODEL_a8bccb5f2a7748ee9be606997d33b595"
      }
     },
     "a30ef1857f2d47a2a8546601ff277933": {
      "model_module": "@jupyter-widgets/controls",
      "model_module_version": "1.4.0",
      "model_name": "DescriptionStyleModel",
      "state": {
       "description_width": ""
      }
     },
     "a392fdf3d26641cba99485d7a9d74949": {
      "model_module": "@jupyter-widgets/controls",
      "model_module_version": "1.4.0",
      "model_name": "DescriptionStyleModel",
      "state": {
       "description_width": ""
      }
     },
     "a3d9d0f176fd461ab181d2c43f6c888e": {
      "model_module": "@jupyter-widgets/controls",
      "model_module_version": "1.4.0",
      "model_name": "ToggleButtonsModel",
      "state": {
       "_options_labels": [
        "0",
        "1"
       ],
       "button_style": "",
       "description": "Penalty strenth",
       "icons": [],
       "index": 1,
       "layout": "IPY_MODEL_5f983cfa84e94bf4b0df44dcd02d0878",
       "style": "IPY_MODEL_8427eaea56a7438c897eebbba773e492",
       "tooltips": []
      }
     },
     "a464460132aa477e937fd8728a021ee3": {
      "model_module": "@jupyter-widgets/controls",
      "model_module_version": "1.4.0",
      "model_name": "RadioButtonsModel",
      "state": {
       "_options_labels": [
        "1",
        "3"
       ],
       "description": "n_retrievals",
       "index": 0,
       "layout": "IPY_MODEL_b78a1fc2f84440878495e144d2a52d08",
       "style": "IPY_MODEL_1787be80c28542cf8e52fcb157532c8f"
      }
     },
     "a4abfbe81ca24add98aa3d054d1922ce": {
      "model_module": "@jupyter-widgets/controls",
      "model_module_version": "1.4.0",
      "model_name": "DescriptionStyleModel",
      "state": {
       "description_width": ""
      }
     },
     "a4ff8c6f12cf44548b2384687bceff34": {
      "model_module": "@jupyter-widgets/controls",
      "model_module_version": "1.4.0",
      "model_name": "RadioButtonsModel",
      "state": {
       "_options_labels": [
        "0",
        "1.0"
       ],
       "description": "mismatch_sensitivity",
       "index": 1,
       "layout": "IPY_MODEL_6c2824a344314ff383d1f58f12b13e35",
       "style": "IPY_MODEL_7d1e119fa83746a887a8dc405a848c43"
      }
     },
     "a527fd7bf4d242a2b694329b50097628": {
      "model_module": "@jupyter-widgets/controls",
      "model_module_version": "1.4.0",
      "model_name": "ToggleButtonsStyleModel",
      "state": {
       "button_width": "",
       "description_width": ""
      }
     },
     "a5e90664364842e9b6dd203056851ab0": {
      "model_module": "@jupyter-widgets/base",
      "model_module_version": "1.1.0",
      "model_name": "LayoutModel",
      "state": {}
     },
     "a5f6ca9cf4dd43f58ad1ec9acbc902cb": {
      "model_module": "@jupyter-widgets/controls",
      "model_module_version": "1.4.0",
      "model_name": "RadioButtonsModel",
      "state": {
       "_options_labels": [
        "1",
        "3"
       ],
       "description": "n_retrievals",
       "index": 0,
       "layout": "IPY_MODEL_d62b14b91d01486fa5c9cf529e7b137d",
       "style": "IPY_MODEL_f5d4357e85e24c46987c31c4485497bc"
      }
     },
     "a5f9d2ca75214911af027643b6a29d8a": {
      "model_module": "@jupyter-widgets/base",
      "model_module_version": "1.1.0",
      "model_name": "LayoutModel",
      "state": {}
     },
     "a626997e85f348f198a6ed2e54f944db": {
      "model_module": "@jupyter-widgets/base",
      "model_module_version": "1.1.0",
      "model_name": "LayoutModel",
      "state": {}
     },
     "a6a519b877584f9ca085a84399e68492": {
      "model_module": "@jupyter-widgets/controls",
      "model_module_version": "1.4.0",
      "model_name": "RadioButtonsModel",
      "state": {
       "_options_labels": [
        "0",
        "1",
        "2",
        "4",
        "8",
        "16",
        "32",
        "64"
       ],
       "description": "max_mismatch",
       "index": 0,
       "layout": "IPY_MODEL_1d349f174d3b40e1801e71d88e8d97b8",
       "style": "IPY_MODEL_6b5c24b7d693431a8ace1d709a61386c"
      }
     },
     "a6a9379643944504be62d7654924524d": {
      "model_module": "@jupyter-widgets/base",
      "model_module_version": "1.1.0",
      "model_name": "LayoutModel",
      "state": {}
     },
     "a70c8c5f11b74a078f7679525e5d2acc": {
      "model_module": "@jupyter-widgets/base",
      "model_module_version": "1.1.0",
      "model_name": "LayoutModel",
      "state": {}
     },
     "a76a163a728a4c978cd16df891eadc9c": {
      "model_module": "@jupyter-widgets/base",
      "model_module_version": "1.1.0",
      "model_name": "LayoutModel",
      "state": {}
     },
     "a8bccb5f2a7748ee9be606997d33b595": {
      "model_module": "@jupyter-widgets/controls",
      "model_module_version": "1.4.0",
      "model_name": "DescriptionStyleModel",
      "state": {
       "description_width": ""
      }
     },
     "a8d8a5b915a0407eb250c66247459133": {
      "model_module": "@jupyter-widgets/output",
      "model_module_version": "1.0.0",
      "model_name": "OutputModel",
      "state": {
       "layout": "IPY_MODEL_df9b17ef88ba49978f601efa60f133cd"
      }
     },
     "a97e887307a346c3989e5c22a3cbf67c": {
      "model_module": "@jupyter-widgets/controls",
      "model_module_version": "1.4.0",
      "model_name": "RadioButtonsModel",
      "state": {
       "_options_labels": [
        "0",
        "0.01"
       ],
       "description": "noise",
       "index": 0,
       "layout": "IPY_MODEL_281f16d8e9824133b00388fc87e438fb",
       "style": "IPY_MODEL_cb8fab7e33764080bb550e6752129018"
      }
     },
     "a9bb8f982a9542e98900e61584078e55": {
      "model_module": "@jupyter-widgets/controls",
      "model_module_version": "1.4.0",
      "model_name": "VBoxModel",
      "state": {
       "_dom_classes": [
        "widget-interact"
       ],
       "children": [
        "IPY_MODEL_e27e013675af43acae866ec491fe197d",
        "IPY_MODEL_ab450d33c86240a084459320e9d0a79d",
        "IPY_MODEL_6df02b9f92914fe2bd542c2cf40f002e",
        "IPY_MODEL_eecf0d93c7744674836bb61b83c432d6",
        "IPY_MODEL_6998ae1924e24bdcbae29bc03e840c25",
        "IPY_MODEL_d50b82d13fde404aab28f51a4502cc34",
        "IPY_MODEL_62b05966b48742c48eb162a3fa889623"
       ],
       "layout": "IPY_MODEL_9cdeb1e0f6464fbcb9a6fe2c11d6c38c"
      }
     },
     "aa1e90a30a854d7baf357690a0e68820": {
      "model_module": "@jupyter-widgets/controls",
      "model_module_version": "1.4.0",
      "model_name": "DescriptionStyleModel",
      "state": {
       "description_width": ""
      }
     },
     "aa95bc08acc84c6ba8023b30646b0388": {
      "model_module": "@jupyter-widgets/controls",
      "model_module_version": "1.4.0",
      "model_name": "ToggleButtonsModel",
      "state": {
       "_options_labels": [
        "0",
        "1",
        "2",
        "4",
        "8",
        "16",
        "32",
        "64"
       ],
       "button_style": "",
       "description": "Max-mismatch",
       "icons": [],
       "index": 0,
       "layout": "IPY_MODEL_0ecb25f1accb4d78b1cb9171102647d3",
       "style": "IPY_MODEL_353116a94ba64e23b1c735fa56fd6c16",
       "tooltips": []
      }
     },
     "aac0807de07f4031982a2034b10cc672": {
      "model_module": "@jupyter-widgets/base",
      "model_module_version": "1.1.0",
      "model_name": "LayoutModel",
      "state": {}
     },
     "aadb49e9e0b049e29cc0279aacaa4f8e": {
      "model_module": "@jupyter-widgets/controls",
      "model_module_version": "1.4.0",
      "model_name": "VBoxModel",
      "state": {
       "_dom_classes": [
        "widget-interact"
       ],
       "children": [
        "IPY_MODEL_1c8e3d3c19ae472697a5daeb57993cf2",
        "IPY_MODEL_ec5ebac53ba643a382ec8f805b938f5d",
        "IPY_MODEL_c3894019489b470eab16f34180c5ef41",
        "IPY_MODEL_ebbbb17f386348f2ad239707790ae7b7",
        "IPY_MODEL_06841cf3103048518b34fcac8a40cce7",
        "IPY_MODEL_93d27d9b13cf46acb48c0832c72fe966",
        "IPY_MODEL_7f403fbe4b4b4b20a51d636498139ff4"
       ],
       "layout": "IPY_MODEL_0a6e0db645584d6081f55d14d48cff56"
      }
     },
     "ab41944780d147f9a31bf2b39cf12bf4": {
      "model_module": "@jupyter-widgets/controls",
      "model_module_version": "1.4.0",
      "model_name": "RadioButtonsModel",
      "state": {
       "_options_labels": [
        "0",
        "1.0"
       ],
       "description": "mismatch_sensitivity",
       "index": 0,
       "layout": "IPY_MODEL_c0cdc09dce1147b2a7788eb3d70113b0",
       "style": "IPY_MODEL_a0d4198ef4d84cda9f9f997df1374a16"
      }
     },
     "ab450d33c86240a084459320e9d0a79d": {
      "model_module": "@jupyter-widgets/controls",
      "model_module_version": "1.4.0",
      "model_name": "RadioButtonsModel",
      "state": {
       "_options_labels": [
        "0",
        "0.01"
       ],
       "description": "noise",
       "index": 0,
       "layout": "IPY_MODEL_0d3b645881ba4d6c9c04160c3d31e357",
       "style": "IPY_MODEL_604e6bc44df74732a3018ffc0c25072a"
      }
     },
     "abebc174f11245aaa4a72d12f8e2bc42": {
      "model_module": "@jupyter-widgets/controls",
      "model_module_version": "1.4.0",
      "model_name": "RadioButtonsModel",
      "state": {
       "_options_labels": [
        "1",
        "0.5",
        "0"
       ],
       "description": "penalty_strenth",
       "index": 0,
       "layout": "IPY_MODEL_108803633c784e9283cf52e79320685b",
       "style": "IPY_MODEL_cf5a77b72f144d8fb531b50e05b27028"
      }
     },
     "acf127e425b548f98b4c0617e92bfa95": {
      "model_module": "@jupyter-widgets/controls",
      "model_module_version": "1.4.0",
      "model_name": "RadioButtonsModel",
      "state": {
       "_options_labels": [
        "0",
        "1.0"
       ],
       "description": "mismatch_sensitivity",
       "index": 0,
       "layout": "IPY_MODEL_19b73638b9134942813ccb0979e24831",
       "style": "IPY_MODEL_b7223087aa234dafa679da8f953b08ec"
      }
     },
     "ad292d8bf9ed4c1bbeb8f9c72fd3648d": {
      "model_module": "@jupyter-widgets/controls",
      "model_module_version": "1.4.0",
      "model_name": "DescriptionStyleModel",
      "state": {
       "description_width": ""
      }
     },
     "ad3b61b4226e4482ba6eab3b8800c187": {
      "model_module": "@jupyter-widgets/controls",
      "model_module_version": "1.4.0",
      "model_name": "DescriptionStyleModel",
      "state": {
       "description_width": ""
      }
     },
     "ad6bb3079ae54671b8c654b0563943e0": {
      "model_module": "@jupyter-widgets/controls",
      "model_module_version": "1.4.0",
      "model_name": "DescriptionStyleModel",
      "state": {
       "description_width": ""
      }
     },
     "ae132abdd4e9467e91c31fb75a25e11c": {
      "model_module": "@jupyter-widgets/controls",
      "model_module_version": "1.4.0",
      "model_name": "SelectionSliderModel",
      "state": {
       "_options_labels": [
        "0",
        "1",
        "2",
        "4",
        "8",
        "16",
        "32",
        "64"
       ],
       "continuous_update": false,
       "description": "Max-mismatch",
       "index": 2,
       "layout": "IPY_MODEL_f4637ebd4d1542708cd5af2515d62eac",
       "style": "IPY_MODEL_771ee14c393d4020bc47329267aed749"
      }
     },
     "ae85f21de8b0412fb7600641fc919c7f": {
      "model_module": "@jupyter-widgets/controls",
      "model_module_version": "1.4.0",
      "model_name": "DescriptionStyleModel",
      "state": {
       "description_width": ""
      }
     },
     "aea5093f4df947db8bd555d66e64f17d": {
      "model_module": "@jupyter-widgets/base",
      "model_module_version": "1.1.0",
      "model_name": "LayoutModel",
      "state": {}
     },
     "af7eb9b6b18548e1bf43c9e108e4a5d0": {
      "model_module": "@jupyter-widgets/controls",
      "model_module_version": "1.4.0",
      "model_name": "RadioButtonsModel",
      "state": {
       "_options_labels": [
        "0",
        "1",
        "2",
        "4",
        "8",
        "16",
        "32",
        "64"
       ],
       "description": "max_mismatch",
       "index": 0,
       "layout": "IPY_MODEL_65ff8c7b641c43ff99e05dd1f4161455",
       "style": "IPY_MODEL_dcf654c1c2e84b7983a729d17ce44021"
      }
     },
     "b035968bfa1142cfaa737688fad804f6": {
      "model_module": "@jupyter-widgets/base",
      "model_module_version": "1.1.0",
      "model_name": "LayoutModel",
      "state": {}
     },
     "b0824f5cf6924e91a3f27bd1822bd56f": {
      "model_module": "@jupyter-widgets/controls",
      "model_module_version": "1.4.0",
      "model_name": "RadioButtonsModel",
      "state": {
       "_options_labels": [
        "1",
        "0.5",
        "0"
       ],
       "description": "penalty_strenth",
       "index": 0,
       "layout": "IPY_MODEL_3886f90be6134136be93b8fa9be77f90",
       "style": "IPY_MODEL_398bd307df7c4dec9d977841e3f79d46"
      }
     },
     "b09ce4a308a945ebbb2ec34fdfe5f671": {
      "model_module": "@jupyter-widgets/controls",
      "model_module_version": "1.4.0",
      "model_name": "RadioButtonsModel",
      "state": {
       "_options_labels": [
        "0.25"
       ],
       "description": "ambiguity",
       "index": 0,
       "layout": "IPY_MODEL_65b117626c374b72a48cd150e0bb2c15",
       "style": "IPY_MODEL_481440064b794f63b08c3e8ef0b6377f"
      }
     },
     "b0bb2df8d51b4c9c9eb77219371f35a9": {
      "model_module": "@jupyter-widgets/controls",
      "model_module_version": "1.4.0",
      "model_name": "DescriptionStyleModel",
      "state": {
       "description_width": ""
      }
     },
     "b0d569cdb9ea4c038580da8d4dd4f123": {
      "model_module": "@jupyter-widgets/base",
      "model_module_version": "1.1.0",
      "model_name": "LayoutModel",
      "state": {}
     },
     "b1094598ddad4c6d924a028e68f72acd": {
      "model_module": "@jupyter-widgets/controls",
      "model_module_version": "1.4.0",
      "model_name": "RadioButtonsModel",
      "state": {
       "_options_labels": [
        "0",
        "1.0"
       ],
       "description": "mismatch_sensitivity",
       "index": 1,
       "layout": "IPY_MODEL_e7e0e87461044a05a1c805cb26e34520",
       "style": "IPY_MODEL_0a7e9bc53a6e4b69bc7f2018bf1981d8"
      }
     },
     "b21986cff43149488778a5fdc8b14cf9": {
      "model_module": "@jupyter-widgets/base",
      "model_module_version": "1.1.0",
      "model_name": "LayoutModel",
      "state": {}
     },
     "b23223e78c9e4a7d8ea803e23a19a1e1": {
      "model_module": "@jupyter-widgets/controls",
      "model_module_version": "1.4.0",
      "model_name": "DescriptionStyleModel",
      "state": {
       "description_width": ""
      }
     },
     "b238bd16228342f7850a9e1c730228f1": {
      "model_module": "@jupyter-widgets/controls",
      "model_module_version": "1.4.0",
      "model_name": "DescriptionStyleModel",
      "state": {
       "description_width": ""
      }
     },
     "b296a6603a1d4ecd8f695fc8af5d0acb": {
      "model_module": "@jupyter-widgets/controls",
      "model_module_version": "1.4.0",
      "model_name": "DescriptionStyleModel",
      "state": {
       "description_width": ""
      }
     },
     "b2c456f86a48487680d05fd4c72512ae": {
      "model_module": "@jupyter-widgets/controls",
      "model_module_version": "1.4.0",
      "model_name": "VBoxModel",
      "state": {
       "_dom_classes": [
        "widget-interact"
       ],
       "children": [
        "IPY_MODEL_72b8f1834a214289afebdb7b61935476",
        "IPY_MODEL_b6dbc041e1134a0b90abdc883ba13f40",
        "IPY_MODEL_46f78643952c45b4a5ddf5a3710e73a1",
        "IPY_MODEL_ded1c999fdfd4b81870db6a7d48db159",
        "IPY_MODEL_6fe8439641004d7aa29d6cd2f2a58107",
        "IPY_MODEL_b4c32a1ed0ed49da8339c923331b96da",
        "IPY_MODEL_08c6fa1419984b4b98cb3fa38c042822"
       ],
       "layout": "IPY_MODEL_7816349164f44da9903555f5099df82f"
      }
     },
     "b2eb8e6013f541fdabad1e6feee9ea8b": {
      "model_module": "@jupyter-widgets/controls",
      "model_module_version": "1.4.0",
      "model_name": "VBoxModel",
      "state": {
       "_dom_classes": [
        "widget-interact"
       ],
       "children": [
        "IPY_MODEL_bf50342480e2424da039645eb577cd04",
        "IPY_MODEL_d00f6b91ffd6461598d3c5150878eddf",
        "IPY_MODEL_ea45549a07b94239a0d0909f1b3baaf4",
        "IPY_MODEL_fcec7206e9034dd69c6b88c1c4fae3fd",
        "IPY_MODEL_7a6db8ff15d742f1976b7408556d2d6e",
        "IPY_MODEL_1b938210603e48d3aaee70510078e230",
        "IPY_MODEL_877a159cf9d5481b90401bcf102f977b"
       ],
       "layout": "IPY_MODEL_5dad2d222e81481882151640478812ef"
      }
     },
     "b3e12fae221249a19b1e2d3f901efa82": {
      "model_module": "@jupyter-widgets/base",
      "model_module_version": "1.1.0",
      "model_name": "LayoutModel",
      "state": {}
     },
     "b47ea815a5eb48aabab073e63090bb7d": {
      "model_module": "@jupyter-widgets/base",
      "model_module_version": "1.1.0",
      "model_name": "LayoutModel",
      "state": {}
     },
     "b4b24e4f1ebf457aa5da37ecd2674365": {
      "model_module": "@jupyter-widgets/controls",
      "model_module_version": "1.4.0",
      "model_name": "ToggleButtonsModel",
      "state": {
       "_options_labels": [
        "0",
        "1"
       ],
       "button_style": "",
       "description": "Penalty strenth",
       "icons": [],
       "index": 1,
       "layout": "IPY_MODEL_d739025aca59418987238149417bbf86",
       "style": "IPY_MODEL_5e8de52399b0438e9068a9961be8a94f",
       "tooltips": []
      }
     },
     "b4c32a1ed0ed49da8339c923331b96da": {
      "model_module": "@jupyter-widgets/controls",
      "model_module_version": "1.4.0",
      "model_name": "ToggleButtonsModel",
      "state": {
       "_options_labels": [
        "0",
        "1"
       ],
       "button_style": "",
       "description": "Penalty strenth",
       "icons": [],
       "index": 1,
       "layout": "IPY_MODEL_76354e86f62143c98dcaae25574e3f80",
       "style": "IPY_MODEL_42d6260301fa44439f8d622b2c2847b8",
       "tooltips": []
      }
     },
     "b4d3c1ddea99402ebf5cc4bd5aaf4fb4": {
      "model_module": "@jupyter-widgets/controls",
      "model_module_version": "1.4.0",
      "model_name": "DescriptionStyleModel",
      "state": {
       "description_width": ""
      }
     },
     "b5a8a51553e9425a964ecb90623f7e29": {
      "model_module": "@jupyter-widgets/base",
      "model_module_version": "1.1.0",
      "model_name": "LayoutModel",
      "state": {}
     },
     "b68e3534c7244763964ce214e80be1b5": {
      "model_module": "@jupyter-widgets/controls",
      "model_module_version": "1.4.0",
      "model_name": "RadioButtonsModel",
      "state": {
       "_options_labels": [
        "0.25"
       ],
       "description": "ambiguity",
       "index": 0,
       "layout": "IPY_MODEL_f33c9b1026fb43d5b17ea55965ac1d5d",
       "style": "IPY_MODEL_d97c9f46ddb44f58b1536f1cf1872de3"
      }
     },
     "b6a69544227e48919a7c9cd9051e9027": {
      "model_module": "@jupyter-widgets/base",
      "model_module_version": "1.1.0",
      "model_name": "LayoutModel",
      "state": {}
     },
     "b6dbc041e1134a0b90abdc883ba13f40": {
      "model_module": "@jupyter-widgets/controls",
      "model_module_version": "1.4.0",
      "model_name": "RadioButtonsModel",
      "state": {
       "_options_labels": [
        "0",
        "0.01"
       ],
       "description": "noise",
       "index": 0,
       "layout": "IPY_MODEL_c6829a8dab96421f8ed5da31798200d7",
       "style": "IPY_MODEL_fdf60f81d4c84017a0e7aa3cd661ae3f"
      }
     },
     "b6f47521d2234c8f8a3ad1669c53cf2a": {
      "model_module": "@jupyter-widgets/controls",
      "model_module_version": "1.4.0",
      "model_name": "RadioButtonsModel",
      "state": {
       "_options_labels": [
        "0",
        "0.01"
       ],
       "description": "noise",
       "index": 0,
       "layout": "IPY_MODEL_b0d569cdb9ea4c038580da8d4dd4f123",
       "style": "IPY_MODEL_82addc33f7f6466abf2fac950ed903bc"
      }
     },
     "b7223087aa234dafa679da8f953b08ec": {
      "model_module": "@jupyter-widgets/controls",
      "model_module_version": "1.4.0",
      "model_name": "DescriptionStyleModel",
      "state": {
       "description_width": ""
      }
     },
     "b73e90170bf14ccc9a811004444ab8ba": {
      "model_module": "@jupyter-widgets/controls",
      "model_module_version": "1.4.0",
      "model_name": "DescriptionStyleModel",
      "state": {
       "description_width": ""
      }
     },
     "b78a1fc2f84440878495e144d2a52d08": {
      "model_module": "@jupyter-widgets/base",
      "model_module_version": "1.1.0",
      "model_name": "LayoutModel",
      "state": {}
     },
     "b7b8dcd832ba4f509daa83cdada08b25": {
      "model_module": "@jupyter-widgets/controls",
      "model_module_version": "1.4.0",
      "model_name": "ToggleButtonsStyleModel",
      "state": {
       "button_width": "",
       "description_width": ""
      }
     },
     "b8229aabb5e2488abdd4568cacb7fafb": {
      "model_module": "@jupyter-widgets/base",
      "model_module_version": "1.1.0",
      "model_name": "LayoutModel",
      "state": {}
     },
     "b83933cb42584818b2776295baeecde0": {
      "model_module": "@jupyter-widgets/controls",
      "model_module_version": "1.4.0",
      "model_name": "VBoxModel",
      "state": {
       "_dom_classes": [
        "widget-interact"
       ],
       "children": [
        "IPY_MODEL_6f47b3818f65459298798aca103d7100",
        "IPY_MODEL_2edaf7d23a7348b5b3f9e2bed752f2a8",
        "IPY_MODEL_f903e4edb9724d71bc48102b2ae2b951",
        "IPY_MODEL_4402a403b8de4405a8790a5e9314098d",
        "IPY_MODEL_ba74a60f60b64418927bc87bff5c383f",
        "IPY_MODEL_721dc58404dc4af5940871e99fac5d44",
        "IPY_MODEL_2ef9dfd2675243169a5f137e21d15d05"
       ],
       "layout": "IPY_MODEL_78aa4de5c50249aeb300b9bdf39ed296"
      }
     },
     "b85fbc9dd38e412eb037f2701ae9caed": {
      "model_module": "@jupyter-widgets/base",
      "model_module_version": "1.1.0",
      "model_name": "LayoutModel",
      "state": {}
     },
     "b8816ef7feeb48c099bd9eaf7b0fbab1": {
      "model_module": "@jupyter-widgets/base",
      "model_module_version": "1.1.0",
      "model_name": "LayoutModel",
      "state": {}
     },
     "ba30419cb3794f9cae454b16dba7e4bc": {
      "model_module": "@jupyter-widgets/controls",
      "model_module_version": "1.4.0",
      "model_name": "SelectionSliderModel",
      "state": {
       "_options_labels": [
        "1",
        "0.5",
        "0"
       ],
       "continuous_update": false,
       "description": "Penalty strenth",
       "index": 2,
       "layout": "IPY_MODEL_e7b5222438bc4e63825ad142edc4c3ba",
       "style": "IPY_MODEL_ced69a1084dd482aba642f7cacee9ecb"
      }
     },
     "ba6a97e396db407e8ea38387f266d3a6": {
      "model_module": "@jupyter-widgets/output",
      "model_module_version": "1.0.0",
      "model_name": "OutputModel",
      "state": {
       "layout": "IPY_MODEL_b5a8a51553e9425a964ecb90623f7e29"
      }
     },
     "ba74a60f60b64418927bc87bff5c383f": {
      "model_module": "@jupyter-widgets/controls",
      "model_module_version": "1.4.0",
      "model_name": "RadioButtonsModel",
      "state": {
       "_options_labels": [
        "0",
        "1",
        "2",
        "4",
        "8",
        "16",
        "32",
        "64"
       ],
       "description": "max_mismatch",
       "index": 0,
       "layout": "IPY_MODEL_7e324c1123d9438ca5acfc3d331ce76d",
       "style": "IPY_MODEL_e87f1ed79c8b404c8038c455f72accd5"
      }
     },
     "bb0245b8fe334697a12356c3d2a3391f": {
      "model_module": "@jupyter-widgets/controls",
      "model_module_version": "1.4.0",
      "model_name": "DescriptionStyleModel",
      "state": {
       "description_width": ""
      }
     },
     "bb90ef0c3efd434fa79a035852780e85": {
      "model_module": "@jupyter-widgets/base",
      "model_module_version": "1.1.0",
      "model_name": "LayoutModel",
      "state": {}
     },
     "bb91ba0438474d63aa462851fee59796": {
      "model_module": "@jupyter-widgets/base",
      "model_module_version": "1.1.0",
      "model_name": "LayoutModel",
      "state": {}
     },
     "bbdad78f53104e07b549de6d5d1ac2e3": {
      "model_module": "@jupyter-widgets/base",
      "model_module_version": "1.1.0",
      "model_name": "LayoutModel",
      "state": {}
     },
     "bc368177e0d340e59740fae51fca63dc": {
      "model_module": "@jupyter-widgets/base",
      "model_module_version": "1.1.0",
      "model_name": "LayoutModel",
      "state": {}
     },
     "bc46643515ad4706b357a85ea18e3660": {
      "model_module": "@jupyter-widgets/controls",
      "model_module_version": "1.4.0",
      "model_name": "RadioButtonsModel",
      "state": {
       "_options_labels": [
        "1",
        "3"
       ],
       "description": "n_retrievals",
       "index": 0,
       "layout": "IPY_MODEL_cd79eccd0c4646e79c58249b41a773df",
       "style": "IPY_MODEL_c677786fd16b432494cc42aec612efcb"
      }
     },
     "bc5c2d21480942f39fdd81a637455e0d": {
      "model_module": "@jupyter-widgets/controls",
      "model_module_version": "1.4.0",
      "model_name": "DescriptionStyleModel",
      "state": {
       "description_width": ""
      }
     },
     "bc6d87591160456697738a7dfa9856c1": {
      "model_module": "@jupyter-widgets/controls",
      "model_module_version": "1.4.0",
      "model_name": "DescriptionStyleModel",
      "state": {
       "description_width": ""
      }
     },
     "bcb7f907571c4eacb653e4bad2153dc2": {
      "model_module": "@jupyter-widgets/controls",
      "model_module_version": "1.4.0",
      "model_name": "RadioButtonsModel",
      "state": {
       "_options_labels": [
        "1",
        "0.5",
        "0"
       ],
       "description": "penalty_strenth",
       "index": 0,
       "layout": "IPY_MODEL_a0540a0c68124e9f831e9df14fc22b88",
       "style": "IPY_MODEL_ad292d8bf9ed4c1bbeb8f9c72fd3648d"
      }
     },
     "bcdbdb793467428988839a443ef1e8e1": {
      "model_module": "@jupyter-widgets/controls",
      "model_module_version": "1.4.0",
      "model_name": "RadioButtonsModel",
      "state": {
       "_options_labels": [
        "0",
        "1.0"
       ],
       "description": "mismatch_sensitivity",
       "index": 1,
       "layout": "IPY_MODEL_9f6c3380039b4016a62ba1ce8bec2ae0",
       "style": "IPY_MODEL_ecc756fae8784c2da2a09d4b72cc1ca0"
      }
     },
     "bcf2f011aee443a1a4340d7f9f83f175": {
      "model_module": "@jupyter-widgets/base",
      "model_module_version": "1.1.0",
      "model_name": "LayoutModel",
      "state": {}
     },
     "bcfc98b95b6047b88dc0da39ec1d76e3": {
      "model_module": "@jupyter-widgets/controls",
      "model_module_version": "1.4.0",
      "model_name": "DescriptionStyleModel",
      "state": {
       "description_width": ""
      }
     },
     "bd7f60c3e83343a8a34cd08b7b19c91d": {
      "model_module": "@jupyter-widgets/base",
      "model_module_version": "1.1.0",
      "model_name": "LayoutModel",
      "state": {}
     },
     "bd9c6081f39c4fc48294b5ee97d16e67": {
      "model_module": "@jupyter-widgets/output",
      "model_module_version": "1.0.0",
      "model_name": "OutputModel",
      "state": {
       "layout": "IPY_MODEL_090a61965440485386f05f71cf9a93af"
      }
     },
     "bdbc5646fe234be3a728ac3b826a0354": {
      "model_module": "@jupyter-widgets/base",
      "model_module_version": "1.1.0",
      "model_name": "LayoutModel",
      "state": {}
     },
     "bde7cfb7b6ae4c53a3381aff5a8a5c8e": {
      "model_module": "@jupyter-widgets/output",
      "model_module_version": "1.0.0",
      "model_name": "OutputModel",
      "state": {
       "layout": "IPY_MODEL_fcc0f840d6cc48fcb7cb8276c5d3d3f4"
      }
     },
     "bec7bf7323dc4f039fa146e79e48b43f": {
      "model_module": "@jupyter-widgets/controls",
      "model_module_version": "1.4.0",
      "model_name": "VBoxModel",
      "state": {
       "_dom_classes": [
        "widget-interact"
       ],
       "children": [
        "IPY_MODEL_64131bb44a384fb6b2f451565d0a95e5",
        "IPY_MODEL_fbf3ad6707524f6b9a7c640f55fc9b61",
        "IPY_MODEL_d422a52310984159b228dec1e35ea4ff",
        "IPY_MODEL_2ac0f76761f3457b8e3b725e76256c29",
        "IPY_MODEL_dedb1622dfc844daa21af28f2cacfbbf",
        "IPY_MODEL_b0824f5cf6924e91a3f27bd1822bd56f",
        "IPY_MODEL_69e468c78ff24ee69062a88a45c57e48"
       ],
       "layout": "IPY_MODEL_e30d3499c261463d8c86d0e051ba5b0f"
      }
     },
     "bed1db98ff6b4df8a59fc7df9d1cd962": {
      "model_module": "@jupyter-widgets/output",
      "model_module_version": "1.0.0",
      "model_name": "OutputModel",
      "state": {
       "layout": "IPY_MODEL_879cd8ba764e4fa0838e2790230ebccf"
      }
     },
     "bf50342480e2424da039645eb577cd04": {
      "model_module": "@jupyter-widgets/controls",
      "model_module_version": "1.4.0",
      "model_name": "ToggleButtonsModel",
      "state": {
       "_options_labels": [
        "0.25"
       ],
       "button_style": "",
       "description": "ambiguity",
       "icons": [],
       "index": 0,
       "layout": "IPY_MODEL_37a5031ce99140f5993036f7ad6745eb",
       "style": "IPY_MODEL_a07bb0f031234c159aeb8713a9991870",
       "tooltips": []
      }
     },
     "bf8091d023384bd5ae80e93f3c398f52": {
      "model_module": "@jupyter-widgets/base",
      "model_module_version": "1.1.0",
      "model_name": "LayoutModel",
      "state": {}
     },
     "c084cdbdc86b436d99c35f51843fda53": {
      "model_module": "@jupyter-widgets/base",
      "model_module_version": "1.1.0",
      "model_name": "LayoutModel",
      "state": {}
     },
     "c0b9fc68078b44ae9279f10882008f4a": {
      "model_module": "@jupyter-widgets/base",
      "model_module_version": "1.1.0",
      "model_name": "LayoutModel",
      "state": {}
     },
     "c0cdc09dce1147b2a7788eb3d70113b0": {
      "model_module": "@jupyter-widgets/base",
      "model_module_version": "1.1.0",
      "model_name": "LayoutModel",
      "state": {}
     },
     "c1336e4c2f9b4aa7b6d3ba283234744d": {
      "model_module": "@jupyter-widgets/controls",
      "model_module_version": "1.4.0",
      "model_name": "ToggleButtonsStyleModel",
      "state": {
       "button_width": "",
       "description_width": ""
      }
     },
     "c234aa902f90477b9c687427fad696ce": {
      "model_module": "@jupyter-widgets/controls",
      "model_module_version": "1.4.0",
      "model_name": "DescriptionStyleModel",
      "state": {
       "description_width": ""
      }
     },
     "c333c10e1c9a44d68950c3118e1e711c": {
      "model_module": "@jupyter-widgets/controls",
      "model_module_version": "1.4.0",
      "model_name": "DescriptionStyleModel",
      "state": {
       "description_width": ""
      }
     },
     "c33e6b267ffe4a559fd3a7fc41f27921": {
      "model_module": "@jupyter-widgets/base",
      "model_module_version": "1.1.0",
      "model_name": "LayoutModel",
      "state": {}
     },
     "c3894019489b470eab16f34180c5ef41": {
      "model_module": "@jupyter-widgets/controls",
      "model_module_version": "1.4.0",
      "model_name": "RadioButtonsModel",
      "state": {
       "_options_labels": [
        "1",
        "3"
       ],
       "description": "n_retrievals",
       "index": 0,
       "layout": "IPY_MODEL_f61874fd121a4d72a811f0df8abd7c0f",
       "style": "IPY_MODEL_1bdbe93cc1f342ad9104632f765d9753"
      }
     },
     "c41bd148cf884a2daebe13609449b5e8": {
      "model_module": "@jupyter-widgets/base",
      "model_module_version": "1.1.0",
      "model_name": "LayoutModel",
      "state": {}
     },
     "c456b594ec004d52bac9e4b138e8f25a": {
      "model_module": "@jupyter-widgets/controls",
      "model_module_version": "1.4.0",
      "model_name": "DescriptionStyleModel",
      "state": {
       "description_width": ""
      }
     },
     "c5c5da2f6eae464f8fa6642285ed345c": {
      "model_module": "@jupyter-widgets/controls",
      "model_module_version": "1.4.0",
      "model_name": "SelectionSliderModel",
      "state": {
       "_options_labels": [
        "0",
        "1",
        "2",
        "4",
        "8",
        "16",
        "32",
        "64"
       ],
       "continuous_update": false,
       "description": "max-mismatch:",
       "index": 0,
       "layout": "IPY_MODEL_3096d9520da0443484baf21c2734198f",
       "style": "IPY_MODEL_6a355b19fbe749ba83d50d821151c57e"
      }
     },
     "c6730d26089a449a8b5c9607ae570228": {
      "model_module": "@jupyter-widgets/base",
      "model_module_version": "1.1.0",
      "model_name": "LayoutModel",
      "state": {}
     },
     "c677786fd16b432494cc42aec612efcb": {
      "model_module": "@jupyter-widgets/controls",
      "model_module_version": "1.4.0",
      "model_name": "DescriptionStyleModel",
      "state": {
       "description_width": ""
      }
     },
     "c6829a8dab96421f8ed5da31798200d7": {
      "model_module": "@jupyter-widgets/base",
      "model_module_version": "1.1.0",
      "model_name": "LayoutModel",
      "state": {}
     },
     "c6e8b3c1f5bb4bab9aa217fe51116560": {
      "model_module": "@jupyter-widgets/controls",
      "model_module_version": "1.4.0",
      "model_name": "ToggleButtonsStyleModel",
      "state": {
       "button_width": "",
       "description_width": ""
      }
     },
     "c708759a6cc8421bbbab14c86905a4af": {
      "model_module": "@jupyter-widgets/controls",
      "model_module_version": "1.4.0",
      "model_name": "VBoxModel",
      "state": {
       "_dom_classes": [
        "widget-interact"
       ],
       "children": [
        "IPY_MODEL_2cff8db97928474384f9e6afd30041d1",
        "IPY_MODEL_ce8f0e1ca8364fed9c0f3fdcd67e455d",
        "IPY_MODEL_7a3cd8d79d304965aa52ac73bbfd04a6",
        "IPY_MODEL_bcdbdb793467428988839a443ef1e8e1",
        "IPY_MODEL_af7eb9b6b18548e1bf43c9e108e4a5d0",
        "IPY_MODEL_bcb7f907571c4eacb653e4bad2153dc2",
        "IPY_MODEL_990fe0f488694ec486e241620533c8b2"
       ],
       "layout": "IPY_MODEL_403ae0cdd2f54b9eb256e4ec7a5a344f"
      }
     },
     "c70a58ce573743ff8cc587910fb4f34b": {
      "model_module": "@jupyter-widgets/base",
      "model_module_version": "1.1.0",
      "model_name": "LayoutModel",
      "state": {}
     },
     "c75c1c2430e64ad7a6016022d9651e8c": {
      "model_module": "@jupyter-widgets/base",
      "model_module_version": "1.1.0",
      "model_name": "LayoutModel",
      "state": {}
     },
     "c79e6ebe93e5482eae5bb8ed8f5a376e": {
      "model_module": "@jupyter-widgets/base",
      "model_module_version": "1.1.0",
      "model_name": "LayoutModel",
      "state": {}
     },
     "c88892b84bb14566a190806a338a8c48": {
      "model_module": "@jupyter-widgets/base",
      "model_module_version": "1.1.0",
      "model_name": "LayoutModel",
      "state": {}
     },
     "c96f9392ad514913adbf5da8b2b10ebd": {
      "model_module": "@jupyter-widgets/output",
      "model_module_version": "1.0.0",
      "model_name": "OutputModel",
      "state": {
       "layout": "IPY_MODEL_a5f9d2ca75214911af027643b6a29d8a"
      }
     },
     "ca5ab87134884ad7863391633584c0d4": {
      "model_module": "@jupyter-widgets/base",
      "model_module_version": "1.1.0",
      "model_name": "LayoutModel",
      "state": {}
     },
     "caebac641b544bf6a7f874d40e457486": {
      "model_module": "@jupyter-widgets/controls",
      "model_module_version": "1.4.0",
      "model_name": "RadioButtonsModel",
      "state": {
       "_options_labels": [
        "1",
        "3"
       ],
       "description": "n_retrievals",
       "index": 0,
       "layout": "IPY_MODEL_7d6e44411f0345f787138745a9050565",
       "style": "IPY_MODEL_2bb78736b34b451995c9b354a4833e33"
      }
     },
     "cb8fab7e33764080bb550e6752129018": {
      "model_module": "@jupyter-widgets/controls",
      "model_module_version": "1.4.0",
      "model_name": "DescriptionStyleModel",
      "state": {
       "description_width": ""
      }
     },
     "ccf348b813074ccca90619af4cfea105": {
      "model_module": "@jupyter-widgets/controls",
      "model_module_version": "1.4.0",
      "model_name": "DescriptionStyleModel",
      "state": {
       "description_width": ""
      }
     },
     "cd2ce643da0d4d7b8705efed17b13417": {
      "model_module": "@jupyter-widgets/controls",
      "model_module_version": "1.4.0",
      "model_name": "DescriptionStyleModel",
      "state": {
       "description_width": ""
      }
     },
     "cd6594434ea74fafa15d3f8c6bf8ab54": {
      "model_module": "@jupyter-widgets/controls",
      "model_module_version": "1.4.0",
      "model_name": "RadioButtonsModel",
      "state": {
       "_options_labels": [
        "0",
        "0.01"
       ],
       "description": "noise",
       "index": 0,
       "layout": "IPY_MODEL_eb6fa09f42324f179d7d08ffd1cb99cf",
       "style": "IPY_MODEL_45a34fd41f6941cc8beca2ad1d4a84d0"
      }
     },
     "cd79eccd0c4646e79c58249b41a773df": {
      "model_module": "@jupyter-widgets/base",
      "model_module_version": "1.1.0",
      "model_name": "LayoutModel",
      "state": {}
     },
     "cdd1badfe8374ec9b67447f306c01028": {
      "model_module": "@jupyter-widgets/controls",
      "model_module_version": "1.4.0",
      "model_name": "VBoxModel",
      "state": {
       "_dom_classes": [
        "widget-interact"
       ],
       "children": [
        "IPY_MODEL_04d382f6b9904518ba7de94e179cad7f",
        "IPY_MODEL_6e61053a7475449b9d6a47332f79497e",
        "IPY_MODEL_669a05e104c04fe78ee0d564214ae76a",
        "IPY_MODEL_a18615e3f6a7433fbcb4e08a0ea94bd9",
        "IPY_MODEL_278ebd1eb5974ebd81988fe25bd66058",
        "IPY_MODEL_09e3afb730904dc1a437416e4fe003e7",
        "IPY_MODEL_bd9c6081f39c4fc48294b5ee97d16e67"
       ],
       "layout": "IPY_MODEL_6e4f2b81de8f46e8906d0ad66931ff93"
      }
     },
     "ce8f0e1ca8364fed9c0f3fdcd67e455d": {
      "model_module": "@jupyter-widgets/controls",
      "model_module_version": "1.4.0",
      "model_name": "RadioButtonsModel",
      "state": {
       "_options_labels": [
        "0",
        "0.01"
       ],
       "description": "noise",
       "index": 0,
       "layout": "IPY_MODEL_263331d7ca59470dbb6c9c2a56dbbcb9",
       "style": "IPY_MODEL_cd2ce643da0d4d7b8705efed17b13417"
      }
     },
     "ced69a1084dd482aba642f7cacee9ecb": {
      "model_module": "@jupyter-widgets/controls",
      "model_module_version": "1.4.0",
      "model_name": "DescriptionStyleModel",
      "state": {
       "description_width": ""
      }
     },
     "cf08eb59280c4ff8a6a1707f586c3e09": {
      "model_module": "@jupyter-widgets/controls",
      "model_module_version": "1.4.0",
      "model_name": "ToggleButtonsStyleModel",
      "state": {
       "button_width": "",
       "description_width": ""
      }
     },
     "cf5a77b72f144d8fb531b50e05b27028": {
      "model_module": "@jupyter-widgets/controls",
      "model_module_version": "1.4.0",
      "model_name": "DescriptionStyleModel",
      "state": {
       "description_width": ""
      }
     },
     "cf97f03667694c8499a176452b317129": {
      "model_module": "@jupyter-widgets/base",
      "model_module_version": "1.1.0",
      "model_name": "LayoutModel",
      "state": {}
     },
     "d0029ec128a1468d82fffc408ce8dd51": {
      "model_module": "@jupyter-widgets/base",
      "model_module_version": "1.1.0",
      "model_name": "LayoutModel",
      "state": {}
     },
     "d00f6b91ffd6461598d3c5150878eddf": {
      "model_module": "@jupyter-widgets/controls",
      "model_module_version": "1.4.0",
      "model_name": "ToggleButtonsModel",
      "state": {
       "_options_labels": [
        "0",
        "0.01"
       ],
       "button_style": "",
       "description": "noise",
       "icons": [],
       "index": 0,
       "layout": "IPY_MODEL_9af4b8fb579c439b9e83b1db02a136e4",
       "style": "IPY_MODEL_cf08eb59280c4ff8a6a1707f586c3e09",
       "tooltips": []
      }
     },
     "d0db7a50eb8b49ccb15580c33c762150": {
      "model_module": "@jupyter-widgets/base",
      "model_module_version": "1.1.0",
      "model_name": "LayoutModel",
      "state": {}
     },
     "d131d05350974aeebec1ebf83935b93c": {
      "model_module": "@jupyter-widgets/controls",
      "model_module_version": "1.4.0",
      "model_name": "RadioButtonsModel",
      "state": {
       "_options_labels": [
        "0",
        "1.0"
       ],
       "description": "mismatch_sensitivity",
       "index": 1,
       "layout": "IPY_MODEL_ff70b8c97e8c4d349941a278635a8714",
       "style": "IPY_MODEL_e68bba0ea937477d8cbd298b7025507a"
      }
     },
     "d186fcef60124a359f53ad8d0a1cbfb6": {
      "model_module": "@jupyter-widgets/base",
      "model_module_version": "1.1.0",
      "model_name": "LayoutModel",
      "state": {}
     },
     "d1a14ced77ff4be488eccd7e9a5d3e14": {
      "model_module": "@jupyter-widgets/controls",
      "model_module_version": "1.4.0",
      "model_name": "DescriptionStyleModel",
      "state": {
       "description_width": ""
      }
     },
     "d1b24c81ccf34fd7b7a73e7765ba8e76": {
      "model_module": "@jupyter-widgets/base",
      "model_module_version": "1.1.0",
      "model_name": "LayoutModel",
      "state": {}
     },
     "d1c4851cdc934e6ba368293b991144d3": {
      "model_module": "@jupyter-widgets/controls",
      "model_module_version": "1.4.0",
      "model_name": "VBoxModel",
      "state": {
       "_dom_classes": [
        "widget-interact"
       ],
       "children": [
        "IPY_MODEL_4ec6f0cd7fdd4f5eadb372c650e73df6",
        "IPY_MODEL_003b0cb8e63f4d0cb542830439faef5c",
        "IPY_MODEL_caebac641b544bf6a7f874d40e457486",
        "IPY_MODEL_1a9ee41c84af42aeb874ff86bd1a683b",
        "IPY_MODEL_51581864fd654769b4c31bc2a15b41a1",
        "IPY_MODEL_f3825e071a65484cb6cf285a79468ab0",
        "IPY_MODEL_9083f48ec2074cb0913626d872bf3a98"
       ],
       "layout": "IPY_MODEL_bf8091d023384bd5ae80e93f3c398f52"
      }
     },
     "d265b1fb0d0e47e4939aa78121ec6396": {
      "model_module": "@jupyter-widgets/base",
      "model_module_version": "1.1.0",
      "model_name": "LayoutModel",
      "state": {}
     },
     "d31ed8930984409ea4ea87cbaa794754": {
      "model_module": "@jupyter-widgets/controls",
      "model_module_version": "1.4.0",
      "model_name": "RadioButtonsModel",
      "state": {
       "_options_labels": [
        "1",
        "3"
       ],
       "description": "n_retrievals",
       "index": 1,
       "layout": "IPY_MODEL_7bf510b47f2e4db9b87c075cf3fabaee",
       "style": "IPY_MODEL_5672f425e2f4485f91a9bbc2495b49cd"
      }
     },
     "d422a52310984159b228dec1e35ea4ff": {
      "model_module": "@jupyter-widgets/controls",
      "model_module_version": "1.4.0",
      "model_name": "RadioButtonsModel",
      "state": {
       "_options_labels": [
        "1",
        "3"
       ],
       "description": "n_retrievals",
       "index": 0,
       "layout": "IPY_MODEL_a19086316ad646e7a88fed6553011c09",
       "style": "IPY_MODEL_80d91d43699e4bfcb8a187af05bb7ba0"
      }
     },
     "d42c74e388124e32bcbb38e16476a7a1": {
      "model_module": "@jupyter-widgets/controls",
      "model_module_version": "1.4.0",
      "model_name": "DescriptionStyleModel",
      "state": {
       "description_width": ""
      }
     },
     "d49103fbf20a4f71a0a016f7f4c3144f": {
      "model_module": "@jupyter-widgets/controls",
      "model_module_version": "1.4.0",
      "model_name": "DescriptionStyleModel",
      "state": {
       "description_width": ""
      }
     },
     "d50245bb192242d595db6fc1231fdbc5": {
      "model_module": "@jupyter-widgets/controls",
      "model_module_version": "1.4.0",
      "model_name": "DescriptionStyleModel",
      "state": {
       "description_width": ""
      }
     },
     "d50b82d13fde404aab28f51a4502cc34": {
      "model_module": "@jupyter-widgets/controls",
      "model_module_version": "1.4.0",
      "model_name": "RadioButtonsModel",
      "state": {
       "_options_labels": [
        "1",
        "0.5",
        "0"
       ],
       "description": "penalty_strenth",
       "index": 0,
       "layout": "IPY_MODEL_e518c6aabcf24c73a37598b5ec8b3e3f",
       "style": "IPY_MODEL_449f260e1ef84327a69112a425b80278"
      }
     },
     "d52f4ca945d148e1869ff7ae3b5d27b7": {
      "model_module": "@jupyter-widgets/controls",
      "model_module_version": "1.4.0",
      "model_name": "DescriptionStyleModel",
      "state": {
       "description_width": ""
      }
     },
     "d5fa6b93da5d4656a1ab62e3c06e80c8": {
      "model_module": "@jupyter-widgets/controls",
      "model_module_version": "1.4.0",
      "model_name": "RadioButtonsModel",
      "state": {
       "_options_labels": [
        "0.25"
       ],
       "description": "ambiguity",
       "index": 0,
       "layout": "IPY_MODEL_70d5e876757940459f5eb35eb5736a4e",
       "style": "IPY_MODEL_78a5136fb52f4e669046e9c7ef722ac1"
      }
     },
     "d61e18e17caf4a79b966758a16c40504": {
      "model_module": "@jupyter-widgets/controls",
      "model_module_version": "1.4.0",
      "model_name": "DescriptionStyleModel",
      "state": {
       "description_width": ""
      }
     },
     "d62b14b91d01486fa5c9cf529e7b137d": {
      "model_module": "@jupyter-widgets/base",
      "model_module_version": "1.1.0",
      "model_name": "LayoutModel",
      "state": {}
     },
     "d62e54c2b15746c08011e76419e38b7a": {
      "model_module": "@jupyter-widgets/base",
      "model_module_version": "1.1.0",
      "model_name": "LayoutModel",
      "state": {}
     },
     "d70fda493eba4a4b972b67fee5742e99": {
      "model_module": "@jupyter-widgets/base",
      "model_module_version": "1.1.0",
      "model_name": "LayoutModel",
      "state": {}
     },
     "d739025aca59418987238149417bbf86": {
      "model_module": "@jupyter-widgets/base",
      "model_module_version": "1.1.0",
      "model_name": "LayoutModel",
      "state": {}
     },
     "d81b2939fa49410ab44d7099d7a4b4c3": {
      "model_module": "@jupyter-widgets/controls",
      "model_module_version": "1.4.0",
      "model_name": "VBoxModel",
      "state": {
       "_dom_classes": [
        "widget-interact"
       ],
       "children": [
        "IPY_MODEL_4e7a0c7bcef9419995eb45ca3ef88aac",
        "IPY_MODEL_6625cb1c2a044cfc8de86a07181467f8",
        "IPY_MODEL_7aa3146e47374c248a8b5be71d69e571",
        "IPY_MODEL_4a646a3b45314103bb42825e9cf61661",
        "IPY_MODEL_2dee705b75914320bf07a0a6552eaadd",
        "IPY_MODEL_f35423a21060490b810374ad7a3e314c",
        "IPY_MODEL_1c05795d50b54f23b86ce8a00911869d"
       ],
       "layout": "IPY_MODEL_213975f3b7fd48be9b5e02df35e07627"
      }
     },
     "d853a99aadd747dbbb63996eb552ffb6": {
      "model_module": "@jupyter-widgets/controls",
      "model_module_version": "1.4.0",
      "model_name": "ToggleButtonsStyleModel",
      "state": {
       "button_width": "",
       "description_width": ""
      }
     },
     "d8645abe0b154577bb51bcdff22d1d8b": {
      "model_module": "@jupyter-widgets/controls",
      "model_module_version": "1.4.0",
      "model_name": "ToggleButtonsStyleModel",
      "state": {
       "button_width": "",
       "description_width": ""
      }
     },
     "d8968271f2e24a8e831c981de8649386": {
      "model_module": "@jupyter-widgets/base",
      "model_module_version": "1.1.0",
      "model_name": "LayoutModel",
      "state": {}
     },
     "d89dfebb155a4e2d8929f5b6773e9aac": {
      "model_module": "@jupyter-widgets/base",
      "model_module_version": "1.1.0",
      "model_name": "LayoutModel",
      "state": {}
     },
     "d97c9f46ddb44f58b1536f1cf1872de3": {
      "model_module": "@jupyter-widgets/controls",
      "model_module_version": "1.4.0",
      "model_name": "DescriptionStyleModel",
      "state": {
       "description_width": ""
      }
     },
     "d98f7402e3cb4bc08571cce4d5ab6a05": {
      "model_module": "@jupyter-widgets/controls",
      "model_module_version": "1.4.0",
      "model_name": "ToggleButtonsStyleModel",
      "state": {
       "button_width": "",
       "description_width": ""
      }
     },
     "da40682e0e48435788f0dca0d1227aa3": {
      "model_module": "@jupyter-widgets/controls",
      "model_module_version": "1.4.0",
      "model_name": "VBoxModel",
      "state": {
       "_dom_classes": [
        "widget-interact"
       ],
       "children": [
        "IPY_MODEL_815b69e08b0c4af5b63baa3b7444ac7c",
        "IPY_MODEL_a97e887307a346c3989e5c22a3cbf67c",
        "IPY_MODEL_83d283420b0a43cb9bafaafee499c263",
        "IPY_MODEL_acf127e425b548f98b4c0617e92bfa95",
        "IPY_MODEL_efe5e717ecd044b2a29d422ed942ca9c",
        "IPY_MODEL_5a8f0a5d0ef54378b078d6974f828248",
        "IPY_MODEL_5d551dc254cb413298b408743f896dec"
       ],
       "layout": "IPY_MODEL_3b794ec7250b4d6ab2ec6b8d4bf2bf7c"
      }
     },
     "daa73855449c42b19835231a179b5088": {
      "model_module": "@jupyter-widgets/base",
      "model_module_version": "1.1.0",
      "model_name": "LayoutModel",
      "state": {}
     },
     "dae7b1d5c804451abf14fd2ebe0f123f": {
      "model_module": "@jupyter-widgets/base",
      "model_module_version": "1.1.0",
      "model_name": "LayoutModel",
      "state": {}
     },
     "db5668f3d0af4be2b9a3ee12c4ce7650": {
      "model_module": "@jupyter-widgets/controls",
      "model_module_version": "1.4.0",
      "model_name": "ToggleButtonsModel",
      "state": {
       "_options_labels": [
        "0.25"
       ],
       "button_style": "",
       "description": "ambiguity",
       "icons": [],
       "index": 0,
       "layout": "IPY_MODEL_2508c40ca1fb47ff930573b58d3a2f99",
       "style": "IPY_MODEL_b7b8dcd832ba4f509daa83cdada08b25",
       "tooltips": []
      }
     },
     "dc0d651004d7420689c3c67d35ee272e": {
      "model_module": "@jupyter-widgets/controls",
      "model_module_version": "1.4.0",
      "model_name": "RadioButtonsModel",
      "state": {
       "_options_labels": [
        "1",
        "0.5",
        "0"
       ],
       "description": "penalty_strenth",
       "index": 0,
       "layout": "IPY_MODEL_0ab124aa1bf5401890b8e509aa2bb1f7",
       "style": "IPY_MODEL_26d0e99166ef4a72ba412b7ef8e3ae57"
      }
     },
     "dcb25e772bfa44d28a5dbabf7636f769": {
      "model_module": "@jupyter-widgets/base",
      "model_module_version": "1.1.0",
      "model_name": "LayoutModel",
      "state": {}
     },
     "dcda23b63057497b8e77f3d808ea6a1c": {
      "model_module": "@jupyter-widgets/base",
      "model_module_version": "1.1.0",
      "model_name": "LayoutModel",
      "state": {}
     },
     "dcf654c1c2e84b7983a729d17ce44021": {
      "model_module": "@jupyter-widgets/controls",
      "model_module_version": "1.4.0",
      "model_name": "DescriptionStyleModel",
      "state": {
       "description_width": ""
      }
     },
     "dd224b5b135d49d993c2dcfcf83f78ce": {
      "model_module": "@jupyter-widgets/base",
      "model_module_version": "1.1.0",
      "model_name": "LayoutModel",
      "state": {}
     },
     "dd34629a33774dfdb06827cc5b42cf63": {
      "model_module": "@jupyter-widgets/controls",
      "model_module_version": "1.4.0",
      "model_name": "DescriptionStyleModel",
      "state": {
       "description_width": ""
      }
     },
     "de0ab11c77f54a2d996c6662aaba46b4": {
      "model_module": "@jupyter-widgets/controls",
      "model_module_version": "1.4.0",
      "model_name": "DescriptionStyleModel",
      "state": {
       "description_width": ""
      }
     },
     "de39aef15ecf42faba438a6d8a33bb64": {
      "model_module": "@jupyter-widgets/base",
      "model_module_version": "1.1.0",
      "model_name": "LayoutModel",
      "state": {}
     },
     "ded1c999fdfd4b81870db6a7d48db159": {
      "model_module": "@jupyter-widgets/controls",
      "model_module_version": "1.4.0",
      "model_name": "ToggleButtonsModel",
      "state": {
       "_options_labels": [
        "0",
        "1.0"
       ],
       "button_style": "",
       "description": "mismatch_sensitivity",
       "icons": [],
       "index": 1,
       "layout": "IPY_MODEL_3cb5ef30d5af46caa3ddb746b2ed9031",
       "style": "IPY_MODEL_76d397105d6542f59be778f3654d4a81",
       "tooltips": []
      }
     },
     "dedb1622dfc844daa21af28f2cacfbbf": {
      "model_module": "@jupyter-widgets/controls",
      "model_module_version": "1.4.0",
      "model_name": "RadioButtonsModel",
      "state": {
       "_options_labels": [
        "0",
        "1",
        "2",
        "4",
        "8",
        "16",
        "32",
        "64"
       ],
       "description": "max_mismatch",
       "index": 0,
       "layout": "IPY_MODEL_9243f4a517664682a839ad856930adb2",
       "style": "IPY_MODEL_8ee725638c67497a8240ade5e5d3b228"
      }
     },
     "df6fececfdc1428d8189388f0d0a2036": {
      "model_module": "@jupyter-widgets/base",
      "model_module_version": "1.1.0",
      "model_name": "LayoutModel",
      "state": {}
     },
     "df79e4701d544525a9f66793b2a91208": {
      "model_module": "@jupyter-widgets/base",
      "model_module_version": "1.1.0",
      "model_name": "LayoutModel",
      "state": {}
     },
     "df9b17ef88ba49978f601efa60f133cd": {
      "model_module": "@jupyter-widgets/base",
      "model_module_version": "1.1.0",
      "model_name": "LayoutModel",
      "state": {}
     },
     "e02c5bc63edc4445a5ee413326eec8b4": {
      "model_module": "@jupyter-widgets/controls",
      "model_module_version": "1.4.0",
      "model_name": "DescriptionStyleModel",
      "state": {
       "description_width": ""
      }
     },
     "e27e013675af43acae866ec491fe197d": {
      "model_module": "@jupyter-widgets/controls",
      "model_module_version": "1.4.0",
      "model_name": "RadioButtonsModel",
      "state": {
       "_options_labels": [
        "0.25"
       ],
       "description": "ambiguity",
       "index": 0,
       "layout": "IPY_MODEL_97d7b83dd3df40c4a286545c7b05a53d",
       "style": "IPY_MODEL_d1a14ced77ff4be488eccd7e9a5d3e14"
      }
     },
     "e2a02c1a8a25482eb5b5581e723d6f08": {
      "model_module": "@jupyter-widgets/controls",
      "model_module_version": "1.4.0",
      "model_name": "DescriptionStyleModel",
      "state": {
       "description_width": ""
      }
     },
     "e2cf581f9f554dedb68c7b1b312abc8f": {
      "model_module": "@jupyter-widgets/base",
      "model_module_version": "1.1.0",
      "model_name": "LayoutModel",
      "state": {}
     },
     "e2fbb728c3c644ff9e6704b058464ce4": {
      "model_module": "@jupyter-widgets/controls",
      "model_module_version": "1.4.0",
      "model_name": "DescriptionStyleModel",
      "state": {
       "description_width": ""
      }
     },
     "e30d3499c261463d8c86d0e051ba5b0f": {
      "model_module": "@jupyter-widgets/base",
      "model_module_version": "1.1.0",
      "model_name": "LayoutModel",
      "state": {}
     },
     "e3500a243b564534a88521d4fd60abc1": {
      "model_module": "@jupyter-widgets/controls",
      "model_module_version": "1.4.0",
      "model_name": "ToggleButtonsModel",
      "state": {
       "_options_labels": [
        "0",
        "1.0"
       ],
       "button_style": "",
       "description": "mismatch_sensitivity",
       "icons": [],
       "index": 1,
       "layout": "IPY_MODEL_64ef30eca1144d4bb27332b03827ec20",
       "style": "IPY_MODEL_02b748e19ff44935b87362795ab08597",
       "tooltips": []
      }
     },
     "e3c66ac6fb74432abcacddf9a3f59571": {
      "model_module": "@jupyter-widgets/base",
      "model_module_version": "1.1.0",
      "model_name": "LayoutModel",
      "state": {}
     },
     "e3f09af93fbf47649b9a577868a4875d": {
      "model_module": "@jupyter-widgets/base",
      "model_module_version": "1.1.0",
      "model_name": "LayoutModel",
      "state": {}
     },
     "e459660659b044f98a4cb36955924fdd": {
      "model_module": "@jupyter-widgets/output",
      "model_module_version": "1.0.0",
      "model_name": "OutputModel",
      "state": {
       "layout": "IPY_MODEL_2a168d2275914dc7a6342d7f08f931b2"
      }
     },
     "e472fae90e264cb182ca44026f3200cd": {
      "model_module": "@jupyter-widgets/controls",
      "model_module_version": "1.4.0",
      "model_name": "RadioButtonsModel",
      "state": {
       "_options_labels": [
        "1",
        "0.5",
        "0"
       ],
       "description": "penalty_strenth",
       "index": 0,
       "layout": "IPY_MODEL_3322287ecbcb44f7b5e87780f807cc65",
       "style": "IPY_MODEL_8900297b56bf4fa3b63a95cd6b664c5d"
      }
     },
     "e4c5bf3855514d7ab67dc4b4a364e982": {
      "model_module": "@jupyter-widgets/base",
      "model_module_version": "1.1.0",
      "model_name": "LayoutModel",
      "state": {}
     },
     "e4f4f88e70d6423091a3d5d6791f03a9": {
      "model_module": "@jupyter-widgets/controls",
      "model_module_version": "1.4.0",
      "model_name": "DescriptionStyleModel",
      "state": {
       "description_width": ""
      }
     },
     "e518c6aabcf24c73a37598b5ec8b3e3f": {
      "model_module": "@jupyter-widgets/base",
      "model_module_version": "1.1.0",
      "model_name": "LayoutModel",
      "state": {}
     },
     "e58bd62cb2f144e39a0b9c2bc3800ad1": {
      "model_module": "@jupyter-widgets/controls",
      "model_module_version": "1.4.0",
      "model_name": "DescriptionStyleModel",
      "state": {
       "description_width": ""
      }
     },
     "e5cf6d65293a4ff88c98f180a956f52c": {
      "model_module": "@jupyter-widgets/controls",
      "model_module_version": "1.4.0",
      "model_name": "DescriptionStyleModel",
      "state": {
       "description_width": ""
      }
     },
     "e5dae9b852284fc096acf3fdbac08f84": {
      "model_module": "@jupyter-widgets/controls",
      "model_module_version": "1.4.0",
      "model_name": "RadioButtonsModel",
      "state": {
       "_options_labels": [
        "1",
        "0.5",
        "0"
       ],
       "description": "penalty_strenth",
       "index": 0,
       "layout": "IPY_MODEL_74fbcbd8b544408794eabdd986d2f405",
       "style": "IPY_MODEL_b0bb2df8d51b4c9c9eb77219371f35a9"
      }
     },
     "e68bba0ea937477d8cbd298b7025507a": {
      "model_module": "@jupyter-widgets/controls",
      "model_module_version": "1.4.0",
      "model_name": "DescriptionStyleModel",
      "state": {
       "description_width": ""
      }
     },
     "e7b5222438bc4e63825ad142edc4c3ba": {
      "model_module": "@jupyter-widgets/base",
      "model_module_version": "1.1.0",
      "model_name": "LayoutModel",
      "state": {}
     },
     "e7e0e87461044a05a1c805cb26e34520": {
      "model_module": "@jupyter-widgets/base",
      "model_module_version": "1.1.0",
      "model_name": "LayoutModel",
      "state": {}
     },
     "e7f5667f81324da09c106557549256b1": {
      "model_module": "@jupyter-widgets/base",
      "model_module_version": "1.1.0",
      "model_name": "LayoutModel",
      "state": {}
     },
     "e832dd03074c4ac289837885f8634193": {
      "model_module": "@jupyter-widgets/controls",
      "model_module_version": "1.4.0",
      "model_name": "RadioButtonsModel",
      "state": {
       "_options_labels": [
        "1",
        "0.5",
        "0"
       ],
       "description": "penalty_strenth",
       "index": 0,
       "layout": "IPY_MODEL_ec4f51d67e6b4f0599017d37740073e4",
       "style": "IPY_MODEL_89d70093ecc14fd9ae9c7d1124a8b48d"
      }
     },
     "e850f468b4224cdc8526e2e4407f44a6": {
      "model_module": "@jupyter-widgets/base",
      "model_module_version": "1.1.0",
      "model_name": "LayoutModel",
      "state": {}
     },
     "e87f1ed79c8b404c8038c455f72accd5": {
      "model_module": "@jupyter-widgets/controls",
      "model_module_version": "1.4.0",
      "model_name": "DescriptionStyleModel",
      "state": {
       "description_width": ""
      }
     },
     "e8d5d76caec54b3a8a2d4c569f4c09b5": {
      "model_module": "@jupyter-widgets/base",
      "model_module_version": "1.1.0",
      "model_name": "LayoutModel",
      "state": {}
     },
     "e9197a6dc7334c9fa93a2c2a2b5697b0": {
      "model_module": "@jupyter-widgets/controls",
      "model_module_version": "1.4.0",
      "model_name": "RadioButtonsModel",
      "state": {
       "_options_labels": [
        "0",
        "0.01"
       ],
       "description": "noise",
       "index": 0,
       "layout": "IPY_MODEL_0a30b192a99f4c72ad15be0d26ad2289",
       "style": "IPY_MODEL_d61e18e17caf4a79b966758a16c40504"
      }
     },
     "e9dc5c6eb4c64a1cb18aa4069c4d99b1": {
      "model_module": "@jupyter-widgets/base",
      "model_module_version": "1.1.0",
      "model_name": "LayoutModel",
      "state": {}
     },
     "ea23e7021c3b483faed0f231f397b820": {
      "model_module": "@jupyter-widgets/controls",
      "model_module_version": "1.4.0",
      "model_name": "DescriptionStyleModel",
      "state": {
       "description_width": ""
      }
     },
     "ea45549a07b94239a0d0909f1b3baaf4": {
      "model_module": "@jupyter-widgets/controls",
      "model_module_version": "1.4.0",
      "model_name": "ToggleButtonsModel",
      "state": {
       "_options_labels": [
        "1",
        "3"
       ],
       "button_style": "",
       "description": "n_retrievals",
       "icons": [],
       "index": 0,
       "layout": "IPY_MODEL_5488fbb378d14f1d9a85807b42bb72d4",
       "style": "IPY_MODEL_11780744eb494b0995043e4f7383dda6",
       "tooltips": []
      }
     },
     "ea4bffaed79847a9a1bcdbbed5f1777f": {
      "model_module": "@jupyter-widgets/base",
      "model_module_version": "1.1.0",
      "model_name": "LayoutModel",
      "state": {}
     },
     "ea520b15c8d24259a41889f11f9aa8b2": {
      "model_module": "@jupyter-widgets/controls",
      "model_module_version": "1.4.0",
      "model_name": "VBoxModel",
      "state": {
       "_dom_classes": [
        "widget-interact"
       ],
       "children": [
        "IPY_MODEL_4778173892d14c419ceeb2363a26ace1",
        "IPY_MODEL_cd6594434ea74fafa15d3f8c6bf8ab54",
        "IPY_MODEL_76a2ea8097014cf6afc7c79f1d8cce8f",
        "IPY_MODEL_3bf08897e65740e1a7fea4ff28bc4b03",
        "IPY_MODEL_f4c6e91bae0f4a4a86f8beca33e89057",
        "IPY_MODEL_260099cc0a8248f4a571ecd68b21535c",
        "IPY_MODEL_26ac40849fed4075b02a409263b3757c"
       ],
       "layout": "IPY_MODEL_d1b24c81ccf34fd7b7a73e7765ba8e76"
      }
     },
     "ea65aa20467e415d98f71fe47ef44e46": {
      "model_module": "@jupyter-widgets/controls",
      "model_module_version": "1.4.0",
      "model_name": "RadioButtonsModel",
      "state": {
       "_options_labels": [
        "1",
        "3"
       ],
       "description": "n_retrievals",
       "index": 0,
       "layout": "IPY_MODEL_dcda23b63057497b8e77f3d808ea6a1c",
       "style": "IPY_MODEL_1a9605ed028242579412d49da0cc766b"
      }
     },
     "eab0c2e346c046609ff7b8057dbbd174": {
      "model_module": "@jupyter-widgets/output",
      "model_module_version": "1.0.0",
      "model_name": "OutputModel",
      "state": {
       "layout": "IPY_MODEL_154b322ebf0d4e3bbb9946e697305fad"
      }
     },
     "ead4ab0ef76549b18dbc8f212f616bde": {
      "model_module": "@jupyter-widgets/controls",
      "model_module_version": "1.4.0",
      "model_name": "RadioButtonsModel",
      "state": {
       "_options_labels": [
        "0",
        "1",
        "2",
        "4",
        "8",
        "16",
        "32",
        "64"
       ],
       "description": "max_mismatch",
       "index": 0,
       "layout": "IPY_MODEL_d0db7a50eb8b49ccb15580c33c762150",
       "style": "IPY_MODEL_a1df5a2a0129472c97809ee5e74d082a"
      }
     },
     "eadc2493d49d494db9e728e3655a1843": {
      "model_module": "@jupyter-widgets/controls",
      "model_module_version": "1.4.0",
      "model_name": "DescriptionStyleModel",
      "state": {
       "description_width": ""
      }
     },
     "eaebe9b179254ec6b586a5ad28c083ba": {
      "model_module": "@jupyter-widgets/controls",
      "model_module_version": "1.4.0",
      "model_name": "VBoxModel",
      "state": {
       "_dom_classes": [
        "widget-interact"
       ],
       "children": [
        "IPY_MODEL_145aac1124924fdd852687246fdd585f",
        "IPY_MODEL_312cc7705ff7462ba132b1f051e3acb4",
        "IPY_MODEL_5f850356cdc14296a94409bf9aea2da4",
        "IPY_MODEL_25b7a723831f4641b5160b26b843654b",
        "IPY_MODEL_ead4ab0ef76549b18dbc8f212f616bde",
        "IPY_MODEL_094e989458fe4a96a6913cc19500eeec",
        "IPY_MODEL_c96f9392ad514913adbf5da8b2b10ebd"
       ],
       "layout": "IPY_MODEL_48d681ce4783469f800c0b81b5481ece"
      }
     },
     "eb20bd47d6124e6e9c409f1292f195e5": {
      "model_module": "@jupyter-widgets/base",
      "model_module_version": "1.1.0",
      "model_name": "LayoutModel",
      "state": {}
     },
     "eb6fa09f42324f179d7d08ffd1cb99cf": {
      "model_module": "@jupyter-widgets/base",
      "model_module_version": "1.1.0",
      "model_name": "LayoutModel",
      "state": {}
     },
     "eb9d0514b8d14bf19dd5d33eec2d310d": {
      "model_module": "@jupyter-widgets/controls",
      "model_module_version": "1.4.0",
      "model_name": "RadioButtonsModel",
      "state": {
       "_options_labels": [
        "0",
        "1.0"
       ],
       "description": "mismatch_sensitivity",
       "index": 1,
       "layout": "IPY_MODEL_b21986cff43149488778a5fdc8b14cf9",
       "style": "IPY_MODEL_19401cf444af4037ac01544dc3e0882b"
      }
     },
     "ebbbb17f386348f2ad239707790ae7b7": {
      "model_module": "@jupyter-widgets/controls",
      "model_module_version": "1.4.0",
      "model_name": "RadioButtonsModel",
      "state": {
       "_options_labels": [
        "0",
        "1.0"
       ],
       "description": "mismatch_sensitivity",
       "index": 1,
       "layout": "IPY_MODEL_f4f1769c32a54c0f97b4be386f469c3b",
       "style": "IPY_MODEL_66b1be95477a4226b1ecc82e8496a7c7"
      }
     },
     "ec4f51d67e6b4f0599017d37740073e4": {
      "model_module": "@jupyter-widgets/base",
      "model_module_version": "1.1.0",
      "model_name": "LayoutModel",
      "state": {}
     },
     "ec5ebac53ba643a382ec8f805b938f5d": {
      "model_module": "@jupyter-widgets/controls",
      "model_module_version": "1.4.0",
      "model_name": "RadioButtonsModel",
      "state": {
       "_options_labels": [
        "0",
        "0.01"
       ],
       "description": "noise",
       "index": 0,
       "layout": "IPY_MODEL_43c37a9353b84719bea4cc6fc9235f20",
       "style": "IPY_MODEL_4627492900df4840906704aef2e208b4"
      }
     },
     "ec87c57a144d45d8975dcce294a4c124": {
      "model_module": "@jupyter-widgets/output",
      "model_module_version": "1.0.0",
      "model_name": "OutputModel",
      "state": {
       "layout": "IPY_MODEL_873a794ff2aa45228aa7d54083387119"
      }
     },
     "ecc756fae8784c2da2a09d4b72cc1ca0": {
      "model_module": "@jupyter-widgets/controls",
      "model_module_version": "1.4.0",
      "model_name": "DescriptionStyleModel",
      "state": {
       "description_width": ""
      }
     },
     "ed16cde9083b4e32ac2458bc5f4c65fb": {
      "model_module": "@jupyter-widgets/controls",
      "model_module_version": "1.4.0",
      "model_name": "RadioButtonsModel",
      "state": {
       "_options_labels": [
        "0",
        "1",
        "2",
        "4",
        "8",
        "16",
        "32",
        "64"
       ],
       "description": "max_mismatch",
       "index": 0,
       "layout": "IPY_MODEL_e4c5bf3855514d7ab67dc4b4a364e982",
       "style": "IPY_MODEL_de0ab11c77f54a2d996c6662aaba46b4"
      }
     },
     "ed38627eb9744ee0bb252c55e7bea75b": {
      "model_module": "@jupyter-widgets/controls",
      "model_module_version": "1.4.0",
      "model_name": "DescriptionStyleModel",
      "state": {
       "description_width": ""
      }
     },
     "ee400187f4ae4070b9af4bb790b8121a": {
      "model_module": "@jupyter-widgets/base",
      "model_module_version": "1.1.0",
      "model_name": "LayoutModel",
      "state": {}
     },
     "eecf0d93c7744674836bb61b83c432d6": {
      "model_module": "@jupyter-widgets/controls",
      "model_module_version": "1.4.0",
      "model_name": "RadioButtonsModel",
      "state": {
       "_options_labels": [
        "0",
        "1.0"
       ],
       "description": "mismatch_sensitivity",
       "index": 1,
       "layout": "IPY_MODEL_a6a9379643944504be62d7654924524d",
       "style": "IPY_MODEL_ae85f21de8b0412fb7600641fc919c7f"
      }
     },
     "ef0c02f1d5384105ac6e71b121be2e40": {
      "model_module": "@jupyter-widgets/base",
      "model_module_version": "1.1.0",
      "model_name": "LayoutModel",
      "state": {}
     },
     "ef8e652e7f104f63b18201053924dcd7": {
      "model_module": "@jupyter-widgets/base",
      "model_module_version": "1.1.0",
      "model_name": "LayoutModel",
      "state": {}
     },
     "efc92b1d4b714e7e9732de7cde3b3873": {
      "model_module": "@jupyter-widgets/controls",
      "model_module_version": "1.4.0",
      "model_name": "ToggleButtonsStyleModel",
      "state": {
       "button_width": "",
       "description_width": ""
      }
     },
     "efe5e717ecd044b2a29d422ed942ca9c": {
      "model_module": "@jupyter-widgets/controls",
      "model_module_version": "1.4.0",
      "model_name": "RadioButtonsModel",
      "state": {
       "_options_labels": [
        "1",
        "0.5",
        "0"
       ],
       "description": "penalty_strenth",
       "index": 0,
       "layout": "IPY_MODEL_dcb25e772bfa44d28a5dbabf7636f769",
       "style": "IPY_MODEL_8a20ec967a3c4b8db63ffb890bb8fdb9"
      }
     },
     "eff0eaf09d704f449b1ddf233812b944": {
      "model_module": "@jupyter-widgets/controls",
      "model_module_version": "1.4.0",
      "model_name": "DescriptionStyleModel",
      "state": {
       "description_width": ""
      }
     },
     "f05dae435c434bda9eaffdefb9f30fee": {
      "model_module": "@jupyter-widgets/controls",
      "model_module_version": "1.4.0",
      "model_name": "VBoxModel",
      "state": {
       "_dom_classes": [
        "widget-interact"
       ],
       "children": [
        "IPY_MODEL_6c39c98beb3e4a39a550ac1111997d71",
        "IPY_MODEL_2678d8d4fc0f4cf5b6a8926792d8cc05",
        "IPY_MODEL_d31ed8930984409ea4ea87cbaa794754",
        "IPY_MODEL_7ae0bcb5440d44058ff6fe9ccfc906a2",
        "IPY_MODEL_04b37813f3ff4143ab01c1dad53dca7c",
        "IPY_MODEL_abebc174f11245aaa4a72d12f8e2bc42",
        "IPY_MODEL_ba6a97e396db407e8ea38387f266d3a6"
       ],
       "layout": "IPY_MODEL_18fe84f34fe645768350cfa3fc161619"
      }
     },
     "f06d4cd5d215446294ead26a9a779f3a": {
      "model_module": "@jupyter-widgets/base",
      "model_module_version": "1.1.0",
      "model_name": "LayoutModel",
      "state": {}
     },
     "f0d43437ae2a42d18bd2a67f2193e3a8": {
      "model_module": "@jupyter-widgets/controls",
      "model_module_version": "1.4.0",
      "model_name": "DescriptionStyleModel",
      "state": {
       "description_width": ""
      }
     },
     "f0f3bba08f9f4ddfb52b2b3944683350": {
      "model_module": "@jupyter-widgets/controls",
      "model_module_version": "1.4.0",
      "model_name": "RadioButtonsModel",
      "state": {
       "_options_labels": [
        "0",
        "1",
        "2",
        "4",
        "8",
        "16",
        "32",
        "64"
       ],
       "description": "max_mismatch",
       "index": 0,
       "layout": "IPY_MODEL_b6a69544227e48919a7c9cd9051e9027",
       "style": "IPY_MODEL_431a27c872994773ac7d384a20639153"
      }
     },
     "f1aacded61d0400fb4fa2c0ffb5dbbce": {
      "model_module": "@jupyter-widgets/controls",
      "model_module_version": "1.4.0",
      "model_name": "DescriptionStyleModel",
      "state": {
       "description_width": ""
      }
     },
     "f1cc39d8420348bd875eecab79aabe03": {
      "model_module": "@jupyter-widgets/base",
      "model_module_version": "1.1.0",
      "model_name": "LayoutModel",
      "state": {}
     },
     "f28ddfc06ee847a9a334ddd0d2591b5b": {
      "model_module": "@jupyter-widgets/output",
      "model_module_version": "1.0.0",
      "model_name": "OutputModel",
      "state": {
       "layout": "IPY_MODEL_bb91ba0438474d63aa462851fee59796"
      }
     },
     "f2d0608997a0470fae1fa8a6a0bceeb5": {
      "model_module": "@jupyter-widgets/controls",
      "model_module_version": "1.4.0",
      "model_name": "ToggleButtonsModel",
      "state": {
       "_options_labels": [
        "0",
        "0.01"
       ],
       "button_style": "",
       "description": "noise",
       "icons": [],
       "index": 0,
       "layout": "IPY_MODEL_b85fbc9dd38e412eb037f2701ae9caed",
       "style": "IPY_MODEL_96b36df4e601460da3b481bd6ff7dcb3",
       "tooltips": []
      }
     },
     "f2e57c38b6f646faaee3432cf959510f": {
      "model_module": "@jupyter-widgets/base",
      "model_module_version": "1.1.0",
      "model_name": "LayoutModel",
      "state": {}
     },
     "f33c9b1026fb43d5b17ea55965ac1d5d": {
      "model_module": "@jupyter-widgets/base",
      "model_module_version": "1.1.0",
      "model_name": "LayoutModel",
      "state": {}
     },
     "f35423a21060490b810374ad7a3e314c": {
      "model_module": "@jupyter-widgets/controls",
      "model_module_version": "1.4.0",
      "model_name": "ToggleButtonsModel",
      "state": {
       "_options_labels": [
        "0",
        "1"
       ],
       "button_style": "",
       "description": "Penalty strenth",
       "icons": [],
       "index": 1,
       "layout": "IPY_MODEL_c0b9fc68078b44ae9279f10882008f4a",
       "style": "IPY_MODEL_d98f7402e3cb4bc08571cce4d5ab6a05",
       "tooltips": []
      }
     },
     "f36dadf15a8d4dc9bb487f03d27da467": {
      "model_module": "@jupyter-widgets/controls",
      "model_module_version": "1.4.0",
      "model_name": "DescriptionStyleModel",
      "state": {
       "description_width": ""
      }
     },
     "f3825e071a65484cb6cf285a79468ab0": {
      "model_module": "@jupyter-widgets/controls",
      "model_module_version": "1.4.0",
      "model_name": "SelectionSliderModel",
      "state": {
       "_options_labels": [
        "0",
        "0.5",
        "1"
       ],
       "continuous_update": false,
       "description": "Penalty strenth",
       "index": 0,
       "layout": "IPY_MODEL_e7f5667f81324da09c106557549256b1",
       "style": "IPY_MODEL_7262298598404ec09665681cfb46feec"
      }
     },
     "f3cf7519961c4cc8afd40e7ad03dbe62": {
      "model_module": "@jupyter-widgets/controls",
      "model_module_version": "1.4.0",
      "model_name": "SelectionSliderModel",
      "state": {
       "_options_labels": [
        "0",
        "1",
        "2",
        "4",
        "8",
        "16",
        "32",
        "64"
       ],
       "continuous_update": false,
       "description": "Max-mismatch",
       "index": 0,
       "layout": "IPY_MODEL_3e1ded26e1b245ae8556496ea9edfa89",
       "style": "IPY_MODEL_d52f4ca945d148e1869ff7ae3b5d27b7"
      }
     },
     "f3d57dddf6ce4526aa063a3ea351f218": {
      "model_module": "@jupyter-widgets/controls",
      "model_module_version": "1.4.0",
      "model_name": "DescriptionStyleModel",
      "state": {
       "description_width": ""
      }
     },
     "f3ed379e52714b9e888a8ea634c7e5b7": {
      "model_module": "@jupyter-widgets/controls",
      "model_module_version": "1.4.0",
      "model_name": "RadioButtonsModel",
      "state": {
       "_options_labels": [
        "0.25"
       ],
       "description": "ambiguity",
       "index": 0,
       "layout": "IPY_MODEL_43163a62666f46ceb82deb5748cc412b",
       "style": "IPY_MODEL_7fc4abbfbc6444bcb75f527335413f0a"
      }
     },
     "f4637ebd4d1542708cd5af2515d62eac": {
      "model_module": "@jupyter-widgets/base",
      "model_module_version": "1.1.0",
      "model_name": "LayoutModel",
      "state": {}
     },
     "f4a6ecf3f0cf4c14975a0a1f05ad7d33": {
      "model_module": "@jupyter-widgets/output",
      "model_module_version": "1.0.0",
      "model_name": "OutputModel",
      "state": {
       "layout": "IPY_MODEL_77e2acd195004a1998f327d603b804f9"
      }
     },
     "f4c6e91bae0f4a4a86f8beca33e89057": {
      "model_module": "@jupyter-widgets/controls",
      "model_module_version": "1.4.0",
      "model_name": "RadioButtonsModel",
      "state": {
       "_options_labels": [
        "0",
        "1",
        "2",
        "4",
        "8",
        "16",
        "32",
        "64"
       ],
       "description": "max_mismatch",
       "index": 0,
       "layout": "IPY_MODEL_c75c1c2430e64ad7a6016022d9651e8c",
       "style": "IPY_MODEL_fff06aa535d844a59dfaa1d8280594b9"
      }
     },
     "f4e0cb713a864d26adf831eb0936b77e": {
      "model_module": "@jupyter-widgets/base",
      "model_module_version": "1.1.0",
      "model_name": "LayoutModel",
      "state": {}
     },
     "f4f1769c32a54c0f97b4be386f469c3b": {
      "model_module": "@jupyter-widgets/base",
      "model_module_version": "1.1.0",
      "model_name": "LayoutModel",
      "state": {}
     },
     "f54c32246eb44f1ba6c29837badbd217": {
      "model_module": "@jupyter-widgets/controls",
      "model_module_version": "1.4.0",
      "model_name": "RadioButtonsModel",
      "state": {
       "_options_labels": [
        "0.25"
       ],
       "description": "ambiguity",
       "index": 0,
       "layout": "IPY_MODEL_4446e1a607ab4bf78ede51a01931e433",
       "style": "IPY_MODEL_a4abfbe81ca24add98aa3d054d1922ce"
      }
     },
     "f58adb97d8694b4c8771f0c5ff0ae64c": {
      "model_module": "@jupyter-widgets/controls",
      "model_module_version": "1.4.0",
      "model_name": "IntSliderModel",
      "state": {
       "continuous_update": false,
       "description": "max-mismatch:",
       "layout": "IPY_MODEL_021b5d9b463f43f6b740ea45566f28cd",
       "max": 64,
       "style": "IPY_MODEL_5612fe7546984373bc7b50427f3634ca",
       "value": 24
      }
     },
     "f5920c564d784d3e9de78eea4c89c0be": {
      "model_module": "@jupyter-widgets/base",
      "model_module_version": "1.1.0",
      "model_name": "LayoutModel",
      "state": {}
     },
     "f5d4357e85e24c46987c31c4485497bc": {
      "model_module": "@jupyter-widgets/controls",
      "model_module_version": "1.4.0",
      "model_name": "DescriptionStyleModel",
      "state": {
       "description_width": ""
      }
     },
     "f61874fd121a4d72a811f0df8abd7c0f": {
      "model_module": "@jupyter-widgets/base",
      "model_module_version": "1.1.0",
      "model_name": "LayoutModel",
      "state": {}
     },
     "f6de4efcca83496b82000a5546adb175": {
      "model_module": "@jupyter-widgets/base",
      "model_module_version": "1.1.0",
      "model_name": "LayoutModel",
      "state": {}
     },
     "f70f1f31f7b04dc29bb26cdf677225e4": {
      "model_module": "@jupyter-widgets/base",
      "model_module_version": "1.1.0",
      "model_name": "LayoutModel",
      "state": {}
     },
     "f72639dd02d84d54b3583ea1044ef14d": {
      "model_module": "@jupyter-widgets/controls",
      "model_module_version": "1.4.0",
      "model_name": "RadioButtonsModel",
      "state": {
       "_options_labels": [
        "1",
        "3"
       ],
       "description": "n_retrievals",
       "index": 0,
       "layout": "IPY_MODEL_a05eccfdc53144169026bdafb7da932c",
       "style": "IPY_MODEL_4a0bb967a57e4515949c0e062825fd4f"
      }
     },
     "f766310ba59246ef883142fcf13d2b58": {
      "model_module": "@jupyter-widgets/controls",
      "model_module_version": "1.4.0",
      "model_name": "ButtonModel",
      "state": {
       "description": "(50% width, 80px height) button",
       "layout": "IPY_MODEL_93c2081095794030b5c2c56814de542c",
       "style": "IPY_MODEL_8e330e6205584bfdbe5beb41379ca327"
      }
     },
     "f81f01706cfb4a8bb1e0c4adf1f5eeb4": {
      "model_module": "@jupyter-widgets/controls",
      "model_module_version": "1.4.0",
      "model_name": "RadioButtonsModel",
      "state": {
       "_options_labels": [
        "1",
        "3"
       ],
       "description": "n_retrievals",
       "index": 0,
       "layout": "IPY_MODEL_fe33476b19d246c1b9c63a802f8db169",
       "style": "IPY_MODEL_c333c10e1c9a44d68950c3118e1e711c"
      }
     },
     "f84a3f0be64f4117a64aa589290854f9": {
      "model_module": "@jupyter-widgets/base",
      "model_module_version": "1.1.0",
      "model_name": "LayoutModel",
      "state": {}
     },
     "f8a0dc98998346be888fa8ac5755cc6c": {
      "model_module": "@jupyter-widgets/output",
      "model_module_version": "1.0.0",
      "model_name": "OutputModel",
      "state": {
       "layout": "IPY_MODEL_ea4bffaed79847a9a1bcdbbed5f1777f"
      }
     },
     "f903e4edb9724d71bc48102b2ae2b951": {
      "model_module": "@jupyter-widgets/controls",
      "model_module_version": "1.4.0",
      "model_name": "RadioButtonsModel",
      "state": {
       "_options_labels": [
        "1",
        "3"
       ],
       "description": "n_retrievals",
       "index": 0,
       "layout": "IPY_MODEL_ca5ab87134884ad7863391633584c0d4",
       "style": "IPY_MODEL_36810d4368454aa691466d943e2f8eee"
      }
     },
     "f96186cd94cb4c9d9852cdae8432b022": {
      "model_module": "@jupyter-widgets/controls",
      "model_module_version": "1.4.0",
      "model_name": "DescriptionStyleModel",
      "state": {
       "description_width": ""
      }
     },
     "f9a70626d6d940c2a88f20d949b395fd": {
      "model_module": "@jupyter-widgets/controls",
      "model_module_version": "1.4.0",
      "model_name": "RadioButtonsModel",
      "state": {
       "_options_labels": [
        "0",
        "1",
        "2",
        "4",
        "8",
        "16",
        "32",
        "64"
       ],
       "description": "max_mismatch",
       "index": 0,
       "layout": "IPY_MODEL_a5e90664364842e9b6dd203056851ab0",
       "style": "IPY_MODEL_d42c74e388124e32bcbb38e16476a7a1"
      }
     },
     "f9ad9febc3ab4a0e89ba0a477687fd7b": {
      "model_module": "@jupyter-widgets/controls",
      "model_module_version": "1.4.0",
      "model_name": "VBoxModel",
      "state": {
       "_dom_classes": [
        "widget-interact"
       ],
       "children": [
        "IPY_MODEL_0e405bd4d56443f8b05c2a88f1cf6db8",
        "IPY_MODEL_37bb8b785105448db7962898e885a582",
        "IPY_MODEL_bc46643515ad4706b357a85ea18e3660",
        "IPY_MODEL_eb9d0514b8d14bf19dd5d33eec2d310d",
        "IPY_MODEL_aa95bc08acc84c6ba8023b30646b0388",
        "IPY_MODEL_0cd6f44647c044dcb6e46dc7b9db7ee6",
        "IPY_MODEL_751bcabfaace48d4b2c55c71fd4522e6"
       ],
       "layout": "IPY_MODEL_b8816ef7feeb48c099bd9eaf7b0fbab1"
      }
     },
     "f9d638ada2594a71b1a7df7b23ae476c": {
      "model_module": "@jupyter-widgets/base",
      "model_module_version": "1.1.0",
      "model_name": "LayoutModel",
      "state": {}
     },
     "fb66a4f064524618820bad6d5e3cb851": {
      "model_module": "@jupyter-widgets/base",
      "model_module_version": "1.1.0",
      "model_name": "LayoutModel",
      "state": {}
     },
     "fbf3ad6707524f6b9a7c640f55fc9b61": {
      "model_module": "@jupyter-widgets/controls",
      "model_module_version": "1.4.0",
      "model_name": "RadioButtonsModel",
      "state": {
       "_options_labels": [
        "0",
        "0.01"
       ],
       "description": "noise",
       "index": 0,
       "layout": "IPY_MODEL_a626997e85f348f198a6ed2e54f944db",
       "style": "IPY_MODEL_7d74394e1ecb410587155acf679f34b7"
      }
     },
     "fbfa38d4c36f41399fd409c62046fe11": {
      "model_module": "@jupyter-widgets/base",
      "model_module_version": "1.1.0",
      "model_name": "LayoutModel",
      "state": {}
     },
     "fcc0f840d6cc48fcb7cb8276c5d3d3f4": {
      "model_module": "@jupyter-widgets/base",
      "model_module_version": "1.1.0",
      "model_name": "LayoutModel",
      "state": {}
     },
     "fcec7206e9034dd69c6b88c1c4fae3fd": {
      "model_module": "@jupyter-widgets/controls",
      "model_module_version": "1.4.0",
      "model_name": "ToggleButtonsModel",
      "state": {
       "_options_labels": [
        "0",
        "1.0"
       ],
       "button_style": "",
       "description": "mismatch_sensitivity",
       "icons": [],
       "index": 1,
       "layout": "IPY_MODEL_f9d638ada2594a71b1a7df7b23ae476c",
       "style": "IPY_MODEL_d8645abe0b154577bb51bcdff22d1d8b",
       "tooltips": []
      }
     },
     "fd4865d1d61646ea8255b2b0f8214ad9": {
      "model_module": "@jupyter-widgets/controls",
      "model_module_version": "1.4.0",
      "model_name": "RadioButtonsModel",
      "state": {
       "_options_labels": [
        "1",
        "0.5",
        "0"
       ],
       "description": "penalty_strenth",
       "index": 0,
       "layout": "IPY_MODEL_b035968bfa1142cfaa737688fad804f6",
       "style": "IPY_MODEL_76804e765d37449f816b7a82edc8dd81"
      }
     },
     "fdb0f3d89eb14c759168c6b21b0e3cc5": {
      "model_module": "@jupyter-widgets/controls",
      "model_module_version": "1.4.0",
      "model_name": "SelectionSliderModel",
      "state": {
       "_options_labels": [
        "0",
        "1",
        "2",
        "4",
        "8",
        "16",
        "32",
        "64"
       ],
       "continuous_update": false,
       "description": "Max-mismatch",
       "index": 0,
       "layout": "IPY_MODEL_c084cdbdc86b436d99c35f51843fda53",
       "style": "IPY_MODEL_45e3e2fc013c44dbbdb12b34d5662857"
      }
     },
     "fdf60f81d4c84017a0e7aa3cd661ae3f": {
      "model_module": "@jupyter-widgets/controls",
      "model_module_version": "1.4.0",
      "model_name": "DescriptionStyleModel",
      "state": {
       "description_width": ""
      }
     },
     "fe33476b19d246c1b9c63a802f8db169": {
      "model_module": "@jupyter-widgets/base",
      "model_module_version": "1.1.0",
      "model_name": "LayoutModel",
      "state": {}
     },
     "fe459b24bc3e4a7e8f6b09111a0b77ae": {
      "model_module": "@jupyter-widgets/controls",
      "model_module_version": "1.4.0",
      "model_name": "DescriptionStyleModel",
      "state": {
       "description_width": ""
      }
     },
     "ff4c3e43df6247ee8fa107b96dcf000c": {
      "model_module": "@jupyter-widgets/base",
      "model_module_version": "1.1.0",
      "model_name": "LayoutModel",
      "state": {}
     },
     "ff70b8c97e8c4d349941a278635a8714": {
      "model_module": "@jupyter-widgets/base",
      "model_module_version": "1.1.0",
      "model_name": "LayoutModel",
      "state": {}
     },
     "ffb6dbe6a6b5423ba9ad9cb88b223a92": {
      "model_module": "@jupyter-widgets/base",
      "model_module_version": "1.1.0",
      "model_name": "LayoutModel",
      "state": {}
     },
     "fff06aa535d844a59dfaa1d8280594b9": {
      "model_module": "@jupyter-widgets/controls",
      "model_module_version": "1.4.0",
      "model_name": "DescriptionStyleModel",
      "state": {
       "description_width": ""
      }
     }
    },
    "version_major": 2,
    "version_minor": 0
   }
  }
 },
 "nbformat": 4,
 "nbformat_minor": 2
}

{
 "cells": [
  {
   "cell_type": "code",
   "execution_count": 1,
   "metadata": {},
   "outputs": [
    {
     "data": {
      "application/javascript": [
       "IPython.notebook.set_autosave_interval(5000)"
      ]
     },
     "metadata": {},
     "output_type": "display_data"
    },
    {
     "name": "stdout",
     "output_type": "stream",
     "text": [
      "Autosaving every 5 seconds\n"
     ]
    }
   ],
   "source": [
    "import sys\n",
    "import os \n",
    "from itertools import product\n",
    "import matplotlib.pyplot as plt\n",
    "import matplotlib.image as mpimg\n",
    "from ipywidgets import interact\n",
    "import ipywidgets as widgets\n",
    "\n",
    "%autosave 5"
   ]
  },
  {
   "cell_type": "code",
   "execution_count": 2,
   "metadata": {},
   "outputs": [
    {
     "name": "stdout",
     "output_type": "stream",
     "text": [
      "Fetch pre-computed results - Done!\n"
     ]
    }
   ],
   "source": [
    "\"\"\"gather the pre-computed results from figshare\"\"\"\n",
    "\n",
    "download_data = True\n",
    "\n",
    "if download_data:\n",
    "    # download data \n",
    "    img_dl_cmd = 'curl --header \"Host: s3-eu-west-1.amazonaws.com\" --header \"User-Agent: Mozilla/5.0 (Macintosh; Intel Mac OS X 10_14_0) AppleWebKit/537.36 (KHTML, like Gecko) Chrome/70.0.3538.77 Safari/537.36\" --header \"Accept: text/html,application/xhtml+xml,application/xml;q=0.9,image/webp,image/apng,*/*;q=0.8\" --header \"Accept-Language: en-US,en;q=0.9,zh-CN;q=0.8,zh;q=0.7,zh-TW;q=0.6,ja;q=0.5\" \"https://s3-eu-west-1.amazonaws.com/pfigshare-u-files/13474631/retrieval.tar.gz\" -o \"retrieval.tar.gz\" -L'\n",
    "    _ = os.system(img_dl_cmd)\n",
    "\n",
    "    # create a cache dir \n",
    "    if not os.path.exists('cache'):\n",
    "        os.makedirs('cache')\n",
    "\n",
    "    # move the file to cache    \n",
    "    if os.path.exists('retrieval.tar.gz'):    \n",
    "        _ = os.system('mv retrieval.tar.gz cache/')\n",
    "    else: \n",
    "        assert os.path.exists('cache/retrieval.tar.gz')\n",
    "\n",
    "    # unzip the folder\n",
    "    _ = os.system('tar -xzf cache/retrieval.tar.gz -C cache/')\n",
    "\n",
    "temp_plt_path = os.path.join('cache/retrieval')\n",
    "assert os.path.exists(temp_plt_path), 'oops you need to fetch my data 1st...'    \n",
    "print('Fetch pre-computed results - Done!')"
   ]
  },
  {
   "cell_type": "code",
   "execution_count": 3,
   "metadata": {},
   "outputs": [],
   "source": [
    "\"\"\"\n",
    "constant\n",
    "\"\"\"\n",
    "POSSIBLE_RULE_TYPES = ['null', 'demand', 'inhibit', 'demand+inhibit']\n",
    "# simulation parameters \n",
    "chk_siz_list = [4, 8, 16, 32, 64]\n",
    "min_mat_list = [0, 1, 2, 4, 8, 16, 32, 64]\n",
    "max_mis_list = [0, 1, 2, 4, 8, 16, 32, 64]\n",
    "# max_mis_list = [0, 1]\n",
    "ncks = len(chk_siz_list)\n",
    "nm1s = len(min_mat_list)\n",
    "nm2s = len(max_mis_list)\n",
    "\n",
    "\"\"\"\n",
    "fixed parameters\n",
    "\"\"\"\n",
    "# event parameters\n",
    "n_params = 64\n",
    "event_len = 512\n",
    "# n_branches = 3\n",
    "event_len_trunc = 64 \n",
    "ms_deday = 0.0\n",
    "\n",
    "# sample size \n",
    "n_sims = 500\n",
    "\n",
    "n_qs = event_len // event_len_trunc\n",
    "model_param_lists = [chk_siz_list, min_mat_list, max_mis_list]\n",
    "\n",
    "\"\"\"\n",
    "manipulated parameters\n",
    "\"\"\"\n",
    "ambiguity_all = [.25]\n",
    "noise_all = [0, 0.01]\n",
    "n_retrievals_all = [1, 3]\n",
    "mismatch_sensitivity_all = [0, 1.0]\n",
    "penalty_strenth_all = [0, 1]\n",
    "plt_format = '.png'"
   ]
  },
  {
   "cell_type": "code",
   "execution_count": 4,
   "metadata": {},
   "outputs": [],
   "source": [
    "# build the param_tuple -> imshow mapping\n",
    "def switch_img(ambiguity, noise, n_retrievals, mismatch_sensitivity, fixed_m2_val, penalty_strenth):\n",
    "    # fetch data \n",
    "    img_param_tup = (\n",
    "        ambiguity, noise, n_retrievals, mismatch_sensitivity, fixed_m2_val, penalty_strenth\n",
    "    )\n",
    "    fname = 'amb_%.2f_noise_%.3f_nRs_%d_mms_%d_m2v_%d_ps_%1.f' % img_param_tup + plt_format\n",
    "    fpath = os.path.join(temp_plt_path, fname)\n",
    "    # build key-image dict \n",
    "    imgs = mpimg.imread(fpath)\n",
    "    # show data \n",
    "    ax.imshow(imgs)\n",
    "    f.tight_layout()"
   ]
  },
  {
   "cell_type": "code",
   "execution_count": 5,
   "metadata": {},
   "outputs": [
    {
     "data": {
      "application/javascript": [
       "/* Put everything inside the global mpl namespace */\n",
       "window.mpl = {};\n",
       "\n",
       "\n",
       "mpl.get_websocket_type = function() {\n",
       "    if (typeof(WebSocket) !== 'undefined') {\n",
       "        return WebSocket;\n",
       "    } else if (typeof(MozWebSocket) !== 'undefined') {\n",
       "        return MozWebSocket;\n",
       "    } else {\n",
       "        alert('Your browser does not have WebSocket support.' +\n",
       "              'Please try Chrome, Safari or Firefox ≥ 6. ' +\n",
       "              'Firefox 4 and 5 are also supported but you ' +\n",
       "              'have to enable WebSockets in about:config.');\n",
       "    };\n",
       "}\n",
       "\n",
       "mpl.figure = function(figure_id, websocket, ondownload, parent_element) {\n",
       "    this.id = figure_id;\n",
       "\n",
       "    this.ws = websocket;\n",
       "\n",
       "    this.supports_binary = (this.ws.binaryType != undefined);\n",
       "\n",
       "    if (!this.supports_binary) {\n",
       "        var warnings = document.getElementById(\"mpl-warnings\");\n",
       "        if (warnings) {\n",
       "            warnings.style.display = 'block';\n",
       "            warnings.textContent = (\n",
       "                \"This browser does not support binary websocket messages. \" +\n",
       "                    \"Performance may be slow.\");\n",
       "        }\n",
       "    }\n",
       "\n",
       "    this.imageObj = new Image();\n",
       "\n",
       "    this.context = undefined;\n",
       "    this.message = undefined;\n",
       "    this.canvas = undefined;\n",
       "    this.rubberband_canvas = undefined;\n",
       "    this.rubberband_context = undefined;\n",
       "    this.format_dropdown = undefined;\n",
       "\n",
       "    this.image_mode = 'full';\n",
       "\n",
       "    this.root = $('<div/>');\n",
       "    this._root_extra_style(this.root)\n",
       "    this.root.attr('style', 'display: inline-block');\n",
       "\n",
       "    $(parent_element).append(this.root);\n",
       "\n",
       "    this._init_header(this);\n",
       "    this._init_canvas(this);\n",
       "    this._init_toolbar(this);\n",
       "\n",
       "    var fig = this;\n",
       "\n",
       "    this.waiting = false;\n",
       "\n",
       "    this.ws.onopen =  function () {\n",
       "            fig.send_message(\"supports_binary\", {value: fig.supports_binary});\n",
       "            fig.send_message(\"send_image_mode\", {});\n",
       "            if (mpl.ratio != 1) {\n",
       "                fig.send_message(\"set_dpi_ratio\", {'dpi_ratio': mpl.ratio});\n",
       "            }\n",
       "            fig.send_message(\"refresh\", {});\n",
       "        }\n",
       "\n",
       "    this.imageObj.onload = function() {\n",
       "            if (fig.image_mode == 'full') {\n",
       "                // Full images could contain transparency (where diff images\n",
       "                // almost always do), so we need to clear the canvas so that\n",
       "                // there is no ghosting.\n",
       "                fig.context.clearRect(0, 0, fig.canvas.width, fig.canvas.height);\n",
       "            }\n",
       "            fig.context.drawImage(fig.imageObj, 0, 0);\n",
       "        };\n",
       "\n",
       "    this.imageObj.onunload = function() {\n",
       "        fig.ws.close();\n",
       "    }\n",
       "\n",
       "    this.ws.onmessage = this._make_on_message_function(this);\n",
       "\n",
       "    this.ondownload = ondownload;\n",
       "}\n",
       "\n",
       "mpl.figure.prototype._init_header = function() {\n",
       "    var titlebar = $(\n",
       "        '<div class=\"ui-dialog-titlebar ui-widget-header ui-corner-all ' +\n",
       "        'ui-helper-clearfix\"/>');\n",
       "    var titletext = $(\n",
       "        '<div class=\"ui-dialog-title\" style=\"width: 100%; ' +\n",
       "        'text-align: center; padding: 3px;\"/>');\n",
       "    titlebar.append(titletext)\n",
       "    this.root.append(titlebar);\n",
       "    this.header = titletext[0];\n",
       "}\n",
       "\n",
       "\n",
       "\n",
       "mpl.figure.prototype._canvas_extra_style = function(canvas_div) {\n",
       "\n",
       "}\n",
       "\n",
       "\n",
       "mpl.figure.prototype._root_extra_style = function(canvas_div) {\n",
       "\n",
       "}\n",
       "\n",
       "mpl.figure.prototype._init_canvas = function() {\n",
       "    var fig = this;\n",
       "\n",
       "    var canvas_div = $('<div/>');\n",
       "\n",
       "    canvas_div.attr('style', 'position: relative; clear: both; outline: 0');\n",
       "\n",
       "    function canvas_keyboard_event(event) {\n",
       "        return fig.key_event(event, event['data']);\n",
       "    }\n",
       "\n",
       "    canvas_div.keydown('key_press', canvas_keyboard_event);\n",
       "    canvas_div.keyup('key_release', canvas_keyboard_event);\n",
       "    this.canvas_div = canvas_div\n",
       "    this._canvas_extra_style(canvas_div)\n",
       "    this.root.append(canvas_div);\n",
       "\n",
       "    var canvas = $('<canvas/>');\n",
       "    canvas.addClass('mpl-canvas');\n",
       "    canvas.attr('style', \"left: 0; top: 0; z-index: 0; outline: 0\")\n",
       "\n",
       "    this.canvas = canvas[0];\n",
       "    this.context = canvas[0].getContext(\"2d\");\n",
       "\n",
       "    var backingStore = this.context.backingStorePixelRatio ||\n",
       "\tthis.context.webkitBackingStorePixelRatio ||\n",
       "\tthis.context.mozBackingStorePixelRatio ||\n",
       "\tthis.context.msBackingStorePixelRatio ||\n",
       "\tthis.context.oBackingStorePixelRatio ||\n",
       "\tthis.context.backingStorePixelRatio || 1;\n",
       "\n",
       "    mpl.ratio = (window.devicePixelRatio || 1) / backingStore;\n",
       "\n",
       "    var rubberband = $('<canvas/>');\n",
       "    rubberband.attr('style', \"position: absolute; left: 0; top: 0; z-index: 1;\")\n",
       "\n",
       "    var pass_mouse_events = true;\n",
       "\n",
       "    canvas_div.resizable({\n",
       "        start: function(event, ui) {\n",
       "            pass_mouse_events = false;\n",
       "        },\n",
       "        resize: function(event, ui) {\n",
       "            fig.request_resize(ui.size.width, ui.size.height);\n",
       "        },\n",
       "        stop: function(event, ui) {\n",
       "            pass_mouse_events = true;\n",
       "            fig.request_resize(ui.size.width, ui.size.height);\n",
       "        },\n",
       "    });\n",
       "\n",
       "    function mouse_event_fn(event) {\n",
       "        if (pass_mouse_events)\n",
       "            return fig.mouse_event(event, event['data']);\n",
       "    }\n",
       "\n",
       "    rubberband.mousedown('button_press', mouse_event_fn);\n",
       "    rubberband.mouseup('button_release', mouse_event_fn);\n",
       "    // Throttle sequential mouse events to 1 every 20ms.\n",
       "    rubberband.mousemove('motion_notify', mouse_event_fn);\n",
       "\n",
       "    rubberband.mouseenter('figure_enter', mouse_event_fn);\n",
       "    rubberband.mouseleave('figure_leave', mouse_event_fn);\n",
       "\n",
       "    canvas_div.on(\"wheel\", function (event) {\n",
       "        event = event.originalEvent;\n",
       "        event['data'] = 'scroll'\n",
       "        if (event.deltaY < 0) {\n",
       "            event.step = 1;\n",
       "        } else {\n",
       "            event.step = -1;\n",
       "        }\n",
       "        mouse_event_fn(event);\n",
       "    });\n",
       "\n",
       "    canvas_div.append(canvas);\n",
       "    canvas_div.append(rubberband);\n",
       "\n",
       "    this.rubberband = rubberband;\n",
       "    this.rubberband_canvas = rubberband[0];\n",
       "    this.rubberband_context = rubberband[0].getContext(\"2d\");\n",
       "    this.rubberband_context.strokeStyle = \"#000000\";\n",
       "\n",
       "    this._resize_canvas = function(width, height) {\n",
       "        // Keep the size of the canvas, canvas container, and rubber band\n",
       "        // canvas in synch.\n",
       "        canvas_div.css('width', width)\n",
       "        canvas_div.css('height', height)\n",
       "\n",
       "        canvas.attr('width', width * mpl.ratio);\n",
       "        canvas.attr('height', height * mpl.ratio);\n",
       "        canvas.attr('style', 'width: ' + width + 'px; height: ' + height + 'px;');\n",
       "\n",
       "        rubberband.attr('width', width);\n",
       "        rubberband.attr('height', height);\n",
       "    }\n",
       "\n",
       "    // Set the figure to an initial 600x600px, this will subsequently be updated\n",
       "    // upon first draw.\n",
       "    this._resize_canvas(600, 600);\n",
       "\n",
       "    // Disable right mouse context menu.\n",
       "    $(this.rubberband_canvas).bind(\"contextmenu\",function(e){\n",
       "        return false;\n",
       "    });\n",
       "\n",
       "    function set_focus () {\n",
       "        canvas.focus();\n",
       "        canvas_div.focus();\n",
       "    }\n",
       "\n",
       "    window.setTimeout(set_focus, 100);\n",
       "}\n",
       "\n",
       "mpl.figure.prototype._init_toolbar = function() {\n",
       "    var fig = this;\n",
       "\n",
       "    var nav_element = $('<div/>')\n",
       "    nav_element.attr('style', 'width: 100%');\n",
       "    this.root.append(nav_element);\n",
       "\n",
       "    // Define a callback function for later on.\n",
       "    function toolbar_event(event) {\n",
       "        return fig.toolbar_button_onclick(event['data']);\n",
       "    }\n",
       "    function toolbar_mouse_event(event) {\n",
       "        return fig.toolbar_button_onmouseover(event['data']);\n",
       "    }\n",
       "\n",
       "    for(var toolbar_ind in mpl.toolbar_items) {\n",
       "        var name = mpl.toolbar_items[toolbar_ind][0];\n",
       "        var tooltip = mpl.toolbar_items[toolbar_ind][1];\n",
       "        var image = mpl.toolbar_items[toolbar_ind][2];\n",
       "        var method_name = mpl.toolbar_items[toolbar_ind][3];\n",
       "\n",
       "        if (!name) {\n",
       "            // put a spacer in here.\n",
       "            continue;\n",
       "        }\n",
       "        var button = $('<button/>');\n",
       "        button.addClass('ui-button ui-widget ui-state-default ui-corner-all ' +\n",
       "                        'ui-button-icon-only');\n",
       "        button.attr('role', 'button');\n",
       "        button.attr('aria-disabled', 'false');\n",
       "        button.click(method_name, toolbar_event);\n",
       "        button.mouseover(tooltip, toolbar_mouse_event);\n",
       "\n",
       "        var icon_img = $('<span/>');\n",
       "        icon_img.addClass('ui-button-icon-primary ui-icon');\n",
       "        icon_img.addClass(image);\n",
       "        icon_img.addClass('ui-corner-all');\n",
       "\n",
       "        var tooltip_span = $('<span/>');\n",
       "        tooltip_span.addClass('ui-button-text');\n",
       "        tooltip_span.html(tooltip);\n",
       "\n",
       "        button.append(icon_img);\n",
       "        button.append(tooltip_span);\n",
       "\n",
       "        nav_element.append(button);\n",
       "    }\n",
       "\n",
       "    var fmt_picker_span = $('<span/>');\n",
       "\n",
       "    var fmt_picker = $('<select/>');\n",
       "    fmt_picker.addClass('mpl-toolbar-option ui-widget ui-widget-content');\n",
       "    fmt_picker_span.append(fmt_picker);\n",
       "    nav_element.append(fmt_picker_span);\n",
       "    this.format_dropdown = fmt_picker[0];\n",
       "\n",
       "    for (var ind in mpl.extensions) {\n",
       "        var fmt = mpl.extensions[ind];\n",
       "        var option = $(\n",
       "            '<option/>', {selected: fmt === mpl.default_extension}).html(fmt);\n",
       "        fmt_picker.append(option)\n",
       "    }\n",
       "\n",
       "    // Add hover states to the ui-buttons\n",
       "    $( \".ui-button\" ).hover(\n",
       "        function() { $(this).addClass(\"ui-state-hover\");},\n",
       "        function() { $(this).removeClass(\"ui-state-hover\");}\n",
       "    );\n",
       "\n",
       "    var status_bar = $('<span class=\"mpl-message\"/>');\n",
       "    nav_element.append(status_bar);\n",
       "    this.message = status_bar[0];\n",
       "}\n",
       "\n",
       "mpl.figure.prototype.request_resize = function(x_pixels, y_pixels) {\n",
       "    // Request matplotlib to resize the figure. Matplotlib will then trigger a resize in the client,\n",
       "    // which will in turn request a refresh of the image.\n",
       "    this.send_message('resize', {'width': x_pixels, 'height': y_pixels});\n",
       "}\n",
       "\n",
       "mpl.figure.prototype.send_message = function(type, properties) {\n",
       "    properties['type'] = type;\n",
       "    properties['figure_id'] = this.id;\n",
       "    this.ws.send(JSON.stringify(properties));\n",
       "}\n",
       "\n",
       "mpl.figure.prototype.send_draw_message = function() {\n",
       "    if (!this.waiting) {\n",
       "        this.waiting = true;\n",
       "        this.ws.send(JSON.stringify({type: \"draw\", figure_id: this.id}));\n",
       "    }\n",
       "}\n",
       "\n",
       "\n",
       "mpl.figure.prototype.handle_save = function(fig, msg) {\n",
       "    var format_dropdown = fig.format_dropdown;\n",
       "    var format = format_dropdown.options[format_dropdown.selectedIndex].value;\n",
       "    fig.ondownload(fig, format);\n",
       "}\n",
       "\n",
       "\n",
       "mpl.figure.prototype.handle_resize = function(fig, msg) {\n",
       "    var size = msg['size'];\n",
       "    if (size[0] != fig.canvas.width || size[1] != fig.canvas.height) {\n",
       "        fig._resize_canvas(size[0], size[1]);\n",
       "        fig.send_message(\"refresh\", {});\n",
       "    };\n",
       "}\n",
       "\n",
       "mpl.figure.prototype.handle_rubberband = function(fig, msg) {\n",
       "    var x0 = msg['x0'] / mpl.ratio;\n",
       "    var y0 = (fig.canvas.height - msg['y0']) / mpl.ratio;\n",
       "    var x1 = msg['x1'] / mpl.ratio;\n",
       "    var y1 = (fig.canvas.height - msg['y1']) / mpl.ratio;\n",
       "    x0 = Math.floor(x0) + 0.5;\n",
       "    y0 = Math.floor(y0) + 0.5;\n",
       "    x1 = Math.floor(x1) + 0.5;\n",
       "    y1 = Math.floor(y1) + 0.5;\n",
       "    var min_x = Math.min(x0, x1);\n",
       "    var min_y = Math.min(y0, y1);\n",
       "    var width = Math.abs(x1 - x0);\n",
       "    var height = Math.abs(y1 - y0);\n",
       "\n",
       "    fig.rubberband_context.clearRect(\n",
       "        0, 0, fig.canvas.width, fig.canvas.height);\n",
       "\n",
       "    fig.rubberband_context.strokeRect(min_x, min_y, width, height);\n",
       "}\n",
       "\n",
       "mpl.figure.prototype.handle_figure_label = function(fig, msg) {\n",
       "    // Updates the figure title.\n",
       "    fig.header.textContent = msg['label'];\n",
       "}\n",
       "\n",
       "mpl.figure.prototype.handle_cursor = function(fig, msg) {\n",
       "    var cursor = msg['cursor'];\n",
       "    switch(cursor)\n",
       "    {\n",
       "    case 0:\n",
       "        cursor = 'pointer';\n",
       "        break;\n",
       "    case 1:\n",
       "        cursor = 'default';\n",
       "        break;\n",
       "    case 2:\n",
       "        cursor = 'crosshair';\n",
       "        break;\n",
       "    case 3:\n",
       "        cursor = 'move';\n",
       "        break;\n",
       "    }\n",
       "    fig.rubberband_canvas.style.cursor = cursor;\n",
       "}\n",
       "\n",
       "mpl.figure.prototype.handle_message = function(fig, msg) {\n",
       "    fig.message.textContent = msg['message'];\n",
       "}\n",
       "\n",
       "mpl.figure.prototype.handle_draw = function(fig, msg) {\n",
       "    // Request the server to send over a new figure.\n",
       "    fig.send_draw_message();\n",
       "}\n",
       "\n",
       "mpl.figure.prototype.handle_image_mode = function(fig, msg) {\n",
       "    fig.image_mode = msg['mode'];\n",
       "}\n",
       "\n",
       "mpl.figure.prototype.updated_canvas_event = function() {\n",
       "    // Called whenever the canvas gets updated.\n",
       "    this.send_message(\"ack\", {});\n",
       "}\n",
       "\n",
       "// A function to construct a web socket function for onmessage handling.\n",
       "// Called in the figure constructor.\n",
       "mpl.figure.prototype._make_on_message_function = function(fig) {\n",
       "    return function socket_on_message(evt) {\n",
       "        if (evt.data instanceof Blob) {\n",
       "            /* FIXME: We get \"Resource interpreted as Image but\n",
       "             * transferred with MIME type text/plain:\" errors on\n",
       "             * Chrome.  But how to set the MIME type?  It doesn't seem\n",
       "             * to be part of the websocket stream */\n",
       "            evt.data.type = \"image/png\";\n",
       "\n",
       "            /* Free the memory for the previous frames */\n",
       "            if (fig.imageObj.src) {\n",
       "                (window.URL || window.webkitURL).revokeObjectURL(\n",
       "                    fig.imageObj.src);\n",
       "            }\n",
       "\n",
       "            fig.imageObj.src = (window.URL || window.webkitURL).createObjectURL(\n",
       "                evt.data);\n",
       "            fig.updated_canvas_event();\n",
       "            fig.waiting = false;\n",
       "            return;\n",
       "        }\n",
       "        else if (typeof evt.data === 'string' && evt.data.slice(0, 21) == \"data:image/png;base64\") {\n",
       "            fig.imageObj.src = evt.data;\n",
       "            fig.updated_canvas_event();\n",
       "            fig.waiting = false;\n",
       "            return;\n",
       "        }\n",
       "\n",
       "        var msg = JSON.parse(evt.data);\n",
       "        var msg_type = msg['type'];\n",
       "\n",
       "        // Call the  \"handle_{type}\" callback, which takes\n",
       "        // the figure and JSON message as its only arguments.\n",
       "        try {\n",
       "            var callback = fig[\"handle_\" + msg_type];\n",
       "        } catch (e) {\n",
       "            console.log(\"No handler for the '\" + msg_type + \"' message type: \", msg);\n",
       "            return;\n",
       "        }\n",
       "\n",
       "        if (callback) {\n",
       "            try {\n",
       "                // console.log(\"Handling '\" + msg_type + \"' message: \", msg);\n",
       "                callback(fig, msg);\n",
       "            } catch (e) {\n",
       "                console.log(\"Exception inside the 'handler_\" + msg_type + \"' callback:\", e, e.stack, msg);\n",
       "            }\n",
       "        }\n",
       "    };\n",
       "}\n",
       "\n",
       "// from http://stackoverflow.com/questions/1114465/getting-mouse-location-in-canvas\n",
       "mpl.findpos = function(e) {\n",
       "    //this section is from http://www.quirksmode.org/js/events_properties.html\n",
       "    var targ;\n",
       "    if (!e)\n",
       "        e = window.event;\n",
       "    if (e.target)\n",
       "        targ = e.target;\n",
       "    else if (e.srcElement)\n",
       "        targ = e.srcElement;\n",
       "    if (targ.nodeType == 3) // defeat Safari bug\n",
       "        targ = targ.parentNode;\n",
       "\n",
       "    // jQuery normalizes the pageX and pageY\n",
       "    // pageX,Y are the mouse positions relative to the document\n",
       "    // offset() returns the position of the element relative to the document\n",
       "    var x = e.pageX - $(targ).offset().left;\n",
       "    var y = e.pageY - $(targ).offset().top;\n",
       "\n",
       "    return {\"x\": x, \"y\": y};\n",
       "};\n",
       "\n",
       "/*\n",
       " * return a copy of an object with only non-object keys\n",
       " * we need this to avoid circular references\n",
       " * http://stackoverflow.com/a/24161582/3208463\n",
       " */\n",
       "function simpleKeys (original) {\n",
       "  return Object.keys(original).reduce(function (obj, key) {\n",
       "    if (typeof original[key] !== 'object')\n",
       "        obj[key] = original[key]\n",
       "    return obj;\n",
       "  }, {});\n",
       "}\n",
       "\n",
       "mpl.figure.prototype.mouse_event = function(event, name) {\n",
       "    var canvas_pos = mpl.findpos(event)\n",
       "\n",
       "    if (name === 'button_press')\n",
       "    {\n",
       "        this.canvas.focus();\n",
       "        this.canvas_div.focus();\n",
       "    }\n",
       "\n",
       "    var x = canvas_pos.x * mpl.ratio;\n",
       "    var y = canvas_pos.y * mpl.ratio;\n",
       "\n",
       "    this.send_message(name, {x: x, y: y, button: event.button,\n",
       "                             step: event.step,\n",
       "                             guiEvent: simpleKeys(event)});\n",
       "\n",
       "    /* This prevents the web browser from automatically changing to\n",
       "     * the text insertion cursor when the button is pressed.  We want\n",
       "     * to control all of the cursor setting manually through the\n",
       "     * 'cursor' event from matplotlib */\n",
       "    event.preventDefault();\n",
       "    return false;\n",
       "}\n",
       "\n",
       "mpl.figure.prototype._key_event_extra = function(event, name) {\n",
       "    // Handle any extra behaviour associated with a key event\n",
       "}\n",
       "\n",
       "mpl.figure.prototype.key_event = function(event, name) {\n",
       "\n",
       "    // Prevent repeat events\n",
       "    if (name == 'key_press')\n",
       "    {\n",
       "        if (event.which === this._key)\n",
       "            return;\n",
       "        else\n",
       "            this._key = event.which;\n",
       "    }\n",
       "    if (name == 'key_release')\n",
       "        this._key = null;\n",
       "\n",
       "    var value = '';\n",
       "    if (event.ctrlKey && event.which != 17)\n",
       "        value += \"ctrl+\";\n",
       "    if (event.altKey && event.which != 18)\n",
       "        value += \"alt+\";\n",
       "    if (event.shiftKey && event.which != 16)\n",
       "        value += \"shift+\";\n",
       "\n",
       "    value += 'k';\n",
       "    value += event.which.toString();\n",
       "\n",
       "    this._key_event_extra(event, name);\n",
       "\n",
       "    this.send_message(name, {key: value,\n",
       "                             guiEvent: simpleKeys(event)});\n",
       "    return false;\n",
       "}\n",
       "\n",
       "mpl.figure.prototype.toolbar_button_onclick = function(name) {\n",
       "    if (name == 'download') {\n",
       "        this.handle_save(this, null);\n",
       "    } else {\n",
       "        this.send_message(\"toolbar_button\", {name: name});\n",
       "    }\n",
       "};\n",
       "\n",
       "mpl.figure.prototype.toolbar_button_onmouseover = function(tooltip) {\n",
       "    this.message.textContent = tooltip;\n",
       "};\n",
       "mpl.toolbar_items = [[\"Home\", \"Reset original view\", \"fa fa-home icon-home\", \"home\"], [\"Back\", \"Back to previous view\", \"fa fa-arrow-left icon-arrow-left\", \"back\"], [\"Forward\", \"Forward to next view\", \"fa fa-arrow-right icon-arrow-right\", \"forward\"], [\"\", \"\", \"\", \"\"], [\"Pan\", \"Pan axes with left mouse, zoom with right\", \"fa fa-arrows icon-move\", \"pan\"], [\"Zoom\", \"Zoom to rectangle\", \"fa fa-square-o icon-check-empty\", \"zoom\"], [\"\", \"\", \"\", \"\"], [\"Download\", \"Download plot\", \"fa fa-floppy-o icon-save\", \"download\"]];\n",
       "\n",
       "mpl.extensions = [\"eps\", \"jpeg\", \"pdf\", \"png\", \"ps\", \"raw\", \"svg\", \"tif\"];\n",
       "\n",
       "mpl.default_extension = \"png\";var comm_websocket_adapter = function(comm) {\n",
       "    // Create a \"websocket\"-like object which calls the given IPython comm\n",
       "    // object with the appropriate methods. Currently this is a non binary\n",
       "    // socket, so there is still some room for performance tuning.\n",
       "    var ws = {};\n",
       "\n",
       "    ws.close = function() {\n",
       "        comm.close()\n",
       "    };\n",
       "    ws.send = function(m) {\n",
       "        //console.log('sending', m);\n",
       "        comm.send(m);\n",
       "    };\n",
       "    // Register the callback with on_msg.\n",
       "    comm.on_msg(function(msg) {\n",
       "        //console.log('receiving', msg['content']['data'], msg);\n",
       "        // Pass the mpl event to the overridden (by mpl) onmessage function.\n",
       "        ws.onmessage(msg['content']['data'])\n",
       "    });\n",
       "    return ws;\n",
       "}\n",
       "\n",
       "mpl.mpl_figure_comm = function(comm, msg) {\n",
       "    // This is the function which gets called when the mpl process\n",
       "    // starts-up an IPython Comm through the \"matplotlib\" channel.\n",
       "\n",
       "    var id = msg.content.data.id;\n",
       "    // Get hold of the div created by the display call when the Comm\n",
       "    // socket was opened in Python.\n",
       "    var element = $(\"#\" + id);\n",
       "    var ws_proxy = comm_websocket_adapter(comm)\n",
       "\n",
       "    function ondownload(figure, format) {\n",
       "        window.open(figure.imageObj.src);\n",
       "    }\n",
       "\n",
       "    var fig = new mpl.figure(id, ws_proxy,\n",
       "                           ondownload,\n",
       "                           element.get(0));\n",
       "\n",
       "    // Call onopen now - mpl needs it, as it is assuming we've passed it a real\n",
       "    // web socket which is closed, not our websocket->open comm proxy.\n",
       "    ws_proxy.onopen();\n",
       "\n",
       "    fig.parent_element = element.get(0);\n",
       "    fig.cell_info = mpl.find_output_cell(\"<div id='\" + id + \"'></div>\");\n",
       "    if (!fig.cell_info) {\n",
       "        console.error(\"Failed to find cell for figure\", id, fig);\n",
       "        return;\n",
       "    }\n",
       "\n",
       "    var output_index = fig.cell_info[2]\n",
       "    var cell = fig.cell_info[0];\n",
       "\n",
       "};\n",
       "\n",
       "mpl.figure.prototype.handle_close = function(fig, msg) {\n",
       "    var width = fig.canvas.width/mpl.ratio\n",
       "    fig.root.unbind('remove')\n",
       "\n",
       "    // Update the output cell to use the data from the current canvas.\n",
       "    fig.push_to_output();\n",
       "    var dataURL = fig.canvas.toDataURL();\n",
       "    // Re-enable the keyboard manager in IPython - without this line, in FF,\n",
       "    // the notebook keyboard shortcuts fail.\n",
       "    IPython.keyboard_manager.enable()\n",
       "    $(fig.parent_element).html('<img src=\"' + dataURL + '\" width=\"' + width + '\">');\n",
       "    fig.close_ws(fig, msg);\n",
       "}\n",
       "\n",
       "mpl.figure.prototype.close_ws = function(fig, msg){\n",
       "    fig.send_message('closing', msg);\n",
       "    // fig.ws.close()\n",
       "}\n",
       "\n",
       "mpl.figure.prototype.push_to_output = function(remove_interactive) {\n",
       "    // Turn the data on the canvas into data in the output cell.\n",
       "    var width = this.canvas.width/mpl.ratio\n",
       "    var dataURL = this.canvas.toDataURL();\n",
       "    this.cell_info[1]['text/html'] = '<img src=\"' + dataURL + '\" width=\"' + width + '\">';\n",
       "}\n",
       "\n",
       "mpl.figure.prototype.updated_canvas_event = function() {\n",
       "    // Tell IPython that the notebook contents must change.\n",
       "    IPython.notebook.set_dirty(true);\n",
       "    this.send_message(\"ack\", {});\n",
       "    var fig = this;\n",
       "    // Wait a second, then push the new image to the DOM so\n",
       "    // that it is saved nicely (might be nice to debounce this).\n",
       "    setTimeout(function () { fig.push_to_output() }, 1000);\n",
       "}\n",
       "\n",
       "mpl.figure.prototype._init_toolbar = function() {\n",
       "    var fig = this;\n",
       "\n",
       "    var nav_element = $('<div/>')\n",
       "    nav_element.attr('style', 'width: 100%');\n",
       "    this.root.append(nav_element);\n",
       "\n",
       "    // Define a callback function for later on.\n",
       "    function toolbar_event(event) {\n",
       "        return fig.toolbar_button_onclick(event['data']);\n",
       "    }\n",
       "    function toolbar_mouse_event(event) {\n",
       "        return fig.toolbar_button_onmouseover(event['data']);\n",
       "    }\n",
       "\n",
       "    for(var toolbar_ind in mpl.toolbar_items){\n",
       "        var name = mpl.toolbar_items[toolbar_ind][0];\n",
       "        var tooltip = mpl.toolbar_items[toolbar_ind][1];\n",
       "        var image = mpl.toolbar_items[toolbar_ind][2];\n",
       "        var method_name = mpl.toolbar_items[toolbar_ind][3];\n",
       "\n",
       "        if (!name) { continue; };\n",
       "\n",
       "        var button = $('<button class=\"btn btn-default\" href=\"#\" title=\"' + name + '\"><i class=\"fa ' + image + ' fa-lg\"></i></button>');\n",
       "        button.click(method_name, toolbar_event);\n",
       "        button.mouseover(tooltip, toolbar_mouse_event);\n",
       "        nav_element.append(button);\n",
       "    }\n",
       "\n",
       "    // Add the status bar.\n",
       "    var status_bar = $('<span class=\"mpl-message\" style=\"text-align:right; float: right;\"/>');\n",
       "    nav_element.append(status_bar);\n",
       "    this.message = status_bar[0];\n",
       "\n",
       "    // Add the close button to the window.\n",
       "    var buttongrp = $('<div class=\"btn-group inline pull-right\"></div>');\n",
       "    var button = $('<button class=\"btn btn-mini btn-primary\" href=\"#\" title=\"Stop Interaction\"><i class=\"fa fa-power-off icon-remove icon-large\"></i></button>');\n",
       "    button.click(function (evt) { fig.handle_close(fig, {}); } );\n",
       "    button.mouseover('Stop Interaction', toolbar_mouse_event);\n",
       "    buttongrp.append(button);\n",
       "    var titlebar = this.root.find($('.ui-dialog-titlebar'));\n",
       "    titlebar.prepend(buttongrp);\n",
       "}\n",
       "\n",
       "mpl.figure.prototype._root_extra_style = function(el){\n",
       "    var fig = this\n",
       "    el.on(\"remove\", function(){\n",
       "\tfig.close_ws(fig, {});\n",
       "    });\n",
       "}\n",
       "\n",
       "mpl.figure.prototype._canvas_extra_style = function(el){\n",
       "    // this is important to make the div 'focusable\n",
       "    el.attr('tabindex', 0)\n",
       "    // reach out to IPython and tell the keyboard manager to turn it's self\n",
       "    // off when our div gets focus\n",
       "\n",
       "    // location in version 3\n",
       "    if (IPython.notebook.keyboard_manager) {\n",
       "        IPython.notebook.keyboard_manager.register_events(el);\n",
       "    }\n",
       "    else {\n",
       "        // location in version 2\n",
       "        IPython.keyboard_manager.register_events(el);\n",
       "    }\n",
       "\n",
       "}\n",
       "\n",
       "mpl.figure.prototype._key_event_extra = function(event, name) {\n",
       "    var manager = IPython.notebook.keyboard_manager;\n",
       "    if (!manager)\n",
       "        manager = IPython.keyboard_manager;\n",
       "\n",
       "    // Check for shift+enter\n",
       "    if (event.shiftKey && event.which == 13) {\n",
       "        this.canvas_div.blur();\n",
       "        event.shiftKey = false;\n",
       "        // Send a \"J\" for go to next cell\n",
       "        event.which = 74;\n",
       "        event.keyCode = 74;\n",
       "        manager.command_mode();\n",
       "        manager.handle_keydown(event);\n",
       "    }\n",
       "}\n",
       "\n",
       "mpl.figure.prototype.handle_save = function(fig, msg) {\n",
       "    fig.ondownload(fig, null);\n",
       "}\n",
       "\n",
       "\n",
       "mpl.find_output_cell = function(html_output) {\n",
       "    // Return the cell and output element which can be found *uniquely* in the notebook.\n",
       "    // Note - this is a bit hacky, but it is done because the \"notebook_saving.Notebook\"\n",
       "    // IPython event is triggered only after the cells have been serialised, which for\n",
       "    // our purposes (turning an active figure into a static one), is too late.\n",
       "    var cells = IPython.notebook.get_cells();\n",
       "    var ncells = cells.length;\n",
       "    for (var i=0; i<ncells; i++) {\n",
       "        var cell = cells[i];\n",
       "        if (cell.cell_type === 'code'){\n",
       "            for (var j=0; j<cell.output_area.outputs.length; j++) {\n",
       "                var data = cell.output_area.outputs[j];\n",
       "                if (data.data) {\n",
       "                    // IPython >= 3 moved mimebundle to data attribute of output\n",
       "                    data = data.data;\n",
       "                }\n",
       "                if (data['text/html'] == html_output) {\n",
       "                    return [cell, data, j];\n",
       "                }\n",
       "            }\n",
       "        }\n",
       "    }\n",
       "}\n",
       "\n",
       "// Register the function which deals with the matplotlib target/channel.\n",
       "// The kernel may be null if the page has been refreshed.\n",
       "if (IPython.notebook.kernel != null) {\n",
       "    IPython.notebook.kernel.comm_manager.register_target('matplotlib', mpl.mpl_figure_comm);\n",
       "}\n"
      ],
      "text/plain": [
       "<IPython.core.display.Javascript object>"
      ]
     },
     "metadata": {},
     "output_type": "display_data"
    },
    {
     "data": {
      "text/html": [
       "<img src=\"data:image/png;base64,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\" width=\"800\">"
      ],
      "text/plain": [
       "<IPython.core.display.HTML object>"
      ]
     },
     "metadata": {},
     "output_type": "display_data"
    },
    {
     "data": {
      "application/vnd.jupyter.widget-view+json": {
       "model_id": "5d98e9a5431e464e80cb2fe03dc3ff46",
       "version_major": 2,
       "version_minor": 0
      },
      "text/plain": [
       "interactive(children=(ToggleButtons(description='ambiguity', options=(0.25,), value=0.25), ToggleButtons(descr…"
      ]
     },
     "metadata": {},
     "output_type": "display_data"
    },
    {
     "data": {
      "text/plain": [
       "<function __main__.switch_img(ambiguity, noise, n_retrievals, mismatch_sensitivity, fixed_m2_val, penalty_strenth)>"
      ]
     },
     "execution_count": 5,
     "metadata": {},
     "output_type": "execute_result"
    }
   ],
   "source": [
    "%matplotlib notebook\n",
    "\n",
    "f, ax = plt.subplots(1,1, figsize = (8, 6))\n",
    "ax.axis('off')\n",
    "\n",
    "# set up the plot \n",
    "interact(\n",
    "    switch_img,\n",
    "    ambiguity=widgets.ToggleButtons(\n",
    "        options=ambiguity_all, \n",
    "        value=ambiguity_all[0], \n",
    "        description='ambiguity', \n",
    "        disabled=False\n",
    "    ),\n",
    "    noise=widgets.ToggleButtons(\n",
    "        options=noise_all, \n",
    "        value=noise_all[0], \n",
    "        description='noise', \n",
    "        disabled=False\n",
    "    ),\n",
    "    n_retrievals=widgets.ToggleButtons(\n",
    "        options=n_retrievals_all, \n",
    "        value=n_retrievals_all[-1], \n",
    "        description='n_retrievals', \n",
    "        disabled=False\n",
    "    ),\n",
    "    mismatch_sensitivity=widgets.ToggleButtons(\n",
    "        options=mismatch_sensitivity_all, \n",
    "        value=mismatch_sensitivity_all[-1], \n",
    "        description='mismatch_sensitivity', \n",
    "        disabled=False\n",
    "    ),\n",
    "    fixed_m2_val = widgets.SelectionSlider(\n",
    "        options=max_mis_list, \n",
    "        value=max_mis_list[0],\n",
    "        description='Max-mismatch', \n",
    "        disabled=False,\n",
    "        continuous_update=False,\n",
    "        orientation='horizontal',\n",
    "        readout=True\n",
    "    ), \n",
    "    penalty_strenth=widgets.ToggleButtons(\n",
    "        options=penalty_strenth_all, \n",
    "        value=penalty_strenth_all[-1],\n",
    "        description='Penalty strenth', \n",
    "        disabled=False,\n",
    "    ), \n",
    ")"
   ]
  },
  {
   "cell_type": "code",
   "execution_count": null,
   "metadata": {},
   "outputs": [],
   "source": []
  }
 ],
 "metadata": {
  "kernelspec": {
   "display_name": "Python 3",
   "language": "python",
   "name": "python3"
  },
  "language_info": {
   "codemirror_mode": {
    "name": "ipython",
    "version": 3
   },
   "file_extension": ".py",
   "mimetype": "text/x-python",
   "name": "python",
   "nbconvert_exporter": "python",
   "pygments_lexer": "ipython3",
   "version": "3.6.4"
  },
  "widgets": {
   "application/vnd.jupyter.widget-state+json": {
    "state": {
     "003b0cb8e63f4d0cb542830439faef5c": {
      "model_module": "@jupyter-widgets/controls",
      "model_module_version": "1.4.0",
      "model_name": "RadioButtonsModel",
      "state": {
       "_options_labels": [
        "0",
        "0.01"
       ],
       "description": "noise",
       "index": 0,
       "layout": "IPY_MODEL_2d197a13aa134362bf46d474b9e8a9b0",
       "style": "IPY_MODEL_363c0803eb394e2aa2d50c9d1a1c7499"
      }
     },
     "005a0762503746c5a0fdd530858b317a": {
      "model_module": "@jupyter-widgets/base",
      "model_module_version": "1.1.0",
      "model_name": "LayoutModel",
      "state": {}
     },
     "0144f955617e43ec8c53008c77388528": {
      "model_module": "@jupyter-widgets/controls",
      "model_module_version": "1.4.0",
      "model_name": "DescriptionStyleModel",
      "state": {
       "description_width": ""
      }
     },
     "0148d23cb5454dd8ae93c4ca605f76ac": {
      "model_module": "@jupyter-widgets/controls",
      "model_module_version": "1.4.0",
      "model_name": "SelectionSliderModel",
      "state": {
       "_options_labels": [
        "0",
        "0.5",
        "1"
       ],
       "continuous_update": false,
       "description": "Penalty strenth",
       "index": 0,
       "layout": "IPY_MODEL_705a38ac826d420f92eb04578e8cd747",
       "style": "IPY_MODEL_bb0245b8fe334697a12356c3d2a3391f"
      }
     },
     "021b5d9b463f43f6b740ea45566f28cd": {
      "model_module": "@jupyter-widgets/base",
      "model_module_version": "1.1.0",
      "model_name": "LayoutModel",
      "state": {}
     },
     "02b748e19ff44935b87362795ab08597": {
      "model_module": "@jupyter-widgets/controls",
      "model_module_version": "1.4.0",
      "model_name": "ToggleButtonsStyleModel",
      "state": {
       "button_width": "",
       "description_width": ""
      }
     },
     "02ca5b5828e74598a6d18c97b876aca3": {
      "model_module": "@jupyter-widgets/base",
      "model_module_version": "1.1.0",
      "model_name": "LayoutModel",
      "state": {}
     },
     "03476c7a16eb458e83ab0a0a2d400b4f": {
      "model_module": "@jupyter-widgets/base",
      "model_module_version": "1.1.0",
      "model_name": "LayoutModel",
      "state": {}
     },
     "03a4584bce644b92bbe869aaba5c4980": {
      "model_module": "@jupyter-widgets/controls",
      "model_module_version": "1.4.0",
      "model_name": "RadioButtonsModel",
      "state": {
       "_options_labels": [
        "0",
        "1",
        "2",
        "4",
        "8",
        "16",
        "32",
        "64"
       ],
       "description": "max_mismatch",
       "index": 0,
       "layout": "IPY_MODEL_02ca5b5828e74598a6d18c97b876aca3",
       "style": "IPY_MODEL_bc6d87591160456697738a7dfa9856c1"
      }
     },
     "0450a897bd4842dfa3061db7ce24ddf4": {
      "model_module": "@jupyter-widgets/base",
      "model_module_version": "1.1.0",
      "model_name": "LayoutModel",
      "state": {}
     },
     "0494b8c1f7d040649fc605be777e495d": {
      "model_module": "@jupyter-widgets/controls",
      "model_module_version": "1.4.0",
      "model_name": "VBoxModel",
      "state": {
       "_dom_classes": [
        "widget-interact"
       ],
       "children": [
        "IPY_MODEL_16b9ce80f0e24864aed22918e2147c35",
        "IPY_MODEL_9598a2bfdc744e16adcce5375a4b66d1",
        "IPY_MODEL_f81f01706cfb4a8bb1e0c4adf1f5eeb4",
        "IPY_MODEL_0bdbd558326a435084e64bdc528d6253",
        "IPY_MODEL_f3cf7519961c4cc8afd40e7ad03dbe62",
        "IPY_MODEL_1be8f6e9dfdc4db48aa4956a90e83489",
        "IPY_MODEL_66cf2d07572a404a9f18ffbfc9103379"
       ],
       "layout": "IPY_MODEL_f70f1f31f7b04dc29bb26cdf677225e4"
      }
     },
     "04b2271a41f14419bb23bc252bafddc4": {
      "model_module": "@jupyter-widgets/controls",
      "model_module_version": "1.4.0",
      "model_name": "DescriptionStyleModel",
      "state": {
       "description_width": ""
      }
     },
     "04b37813f3ff4143ab01c1dad53dca7c": {
      "model_module": "@jupyter-widgets/controls",
      "model_module_version": "1.4.0",
      "model_name": "RadioButtonsModel",
      "state": {
       "_options_labels": [
        "0",
        "1",
        "2",
        "4",
        "8",
        "16",
        "32",
        "64"
       ],
       "description": "max_mismatch",
       "index": 0,
       "layout": "IPY_MODEL_e3c66ac6fb74432abcacddf9a3f59571",
       "style": "IPY_MODEL_d50245bb192242d595db6fc1231fdbc5"
      }
     },
     "04d382f6b9904518ba7de94e179cad7f": {
      "model_module": "@jupyter-widgets/controls",
      "model_module_version": "1.4.0",
      "model_name": "RadioButtonsModel",
      "state": {
       "_options_labels": [
        "0.25"
       ],
       "description": "ambiguity",
       "index": 0,
       "layout": "IPY_MODEL_c41bd148cf884a2daebe13609449b5e8",
       "style": "IPY_MODEL_2944807194004fdfb1a8469bb93487a7"
      }
     },
     "0533d78f72934ae58cf3e8799a5e5676": {
      "model_module": "@jupyter-widgets/controls",
      "model_module_version": "1.4.0",
      "model_name": "DescriptionStyleModel",
      "state": {
       "description_width": ""
      }
     },
     "06841cf3103048518b34fcac8a40cce7": {
      "model_module": "@jupyter-widgets/controls",
      "model_module_version": "1.4.0",
      "model_name": "SelectionSliderModel",
      "state": {
       "_options_labels": [
        "0",
        "1",
        "2",
        "4",
        "8",
        "16",
        "32",
        "64"
       ],
       "continuous_update": false,
       "description": "Max-mismatch",
       "index": 0,
       "layout": "IPY_MODEL_0e80ff0a0fb24e56aca5545e66386b33",
       "style": "IPY_MODEL_8158ec06c05d498d838e6d040798ab40"
      }
     },
     "08a5c24c088e4154a8ca8814f7957e25": {
      "model_module": "@jupyter-widgets/controls",
      "model_module_version": "1.4.0",
      "model_name": "DescriptionStyleModel",
      "state": {
       "description_width": ""
      }
     },
     "08c6fa1419984b4b98cb3fa38c042822": {
      "model_module": "@jupyter-widgets/output",
      "model_module_version": "1.0.0",
      "model_name": "OutputModel",
      "state": {
       "layout": "IPY_MODEL_4ae6b1fd58c7476692b468a0b56e8bdf"
      }
     },
     "08ccfb535daa4eadbf80cca61629ee8a": {
      "model_module": "@jupyter-widgets/controls",
      "model_module_version": "1.4.0",
      "model_name": "DescriptionStyleModel",
      "state": {
       "description_width": ""
      }
     },
     "090a61965440485386f05f71cf9a93af": {
      "model_module": "@jupyter-widgets/base",
      "model_module_version": "1.1.0",
      "model_name": "LayoutModel",
      "state": {}
     },
     "0922b474f8d2474b88bba1a5a3066407": {
      "model_module": "@jupyter-widgets/controls",
      "model_module_version": "1.4.0",
      "model_name": "RadioButtonsModel",
      "state": {
       "_options_labels": [
        "1",
        "3"
       ],
       "description": "n_retrievals",
       "index": 0,
       "layout": "IPY_MODEL_df6fececfdc1428d8189388f0d0a2036",
       "style": "IPY_MODEL_e5cf6d65293a4ff88c98f180a956f52c"
      }
     },
     "094e989458fe4a96a6913cc19500eeec": {
      "model_module": "@jupyter-widgets/controls",
      "model_module_version": "1.4.0",
      "model_name": "RadioButtonsModel",
      "state": {
       "_options_labels": [
        "1",
        "0.5",
        "0"
       ],
       "description": "penalty_strenth",
       "index": 0,
       "layout": "IPY_MODEL_85efe5203e5d48299bcc07852df226ae",
       "style": "IPY_MODEL_0533d78f72934ae58cf3e8799a5e5676"
      }
     },
     "0967d63a43eb426daf6817ead86a0d6a": {
      "model_module": "@jupyter-widgets/base",
      "model_module_version": "1.1.0",
      "model_name": "LayoutModel",
      "state": {}
     },
     "09a56ba18f9345e98c727f688c1e0626": {
      "model_module": "@jupyter-widgets/controls",
      "model_module_version": "1.4.0",
      "model_name": "RadioButtonsModel",
      "state": {
       "_options_labels": [
        "1",
        "0.5",
        "0"
       ],
       "description": "penalty_strenth",
       "index": 0,
       "layout": "IPY_MODEL_bb90ef0c3efd434fa79a035852780e85",
       "style": "IPY_MODEL_7a58ef8927e947d7bc199535d0733fb4"
      }
     },
     "09b4eddc85ff437182990d3484b94f35": {
      "model_module": "@jupyter-widgets/base",
      "model_module_version": "1.1.0",
      "model_name": "LayoutModel",
      "state": {}
     },
     "09e3afb730904dc1a437416e4fe003e7": {
      "model_module": "@jupyter-widgets/controls",
      "model_module_version": "1.4.0",
      "model_name": "RadioButtonsModel",
      "state": {
       "_options_labels": [
        "1",
        "0.5",
        "0"
       ],
       "description": "penalty_strenth",
       "index": 0,
       "layout": "IPY_MODEL_7bdc75f40a2946969c83c387ee994e6f",
       "style": "IPY_MODEL_fe459b24bc3e4a7e8f6b09111a0b77ae"
      }
     },
     "0a30b192a99f4c72ad15be0d26ad2289": {
      "model_module": "@jupyter-widgets/base",
      "model_module_version": "1.1.0",
      "model_name": "LayoutModel",
      "state": {}
     },
     "0a6e0db645584d6081f55d14d48cff56": {
      "model_module": "@jupyter-widgets/base",
      "model_module_version": "1.1.0",
      "model_name": "LayoutModel",
      "state": {}
     },
     "0a7e9bc53a6e4b69bc7f2018bf1981d8": {
      "model_module": "@jupyter-widgets/controls",
      "model_module_version": "1.4.0",
      "model_name": "DescriptionStyleModel",
      "state": {
       "description_width": ""
      }
     },
     "0ab124aa1bf5401890b8e509aa2bb1f7": {
      "model_module": "@jupyter-widgets/base",
      "model_module_version": "1.1.0",
      "model_name": "LayoutModel",
      "state": {}
     },
     "0b56526ed2d54c808c67ce3ab015feef": {
      "model_module": "@jupyter-widgets/controls",
      "model_module_version": "1.4.0",
      "model_name": "RadioButtonsModel",
      "state": {
       "_options_labels": [
        "0.25"
       ],
       "description": "ambiguity",
       "index": 0,
       "layout": "IPY_MODEL_bdbc5646fe234be3a728ac3b826a0354",
       "style": "IPY_MODEL_e02c5bc63edc4445a5ee413326eec8b4"
      }
     },
     "0bb556c8e323499eb79058cc32140bde": {
      "model_module": "@jupyter-widgets/base",
      "model_module_version": "1.1.0",
      "model_name": "LayoutModel",
      "state": {}
     },
     "0bdbd558326a435084e64bdc528d6253": {
      "model_module": "@jupyter-widgets/controls",
      "model_module_version": "1.4.0",
      "model_name": "RadioButtonsModel",
      "state": {
       "_options_labels": [
        "0",
        "1.0"
       ],
       "description": "mismatch_sensitivity",
       "index": 1,
       "layout": "IPY_MODEL_38c22e318cea4991b4f67d9ba777c19b",
       "style": "IPY_MODEL_b23223e78c9e4a7d8ea803e23a19a1e1"
      }
     },
     "0c08f3fdaa59459d9bebb6b9f05f354d": {
      "model_module": "@jupyter-widgets/controls",
      "model_module_version": "1.4.0",
      "model_name": "ToggleButtonsStyleModel",
      "state": {
       "button_width": "",
       "description_width": ""
      }
     },
     "0c17a65914384c21888cda3d8e0fa0a1": {
      "model_module": "@jupyter-widgets/base",
      "model_module_version": "1.1.0",
      "model_name": "LayoutModel",
      "state": {}
     },
     "0cd6f44647c044dcb6e46dc7b9db7ee6": {
      "model_module": "@jupyter-widgets/controls",
      "model_module_version": "1.4.0",
      "model_name": "ToggleButtonsModel",
      "state": {
       "_options_labels": [
        "0",
        "1"
       ],
       "button_style": "",
       "description": "Penalty strenth",
       "icons": [],
       "index": 1,
       "layout": "IPY_MODEL_2da421f1c163482986f796accc70df42",
       "style": "IPY_MODEL_74ce5aecfa044d3eb43cd4cf3eb7e0d5",
       "tooltips": []
      }
     },
     "0d3b645881ba4d6c9c04160c3d31e357": {
      "model_module": "@jupyter-widgets/base",
      "model_module_version": "1.1.0",
      "model_name": "LayoutModel",
      "state": {}
     },
     "0da1e7a73b684861ae1bc234bc45c077": {
      "model_module": "@jupyter-widgets/controls",
      "model_module_version": "1.4.0",
      "model_name": "RadioButtonsModel",
      "state": {
       "_options_labels": [
        "0",
        "0.01"
       ],
       "description": "noise",
       "index": 0,
       "layout": "IPY_MODEL_713446a2b2f24180870e315a48d3d978",
       "style": "IPY_MODEL_9986472f0d3045d48a7f57c22f190bae"
      }
     },
     "0da7625f498f41bf8404ee0e46fefdd5": {
      "model_module": "@jupyter-widgets/base",
      "model_module_version": "1.1.0",
      "model_name": "LayoutModel",
      "state": {}
     },
     "0e154860f55e4e06993673ebb4b2e78e": {
      "model_module": "@jupyter-widgets/base",
      "model_module_version": "1.1.0",
      "model_name": "LayoutModel",
      "state": {}
     },
     "0e405bd4d56443f8b05c2a88f1cf6db8": {
      "model_module": "@jupyter-widgets/controls",
      "model_module_version": "1.4.0",
      "model_name": "RadioButtonsModel",
      "state": {
       "_options_labels": [
        "0.25"
       ],
       "description": "ambiguity",
       "index": 0,
       "layout": "IPY_MODEL_f4e0cb713a864d26adf831eb0936b77e",
       "style": "IPY_MODEL_c234aa902f90477b9c687427fad696ce"
      }
     },
     "0e80ff0a0fb24e56aca5545e66386b33": {
      "model_module": "@jupyter-widgets/base",
      "model_module_version": "1.1.0",
      "model_name": "LayoutModel",
      "state": {}
     },
     "0ecb25f1accb4d78b1cb9171102647d3": {
      "model_module": "@jupyter-widgets/base",
      "model_module_version": "1.1.0",
      "model_name": "LayoutModel",
      "state": {}
     },
     "0eeb416e331b45e985cb3725d07f1a02": {
      "model_module": "@jupyter-widgets/controls",
      "model_module_version": "1.4.0",
      "model_name": "RadioButtonsModel",
      "state": {
       "_options_labels": [
        "0",
        "0.01"
       ],
       "description": "noise",
       "index": 0,
       "layout": "IPY_MODEL_49aa049921ee498f85b094b387ea0da3",
       "style": "IPY_MODEL_08a5c24c088e4154a8ca8814f7957e25"
      }
     },
     "0fbbfe56794243c683c9b76d02131de4": {
      "model_module": "@jupyter-widgets/base",
      "model_module_version": "1.1.0",
      "model_name": "LayoutModel",
      "state": {}
     },
     "1013b0db7f9642d7a94dde8ac968918d": {
      "model_module": "@jupyter-widgets/controls",
      "model_module_version": "1.4.0",
      "model_name": "RadioButtonsModel",
      "state": {
       "_options_labels": [
        "0",
        "1",
        "2",
        "4",
        "8",
        "16",
        "32",
        "64"
       ],
       "description": "max_mismatch",
       "index": 0,
       "layout": "IPY_MODEL_5b1d3d1b5f714df5b83738001fd6d4a9",
       "style": "IPY_MODEL_2fcf52fc96ab4d4a8eba97a46a8e92cf"
      }
     },
     "1029c07dc9014be8b0e677291b55caa9": {
      "model_module": "@jupyter-widgets/controls",
      "model_module_version": "1.4.0",
      "model_name": "RadioButtonsModel",
      "state": {
       "_options_labels": [
        "1",
        "0.5",
        "0"
       ],
       "description": "penalty_strenth",
       "index": 0,
       "layout": "IPY_MODEL_0da7625f498f41bf8404ee0e46fefdd5",
       "style": "IPY_MODEL_85cac2f3552345adac0e703d73720a1f"
      }
     },
     "10631a8c24ec4b398be96d1bf7b2b805": {
      "model_module": "@jupyter-widgets/base",
      "model_module_version": "1.1.0",
      "model_name": "LayoutModel",
      "state": {}
     },
     "106ed8ffdf44477caf5120d61928722f": {
      "model_module": "@jupyter-widgets/controls",
      "model_module_version": "1.4.0",
      "model_name": "DescriptionStyleModel",
      "state": {
       "description_width": ""
      }
     },
     "108803633c784e9283cf52e79320685b": {
      "model_module": "@jupyter-widgets/base",
      "model_module_version": "1.1.0",
      "model_name": "LayoutModel",
      "state": {}
     },
     "10af501f6fcd4c6084d98f9dbe2251ef": {
      "model_module": "@jupyter-widgets/base",
      "model_module_version": "1.1.0",
      "model_name": "LayoutModel",
      "state": {}
     },
     "11780744eb494b0995043e4f7383dda6": {
      "model_module": "@jupyter-widgets/controls",
      "model_module_version": "1.4.0",
      "model_name": "ToggleButtonsStyleModel",
      "state": {
       "button_width": "",
       "description_width": ""
      }
     },
     "1190b0377f7d487e996849511b5b963d": {
      "model_module": "@jupyter-widgets/output",
      "model_module_version": "1.0.0",
      "model_name": "OutputModel",
      "state": {
       "layout": "IPY_MODEL_8f3dbd12b5ba4132ad47d87c1859fe75"
      }
     },
     "12c08013a4094f8b869c0eb5f52a4645": {
      "model_module": "@jupyter-widgets/base",
      "model_module_version": "1.1.0",
      "model_name": "LayoutModel",
      "state": {}
     },
     "12eedc765d6a4c129297621208753655": {
      "model_module": "@jupyter-widgets/base",
      "model_module_version": "1.1.0",
      "model_name": "LayoutModel",
      "state": {}
     },
     "12f6e90bb8664f6dae61747208398da7": {
      "model_module": "@jupyter-widgets/controls",
      "model_module_version": "1.4.0",
      "model_name": "DescriptionStyleModel",
      "state": {
       "description_width": ""
      }
     },
     "138ee153462649b79ca9c31a08c9ce2f": {
      "model_module": "@jupyter-widgets/controls",
      "model_module_version": "1.4.0",
      "model_name": "ToggleButtonsModel",
      "state": {
       "_options_labels": [
        "0",
        "1.0"
       ],
       "button_style": "",
       "description": "mismatch_sensitivity",
       "icons": [],
       "index": 1,
       "layout": "IPY_MODEL_8d658f86d5ba4c1994a3eefacece2219",
       "style": "IPY_MODEL_872656631e0e49f08716a707a5902c56",
       "tooltips": []
      }
     },
     "145aac1124924fdd852687246fdd585f": {
      "model_module": "@jupyter-widgets/controls",
      "model_module_version": "1.4.0",
      "model_name": "RadioButtonsModel",
      "state": {
       "_options_labels": [
        "0.25"
       ],
       "description": "ambiguity",
       "index": 0,
       "layout": "IPY_MODEL_cf97f03667694c8499a176452b317129",
       "style": "IPY_MODEL_f3d57dddf6ce4526aa063a3ea351f218"
      }
     },
     "154b322ebf0d4e3bbb9946e697305fad": {
      "model_module": "@jupyter-widgets/base",
      "model_module_version": "1.1.0",
      "model_name": "LayoutModel",
      "state": {}
     },
     "1562f34fab3645bc80f358c0118a3179": {
      "model_module": "@jupyter-widgets/controls",
      "model_module_version": "1.4.0",
      "model_name": "DescriptionStyleModel",
      "state": {
       "description_width": ""
      }
     },
     "164af1b3e0ff498bb9bdc2956ee30c63": {
      "model_module": "@jupyter-widgets/controls",
      "model_module_version": "1.4.0",
      "model_name": "DescriptionStyleModel",
      "state": {
       "description_width": ""
      }
     },
     "16b9ce80f0e24864aed22918e2147c35": {
      "model_module": "@jupyter-widgets/controls",
      "model_module_version": "1.4.0",
      "model_name": "RadioButtonsModel",
      "state": {
       "_options_labels": [
        "0.25"
       ],
       "description": "ambiguity",
       "index": 0,
       "layout": "IPY_MODEL_1c45d51e43f34c02800a6b8fbc934695",
       "style": "IPY_MODEL_f36dadf15a8d4dc9bb487f03d27da467"
      }
     },
     "16fbcf112fbf4e27923bd2b37024ff88": {
      "model_module": "@jupyter-widgets/controls",
      "model_module_version": "1.4.0",
      "model_name": "DescriptionStyleModel",
      "state": {
       "description_width": ""
      }
     },
     "1787be80c28542cf8e52fcb157532c8f": {
      "model_module": "@jupyter-widgets/controls",
      "model_module_version": "1.4.0",
      "model_name": "DescriptionStyleModel",
      "state": {
       "description_width": ""
      }
     },
     "1797536c8ef54f05bf8f2b85d4466290": {
      "model_module": "@jupyter-widgets/base",
      "model_module_version": "1.1.0",
      "model_name": "LayoutModel",
      "state": {}
     },
     "1831725fe1754cab9bdb41716bb6e7e7": {
      "model_module": "@jupyter-widgets/base",
      "model_module_version": "1.1.0",
      "model_name": "LayoutModel",
      "state": {}
     },
     "18fe84f34fe645768350cfa3fc161619": {
      "model_module": "@jupyter-widgets/base",
      "model_module_version": "1.1.0",
      "model_name": "LayoutModel",
      "state": {}
     },
     "19388f22539348e1a7cd2cfbf2b99579": {
      "model_module": "@jupyter-widgets/controls",
      "model_module_version": "1.4.0",
      "model_name": "RadioButtonsModel",
      "state": {
       "_options_labels": [
        "1",
        "3"
       ],
       "description": "n_retrievals",
       "index": 0,
       "layout": "IPY_MODEL_12c08013a4094f8b869c0eb5f52a4645",
       "style": "IPY_MODEL_4adcaefcf0ff41b7b1982718623e7fa2"
      }
     },
     "19401cf444af4037ac01544dc3e0882b": {
      "model_module": "@jupyter-widgets/controls",
      "model_module_version": "1.4.0",
      "model_name": "DescriptionStyleModel",
      "state": {
       "description_width": ""
      }
     },
     "19b73638b9134942813ccb0979e24831": {
      "model_module": "@jupyter-widgets/base",
      "model_module_version": "1.1.0",
      "model_name": "LayoutModel",
      "state": {}
     },
     "1a9605ed028242579412d49da0cc766b": {
      "model_module": "@jupyter-widgets/controls",
      "model_module_version": "1.4.0",
      "model_name": "DescriptionStyleModel",
      "state": {
       "description_width": ""
      }
     },
     "1a9ee41c84af42aeb874ff86bd1a683b": {
      "model_module": "@jupyter-widgets/controls",
      "model_module_version": "1.4.0",
      "model_name": "RadioButtonsModel",
      "state": {
       "_options_labels": [
        "0",
        "1.0"
       ],
       "description": "mismatch_sensitivity",
       "index": 1,
       "layout": "IPY_MODEL_6220f1acb436456ba0dbd67f90cf5102",
       "style": "IPY_MODEL_6f7cdecf88b04bd89975c58f353c22a2"
      }
     },
     "1b938210603e48d3aaee70510078e230": {
      "model_module": "@jupyter-widgets/controls",
      "model_module_version": "1.4.0",
      "model_name": "ToggleButtonsModel",
      "state": {
       "_options_labels": [
        "0",
        "1"
       ],
       "button_style": "",
       "description": "Penalty strenth",
       "icons": [],
       "index": 1,
       "layout": "IPY_MODEL_aac0807de07f4031982a2034b10cc672",
       "style": "IPY_MODEL_2a5a592657ab4c4d9e7e7a990c975659",
       "tooltips": []
      }
     },
     "1bdbe93cc1f342ad9104632f765d9753": {
      "model_module": "@jupyter-widgets/controls",
      "model_module_version": "1.4.0",
      "model_name": "DescriptionStyleModel",
      "state": {
       "description_width": ""
      }
     },
     "1be8f6e9dfdc4db48aa4956a90e83489": {
      "model_module": "@jupyter-widgets/controls",
      "model_module_version": "1.4.0",
      "model_name": "SelectionSliderModel",
      "state": {
       "_options_labels": [
        "0",
        "1"
       ],
       "continuous_update": false,
       "description": "Penalty strenth",
       "index": 1,
       "layout": "IPY_MODEL_4a9d78166f4147c19a6b7a54f745986b",
       "style": "IPY_MODEL_5dc3189bcdd344e480f4c90a65a3e5d5"
      }
     },
     "1c05795d50b54f23b86ce8a00911869d": {
      "model_module": "@jupyter-widgets/output",
      "model_module_version": "1.0.0",
      "model_name": "OutputModel",
      "state": {
       "layout": "IPY_MODEL_745034b2ba06412e9cb3a550fa148f20"
      }
     },
     "1c45d51e43f34c02800a6b8fbc934695": {
      "model_module": "@jupyter-widgets/base",
      "model_module_version": "1.1.0",
      "model_name": "LayoutModel",
      "state": {}
     },
     "1c5c0a2927db42ada8f434af7412a6fe": {
      "model_module": "@jupyter-widgets/base",
      "model_module_version": "1.1.0",
      "model_name": "LayoutModel",
      "state": {}
     },
     "1c8e3d3c19ae472697a5daeb57993cf2": {
      "model_module": "@jupyter-widgets/controls",
      "model_module_version": "1.4.0",
      "model_name": "RadioButtonsModel",
      "state": {
       "_options_labels": [
        "0.25"
       ],
       "description": "ambiguity",
       "index": 0,
       "layout": "IPY_MODEL_e3f09af93fbf47649b9a577868a4875d",
       "style": "IPY_MODEL_0144f955617e43ec8c53008c77388528"
      }
     },
     "1d349f174d3b40e1801e71d88e8d97b8": {
      "model_module": "@jupyter-widgets/base",
      "model_module_version": "1.1.0",
      "model_name": "LayoutModel",
      "state": {}
     },
     "1dd612e52116493fa6f035161ad7ed2e": {
      "model_module": "@jupyter-widgets/controls",
      "model_module_version": "1.4.0",
      "model_name": "RadioButtonsModel",
      "state": {
       "_options_labels": [
        "1",
        "3"
       ],
       "description": "n_retrievals",
       "index": 0,
       "layout": "IPY_MODEL_5922d1b01029418bbdfabeebd4fd104f",
       "style": "IPY_MODEL_42b9ab55b2f94855b390829dbe13e4e4"
      }
     },
     "200070fac8a3471990326830a0127ae1": {
      "model_module": "@jupyter-widgets/controls",
      "model_module_version": "1.4.0",
      "model_name": "RadioButtonsModel",
      "state": {
       "_options_labels": [
        "0",
        "0.01"
       ],
       "description": "noise",
       "index": 0,
       "layout": "IPY_MODEL_d0029ec128a1468d82fffc408ce8dd51",
       "style": "IPY_MODEL_b4d3c1ddea99402ebf5cc4bd5aaf4fb4"
      }
     },
     "20ad04341fcd470ab9f8bbc146fd32b9": {
      "model_module": "@jupyter-widgets/base",
      "model_module_version": "1.1.0",
      "model_name": "LayoutModel",
      "state": {}
     },
     "213975f3b7fd48be9b5e02df35e07627": {
      "model_module": "@jupyter-widgets/base",
      "model_module_version": "1.1.0",
      "model_name": "LayoutModel",
      "state": {}
     },
     "22a07f4d213e4ef2a3ed2839fff9e1d0": {
      "model_module": "@jupyter-widgets/base",
      "model_module_version": "1.1.0",
      "model_name": "LayoutModel",
      "state": {}
     },
     "231daa65322042f885ad1cd5170ba0d0": {
      "model_module": "@jupyter-widgets/base",
      "model_module_version": "1.1.0",
      "model_name": "LayoutModel",
      "state": {}
     },
     "231f35d322d249b5be8b2618a7479ba1": {
      "model_module": "@jupyter-widgets/controls",
      "model_module_version": "1.4.0",
      "model_name": "DescriptionStyleModel",
      "state": {
       "description_width": ""
      }
     },
     "24221e7a22f44653ad75b804a244f165": {
      "model_module": "@jupyter-widgets/base",
      "model_module_version": "1.1.0",
      "model_name": "LayoutModel",
      "state": {}
     },
     "2483450f0cd944e58a65bceb604febc0": {
      "model_module": "@jupyter-widgets/base",
      "model_module_version": "1.1.0",
      "model_name": "LayoutModel",
      "state": {}
     },
     "24e1a94a6b35479399895daeb4cd6926": {
      "model_module": "@jupyter-widgets/controls",
      "model_module_version": "1.4.0",
      "model_name": "DescriptionStyleModel",
      "state": {
       "description_width": ""
      }
     },
     "2508c40ca1fb47ff930573b58d3a2f99": {
      "model_module": "@jupyter-widgets/base",
      "model_module_version": "1.1.0",
      "model_name": "LayoutModel",
      "state": {}
     },
     "25b7a723831f4641b5160b26b843654b": {
      "model_module": "@jupyter-widgets/controls",
      "model_module_version": "1.4.0",
      "model_name": "RadioButtonsModel",
      "state": {
       "_options_labels": [
        "0",
        "1.0"
       ],
       "description": "mismatch_sensitivity",
       "index": 0,
       "layout": "IPY_MODEL_409c1cf4e6c5476996dc81867580bbe1",
       "style": "IPY_MODEL_78e05b3276914fe28bf6d225daa46120"
      }
     },
     "260099cc0a8248f4a571ecd68b21535c": {
      "model_module": "@jupyter-widgets/controls",
      "model_module_version": "1.4.0",
      "model_name": "RadioButtonsModel",
      "state": {
       "_options_labels": [
        "1",
        "0.5",
        "0"
       ],
       "description": "penalty_strenth",
       "index": 0,
       "layout": "IPY_MODEL_10af501f6fcd4c6084d98f9dbe2251ef",
       "style": "IPY_MODEL_12f6e90bb8664f6dae61747208398da7"
      }
     },
     "261b2d97679d41c681a306342cd4701d": {
      "model_module": "@jupyter-widgets/controls",
      "model_module_version": "1.4.0",
      "model_name": "VBoxModel",
      "state": {
       "_dom_classes": [
        "widget-interact"
       ],
       "children": [
        "IPY_MODEL_f3ed379e52714b9e888a8ea634c7e5b7",
        "IPY_MODEL_9244c5baa2734c529fd940c444013235",
        "IPY_MODEL_19388f22539348e1a7cd2cfbf2b99579",
        "IPY_MODEL_44bad7d0e64a46c082fd33f6ba111692",
        "IPY_MODEL_a6a519b877584f9ca085a84399e68492",
        "IPY_MODEL_dc0d651004d7420689c3c67d35ee272e",
        "IPY_MODEL_eab0c2e346c046609ff7b8057dbbd174"
       ],
       "layout": "IPY_MODEL_417b05d94b154d878c9f58435109765f"
      }
     },
     "263331d7ca59470dbb6c9c2a56dbbcb9": {
      "model_module": "@jupyter-widgets/base",
      "model_module_version": "1.1.0",
      "model_name": "LayoutModel",
      "state": {}
     },
     "264156545fd247939024842ec68b147b": {
      "model_module": "@jupyter-widgets/controls",
      "model_module_version": "1.4.0",
      "model_name": "VBoxModel",
      "state": {
       "_dom_classes": [
        "widget-interact"
       ],
       "children": [
        "IPY_MODEL_d5fa6b93da5d4656a1ab62e3c06e80c8",
        "IPY_MODEL_0eeb416e331b45e985cb3725d07f1a02",
        "IPY_MODEL_a464460132aa477e937fd8728a021ee3",
        "IPY_MODEL_d131d05350974aeebec1ebf83935b93c",
        "IPY_MODEL_3631fde8d5f54168ae58f6da239b31cc",
        "IPY_MODEL_0148d23cb5454dd8ae93c4ca605f76ac",
        "IPY_MODEL_63e68ced0e464e219eed19a68291e144"
       ],
       "layout": "IPY_MODEL_e8d5d76caec54b3a8a2d4c569f4c09b5"
      }
     },
     "2678d8d4fc0f4cf5b6a8926792d8cc05": {
      "model_module": "@jupyter-widgets/controls",
      "model_module_version": "1.4.0",
      "model_name": "RadioButtonsModel",
      "state": {
       "_options_labels": [
        "0",
        "0.01"
       ],
       "description": "noise",
       "index": 0,
       "layout": "IPY_MODEL_005a0762503746c5a0fdd530858b317a",
       "style": "IPY_MODEL_97dfb85b81ff4dcc8ddd71569dda86f5"
      }
     },
     "26ac40849fed4075b02a409263b3757c": {
      "model_module": "@jupyter-widgets/output",
      "model_module_version": "1.0.0",
      "model_name": "OutputModel",
      "state": {
       "layout": "IPY_MODEL_3c91e248ec1d420da1894f1f7bd43b13"
      }
     },
     "26d0e99166ef4a72ba412b7ef8e3ae57": {
      "model_module": "@jupyter-widgets/controls",
      "model_module_version": "1.4.0",
      "model_name": "DescriptionStyleModel",
      "state": {
       "description_width": ""
      }
     },
     "272dc1bc7a6144cb95b3e9d7ddcb8a1e": {
      "model_module": "@jupyter-widgets/controls",
      "model_module_version": "1.4.0",
      "model_name": "RadioButtonsModel",
      "state": {
       "_options_labels": [
        "0",
        "0.01"
       ],
       "description": "noise",
       "index": 0,
       "layout": "IPY_MODEL_c88892b84bb14566a190806a338a8c48",
       "style": "IPY_MODEL_dd34629a33774dfdb06827cc5b42cf63"
      }
     },
     "275ca6290c9a45e5a03f1c73dd1fe89e": {
      "model_module": "@jupyter-widgets/controls",
      "model_module_version": "1.4.0",
      "model_name": "DescriptionStyleModel",
      "state": {
       "description_width": ""
      }
     },
     "278ebd1eb5974ebd81988fe25bd66058": {
      "model_module": "@jupyter-widgets/controls",
      "model_module_version": "1.4.0",
      "model_name": "RadioButtonsModel",
      "state": {
       "_options_labels": [
        "0",
        "1",
        "2",
        "4",
        "8",
        "16",
        "32",
        "64"
       ],
       "description": "max_mismatch",
       "index": 0,
       "layout": "IPY_MODEL_c70a58ce573743ff8cc587910fb4f34b",
       "style": "IPY_MODEL_51b6c2396e1448aebd544ce08ae3141e"
      }
     },
     "281f16d8e9824133b00388fc87e438fb": {
      "model_module": "@jupyter-widgets/base",
      "model_module_version": "1.1.0",
      "model_name": "LayoutModel",
      "state": {}
     },
     "28e3ed00dad14071a577b2c9d0648332": {
      "model_module": "@jupyter-widgets/controls",
      "model_module_version": "1.4.0",
      "model_name": "ToggleButtonsStyleModel",
      "state": {
       "button_width": "",
       "description_width": ""
      }
     },
     "2944807194004fdfb1a8469bb93487a7": {
      "model_module": "@jupyter-widgets/controls",
      "model_module_version": "1.4.0",
      "model_name": "DescriptionStyleModel",
      "state": {
       "description_width": ""
      }
     },
     "296afb0b36344f208d9997e5a92a9b9a": {
      "model_module": "@jupyter-widgets/controls",
      "model_module_version": "1.4.0",
      "model_name": "DescriptionStyleModel",
      "state": {
       "description_width": ""
      }
     },
     "29b1638ada77423f999e819242fe1ce6": {
      "model_module": "@jupyter-widgets/controls",
      "model_module_version": "1.4.0",
      "model_name": "RadioButtonsModel",
      "state": {
       "_options_labels": [
        "1",
        "3"
       ],
       "description": "n_retrievals",
       "index": 0,
       "layout": "IPY_MODEL_ee400187f4ae4070b9af4bb790b8121a",
       "style": "IPY_MODEL_bcfc98b95b6047b88dc0da39ec1d76e3"
      }
     },
     "29b947d44f1e41008b185790a48c77d4": {
      "model_module": "@jupyter-widgets/controls",
      "model_module_version": "1.4.0",
      "model_name": "DescriptionStyleModel",
      "state": {
       "description_width": ""
      }
     },
     "2a168d2275914dc7a6342d7f08f931b2": {
      "model_module": "@jupyter-widgets/base",
      "model_module_version": "1.1.0",
      "model_name": "LayoutModel",
      "state": {}
     },
     "2a5a592657ab4c4d9e7e7a990c975659": {
      "model_module": "@jupyter-widgets/controls",
      "model_module_version": "1.4.0",
      "model_name": "ToggleButtonsStyleModel",
      "state": {
       "button_width": "",
       "description_width": ""
      }
     },
     "2ac0f76761f3457b8e3b725e76256c29": {
      "model_module": "@jupyter-widgets/controls",
      "model_module_version": "1.4.0",
      "model_name": "RadioButtonsModel",
      "state": {
       "_options_labels": [
        "0",
        "1.0"
       ],
       "description": "mismatch_sensitivity",
       "index": 0,
       "layout": "IPY_MODEL_d89dfebb155a4e2d8929f5b6773e9aac",
       "style": "IPY_MODEL_a30ef1857f2d47a2a8546601ff277933"
      }
     },
     "2b531cc2dbae4e3b9d676ec432650cfe": {
      "model_module": "@jupyter-widgets/controls",
      "model_module_version": "1.4.0",
      "model_name": "ToggleButtonsStyleModel",
      "state": {
       "button_width": "",
       "description_width": ""
      }
     },
     "2bb78736b34b451995c9b354a4833e33": {
      "model_module": "@jupyter-widgets/controls",
      "model_module_version": "1.4.0",
      "model_name": "DescriptionStyleModel",
      "state": {
       "description_width": ""
      }
     },
     "2cff8db97928474384f9e6afd30041d1": {
      "model_module": "@jupyter-widgets/controls",
      "model_module_version": "1.4.0",
      "model_name": "RadioButtonsModel",
      "state": {
       "_options_labels": [
        "0.25"
       ],
       "description": "ambiguity",
       "index": 0,
       "layout": "IPY_MODEL_231daa65322042f885ad1cd5170ba0d0",
       "style": "IPY_MODEL_9b8081db580342a094ab6aaa6813d47d"
      }
     },
     "2d197a13aa134362bf46d474b9e8a9b0": {
      "model_module": "@jupyter-widgets/base",
      "model_module_version": "1.1.0",
      "model_name": "LayoutModel",
      "state": {}
     },
     "2da421f1c163482986f796accc70df42": {
      "model_module": "@jupyter-widgets/base",
      "model_module_version": "1.1.0",
      "model_name": "LayoutModel",
      "state": {}
     },
     "2dee705b75914320bf07a0a6552eaadd": {
      "model_module": "@jupyter-widgets/controls",
      "model_module_version": "1.4.0",
      "model_name": "SelectionSliderModel",
      "state": {
       "_options_labels": [
        "0",
        "1",
        "2",
        "4",
        "8",
        "16",
        "32",
        "64"
       ],
       "continuous_update": false,
       "description": "Max-mismatch",
       "index": 0,
       "layout": "IPY_MODEL_c79e6ebe93e5482eae5bb8ed8f5a376e",
       "style": "IPY_MODEL_4bafdb024f90430abf080fce3795e35f"
      }
     },
     "2e540e1e51b84a1ab614197b4b2f1e87": {
      "model_module": "@jupyter-widgets/controls",
      "model_module_version": "1.4.0",
      "model_name": "DescriptionStyleModel",
      "state": {
       "description_width": ""
      }
     },
     "2ea977d17a5e49bfafb5fdca4b3ec6ca": {
      "model_module": "@jupyter-widgets/base",
      "model_module_version": "1.1.0",
      "model_name": "LayoutModel",
      "state": {}
     },
     "2edaf7d23a7348b5b3f9e2bed752f2a8": {
      "model_module": "@jupyter-widgets/controls",
      "model_module_version": "1.4.0",
      "model_name": "RadioButtonsModel",
      "state": {
       "_options_labels": [
        "0",
        "0.01"
       ],
       "description": "noise",
       "index": 0,
       "layout": "IPY_MODEL_f5920c564d784d3e9de78eea4c89c0be",
       "style": "IPY_MODEL_eadc2493d49d494db9e728e3655a1843"
      }
     },
     "2ef9dfd2675243169a5f137e21d15d05": {
      "model_module": "@jupyter-widgets/output",
      "model_module_version": "1.0.0",
      "model_name": "OutputModel",
      "state": {
       "layout": "IPY_MODEL_8de17e11752c48efb8706eb5bab03789"
      }
     },
     "2fcf52fc96ab4d4a8eba97a46a8e92cf": {
      "model_module": "@jupyter-widgets/controls",
      "model_module_version": "1.4.0",
      "model_name": "DescriptionStyleModel",
      "state": {
       "description_width": ""
      }
     },
     "2ff33da2e00545249bf094da5125c60a": {
      "model_module": "@jupyter-widgets/base",
      "model_module_version": "1.1.0",
      "model_name": "LayoutModel",
      "state": {}
     },
     "2ffd8d7aa36640d29dee2588afb505c2": {
      "model_module": "@jupyter-widgets/controls",
      "model_module_version": "1.4.0",
      "model_name": "VBoxModel",
      "state": {
       "_dom_classes": [
        "widget-interact"
       ],
       "children": [
        "IPY_MODEL_76cd9007ab9c4b36a672ceb12e26caff",
        "IPY_MODEL_8355a8e14c53434f985473c54245543a",
        "IPY_MODEL_f72639dd02d84d54b3583ea1044ef14d",
        "IPY_MODEL_b1094598ddad4c6d924a028e68f72acd",
        "IPY_MODEL_53061cd5665d4dc1a202be0f73fcec06",
        "IPY_MODEL_1029c07dc9014be8b0e677291b55caa9",
        "IPY_MODEL_ec87c57a144d45d8975dcce294a4c124"
       ],
       "layout": "IPY_MODEL_753db5a73cf04f229341cbcfbccd36de"
      }
     },
     "3096d9520da0443484baf21c2734198f": {
      "model_module": "@jupyter-widgets/base",
      "model_module_version": "1.1.0",
      "model_name": "LayoutModel",
      "state": {}
     },
     "312cc7705ff7462ba132b1f051e3acb4": {
      "model_module": "@jupyter-widgets/controls",
      "model_module_version": "1.4.0",
      "model_name": "RadioButtonsModel",
      "state": {
       "_options_labels": [
        "0",
        "0.01"
       ],
       "description": "noise",
       "index": 0,
       "layout": "IPY_MODEL_f1cc39d8420348bd875eecab79aabe03",
       "style": "IPY_MODEL_569d3004f07b48b0b772edc7c3caecde"
      }
     },
     "3262dadb5d98486e9ceb6d7b2ae0e50d": {
      "model_module": "@jupyter-widgets/controls",
      "model_module_version": "1.4.0",
      "model_name": "VBoxModel",
      "state": {
       "_dom_classes": [
        "widget-interact"
       ],
       "children": [
        "IPY_MODEL_387406de582849f3b80619256f775dcb",
        "IPY_MODEL_b6f47521d2234c8f8a3ad1669c53cf2a",
        "IPY_MODEL_9a63239140004770b9fc8ade5a8bd972",
        "IPY_MODEL_84869679b8034d00921a138d6524e428",
        "IPY_MODEL_1013b0db7f9642d7a94dde8ac968918d",
        "IPY_MODEL_8f4d9938b1194752b71b09c365b6fcf3",
        "IPY_MODEL_1190b0377f7d487e996849511b5b963d"
       ],
       "layout": "IPY_MODEL_2483450f0cd944e58a65bceb604febc0"
      }
     },
     "3322287ecbcb44f7b5e87780f807cc65": {
      "model_module": "@jupyter-widgets/base",
      "model_module_version": "1.1.0",
      "model_name": "LayoutModel",
      "state": {}
     },
     "34ed630059424b2bbbaff1fdcb0d664f": {
      "model_module": "@jupyter-widgets/base",
      "model_module_version": "1.1.0",
      "model_name": "LayoutModel",
      "state": {}
     },
     "353116a94ba64e23b1c735fa56fd6c16": {
      "model_module": "@jupyter-widgets/controls",
      "model_module_version": "1.4.0",
      "model_name": "ToggleButtonsStyleModel",
      "state": {
       "button_width": "",
       "description_width": ""
      }
     },
     "3587468756c94629b9841da345664529": {
      "model_module": "@jupyter-widgets/base",
      "model_module_version": "1.1.0",
      "model_name": "LayoutModel",
      "state": {}
     },
     "3631fde8d5f54168ae58f6da239b31cc": {
      "model_module": "@jupyter-widgets/controls",
      "model_module_version": "1.4.0",
      "model_name": "SelectionSliderModel",
      "state": {
       "_options_labels": [
        "0",
        "1",
        "2",
        "4",
        "8",
        "16",
        "32",
        "64"
       ],
       "continuous_update": false,
       "description": "Max-mismatch",
       "index": 0,
       "layout": "IPY_MODEL_8f83cb0aea0a4b4f81f7a1942bd5a801",
       "style": "IPY_MODEL_b296a6603a1d4ecd8f695fc8af5d0acb"
      }
     },
     "363c0803eb394e2aa2d50c9d1a1c7499": {
      "model_module": "@jupyter-widgets/controls",
      "model_module_version": "1.4.0",
      "model_name": "DescriptionStyleModel",
      "state": {
       "description_width": ""
      }
     },
     "36810d4368454aa691466d943e2f8eee": {
      "model_module": "@jupyter-widgets/controls",
      "model_module_version": "1.4.0",
      "model_name": "DescriptionStyleModel",
      "state": {
       "description_width": ""
      }
     },
     "37343743862d4b1bb98c7211159fdca3": {
      "model_module": "@jupyter-widgets/controls",
      "model_module_version": "1.4.0",
      "model_name": "DescriptionStyleModel",
      "state": {
       "description_width": ""
      }
     },
     "37a5031ce99140f5993036f7ad6745eb": {
      "model_module": "@jupyter-widgets/base",
      "model_module_version": "1.1.0",
      "model_name": "LayoutModel",
      "state": {}
     },
     "37bb8b785105448db7962898e885a582": {
      "model_module": "@jupyter-widgets/controls",
      "model_module_version": "1.4.0",
      "model_name": "RadioButtonsModel",
      "state": {
       "_options_labels": [
        "0",
        "0.01"
       ],
       "description": "noise",
       "index": 0,
       "layout": "IPY_MODEL_10631a8c24ec4b398be96d1bf7b2b805",
       "style": "IPY_MODEL_9503ea0ec3264035aaf62492c1ec1161"
      }
     },
     "38423a15ce2e4ed2b0b292c0887770c4": {
      "model_module": "@jupyter-widgets/base",
      "model_module_version": "1.1.0",
      "model_name": "LayoutModel",
      "state": {}
     },
     "38655282b4b04fff809db0a7cfb3fba4": {
      "model_module": "@jupyter-widgets/controls",
      "model_module_version": "1.4.0",
      "model_name": "DescriptionStyleModel",
      "state": {
       "description_width": ""
      }
     },
     "387406de582849f3b80619256f775dcb": {
      "model_module": "@jupyter-widgets/controls",
      "model_module_version": "1.4.0",
      "model_name": "RadioButtonsModel",
      "state": {
       "_options_labels": [
        "0.25"
       ],
       "description": "ambiguity",
       "index": 0,
       "layout": "IPY_MODEL_a00863f309d2433dac16239b3f24179e",
       "style": "IPY_MODEL_d49103fbf20a4f71a0a016f7f4c3144f"
      }
     },
     "3886f90be6134136be93b8fa9be77f90": {
      "model_module": "@jupyter-widgets/base",
      "model_module_version": "1.1.0",
      "model_name": "LayoutModel",
      "state": {}
     },
     "38c22e318cea4991b4f67d9ba777c19b": {
      "model_module": "@jupyter-widgets/base",
      "model_module_version": "1.1.0",
      "model_name": "LayoutModel",
      "state": {}
     },
     "3937a82ca6f44f30a48df564eef185c8": {
      "model_module": "@jupyter-widgets/controls",
      "model_module_version": "1.4.0",
      "model_name": "RadioButtonsModel",
      "state": {
       "_options_labels": [
        "0",
        "1.0"
       ],
       "description": "mismatch_sensitivity",
       "index": 1,
       "layout": "IPY_MODEL_34ed630059424b2bbbaff1fdcb0d664f",
       "style": "IPY_MODEL_66cd2ee54dbe4a74bbb432e20ff9226f"
      }
     },
     "398bd307df7c4dec9d977841e3f79d46": {
      "model_module": "@jupyter-widgets/controls",
      "model_module_version": "1.4.0",
      "model_name": "DescriptionStyleModel",
      "state": {
       "description_width": ""
      }
     },
     "39c8b90bce764876ac1fb4dbfd33a2ec": {
      "model_module": "@jupyter-widgets/controls",
      "model_module_version": "1.4.0",
      "model_name": "DescriptionStyleModel",
      "state": {
       "description_width": ""
      }
     },
     "3a169d3a13714ddc83ec67a0bda0737b": {
      "model_module": "@jupyter-widgets/base",
      "model_module_version": "1.1.0",
      "model_name": "LayoutModel",
      "state": {}
     },
     "3b794ec7250b4d6ab2ec6b8d4bf2bf7c": {
      "model_module": "@jupyter-widgets/base",
      "model_module_version": "1.1.0",
      "model_name": "LayoutModel",
      "state": {}
     },
     "3bf08897e65740e1a7fea4ff28bc4b03": {
      "model_module": "@jupyter-widgets/controls",
      "model_module_version": "1.4.0",
      "model_name": "RadioButtonsModel",
      "state": {
       "_options_labels": [
        "0",
        "1.0"
       ],
       "description": "mismatch_sensitivity",
       "index": 0,
       "layout": "IPY_MODEL_bd7f60c3e83343a8a34cd08b7b19c91d",
       "style": "IPY_MODEL_5d8bd1182108488cbddf7dc159b7b056"
      }
     },
     "3c539ddcee3642bd95a47a7ec2b3cdf7": {
      "model_module": "@jupyter-widgets/base",
      "model_module_version": "1.1.0",
      "model_name": "LayoutModel",
      "state": {}
     },
     "3c91e248ec1d420da1894f1f7bd43b13": {
      "model_module": "@jupyter-widgets/base",
      "model_module_version": "1.1.0",
      "model_name": "LayoutModel",
      "state": {}
     },
     "3cb5ef30d5af46caa3ddb746b2ed9031": {
      "model_module": "@jupyter-widgets/base",
      "model_module_version": "1.1.0",
      "model_name": "LayoutModel",
      "state": {}
     },
     "3e1ded26e1b245ae8556496ea9edfa89": {
      "model_module": "@jupyter-widgets/base",
      "model_module_version": "1.1.0",
      "model_name": "LayoutModel",
      "state": {}
     },
     "3e3a89a85e2345829d9bf80e45b66a9c": {
      "model_module": "@jupyter-widgets/controls",
      "model_module_version": "1.4.0",
      "model_name": "RadioButtonsModel",
      "state": {
       "_options_labels": [
        "0.25"
       ],
       "description": "ambiguity",
       "index": 0,
       "layout": "IPY_MODEL_8c38b8ea98f64fa09e5671ee8cafe504",
       "style": "IPY_MODEL_296afb0b36344f208d9997e5a92a9b9a"
      }
     },
     "3e54e9c803f245dcaf2b4d4c26942e77": {
      "model_module": "@jupyter-widgets/controls",
      "model_module_version": "1.4.0",
      "model_name": "ToggleButtonsModel",
      "state": {
       "_options_labels": [
        "1",
        "3"
       ],
       "button_style": "",
       "description": "n_retrievals",
       "icons": [],
       "index": 0,
       "layout": "IPY_MODEL_20ad04341fcd470ab9f8bbc146fd32b9",
       "style": "IPY_MODEL_981effe1fdfe46f083e9441ba8d9f52c",
       "tooltips": []
      }
     },
     "3ea390993ec74c988e0c273369712daf": {
      "model_module": "@jupyter-widgets/base",
      "model_module_version": "1.1.0",
      "model_name": "LayoutModel",
      "state": {}
     },
     "3ebfd0be284d4587b4767401ec1c9694": {
      "model_module": "@jupyter-widgets/base",
      "model_module_version": "1.1.0",
      "model_name": "LayoutModel",
      "state": {}
     },
     "3ee121c1bd7e4af49307ec1547c8cd03": {
      "model_module": "@jupyter-widgets/controls",
      "model_module_version": "1.4.0",
      "model_name": "RadioButtonsModel",
      "state": {
       "_options_labels": [
        "1",
        "3"
       ],
       "description": "n_retrievals",
       "index": 0,
       "layout": "IPY_MODEL_6ee84cb0926e488bb3d1ede92f4df244",
       "style": "IPY_MODEL_ed38627eb9744ee0bb252c55e7bea75b"
      }
     },
     "3f0de913924e42acba6eb3406876bdb4": {
      "model_module": "@jupyter-widgets/base",
      "model_module_version": "1.1.0",
      "model_name": "LayoutModel",
      "state": {}
     },
     "3fcadd84960c4d08b7b3bb86440d1d35": {
      "model_module": "@jupyter-widgets/base",
      "model_module_version": "1.1.0",
      "model_name": "LayoutModel",
      "state": {}
     },
     "403ae0cdd2f54b9eb256e4ec7a5a344f": {
      "model_module": "@jupyter-widgets/base",
      "model_module_version": "1.1.0",
      "model_name": "LayoutModel",
      "state": {}
     },
     "409c1cf4e6c5476996dc81867580bbe1": {
      "model_module": "@jupyter-widgets/base",
      "model_module_version": "1.1.0",
      "model_name": "LayoutModel",
      "state": {}
     },
     "416f40e65c134b5d8f5873b9d9def16e": {
      "model_module": "@jupyter-widgets/controls",
      "model_module_version": "1.4.0",
      "model_name": "VBoxModel",
      "state": {
       "_dom_classes": [
        "widget-interact"
       ],
       "children": [
        "IPY_MODEL_f54c32246eb44f1ba6c29837badbd217",
        "IPY_MODEL_0da1e7a73b684861ae1bc234bc45c077",
        "IPY_MODEL_a5f6ca9cf4dd43f58ad1ec9acbc902cb",
        "IPY_MODEL_67a0d7504f214c51b6c4547732660f23",
        "IPY_MODEL_50e7ad843d3849758396a92c0095ca72",
        "IPY_MODEL_ba30419cb3794f9cae454b16dba7e4bc",
        "IPY_MODEL_e459660659b044f98a4cb36955924fdd"
       ],
       "layout": "IPY_MODEL_fb66a4f064524618820bad6d5e3cb851"
      }
     },
     "417b05d94b154d878c9f58435109765f": {
      "model_module": "@jupyter-widgets/base",
      "model_module_version": "1.1.0",
      "model_name": "LayoutModel",
      "state": {}
     },
     "4255d167abeb4b9b9441340822c76b81": {
      "model_module": "@jupyter-widgets/base",
      "model_module_version": "1.1.0",
      "model_name": "LayoutModel",
      "state": {}
     },
     "4280ad125bf64dcbb323d656f735933f": {
      "model_module": "@jupyter-widgets/controls",
      "model_module_version": "1.4.0",
      "model_name": "DescriptionStyleModel",
      "state": {
       "description_width": ""
      }
     },
     "42812c489b0b41fdb8d5a71e8c4e85fa": {
      "model_module": "@jupyter-widgets/controls",
      "model_module_version": "1.4.0",
      "model_name": "RadioButtonsModel",
      "state": {
       "_options_labels": [
        "0.25"
       ],
       "description": "ambiguity",
       "index": 0,
       "layout": "IPY_MODEL_b47ea815a5eb48aabab073e63090bb7d",
       "style": "IPY_MODEL_48ce3bd62e584bb298a297ef2b9abe33"
      }
     },
     "42b9ab55b2f94855b390829dbe13e4e4": {
      "model_module": "@jupyter-widgets/controls",
      "model_module_version": "1.4.0",
      "model_name": "DescriptionStyleModel",
      "state": {
       "description_width": ""
      }
     },
     "42d6260301fa44439f8d622b2c2847b8": {
      "model_module": "@jupyter-widgets/controls",
      "model_module_version": "1.4.0",
      "model_name": "ToggleButtonsStyleModel",
      "state": {
       "button_width": "",
       "description_width": ""
      }
     },
     "43163a62666f46ceb82deb5748cc412b": {
      "model_module": "@jupyter-widgets/base",
      "model_module_version": "1.1.0",
      "model_name": "LayoutModel",
      "state": {}
     },
     "431a27c872994773ac7d384a20639153": {
      "model_module": "@jupyter-widgets/controls",
      "model_module_version": "1.4.0",
      "model_name": "DescriptionStyleModel",
      "state": {
       "description_width": ""
      }
     },
     "43c37a9353b84719bea4cc6fc9235f20": {
      "model_module": "@jupyter-widgets/base",
      "model_module_version": "1.1.0",
      "model_name": "LayoutModel",
      "state": {}
     },
     "43e9923cd7d44d7aa1bea675ed81d50c": {
      "model_module": "@jupyter-widgets/controls",
      "model_module_version": "1.4.0",
      "model_name": "DescriptionStyleModel",
      "state": {
       "description_width": ""
      }
     },
     "43ecfb92e82c4674b62048e84c3e49ec": {
      "model_module": "@jupyter-widgets/base",
      "model_module_version": "1.1.0",
      "model_name": "LayoutModel",
      "state": {}
     },
     "4402a403b8de4405a8790a5e9314098d": {
      "model_module": "@jupyter-widgets/controls",
      "model_module_version": "1.4.0",
      "model_name": "RadioButtonsModel",
      "state": {
       "_options_labels": [
        "0",
        "1.0"
       ],
       "description": "mismatch_sensitivity",
       "index": 0,
       "layout": "IPY_MODEL_c33e6b267ffe4a559fd3a7fc41f27921",
       "style": "IPY_MODEL_29b947d44f1e41008b185790a48c77d4"
      }
     },
     "4446e1a607ab4bf78ede51a01931e433": {
      "model_module": "@jupyter-widgets/base",
      "model_module_version": "1.1.0",
      "model_name": "LayoutModel",
      "state": {}
     },
     "449f260e1ef84327a69112a425b80278": {
      "model_module": "@jupyter-widgets/controls",
      "model_module_version": "1.4.0",
      "model_name": "DescriptionStyleModel",
      "state": {
       "description_width": ""
      }
     },
     "44bad7d0e64a46c082fd33f6ba111692": {
      "model_module": "@jupyter-widgets/controls",
      "model_module_version": "1.4.0",
      "model_name": "RadioButtonsModel",
      "state": {
       "_options_labels": [
        "0",
        "1.0"
       ],
       "description": "mismatch_sensitivity",
       "index": 0,
       "layout": "IPY_MODEL_f2e57c38b6f646faaee3432cf959510f",
       "style": "IPY_MODEL_62648865c3b04171834ea680733703fb"
      }
     },
     "45602eac527b4c48bff6e2dfb0e81c0c": {
      "model_module": "@jupyter-widgets/controls",
      "model_module_version": "1.4.0",
      "model_name": "RadioButtonsModel",
      "state": {
       "_options_labels": [
        "0",
        "0.01"
       ],
       "description": "noise",
       "index": 0,
       "layout": "IPY_MODEL_dd224b5b135d49d993c2dcfcf83f78ce",
       "style": "IPY_MODEL_eff0eaf09d704f449b1ddf233812b944"
      }
     },
     "45a34fd41f6941cc8beca2ad1d4a84d0": {
      "model_module": "@jupyter-widgets/controls",
      "model_module_version": "1.4.0",
      "model_name": "DescriptionStyleModel",
      "state": {
       "description_width": ""
      }
     },
     "45e3e2fc013c44dbbdb12b34d5662857": {
      "model_module": "@jupyter-widgets/controls",
      "model_module_version": "1.4.0",
      "model_name": "DescriptionStyleModel",
      "state": {
       "description_width": ""
      }
     },
     "460c40c7a5a04679bddce942392bc2d4": {
      "model_module": "@jupyter-widgets/controls",
      "model_module_version": "1.4.0",
      "model_name": "DescriptionStyleModel",
      "state": {
       "description_width": ""
      }
     },
     "4627492900df4840906704aef2e208b4": {
      "model_module": "@jupyter-widgets/controls",
      "model_module_version": "1.4.0",
      "model_name": "DescriptionStyleModel",
      "state": {
       "description_width": ""
      }
     },
     "46f78643952c45b4a5ddf5a3710e73a1": {
      "model_module": "@jupyter-widgets/controls",
      "model_module_version": "1.4.0",
      "model_name": "RadioButtonsModel",
      "state": {
       "_options_labels": [
        "1",
        "3"
       ],
       "description": "n_retrievals",
       "index": 0,
       "layout": "IPY_MODEL_3fcadd84960c4d08b7b3bb86440d1d35",
       "style": "IPY_MODEL_231f35d322d249b5be8b2618a7479ba1"
      }
     },
     "4702118038414accbb0dccbe6d0a2914": {
      "model_module": "@jupyter-widgets/controls",
      "model_module_version": "1.4.0",
      "model_name": "RadioButtonsModel",
      "state": {
       "_options_labels": [
        "0.25"
       ],
       "description": "ambiguity",
       "index": 0,
       "layout": "IPY_MODEL_802de5fafa4b4b27a6e0b157c2fe1c21",
       "style": "IPY_MODEL_6dd569b25d1847e5859d72abd40e8b99"
      }
     },
     "47071fc24e4b4040a440568add92f7c6": {
      "model_module": "@jupyter-widgets/controls",
      "model_module_version": "1.4.0",
      "model_name": "ToggleButtonsModel",
      "state": {
       "_options_labels": [
        "0",
        "1"
       ],
       "button_style": "",
       "description": "Penalty strenth",
       "icons": [],
       "index": 1,
       "layout": "IPY_MODEL_3a169d3a13714ddc83ec67a0bda0737b",
       "style": "IPY_MODEL_2b531cc2dbae4e3b9d676ec432650cfe",
       "tooltips": []
      }
     },
     "4778173892d14c419ceeb2363a26ace1": {
      "model_module": "@jupyter-widgets/controls",
      "model_module_version": "1.4.0",
      "model_name": "RadioButtonsModel",
      "state": {
       "_options_labels": [
        "0.25"
       ],
       "description": "ambiguity",
       "index": 0,
       "layout": "IPY_MODEL_482732028f7c4b52a55ced0d376e31a8",
       "style": "IPY_MODEL_8a9e6cf5841a4b86ace4a251d7e4446d"
      }
     },
     "47b43d7fcb72460eac83082cc8f1d2b0": {
      "model_module": "@jupyter-widgets/base",
      "model_module_version": "1.1.0",
      "model_name": "LayoutModel",
      "state": {}
     },
     "47d4a05deeb94fceb8a0bba965256fac": {
      "model_module": "@jupyter-widgets/controls",
      "model_module_version": "1.4.0",
      "model_name": "DescriptionStyleModel",
      "state": {
       "description_width": ""
      }
     },
     "481440064b794f63b08c3e8ef0b6377f": {
      "model_module": "@jupyter-widgets/controls",
      "model_module_version": "1.4.0",
      "model_name": "DescriptionStyleModel",
      "state": {
       "description_width": ""
      }
     },
     "482732028f7c4b52a55ced0d376e31a8": {
      "model_module": "@jupyter-widgets/base",
      "model_module_version": "1.1.0",
      "model_name": "LayoutModel",
      "state": {}
     },
     "48ce3bd62e584bb298a297ef2b9abe33": {
      "model_module": "@jupyter-widgets/controls",
      "model_module_version": "1.4.0",
      "model_name": "DescriptionStyleModel",
      "state": {
       "description_width": ""
      }
     },
     "48d681ce4783469f800c0b81b5481ece": {
      "model_module": "@jupyter-widgets/base",
      "model_module_version": "1.1.0",
      "model_name": "LayoutModel",
      "state": {}
     },
     "49aa049921ee498f85b094b387ea0da3": {
      "model_module": "@jupyter-widgets/base",
      "model_module_version": "1.1.0",
      "model_name": "LayoutModel",
      "state": {}
     },
     "4a0bb967a57e4515949c0e062825fd4f": {
      "model_module": "@jupyter-widgets/controls",
      "model_module_version": "1.4.0",
      "model_name": "DescriptionStyleModel",
      "state": {
       "description_width": ""
      }
     },
     "4a3596bec605463fbf86b5cf295852cd": {
      "model_module": "@jupyter-widgets/controls",
      "model_module_version": "1.4.0",
      "model_name": "DescriptionStyleModel",
      "state": {
       "description_width": ""
      }
     },
     "4a646a3b45314103bb42825e9cf61661": {
      "model_module": "@jupyter-widgets/controls",
      "model_module_version": "1.4.0",
      "model_name": "ToggleButtonsModel",
      "state": {
       "_options_labels": [
        "0",
        "1.0"
       ],
       "button_style": "",
       "description": "mismatch_sensitivity",
       "icons": [],
       "index": 1,
       "layout": "IPY_MODEL_ef0c02f1d5384105ac6e71b121be2e40",
       "style": "IPY_MODEL_0c08f3fdaa59459d9bebb6b9f05f354d",
       "tooltips": []
      }
     },
     "4a9d78166f4147c19a6b7a54f745986b": {
      "model_module": "@jupyter-widgets/base",
      "model_module_version": "1.1.0",
      "model_name": "LayoutModel",
      "state": {}
     },
     "4aad49b786a44ff19ccaa9b1941dd174": {
      "model_module": "@jupyter-widgets/controls",
      "model_module_version": "1.4.0",
      "model_name": "RadioButtonsModel",
      "state": {
       "_options_labels": [
        "0",
        "1.0"
       ],
       "description": "mismatch_sensitivity",
       "index": 1,
       "layout": "IPY_MODEL_3ea390993ec74c988e0c273369712daf",
       "style": "IPY_MODEL_a392fdf3d26641cba99485d7a9d74949"
      }
     },
     "4adaa2051e754f21aa4a16e02507aad4": {
      "model_module": "@jupyter-widgets/base",
      "model_module_version": "1.1.0",
      "model_name": "LayoutModel",
      "state": {}
     },
     "4adcaefcf0ff41b7b1982718623e7fa2": {
      "model_module": "@jupyter-widgets/controls",
      "model_module_version": "1.4.0",
      "model_name": "DescriptionStyleModel",
      "state": {
       "description_width": ""
      }
     },
     "4ae6b1fd58c7476692b468a0b56e8bdf": {
      "model_module": "@jupyter-widgets/base",
      "model_module_version": "1.1.0",
      "model_name": "LayoutModel",
      "state": {}
     },
     "4bafdb024f90430abf080fce3795e35f": {
      "model_module": "@jupyter-widgets/controls",
      "model_module_version": "1.4.0",
      "model_name": "DescriptionStyleModel",
      "state": {
       "description_width": ""
      }
     },
     "4bb4c1996fb349ae91c9f50be956a1d8": {
      "model_module": "@jupyter-widgets/controls",
      "model_module_version": "1.4.0",
      "model_name": "VBoxModel",
      "state": {
       "_dom_classes": [
        "widget-interact"
       ],
       "children": [
        "IPY_MODEL_b09ce4a308a945ebbb2ec34fdfe5f671",
        "IPY_MODEL_65a3189852c743c4b23990ada7b2bd2a",
        "IPY_MODEL_ea65aa20467e415d98f71fe47ef44e46",
        "IPY_MODEL_4e80f7336b014e3b8eb8fb1c7f43eaa2",
        "IPY_MODEL_f9a70626d6d940c2a88f20d949b395fd",
        "IPY_MODEL_09a56ba18f9345e98c727f688c1e0626",
        "IPY_MODEL_bed1db98ff6b4df8a59fc7df9d1cd962"
       ],
       "layout": "IPY_MODEL_5cb690d602e546368096d4fe07cb2932"
      }
     },
     "4c74f6b51f18471794e52f9e5879e8f6": {
      "model_module": "@jupyter-widgets/controls",
      "model_module_version": "1.4.0",
      "model_name": "ToggleButtonsStyleModel",
      "state": {
       "button_width": "",
       "description_width": ""
      }
     },
     "4d439f9282924b7f9cc4de28c59f7bc1": {
      "model_module": "@jupyter-widgets/controls",
      "model_module_version": "1.4.0",
      "model_name": "VBoxModel",
      "state": {
       "_dom_classes": [
        "widget-interact"
       ],
       "children": [
        "IPY_MODEL_3e3a89a85e2345829d9bf80e45b66a9c",
        "IPY_MODEL_e9197a6dc7334c9fa93a2c2a2b5697b0",
        "IPY_MODEL_975282d5676d4cd180bd92f199de4d3c",
        "IPY_MODEL_ab41944780d147f9a31bf2b39cf12bf4",
        "IPY_MODEL_ed16cde9083b4e32ac2458bc5f4c65fb",
        "IPY_MODEL_e472fae90e264cb182ca44026f3200cd",
        "IPY_MODEL_86c5ad289ccb4f4288898d2d0f99094e"
       ],
       "layout": "IPY_MODEL_b8229aabb5e2488abdd4568cacb7fafb"
      }
     },
     "4e7a0c7bcef9419995eb45ca3ef88aac": {
      "model_module": "@jupyter-widgets/controls",
      "model_module_version": "1.4.0",
      "model_name": "ToggleButtonsModel",
      "state": {
       "_options_labels": [
        "0.25"
       ],
       "button_style": "",
       "description": "ambiguity",
       "icons": [],
       "index": 0,
       "layout": "IPY_MODEL_0bb556c8e323499eb79058cc32140bde",
       "style": "IPY_MODEL_4c74f6b51f18471794e52f9e5879e8f6",
       "tooltips": []
      }
     },
     "4e80f7336b014e3b8eb8fb1c7f43eaa2": {
      "model_module": "@jupyter-widgets/controls",
      "model_module_version": "1.4.0",
      "model_name": "RadioButtonsModel",
      "state": {
       "_options_labels": [
        "0",
        "1.0"
       ],
       "description": "mismatch_sensitivity",
       "index": 0,
       "layout": "IPY_MODEL_f84a3f0be64f4117a64aa589290854f9",
       "style": "IPY_MODEL_04b2271a41f14419bb23bc252bafddc4"
      }
     },
     "4ec6f0cd7fdd4f5eadb372c650e73df6": {
      "model_module": "@jupyter-widgets/controls",
      "model_module_version": "1.4.0",
      "model_name": "RadioButtonsModel",
      "state": {
       "_options_labels": [
        "0.25"
       ],
       "description": "ambiguity",
       "index": 0,
       "layout": "IPY_MODEL_e2cf581f9f554dedb68c7b1b312abc8f",
       "style": "IPY_MODEL_e58bd62cb2f144e39a0b9c2bc3800ad1"
      }
     },
     "4efc326075a74447920fab6cfe053c4d": {
      "model_module": "@jupyter-widgets/base",
      "model_module_version": "1.1.0",
      "model_name": "LayoutModel",
      "state": {}
     },
     "5060f74c1bd24773aa957e332c7b7ec8": {
      "model_module": "@jupyter-widgets/base",
      "model_module_version": "1.1.0",
      "model_name": "LayoutModel",
      "state": {}
     },
     "50e7ad843d3849758396a92c0095ca72": {
      "model_module": "@jupyter-widgets/controls",
      "model_module_version": "1.4.0",
      "model_name": "SelectionSliderModel",
      "state": {
       "_options_labels": [
        "0",
        "1",
        "2",
        "4",
        "8",
        "16",
        "32",
        "64"
       ],
       "continuous_update": false,
       "description": "Max-mismatch",
       "index": 0,
       "layout": "IPY_MODEL_80ac31d22cfd4da0986e76a8ba837ec6",
       "style": "IPY_MODEL_6c7a70cea4504969b65864d969964f32"
      }
     },
     "51581864fd654769b4c31bc2a15b41a1": {
      "model_module": "@jupyter-widgets/controls",
      "model_module_version": "1.4.0",
      "model_name": "SelectionSliderModel",
      "state": {
       "_options_labels": [
        "0",
        "1",
        "2",
        "4",
        "8",
        "16",
        "32",
        "64"
       ],
       "continuous_update": false,
       "description": "Max-mismatch",
       "index": 0,
       "layout": "IPY_MODEL_0967d63a43eb426daf6817ead86a0d6a",
       "style": "IPY_MODEL_164af1b3e0ff498bb9bdc2956ee30c63"
      }
     },
     "51b6c2396e1448aebd544ce08ae3141e": {
      "model_module": "@jupyter-widgets/controls",
      "model_module_version": "1.4.0",
      "model_name": "DescriptionStyleModel",
      "state": {
       "description_width": ""
      }
     },
     "5218f266d0de48459ff69818c5b781f6": {
      "model_module": "@jupyter-widgets/base",
      "model_module_version": "1.1.0",
      "model_name": "LayoutModel",
      "state": {}
     },
     "53061cd5665d4dc1a202be0f73fcec06": {
      "model_module": "@jupyter-widgets/controls",
      "model_module_version": "1.4.0",
      "model_name": "RadioButtonsModel",
      "state": {
       "_options_labels": [
        "0",
        "1",
        "2",
        "4",
        "8",
        "16",
        "32",
        "64"
       ],
       "description": "max_mismatch",
       "index": 0,
       "layout": "IPY_MODEL_5218f266d0de48459ff69818c5b781f6",
       "style": "IPY_MODEL_2e540e1e51b84a1ab614197b4b2f1e87"
      }
     },
     "53c8d8b2d377411d873c5d9c68fb4f82": {
      "model_module": "@jupyter-widgets/controls",
      "model_module_version": "1.4.0",
      "model_name": "VBoxModel",
      "state": {
       "_dom_classes": [
        "widget-interact"
       ],
       "children": [
        "IPY_MODEL_553908040aee4ec49cecb5cd30366f33",
        "IPY_MODEL_92e2711f9d6240759efd2c9be953dea4",
        "IPY_MODEL_55c01c71f83d4e6c8a3e1b8eb784d002",
        "IPY_MODEL_e3500a243b564534a88521d4fd60abc1",
        "IPY_MODEL_fdb0f3d89eb14c759168c6b21b0e3cc5",
        "IPY_MODEL_b4b24e4f1ebf457aa5da37ecd2674365",
        "IPY_MODEL_bde7cfb7b6ae4c53a3381aff5a8a5c8e"
       ],
       "layout": "IPY_MODEL_43ecfb92e82c4674b62048e84c3e49ec"
      }
     },
     "5488fbb378d14f1d9a85807b42bb72d4": {
      "model_module": "@jupyter-widgets/base",
      "model_module_version": "1.1.0",
      "model_name": "LayoutModel",
      "state": {}
     },
     "54b61c9ba1cb4f5a96303553c3b8c006": {
      "model_module": "@jupyter-widgets/controls",
      "model_module_version": "1.4.0",
      "model_name": "DescriptionStyleModel",
      "state": {
       "description_width": ""
      }
     },
     "553908040aee4ec49cecb5cd30366f33": {
      "model_module": "@jupyter-widgets/controls",
      "model_module_version": "1.4.0",
      "model_name": "ToggleButtonsModel",
      "state": {
       "_options_labels": [
        "0.25"
       ],
       "button_style": "",
       "description": "ambiguity",
       "icons": [],
       "index": 0,
       "layout": "IPY_MODEL_3f0de913924e42acba6eb3406876bdb4",
       "style": "IPY_MODEL_d853a99aadd747dbbb63996eb552ffb6",
       "tooltips": []
      }
     },
     "55c01c71f83d4e6c8a3e1b8eb784d002": {
      "model_module": "@jupyter-widgets/controls",
      "model_module_version": "1.4.0",
      "model_name": "ToggleButtonsModel",
      "state": {
       "_options_labels": [
        "1",
        "3"
       ],
       "button_style": "",
       "description": "n_retrievals",
       "icons": [],
       "index": 1,
       "layout": "IPY_MODEL_6effe088d8a84afeb6b6bbd141c293aa",
       "style": "IPY_MODEL_c1336e4c2f9b4aa7b6d3ba283234744d",
       "tooltips": []
      }
     },
     "560833329a994768947be44d616a9a06": {
      "model_module": "@jupyter-widgets/base",
      "model_module_version": "1.1.0",
      "model_name": "LayoutModel",
      "state": {}
     },
     "5612fe7546984373bc7b50427f3634ca": {
      "model_module": "@jupyter-widgets/controls",
      "model_module_version": "1.4.0",
      "model_name": "SliderStyleModel",
      "state": {
       "description_width": ""
      }
     },
     "563c2b027c434691b7e32c4168c773af": {
      "model_module": "@jupyter-widgets/controls",
      "model_module_version": "1.4.0",
      "model_name": "DescriptionStyleModel",
      "state": {
       "description_width": ""
      }
     },
     "5672f425e2f4485f91a9bbc2495b49cd": {
      "model_module": "@jupyter-widgets/controls",
      "model_module_version": "1.4.0",
      "model_name": "DescriptionStyleModel",
      "state": {
       "description_width": ""
      }
     },
     "569d3004f07b48b0b772edc7c3caecde": {
      "model_module": "@jupyter-widgets/controls",
      "model_module_version": "1.4.0",
      "model_name": "DescriptionStyleModel",
      "state": {
       "description_width": ""
      }
     },
     "56a17cb15f37466fb84ce408419645f2": {
      "model_module": "@jupyter-widgets/base",
      "model_module_version": "1.1.0",
      "model_name": "LayoutModel",
      "state": {}
     },
     "56e7964248494991969da9efb5d994d9": {
      "model_module": "@jupyter-widgets/controls",
      "model_module_version": "1.4.0",
      "model_name": "VBoxModel",
      "state": {
       "_dom_classes": [
        "widget-interact"
       ],
       "children": [
        "IPY_MODEL_42812c489b0b41fdb8d5a71e8c4e85fa",
        "IPY_MODEL_90142626a41d44d1a68c6f741c4ccf89",
        "IPY_MODEL_29b1638ada77423f999e819242fe1ce6",
        "IPY_MODEL_4aad49b786a44ff19ccaa9b1941dd174",
        "IPY_MODEL_ae132abdd4e9467e91c31fb75a25e11c",
        "IPY_MODEL_89b37572f0cb41cc8d0dd4aaca69106d",
        "IPY_MODEL_f8a0dc98998346be888fa8ac5755cc6c"
       ],
       "layout": "IPY_MODEL_d265b1fb0d0e47e4939aa78121ec6396"
      }
     },
     "5922d1b01029418bbdfabeebd4fd104f": {
      "model_module": "@jupyter-widgets/base",
      "model_module_version": "1.1.0",
      "model_name": "LayoutModel",
      "state": {}
     },
     "5a8f0a5d0ef54378b078d6974f828248": {
      "model_module": "@jupyter-widgets/controls",
      "model_module_version": "1.4.0",
      "model_name": "RadioButtonsModel",
      "state": {
       "_options_labels": [
        "0",
        "1",
        "2",
        "4",
        "8",
        "16",
        "32",
        "64"
       ],
       "description": "max_mismatch",
       "index": 0,
       "layout": "IPY_MODEL_38423a15ce2e4ed2b0b292c0887770c4",
       "style": "IPY_MODEL_9a171a8099074c73aca8d5c18a6099de"
      }
     },
     "5aa9583945e04be4b7f42dfecc76a0fd": {
      "model_module": "@jupyter-widgets/controls",
      "model_module_version": "1.4.0",
      "model_name": "DescriptionStyleModel",
      "state": {
       "description_width": ""
      }
     },
     "5b1d3d1b5f714df5b83738001fd6d4a9": {
      "model_module": "@jupyter-widgets/base",
      "model_module_version": "1.1.0",
      "model_name": "LayoutModel",
      "state": {}
     },
     "5b3544b3ae7741daa13f603c863b2e1b": {
      "model_module": "@jupyter-widgets/output",
      "model_module_version": "1.0.0",
      "model_name": "OutputModel",
      "state": {
       "layout": "IPY_MODEL_4adaa2051e754f21aa4a16e02507aad4"
      }
     },
     "5b580d04aa4949428c29cf23b237563d": {
      "model_module": "@jupyter-widgets/base",
      "model_module_version": "1.1.0",
      "model_name": "LayoutModel",
      "state": {}
     },
     "5cb690d602e546368096d4fe07cb2932": {
      "model_module": "@jupyter-widgets/base",
      "model_module_version": "1.1.0",
      "model_name": "LayoutModel",
      "state": {}
     },
     "5d4268e6e6fd422e92ff3748891807af": {
      "model_module": "@jupyter-widgets/base",
      "model_module_version": "1.1.0",
      "model_name": "LayoutModel",
      "state": {}
     },
     "5d551dc254cb413298b408743f896dec": {
      "model_module": "@jupyter-widgets/output",
      "model_module_version": "1.0.0",
      "model_name": "OutputModel",
      "state": {
       "layout": "IPY_MODEL_e9dc5c6eb4c64a1cb18aa4069c4d99b1"
      }
     },
     "5d8bd1182108488cbddf7dc159b7b056": {
      "model_module": "@jupyter-widgets/controls",
      "model_module_version": "1.4.0",
      "model_name": "DescriptionStyleModel",
      "state": {
       "description_width": ""
      }
     },
     "5dad2d222e81481882151640478812ef": {
      "model_module": "@jupyter-widgets/base",
      "model_module_version": "1.1.0",
      "model_name": "LayoutModel",
      "state": {}
     },
     "5dc3189bcdd344e480f4c90a65a3e5d5": {
      "model_module": "@jupyter-widgets/controls",
      "model_module_version": "1.4.0",
      "model_name": "DescriptionStyleModel",
      "state": {
       "description_width": ""
      }
     },
     "5e8de52399b0438e9068a9961be8a94f": {
      "model_module": "@jupyter-widgets/controls",
      "model_module_version": "1.4.0",
      "model_name": "ToggleButtonsStyleModel",
      "state": {
       "button_width": "",
       "description_width": ""
      }
     },
     "5f850356cdc14296a94409bf9aea2da4": {
      "model_module": "@jupyter-widgets/controls",
      "model_module_version": "1.4.0",
      "model_name": "RadioButtonsModel",
      "state": {
       "_options_labels": [
        "1",
        "3"
       ],
       "description": "n_retrievals",
       "index": 0,
       "layout": "IPY_MODEL_24221e7a22f44653ad75b804a244f165",
       "style": "IPY_MODEL_80c808d523274fa88ae808a2c68ea2ca"
      }
     },
     "5f983cfa84e94bf4b0df44dcd02d0878": {
      "model_module": "@jupyter-widgets/base",
      "model_module_version": "1.1.0",
      "model_name": "LayoutModel",
      "state": {}
     },
     "604e6bc44df74732a3018ffc0c25072a": {
      "model_module": "@jupyter-widgets/controls",
      "model_module_version": "1.4.0",
      "model_name": "DescriptionStyleModel",
      "state": {
       "description_width": ""
      }
     },
     "6220f1acb436456ba0dbd67f90cf5102": {
      "model_module": "@jupyter-widgets/base",
      "model_module_version": "1.1.0",
      "model_name": "LayoutModel",
      "state": {}
     },
     "624087b37aca4227bf1ead044f988942": {
      "model_module": "@jupyter-widgets/base",
      "model_module_version": "1.1.0",
      "model_name": "LayoutModel",
      "state": {}
     },
     "62648865c3b04171834ea680733703fb": {
      "model_module": "@jupyter-widgets/controls",
      "model_module_version": "1.4.0",
      "model_name": "DescriptionStyleModel",
      "state": {
       "description_width": ""
      }
     },
     "62658ca3d8dc4ff787e4cd7620b0e3bc": {
      "model_module": "@jupyter-widgets/base",
      "model_module_version": "1.1.0",
      "model_name": "LayoutModel",
      "state": {}
     },
     "62954c701936445c9a5c22bc9e5d9e2b": {
      "model_module": "@jupyter-widgets/base",
      "model_module_version": "1.1.0",
      "model_name": "LayoutModel",
      "state": {}
     },
     "62999377d2be4bbd8767ac448a701e84": {
      "model_module": "@jupyter-widgets/controls",
      "model_module_version": "1.4.0",
      "model_name": "DescriptionStyleModel",
      "state": {
       "description_width": ""
      }
     },
     "62b05966b48742c48eb162a3fa889623": {
      "model_module": "@jupyter-widgets/output",
      "model_module_version": "1.0.0",
      "model_name": "OutputModel",
      "state": {
       "layout": "IPY_MODEL_df79e4701d544525a9f66793b2a91208"
      }
     },
     "63e68ced0e464e219eed19a68291e144": {
      "model_module": "@jupyter-widgets/output",
      "model_module_version": "1.0.0",
      "model_name": "OutputModel",
      "state": {
       "layout": "IPY_MODEL_d62e54c2b15746c08011e76419e38b7a"
      }
     },
     "64131bb44a384fb6b2f451565d0a95e5": {
      "model_module": "@jupyter-widgets/controls",
      "model_module_version": "1.4.0",
      "model_name": "RadioButtonsModel",
      "state": {
       "_options_labels": [
        "0.25"
       ],
       "description": "ambiguity",
       "index": 0,
       "layout": "IPY_MODEL_ffb6dbe6a6b5423ba9ad9cb88b223a92",
       "style": "IPY_MODEL_5aa9583945e04be4b7f42dfecc76a0fd"
      }
     },
     "64ef30eca1144d4bb27332b03827ec20": {
      "model_module": "@jupyter-widgets/base",
      "model_module_version": "1.1.0",
      "model_name": "LayoutModel",
      "state": {}
     },
     "65a3189852c743c4b23990ada7b2bd2a": {
      "model_module": "@jupyter-widgets/controls",
      "model_module_version": "1.4.0",
      "model_name": "RadioButtonsModel",
      "state": {
       "_options_labels": [
        "0",
        "0.01"
       ],
       "description": "noise",
       "index": 0,
       "layout": "IPY_MODEL_d8968271f2e24a8e831c981de8649386",
       "style": "IPY_MODEL_39c8b90bce764876ac1fb4dbfd33a2ec"
      }
     },
     "65b117626c374b72a48cd150e0bb2c15": {
      "model_module": "@jupyter-widgets/base",
      "model_module_version": "1.1.0",
      "model_name": "LayoutModel",
      "state": {}
     },
     "65ff8c7b641c43ff99e05dd1f4161455": {
      "model_module": "@jupyter-widgets/base",
      "model_module_version": "1.1.0",
      "model_name": "LayoutModel",
      "state": {}
     },
     "6625cb1c2a044cfc8de86a07181467f8": {
      "model_module": "@jupyter-widgets/controls",
      "model_module_version": "1.4.0",
      "model_name": "ToggleButtonsModel",
      "state": {
       "_options_labels": [
        "0",
        "0.01"
       ],
       "button_style": "",
       "description": "noise",
       "icons": [],
       "index": 0,
       "layout": "IPY_MODEL_d70fda493eba4a4b972b67fee5742e99",
       "style": "IPY_MODEL_28e3ed00dad14071a577b2c9d0648332",
       "tooltips": []
      }
     },
     "6649ab492e0845eb8112935b00d5e593": {
      "model_module": "@jupyter-widgets/controls",
      "model_module_version": "1.4.0",
      "model_name": "RadioButtonsModel",
      "state": {
       "_options_labels": [
        "0",
        "1.0"
       ],
       "description": "mismatch_sensitivity",
       "index": 0,
       "layout": "IPY_MODEL_9550001c35a6469c8846d2934e098609",
       "style": "IPY_MODEL_9d11a08849e04a9fa7fb998d01bb4d74"
      }
     },
     "669a05e104c04fe78ee0d564214ae76a": {
      "model_module": "@jupyter-widgets/controls",
      "model_module_version": "1.4.0",
      "model_name": "RadioButtonsModel",
      "state": {
       "_options_labels": [
        "1",
        "3"
       ],
       "description": "n_retrievals",
       "index": 0,
       "layout": "IPY_MODEL_62658ca3d8dc4ff787e4cd7620b0e3bc",
       "style": "IPY_MODEL_38655282b4b04fff809db0a7cfb3fba4"
      }
     },
     "66b1be95477a4226b1ecc82e8496a7c7": {
      "model_module": "@jupyter-widgets/controls",
      "model_module_version": "1.4.0",
      "model_name": "DescriptionStyleModel",
      "state": {
       "description_width": ""
      }
     },
     "66bbd8ef3e7043da8e48f09f48560212": {
      "model_module": "@jupyter-widgets/controls",
      "model_module_version": "1.4.0",
      "model_name": "VBoxModel",
      "state": {
       "_dom_classes": [
        "widget-interact"
       ],
       "children": [
        "IPY_MODEL_db5668f3d0af4be2b9a3ee12c4ce7650",
        "IPY_MODEL_f2d0608997a0470fae1fa8a6a0bceeb5",
        "IPY_MODEL_3e54e9c803f245dcaf2b4d4c26942e77",
        "IPY_MODEL_138ee153462649b79ca9c31a08c9ce2f",
        "IPY_MODEL_8e19fdccddcc48659544e184fe4e659d",
        "IPY_MODEL_47071fc24e4b4040a440568add92f7c6",
        "IPY_MODEL_9443305ac4da44788770f2a84142c3ba"
       ],
       "layout": "IPY_MODEL_79f96d22a36243489f8259ec7ad62100"
      }
     },
     "66cd2ee54dbe4a74bbb432e20ff9226f": {
      "model_module": "@jupyter-widgets/controls",
      "model_module_version": "1.4.0",
      "model_name": "DescriptionStyleModel",
      "state": {
       "description_width": ""
      }
     },
     "66cf2d07572a404a9f18ffbfc9103379": {
      "model_module": "@jupyter-widgets/output",
      "model_module_version": "1.0.0",
      "model_name": "OutputModel",
      "state": {
       "layout": "IPY_MODEL_a70c8c5f11b74a078f7679525e5d2acc"
      }
     },
     "671b2e4fbd3e490b8e14131806aa8b18": {
      "model_module": "@jupyter-widgets/controls",
      "model_module_version": "1.4.0",
      "model_name": "DescriptionStyleModel",
      "state": {
       "description_width": ""
      }
     },
     "67a0d7504f214c51b6c4547732660f23": {
      "model_module": "@jupyter-widgets/controls",
      "model_module_version": "1.4.0",
      "model_name": "RadioButtonsModel",
      "state": {
       "_options_labels": [
        "0",
        "1.0"
       ],
       "description": "mismatch_sensitivity",
       "index": 1,
       "layout": "IPY_MODEL_6a2feb927c4c4c9ea1fb2c2d30d9ba61",
       "style": "IPY_MODEL_b238bd16228342f7850a9e1c730228f1"
      }
     },
     "6998ae1924e24bdcbae29bc03e840c25": {
      "model_module": "@jupyter-widgets/controls",
      "model_module_version": "1.4.0",
      "model_name": "SelectionSliderModel",
      "state": {
       "_options_labels": [
        "0",
        "1",
        "2",
        "4",
        "8",
        "16",
        "32",
        "64"
       ],
       "continuous_update": false,
       "description": "fixed_m2_val",
       "index": 0,
       "layout": "IPY_MODEL_f06d4cd5d215446294ead26a9a779f3a",
       "style": "IPY_MODEL_ccf348b813074ccca90619af4cfea105"
      }
     },
     "69e468c78ff24ee69062a88a45c57e48": {
      "model_module": "@jupyter-widgets/output",
      "model_module_version": "1.0.0",
      "model_name": "OutputModel",
      "state": {
       "layout": "IPY_MODEL_624087b37aca4227bf1ead044f988942"
      }
     },
     "6a2feb927c4c4c9ea1fb2c2d30d9ba61": {
      "model_module": "@jupyter-widgets/base",
      "model_module_version": "1.1.0",
      "model_name": "LayoutModel",
      "state": {}
     },
     "6a355b19fbe749ba83d50d821151c57e": {
      "model_module": "@jupyter-widgets/controls",
      "model_module_version": "1.4.0",
      "model_name": "DescriptionStyleModel",
      "state": {
       "description_width": ""
      }
     },
     "6a97cd1e1d1c4cd19bbc25e7802d9b00": {
      "model_module": "@jupyter-widgets/controls",
      "model_module_version": "1.4.0",
      "model_name": "DescriptionStyleModel",
      "state": {
       "description_width": ""
      }
     },
     "6b5c24b7d693431a8ace1d709a61386c": {
      "model_module": "@jupyter-widgets/controls",
      "model_module_version": "1.4.0",
      "model_name": "DescriptionStyleModel",
      "state": {
       "description_width": ""
      }
     },
     "6b7ab56a9959440eaab814ba39b8afe2": {
      "model_module": "@jupyter-widgets/controls",
      "model_module_version": "1.4.0",
      "model_name": "RadioButtonsModel",
      "state": {
       "_options_labels": [
        "0",
        "0.01"
       ],
       "description": "noise",
       "index": 0,
       "layout": "IPY_MODEL_81654d8de95e450699991991b37dcecc",
       "style": "IPY_MODEL_43e9923cd7d44d7aa1bea675ed81d50c"
      }
     },
     "6bb38838cde74a9d80c485d0f0f86729": {
      "model_module": "@jupyter-widgets/base",
      "model_module_version": "1.1.0",
      "model_name": "LayoutModel",
      "state": {}
     },
     "6c2824a344314ff383d1f58f12b13e35": {
      "model_module": "@jupyter-widgets/base",
      "model_module_version": "1.1.0",
      "model_name": "LayoutModel",
      "state": {}
     },
     "6c39c98beb3e4a39a550ac1111997d71": {
      "model_module": "@jupyter-widgets/controls",
      "model_module_version": "1.4.0",
      "model_name": "RadioButtonsModel",
      "state": {
       "_options_labels": [
        "0.25"
       ],
       "description": "ambiguity",
       "index": 0,
       "layout": "IPY_MODEL_75726d298ee64b03bee9c032ecaed584",
       "style": "IPY_MODEL_f0d43437ae2a42d18bd2a67f2193e3a8"
      }
     },
     "6c7a70cea4504969b65864d969964f32": {
      "model_module": "@jupyter-widgets/controls",
      "model_module_version": "1.4.0",
      "model_name": "DescriptionStyleModel",
      "state": {
       "description_width": ""
      }
     },
     "6c8c373aaba947948b66ce49e31e7332": {
      "model_module": "@jupyter-widgets/base",
      "model_module_version": "1.1.0",
      "model_name": "LayoutModel",
      "state": {}
     },
     "6dd569b25d1847e5859d72abd40e8b99": {
      "model_module": "@jupyter-widgets/controls",
      "model_module_version": "1.4.0",
      "model_name": "DescriptionStyleModel",
      "state": {
       "description_width": ""
      }
     },
     "6df02b9f92914fe2bd542c2cf40f002e": {
      "model_module": "@jupyter-widgets/controls",
      "model_module_version": "1.4.0",
      "model_name": "RadioButtonsModel",
      "state": {
       "_options_labels": [
        "1",
        "3"
       ],
       "description": "n_retrievals",
       "index": 0,
       "layout": "IPY_MODEL_1831725fe1754cab9bdb41716bb6e7e7",
       "style": "IPY_MODEL_671b2e4fbd3e490b8e14131806aa8b18"
      }
     },
     "6e4f2b81de8f46e8906d0ad66931ff93": {
      "model_module": "@jupyter-widgets/base",
      "model_module_version": "1.1.0",
      "model_name": "LayoutModel",
      "state": {}
     },
     "6e61053a7475449b9d6a47332f79497e": {
      "model_module": "@jupyter-widgets/controls",
      "model_module_version": "1.4.0",
      "model_name": "RadioButtonsModel",
      "state": {
       "_options_labels": [
        "0",
        "0.01"
       ],
       "description": "noise",
       "index": 0,
       "layout": "IPY_MODEL_5d4268e6e6fd422e92ff3748891807af",
       "style": "IPY_MODEL_e2a02c1a8a25482eb5b5581e723d6f08"
      }
     },
     "6ee84cb0926e488bb3d1ede92f4df244": {
      "model_module": "@jupyter-widgets/base",
      "model_module_version": "1.1.0",
      "model_name": "LayoutModel",
      "state": {}
     },
     "6effe088d8a84afeb6b6bbd141c293aa": {
      "model_module": "@jupyter-widgets/base",
      "model_module_version": "1.1.0",
      "model_name": "LayoutModel",
      "state": {}
     },
     "6f10c9caee6a4158bd4e884b74717f0f": {
      "model_module": "@jupyter-widgets/output",
      "model_module_version": "1.0.0",
      "model_name": "OutputModel",
      "state": {
       "layout": "IPY_MODEL_fbfa38d4c36f41399fd409c62046fe11"
      }
     },
     "6f47b3818f65459298798aca103d7100": {
      "model_module": "@jupyter-widgets/controls",
      "model_module_version": "1.4.0",
      "model_name": "RadioButtonsModel",
      "state": {
       "_options_labels": [
        "0.25"
       ],
       "description": "ambiguity",
       "index": 0,
       "layout": "IPY_MODEL_22a07f4d213e4ef2a3ed2839fff9e1d0",
       "style": "IPY_MODEL_e4f4f88e70d6423091a3d5d6791f03a9"
      }
     },
     "6f7cdecf88b04bd89975c58f353c22a2": {
      "model_module": "@jupyter-widgets/controls",
      "model_module_version": "1.4.0",
      "model_name": "DescriptionStyleModel",
      "state": {
       "description_width": ""
      }
     },
     "6fe8439641004d7aa29d6cd2f2a58107": {
      "model_module": "@jupyter-widgets/controls",
      "model_module_version": "1.4.0",
      "model_name": "SelectionSliderModel",
      "state": {
       "_options_labels": [
        "0",
        "1",
        "2",
        "4",
        "8",
        "16",
        "32",
        "64"
       ],
       "continuous_update": false,
       "description": "Max-mismatch",
       "index": 0,
       "layout": "IPY_MODEL_f6de4efcca83496b82000a5546adb175",
       "style": "IPY_MODEL_9d592830fcf2414cbbe6f2b62c9df68b"
      }
     },
     "705a38ac826d420f92eb04578e8cd747": {
      "model_module": "@jupyter-widgets/base",
      "model_module_version": "1.1.0",
      "model_name": "LayoutModel",
      "state": {}
     },
     "70d5e876757940459f5eb35eb5736a4e": {
      "model_module": "@jupyter-widgets/base",
      "model_module_version": "1.1.0",
      "model_name": "LayoutModel",
      "state": {}
     },
     "70ea0b07b1c14d67a8af1eeafe4b5df9": {
      "model_module": "@jupyter-widgets/controls",
      "model_module_version": "1.4.0",
      "model_name": "RadioButtonsModel",
      "state": {
       "_options_labels": [
        "1",
        "3"
       ],
       "description": "n_retrievals",
       "index": 0,
       "layout": "IPY_MODEL_5060f74c1bd24773aa957e332c7b7ec8",
       "style": "IPY_MODEL_460c40c7a5a04679bddce942392bc2d4"
      }
     },
     "713446a2b2f24180870e315a48d3d978": {
      "model_module": "@jupyter-widgets/base",
      "model_module_version": "1.1.0",
      "model_name": "LayoutModel",
      "state": {}
     },
     "721dc58404dc4af5940871e99fac5d44": {
      "model_module": "@jupyter-widgets/controls",
      "model_module_version": "1.4.0",
      "model_name": "RadioButtonsModel",
      "state": {
       "_options_labels": [
        "1",
        "0.5",
        "0"
       ],
       "description": "penalty_strenth",
       "index": 0,
       "layout": "IPY_MODEL_a76a163a728a4c978cd16df891eadc9c",
       "style": "IPY_MODEL_47d4a05deeb94fceb8a0bba965256fac"
      }
     },
     "7262298598404ec09665681cfb46feec": {
      "model_module": "@jupyter-widgets/controls",
      "model_module_version": "1.4.0",
      "model_name": "DescriptionStyleModel",
      "state": {
       "description_width": ""
      }
     },
     "72b8f1834a214289afebdb7b61935476": {
      "model_module": "@jupyter-widgets/controls",
      "model_module_version": "1.4.0",
      "model_name": "RadioButtonsModel",
      "state": {
       "_options_labels": [
        "0.25"
       ],
       "description": "ambiguity",
       "index": 0,
       "layout": "IPY_MODEL_ef8e652e7f104f63b18201053924dcd7",
       "style": "IPY_MODEL_ea23e7021c3b483faed0f231f397b820"
      }
     },
     "745034b2ba06412e9cb3a550fa148f20": {
      "model_module": "@jupyter-widgets/base",
      "model_module_version": "1.1.0",
      "model_name": "LayoutModel",
      "state": {}
     },
     "74ce5aecfa044d3eb43cd4cf3eb7e0d5": {
      "model_module": "@jupyter-widgets/controls",
      "model_module_version": "1.4.0",
      "model_name": "ToggleButtonsStyleModel",
      "state": {
       "button_width": "",
       "description_width": ""
      }
     },
     "74fbcbd8b544408794eabdd986d2f405": {
      "model_module": "@jupyter-widgets/base",
      "model_module_version": "1.1.0",
      "model_name": "LayoutModel",
      "state": {}
     },
     "751bcabfaace48d4b2c55c71fd4522e6": {
      "model_module": "@jupyter-widgets/output",
      "model_module_version": "1.0.0",
      "model_name": "OutputModel",
      "state": {
       "layout": "IPY_MODEL_5b580d04aa4949428c29cf23b237563d"
      }
     },
     "753db5a73cf04f229341cbcfbccd36de": {
      "model_module": "@jupyter-widgets/base",
      "model_module_version": "1.1.0",
      "model_name": "LayoutModel",
      "state": {}
     },
     "75726d298ee64b03bee9c032ecaed584": {
      "model_module": "@jupyter-widgets/base",
      "model_module_version": "1.1.0",
      "model_name": "LayoutModel",
      "state": {}
     },
     "75d0e3acf17546b3b6f6b2e711f42d0f": {
      "model_module": "@jupyter-widgets/base",
      "model_module_version": "1.1.0",
      "model_name": "LayoutModel",
      "state": {}
     },
     "7611cd596f93420d8096e470c616bcd8": {
      "model_module": "@jupyter-widgets/controls",
      "model_module_version": "1.4.0",
      "model_name": "RadioButtonsModel",
      "state": {
       "_options_labels": [
        "1",
        "3"
       ],
       "description": "n_retrievals",
       "index": 0,
       "layout": "IPY_MODEL_12eedc765d6a4c129297621208753655",
       "style": "IPY_MODEL_8719267b36044baa83902d8313ea0837"
      }
     },
     "761d5f61523d47e38af37c2728978e65": {
      "model_module": "@jupyter-widgets/base",
      "model_module_version": "1.1.0",
      "model_name": "LayoutModel",
      "state": {}
     },
     "76354e86f62143c98dcaae25574e3f80": {
      "model_module": "@jupyter-widgets/base",
      "model_module_version": "1.1.0",
      "model_name": "LayoutModel",
      "state": {}
     },
     "76804e765d37449f816b7a82edc8dd81": {
      "model_module": "@jupyter-widgets/controls",
      "model_module_version": "1.4.0",
      "model_name": "DescriptionStyleModel",
      "state": {
       "description_width": ""
      }
     },
     "768cb0dc988043aa9baaf2c151be90d4": {
      "model_module": "@jupyter-widgets/controls",
      "model_module_version": "1.4.0",
      "model_name": "RadioButtonsModel",
      "state": {
       "_options_labels": [
        "0",
        "1.0"
       ],
       "description": "mismatch_sensitivity",
       "index": 0,
       "layout": "IPY_MODEL_e850f468b4224cdc8526e2e4407f44a6",
       "style": "IPY_MODEL_1562f34fab3645bc80f358c0118a3179"
      }
     },
     "76a2ea8097014cf6afc7c79f1d8cce8f": {
      "model_module": "@jupyter-widgets/controls",
      "model_module_version": "1.4.0",
      "model_name": "RadioButtonsModel",
      "state": {
       "_options_labels": [
        "1",
        "3"
       ],
       "description": "n_retrievals",
       "index": 0,
       "layout": "IPY_MODEL_93d2d722214c4044ae24384d323e9511",
       "style": "IPY_MODEL_275ca6290c9a45e5a03f1c73dd1fe89e"
      }
     },
     "76cd9007ab9c4b36a672ceb12e26caff": {
      "model_module": "@jupyter-widgets/controls",
      "model_module_version": "1.4.0",
      "model_name": "RadioButtonsModel",
      "state": {
       "_options_labels": [
        "0.25"
       ],
       "description": "ambiguity",
       "index": 0,
       "layout": "IPY_MODEL_bc368177e0d340e59740fae51fca63dc",
       "style": "IPY_MODEL_ad6bb3079ae54671b8c654b0563943e0"
      }
     },
     "76d397105d6542f59be778f3654d4a81": {
      "model_module": "@jupyter-widgets/controls",
      "model_module_version": "1.4.0",
      "model_name": "ToggleButtonsStyleModel",
      "state": {
       "button_width": "",
       "description_width": ""
      }
     },
     "76e799e5af0045fab6e51f8c5a2ff4e8": {
      "model_module": "@jupyter-widgets/controls",
      "model_module_version": "1.4.0",
      "model_name": "VBoxModel",
      "state": {
       "_dom_classes": [
        "widget-interact"
       ],
       "children": [
        "IPY_MODEL_a0af02f7fe9c4874932da0faf49334a0",
        "IPY_MODEL_45602eac527b4c48bff6e2dfb0e81c0c",
        "IPY_MODEL_84271554616e4f53a6bb141958046f7d",
        "IPY_MODEL_795b0a5628e74f02a36708e19617c666",
        "IPY_MODEL_f58adb97d8694b4c8771f0c5ff0ae64c",
        "IPY_MODEL_e832dd03074c4ac289837885f8634193",
        "IPY_MODEL_96b3dfb529e542478e344cc2d2d15adc"
       ],
       "layout": "IPY_MODEL_6bb38838cde74a9d80c485d0f0f86729"
      }
     },
     "771ee14c393d4020bc47329267aed749": {
      "model_module": "@jupyter-widgets/controls",
      "model_module_version": "1.4.0",
      "model_name": "DescriptionStyleModel",
      "state": {
       "description_width": ""
      }
     },
     "773b79ed97e3425eb7ef621aaf995f5b": {
      "model_module": "@jupyter-widgets/base",
      "model_module_version": "1.1.0",
      "model_name": "LayoutModel",
      "state": {}
     },
     "77e2acd195004a1998f327d603b804f9": {
      "model_module": "@jupyter-widgets/base",
      "model_module_version": "1.1.0",
      "model_name": "LayoutModel",
      "state": {}
     },
     "7816349164f44da9903555f5099df82f": {
      "model_module": "@jupyter-widgets/base",
      "model_module_version": "1.1.0",
      "model_name": "LayoutModel",
      "state": {}
     },
     "78a5136fb52f4e669046e9c7ef722ac1": {
      "model_module": "@jupyter-widgets/controls",
      "model_module_version": "1.4.0",
      "model_name": "DescriptionStyleModel",
      "state": {
       "description_width": ""
      }
     },
     "78aa4de5c50249aeb300b9bdf39ed296": {
      "model_module": "@jupyter-widgets/base",
      "model_module_version": "1.1.0",
      "model_name": "LayoutModel",
      "state": {}
     },
     "78e05b3276914fe28bf6d225daa46120": {
      "model_module": "@jupyter-widgets/controls",
      "model_module_version": "1.4.0",
      "model_name": "DescriptionStyleModel",
      "state": {
       "description_width": ""
      }
     },
     "795b0a5628e74f02a36708e19617c666": {
      "model_module": "@jupyter-widgets/controls",
      "model_module_version": "1.4.0",
      "model_name": "RadioButtonsModel",
      "state": {
       "_options_labels": [
        "0",
        "1.0"
       ],
       "description": "mismatch_sensitivity",
       "index": 1,
       "layout": "IPY_MODEL_802675432915401094b38845398ef02b",
       "style": "IPY_MODEL_b73e90170bf14ccc9a811004444ab8ba"
      }
     },
     "79f96d22a36243489f8259ec7ad62100": {
      "model_module": "@jupyter-widgets/base",
      "model_module_version": "1.1.0",
      "model_name": "LayoutModel",
      "state": {}
     },
     "7a215799984540379a14ef29669f387e": {
      "model_module": "@jupyter-widgets/controls",
      "model_module_version": "1.4.0",
      "model_name": "ToggleButtonsModel",
      "state": {
       "_options_labels": [
        "0",
        "1"
       ],
       "button_style": "",
       "description": "Penalty strenth",
       "icons": [],
       "index": 1,
       "layout": "IPY_MODEL_3587468756c94629b9841da345664529",
       "style": "IPY_MODEL_a527fd7bf4d242a2b694329b50097628",
       "tooltips": []
      }
     },
     "7a3cd8d79d304965aa52ac73bbfd04a6": {
      "model_module": "@jupyter-widgets/controls",
      "model_module_version": "1.4.0",
      "model_name": "RadioButtonsModel",
      "state": {
       "_options_labels": [
        "1",
        "3"
       ],
       "description": "n_retrievals",
       "index": 0,
       "layout": "IPY_MODEL_bbdad78f53104e07b549de6d5d1ac2e3",
       "style": "IPY_MODEL_e2fbb728c3c644ff9e6704b058464ce4"
      }
     },
     "7a58ef8927e947d7bc199535d0733fb4": {
      "model_module": "@jupyter-widgets/controls",
      "model_module_version": "1.4.0",
      "model_name": "DescriptionStyleModel",
      "state": {
       "description_width": ""
      }
     },
     "7a6db8ff15d742f1976b7408556d2d6e": {
      "model_module": "@jupyter-widgets/controls",
      "model_module_version": "1.4.0",
      "model_name": "SelectionSliderModel",
      "state": {
       "_options_labels": [
        "0",
        "1",
        "2",
        "4",
        "8",
        "16",
        "32",
        "64"
       ],
       "continuous_update": false,
       "description": "Max-mismatch",
       "index": 0,
       "layout": "IPY_MODEL_4255d167abeb4b9b9441340822c76b81",
       "style": "IPY_MODEL_a03557f389b24913b394f50d7d6541fe"
      }
     },
     "7aa3146e47374c248a8b5be71d69e571": {
      "model_module": "@jupyter-widgets/controls",
      "model_module_version": "1.4.0",
      "model_name": "ToggleButtonsModel",
      "state": {
       "_options_labels": [
        "1",
        "3"
       ],
       "button_style": "",
       "description": "n_retrievals",
       "icons": [],
       "index": 0,
       "layout": "IPY_MODEL_0e154860f55e4e06993673ebb4b2e78e",
       "style": "IPY_MODEL_efc92b1d4b714e7e9732de7cde3b3873",
       "tooltips": []
      }
     },
     "7aab15a5ab564e5e9d53e3aeec4fa0d6": {
      "model_module": "@jupyter-widgets/controls",
      "model_module_version": "1.4.0",
      "model_name": "SelectionSliderModel",
      "state": {
       "_options_labels": [
        "0",
        "1",
        "2",
        "4",
        "8",
        "16",
        "32",
        "64"
       ],
       "continuous_update": false,
       "description": "Max-mismatch",
       "index": 0,
       "layout": "IPY_MODEL_0fbbfe56794243c683c9b76d02131de4",
       "style": "IPY_MODEL_c456b594ec004d52bac9e4b138e8f25a"
      }
     },
     "7accb034136042f7baac6440fe389701": {
      "model_module": "@jupyter-widgets/controls",
      "model_module_version": "1.4.0",
      "model_name": "VBoxModel",
      "state": {
       "_dom_classes": [
        "widget-interact"
       ],
       "children": [
        "IPY_MODEL_0b56526ed2d54c808c67ce3ab015feef",
        "IPY_MODEL_8462029f133740cbaad184fc882d986f",
        "IPY_MODEL_0922b474f8d2474b88bba1a5a3066407",
        "IPY_MODEL_9c8c73e5eef449aba443a42641ff29b9",
        "IPY_MODEL_c5c5da2f6eae464f8fa6642285ed345c",
        "IPY_MODEL_e5dae9b852284fc096acf3fdbac08f84",
        "IPY_MODEL_5b3544b3ae7741daa13f603c863b2e1b"
       ],
       "layout": "IPY_MODEL_dae7b1d5c804451abf14fd2ebe0f123f"
      }
     },
     "7ae0bcb5440d44058ff6fe9ccfc906a2": {
      "model_module": "@jupyter-widgets/controls",
      "model_module_version": "1.4.0",
      "model_name": "RadioButtonsModel",
      "state": {
       "_options_labels": [
        "0",
        "1.0"
       ],
       "description": "mismatch_sensitivity",
       "index": 1,
       "layout": "IPY_MODEL_3ebfd0be284d4587b4767401ec1c9694",
       "style": "IPY_MODEL_bc5c2d21480942f39fdd81a637455e0d"
      }
     },
     "7b31d54da56d49c393ed4ccdbbdadf6e": {
      "model_module": "@jupyter-widgets/base",
      "model_module_version": "1.1.0",
      "model_name": "LayoutModel",
      "state": {}
     },
     "7bdc75f40a2946969c83c387ee994e6f": {
      "model_module": "@jupyter-widgets/base",
      "model_module_version": "1.1.0",
      "model_name": "LayoutModel",
      "state": {}
     },
     "7bdec0e216fb495d8c28b20fe2e6b1f4": {
      "model_module": "@jupyter-widgets/controls",
      "model_module_version": "1.4.0",
      "model_name": "DescriptionStyleModel",
      "state": {
       "description_width": ""
      }
     },
     "7bf510b47f2e4db9b87c075cf3fabaee": {
      "model_module": "@jupyter-widgets/base",
      "model_module_version": "1.1.0",
      "model_name": "LayoutModel",
      "state": {}
     },
     "7c86bfe26a104d12bf51f8e82479b055": {
      "model_module": "@jupyter-widgets/controls",
      "model_module_version": "1.4.0",
      "model_name": "VBoxModel",
      "state": {
       "_dom_classes": [
        "widget-interact"
       ],
       "children": [
        "IPY_MODEL_a215c20d249d438eb9440bdc792350a9",
        "IPY_MODEL_6b7ab56a9959440eaab814ba39b8afe2",
        "IPY_MODEL_1dd612e52116493fa6f035161ad7ed2e",
        "IPY_MODEL_a4ff8c6f12cf44548b2384687bceff34",
        "IPY_MODEL_7e5f20cfcd344dd9b23ad1476ea9f030",
        "IPY_MODEL_a3d9d0f176fd461ab181d2c43f6c888e",
        "IPY_MODEL_a8d8a5b915a0407eb250c66247459133"
       ],
       "layout": "IPY_MODEL_81810946226d4a94b601b025ddba87a9"
      }
     },
     "7d13dbc2fcc4424da57a270a59b95135": {
      "model_module": "@jupyter-widgets/controls",
      "model_module_version": "1.4.0",
      "model_name": "DescriptionStyleModel",
      "state": {
       "description_width": ""
      }
     },
     "7d1e119fa83746a887a8dc405a848c43": {
      "model_module": "@jupyter-widgets/controls",
      "model_module_version": "1.4.0",
      "model_name": "DescriptionStyleModel",
      "state": {
       "description_width": ""
      }
     },
     "7d675e2598d54d0680ba3fc5c77a1699": {
      "model_module": "@jupyter-widgets/base",
      "model_module_version": "1.1.0",
      "model_name": "LayoutModel",
      "state": {}
     },
     "7d6e44411f0345f787138745a9050565": {
      "model_module": "@jupyter-widgets/base",
      "model_module_version": "1.1.0",
      "model_name": "LayoutModel",
      "state": {}
     },
     "7d74394e1ecb410587155acf679f34b7": {
      "model_module": "@jupyter-widgets/controls",
      "model_module_version": "1.4.0",
      "model_name": "DescriptionStyleModel",
      "state": {
       "description_width": ""
      }
     },
     "7e324c1123d9438ca5acfc3d331ce76d": {
      "model_module": "@jupyter-widgets/base",
      "model_module_version": "1.1.0",
      "model_name": "LayoutModel",
      "state": {}
     },
     "7e5f20cfcd344dd9b23ad1476ea9f030": {
      "model_module": "@jupyter-widgets/controls",
      "model_module_version": "1.4.0",
      "model_name": "SelectionSliderModel",
      "state": {
       "_options_labels": [
        "0",
        "1",
        "2",
        "4",
        "8",
        "16",
        "32",
        "64"
       ],
       "continuous_update": false,
       "description": "Max-mismatch",
       "index": 0,
       "layout": "IPY_MODEL_a187f83cf87b4b8eafd46b0a38988844",
       "style": "IPY_MODEL_7d13dbc2fcc4424da57a270a59b95135"
      }
     },
     "7f403fbe4b4b4b20a51d636498139ff4": {
      "model_module": "@jupyter-widgets/output",
      "model_module_version": "1.0.0",
      "model_name": "OutputModel",
      "state": {
       "layout": "IPY_MODEL_560833329a994768947be44d616a9a06"
      }
     },
     "7f895e2f846a4dac983b77b89e10aa68": {
      "model_module": "@jupyter-widgets/controls",
      "model_module_version": "1.4.0",
      "model_name": "RadioButtonsModel",
      "state": {
       "_options_labels": [
        "1",
        "0.5",
        "0"
       ],
       "description": "penalty_strenth",
       "index": 0,
       "layout": "IPY_MODEL_09b4eddc85ff437182990d3484b94f35",
       "style": "IPY_MODEL_4a3596bec605463fbf86b5cf295852cd"
      }
     },
     "7fc4abbfbc6444bcb75f527335413f0a": {
      "model_module": "@jupyter-widgets/controls",
      "model_module_version": "1.4.0",
      "model_name": "DescriptionStyleModel",
      "state": {
       "description_width": ""
      }
     },
     "802675432915401094b38845398ef02b": {
      "model_module": "@jupyter-widgets/base",
      "model_module_version": "1.1.0",
      "model_name": "LayoutModel",
      "state": {}
     },
     "802de5fafa4b4b27a6e0b157c2fe1c21": {
      "model_module": "@jupyter-widgets/base",
      "model_module_version": "1.1.0",
      "model_name": "LayoutModel",
      "state": {}
     },
     "8092803a453f4b2f8d52d05e230284c7": {
      "model_module": "@jupyter-widgets/controls",
      "model_module_version": "1.4.0",
      "model_name": "VBoxModel",
      "state": {
       "_dom_classes": [
        "widget-interact"
       ],
       "children": [
        "IPY_MODEL_4702118038414accbb0dccbe6d0a2914",
        "IPY_MODEL_272dc1bc7a6144cb95b3e9d7ddcb8a1e",
        "IPY_MODEL_7611cd596f93420d8096e470c616bcd8",
        "IPY_MODEL_6649ab492e0845eb8112935b00d5e593",
        "IPY_MODEL_f0f3bba08f9f4ddfb52b2b3944683350",
        "IPY_MODEL_7f895e2f846a4dac983b77b89e10aa68",
        "IPY_MODEL_f4a6ecf3f0cf4c14975a0a1f05ad7d33"
       ],
       "layout": "IPY_MODEL_9059b771f6d74cfba37ae23b90c5caca"
      }
     },
     "80ac31d22cfd4da0986e76a8ba837ec6": {
      "model_module": "@jupyter-widgets/base",
      "model_module_version": "1.1.0",
      "model_name": "LayoutModel",
      "state": {}
     },
     "80c808d523274fa88ae808a2c68ea2ca": {
      "model_module": "@jupyter-widgets/controls",
      "model_module_version": "1.4.0",
      "model_name": "DescriptionStyleModel",
      "state": {
       "description_width": ""
      }
     },
     "80d91d43699e4bfcb8a187af05bb7ba0": {
      "model_module": "@jupyter-widgets/controls",
      "model_module_version": "1.4.0",
      "model_name": "DescriptionStyleModel",
      "state": {
       "description_width": ""
      }
     },
     "8158ec06c05d498d838e6d040798ab40": {
      "model_module": "@jupyter-widgets/controls",
      "model_module_version": "1.4.0",
      "model_name": "DescriptionStyleModel",
      "state": {
       "description_width": ""
      }
     },
     "815b69e08b0c4af5b63baa3b7444ac7c": {
      "model_module": "@jupyter-widgets/controls",
      "model_module_version": "1.4.0",
      "model_name": "RadioButtonsModel",
      "state": {
       "_options_labels": [
        "0.25"
       ],
       "description": "ambiguity",
       "index": 0,
       "layout": "IPY_MODEL_82e86286a5ff44e6bf57b806d7102cfa",
       "style": "IPY_MODEL_62999377d2be4bbd8767ac448a701e84"
      }
     },
     "81654d8de95e450699991991b37dcecc": {
      "model_module": "@jupyter-widgets/base",
      "model_module_version": "1.1.0",
      "model_name": "LayoutModel",
      "state": {}
     },
     "81810946226d4a94b601b025ddba87a9": {
      "model_module": "@jupyter-widgets/base",
      "model_module_version": "1.1.0",
      "model_name": "LayoutModel",
      "state": {}
     },
     "82addc33f7f6466abf2fac950ed903bc": {
      "model_module": "@jupyter-widgets/controls",
      "model_module_version": "1.4.0",
      "model_name": "DescriptionStyleModel",
      "state": {
       "description_width": ""
      }
     },
     "82e86286a5ff44e6bf57b806d7102cfa": {
      "model_module": "@jupyter-widgets/base",
      "model_module_version": "1.1.0",
      "model_name": "LayoutModel",
      "state": {}
     },
     "8355a8e14c53434f985473c54245543a": {
      "model_module": "@jupyter-widgets/controls",
      "model_module_version": "1.4.0",
      "model_name": "RadioButtonsModel",
      "state": {
       "_options_labels": [
        "0",
        "0.01"
       ],
       "description": "noise",
       "index": 0,
       "layout": "IPY_MODEL_c6730d26089a449a8b5c9607ae570228",
       "style": "IPY_MODEL_106ed8ffdf44477caf5120d61928722f"
      }
     },
     "83d283420b0a43cb9bafaafee499c263": {
      "model_module": "@jupyter-widgets/controls",
      "model_module_version": "1.4.0",
      "model_name": "RadioButtonsModel",
      "state": {
       "_options_labels": [
        "1",
        "3"
       ],
       "description": "n_retrievals",
       "index": 0,
       "layout": "IPY_MODEL_7d675e2598d54d0680ba3fc5c77a1699",
       "style": "IPY_MODEL_aa1e90a30a854d7baf357690a0e68820"
      }
     },
     "84271554616e4f53a6bb141958046f7d": {
      "model_module": "@jupyter-widgets/controls",
      "model_module_version": "1.4.0",
      "model_name": "RadioButtonsModel",
      "state": {
       "_options_labels": [
        "1",
        "3"
       ],
       "description": "n_retrievals",
       "index": 0,
       "layout": "IPY_MODEL_3c539ddcee3642bd95a47a7ec2b3cdf7",
       "style": "IPY_MODEL_91448885ee9145f0b904af5d8546d316"
      }
     },
     "8427eaea56a7438c897eebbba773e492": {
      "model_module": "@jupyter-widgets/controls",
      "model_module_version": "1.4.0",
      "model_name": "ToggleButtonsStyleModel",
      "state": {
       "button_width": "",
       "description_width": ""
      }
     },
     "8462029f133740cbaad184fc882d986f": {
      "model_module": "@jupyter-widgets/controls",
      "model_module_version": "1.4.0",
      "model_name": "RadioButtonsModel",
      "state": {
       "_options_labels": [
        "0",
        "0.01"
       ],
       "description": "noise",
       "index": 0,
       "layout": "IPY_MODEL_de39aef15ecf42faba438a6d8a33bb64",
       "style": "IPY_MODEL_ad3b61b4226e4482ba6eab3b8800c187"
      }
     },
     "84869679b8034d00921a138d6524e428": {
      "model_module": "@jupyter-widgets/controls",
      "model_module_version": "1.4.0",
      "model_name": "RadioButtonsModel",
      "state": {
       "_options_labels": [
        "0",
        "1.0"
       ],
       "description": "mismatch_sensitivity",
       "index": 0,
       "layout": "IPY_MODEL_75d0e3acf17546b3b6f6b2e711f42d0f",
       "style": "IPY_MODEL_37343743862d4b1bb98c7211159fdca3"
      }
     },
     "85cac2f3552345adac0e703d73720a1f": {
      "model_module": "@jupyter-widgets/controls",
      "model_module_version": "1.4.0",
      "model_name": "DescriptionStyleModel",
      "state": {
       "description_width": ""
      }
     },
     "85efe5203e5d48299bcc07852df226ae": {
      "model_module": "@jupyter-widgets/base",
      "model_module_version": "1.1.0",
      "model_name": "LayoutModel",
      "state": {}
     },
     "868a904e59c542a491421c065eb3f090": {
      "model_module": "@jupyter-widgets/controls",
      "model_module_version": "1.4.0",
      "model_name": "DescriptionStyleModel",
      "state": {
       "description_width": ""
      }
     },
     "86c5ad289ccb4f4288898d2d0f99094e": {
      "model_module": "@jupyter-widgets/output",
      "model_module_version": "1.0.0",
      "model_name": "OutputModel",
      "state": {
       "layout": "IPY_MODEL_03476c7a16eb458e83ab0a0a2d400b4f"
      }
     },
     "86d161f19a6146e7a47d7d232271ef14": {
      "model_module": "@jupyter-widgets/base",
      "model_module_version": "1.1.0",
      "model_name": "LayoutModel",
      "state": {}
     },
     "8719267b36044baa83902d8313ea0837": {
      "model_module": "@jupyter-widgets/controls",
      "model_module_version": "1.4.0",
      "model_name": "DescriptionStyleModel",
      "state": {
       "description_width": ""
      }
     },
     "872656631e0e49f08716a707a5902c56": {
      "model_module": "@jupyter-widgets/controls",
      "model_module_version": "1.4.0",
      "model_name": "ToggleButtonsStyleModel",
      "state": {
       "button_width": "",
       "description_width": ""
      }
     },
     "873a794ff2aa45228aa7d54083387119": {
      "model_module": "@jupyter-widgets/base",
      "model_module_version": "1.1.0",
      "model_name": "LayoutModel",
      "state": {}
     },
     "877a159cf9d5481b90401bcf102f977b": {
      "model_module": "@jupyter-widgets/output",
      "model_module_version": "1.0.0",
      "model_name": "OutputModel",
      "state": {
       "layout": "IPY_MODEL_9cc350a164cd46b69bc4c198b01c5ed7"
      }
     },
     "879cd8ba764e4fa0838e2790230ebccf": {
      "model_module": "@jupyter-widgets/base",
      "model_module_version": "1.1.0",
      "model_name": "LayoutModel",
      "state": {}
     },
     "87b756538c04430db913532f6109ee75": {
      "model_module": "@jupyter-widgets/controls",
      "model_module_version": "1.4.0",
      "model_name": "RadioButtonsModel",
      "state": {
       "_options_labels": [
        "0",
        "0.01"
       ],
       "description": "noise",
       "index": 0,
       "layout": "IPY_MODEL_1c5c0a2927db42ada8f434af7412a6fe",
       "style": "IPY_MODEL_f96186cd94cb4c9d9852cdae8432b022"
      }
     },
     "8900297b56bf4fa3b63a95cd6b664c5d": {
      "model_module": "@jupyter-widgets/controls",
      "model_module_version": "1.4.0",
      "model_name": "DescriptionStyleModel",
      "state": {
       "description_width": ""
      }
     },
     "89b37572f0cb41cc8d0dd4aaca69106d": {
      "model_module": "@jupyter-widgets/controls",
      "model_module_version": "1.4.0",
      "model_name": "SelectionSliderModel",
      "state": {
       "_options_labels": [
        "0",
        "1"
       ],
       "continuous_update": false,
       "description": "Penalty strenth",
       "index": 1,
       "layout": "IPY_MODEL_daa73855449c42b19835231a179b5088",
       "style": "IPY_MODEL_f1aacded61d0400fb4fa2c0ffb5dbbce"
      }
     },
     "89d70093ecc14fd9ae9c7d1124a8b48d": {
      "model_module": "@jupyter-widgets/controls",
      "model_module_version": "1.4.0",
      "model_name": "DescriptionStyleModel",
      "state": {
       "description_width": ""
      }
     },
     "8a20ec967a3c4b8db63ffb890bb8fdb9": {
      "model_module": "@jupyter-widgets/controls",
      "model_module_version": "1.4.0",
      "model_name": "DescriptionStyleModel",
      "state": {
       "description_width": ""
      }
     },
     "8a9e6cf5841a4b86ace4a251d7e4446d": {
      "model_module": "@jupyter-widgets/controls",
      "model_module_version": "1.4.0",
      "model_name": "DescriptionStyleModel",
      "state": {
       "description_width": ""
      }
     },
     "8ab4c783f6444a39aed23f1ba43cf76c": {
      "model_module": "@jupyter-widgets/controls",
      "model_module_version": "1.4.0",
      "model_name": "DescriptionStyleModel",
      "state": {
       "description_width": ""
      }
     },
     "8b234f6c00db4e60a84567196d6f30c5": {
      "model_module": "@jupyter-widgets/controls",
      "model_module_version": "1.4.0",
      "model_name": "VBoxModel",
      "state": {
       "_dom_classes": [
        "widget-interact"
       ],
       "children": [
        "IPY_MODEL_9538fa3754e54266be152baf5c1e1d8c",
        "IPY_MODEL_200070fac8a3471990326830a0127ae1",
        "IPY_MODEL_3ee121c1bd7e4af49307ec1547c8cd03",
        "IPY_MODEL_768cb0dc988043aa9baaf2c151be90d4",
        "IPY_MODEL_03a4584bce644b92bbe869aaba5c4980",
        "IPY_MODEL_fd4865d1d61646ea8255b2b0f8214ad9",
        "IPY_MODEL_6f10c9caee6a4158bd4e884b74717f0f"
       ],
       "layout": "IPY_MODEL_ff4c3e43df6247ee8fa107b96dcf000c"
      }
     },
     "8c38b8ea98f64fa09e5671ee8cafe504": {
      "model_module": "@jupyter-widgets/base",
      "model_module_version": "1.1.0",
      "model_name": "LayoutModel",
      "state": {}
     },
     "8d658f86d5ba4c1994a3eefacece2219": {
      "model_module": "@jupyter-widgets/base",
      "model_module_version": "1.1.0",
      "model_name": "LayoutModel",
      "state": {}
     },
     "8de17e11752c48efb8706eb5bab03789": {
      "model_module": "@jupyter-widgets/base",
      "model_module_version": "1.1.0",
      "model_name": "LayoutModel",
      "state": {}
     },
     "8e19fdccddcc48659544e184fe4e659d": {
      "model_module": "@jupyter-widgets/controls",
      "model_module_version": "1.4.0",
      "model_name": "SelectionSliderModel",
      "state": {
       "_options_labels": [
        "0",
        "1",
        "2",
        "4",
        "8",
        "16",
        "32",
        "64"
       ],
       "continuous_update": false,
       "description": "Max-mismatch",
       "index": 0,
       "layout": "IPY_MODEL_1797536c8ef54f05bf8f2b85d4466290",
       "style": "IPY_MODEL_6a97cd1e1d1c4cd19bbc25e7802d9b00"
      }
     },
     "8e330e6205584bfdbe5beb41379ca327": {
      "model_module": "@jupyter-widgets/controls",
      "model_module_version": "1.4.0",
      "model_name": "ButtonStyleModel",
      "state": {}
     },
     "8ee725638c67497a8240ade5e5d3b228": {
      "model_module": "@jupyter-widgets/controls",
      "model_module_version": "1.4.0",
      "model_name": "DescriptionStyleModel",
      "state": {
       "description_width": ""
      }
     },
     "8f3dbd12b5ba4132ad47d87c1859fe75": {
      "model_module": "@jupyter-widgets/base",
      "model_module_version": "1.1.0",
      "model_name": "LayoutModel",
      "state": {}
     },
     "8f4d9938b1194752b71b09c365b6fcf3": {
      "model_module": "@jupyter-widgets/controls",
      "model_module_version": "1.4.0",
      "model_name": "RadioButtonsModel",
      "state": {
       "_options_labels": [
        "1",
        "0.5",
        "0"
       ],
       "description": "penalty_strenth",
       "index": 0,
       "layout": "IPY_MODEL_6c8c373aaba947948b66ce49e31e7332",
       "style": "IPY_MODEL_901e2d3972c645bab728a139a2cedc05"
      }
     },
     "8f83cb0aea0a4b4f81f7a1942bd5a801": {
      "model_module": "@jupyter-widgets/base",
      "model_module_version": "1.1.0",
      "model_name": "LayoutModel",
      "state": {}
     },
     "90142626a41d44d1a68c6f741c4ccf89": {
      "model_module": "@jupyter-widgets/controls",
      "model_module_version": "1.4.0",
      "model_name": "RadioButtonsModel",
      "state": {
       "_options_labels": [
        "0",
        "0.01"
       ],
       "description": "noise",
       "index": 0,
       "layout": "IPY_MODEL_62954c701936445c9a5c22bc9e5d9e2b",
       "style": "IPY_MODEL_8ab4c783f6444a39aed23f1ba43cf76c"
      }
     },
     "901e2d3972c645bab728a139a2cedc05": {
      "model_module": "@jupyter-widgets/controls",
      "model_module_version": "1.4.0",
      "model_name": "DescriptionStyleModel",
      "state": {
       "description_width": ""
      }
     },
     "9059b771f6d74cfba37ae23b90c5caca": {
      "model_module": "@jupyter-widgets/base",
      "model_module_version": "1.1.0",
      "model_name": "LayoutModel",
      "state": {}
     },
     "9083f48ec2074cb0913626d872bf3a98": {
      "model_module": "@jupyter-widgets/output",
      "model_module_version": "1.0.0",
      "model_name": "OutputModel",
      "state": {
       "layout": "IPY_MODEL_0450a897bd4842dfa3061db7ce24ddf4"
      }
     },
     "91448885ee9145f0b904af5d8546d316": {
      "model_module": "@jupyter-widgets/controls",
      "model_module_version": "1.4.0",
      "model_name": "DescriptionStyleModel",
      "state": {
       "description_width": ""
      }
     },
     "9243f4a517664682a839ad856930adb2": {
      "model_module": "@jupyter-widgets/base",
      "model_module_version": "1.1.0",
      "model_name": "LayoutModel",
      "state": {}
     },
     "9244c5baa2734c529fd940c444013235": {
      "model_module": "@jupyter-widgets/controls",
      "model_module_version": "1.4.0",
      "model_name": "RadioButtonsModel",
      "state": {
       "_options_labels": [
        "0",
        "0.01"
       ],
       "description": "noise",
       "index": 0,
       "layout": "IPY_MODEL_bcf2f011aee443a1a4340d7f9f83f175",
       "style": "IPY_MODEL_868a904e59c542a491421c065eb3f090"
      }
     },
     "92e2711f9d6240759efd2c9be953dea4": {
      "model_module": "@jupyter-widgets/controls",
      "model_module_version": "1.4.0",
      "model_name": "ToggleButtonsModel",
      "state": {
       "_options_labels": [
        "0",
        "0.01"
       ],
       "button_style": "",
       "description": "noise",
       "icons": [],
       "index": 0,
       "layout": "IPY_MODEL_2ff33da2e00545249bf094da5125c60a",
       "style": "IPY_MODEL_c6e8b3c1f5bb4bab9aa217fe51116560",
       "tooltips": []
      }
     },
     "93c2081095794030b5c2c56814de542c": {
      "model_module": "@jupyter-widgets/base",
      "model_module_version": "1.1.0",
      "model_name": "LayoutModel",
      "state": {
       "height": "80px",
       "width": "50%"
      }
     },
     "93d27d9b13cf46acb48c0832c72fe966": {
      "model_module": "@jupyter-widgets/controls",
      "model_module_version": "1.4.0",
      "model_name": "SelectionSliderModel",
      "state": {
       "_options_labels": [
        "0",
        "0.5",
        "1"
       ],
       "continuous_update": false,
       "description": "Penalty strenth",
       "index": 2,
       "layout": "IPY_MODEL_eb20bd47d6124e6e9c409f1292f195e5",
       "style": "IPY_MODEL_16fbcf112fbf4e27923bd2b37024ff88"
      }
     },
     "93d2d722214c4044ae24384d323e9511": {
      "model_module": "@jupyter-widgets/base",
      "model_module_version": "1.1.0",
      "model_name": "LayoutModel",
      "state": {}
     },
     "9443305ac4da44788770f2a84142c3ba": {
      "model_module": "@jupyter-widgets/output",
      "model_module_version": "1.0.0",
      "model_name": "OutputModel",
      "state": {
       "layout": "IPY_MODEL_47b43d7fcb72460eac83082cc8f1d2b0"
      }
     },
     "9503ea0ec3264035aaf62492c1ec1161": {
      "model_module": "@jupyter-widgets/controls",
      "model_module_version": "1.4.0",
      "model_name": "DescriptionStyleModel",
      "state": {
       "description_width": ""
      }
     },
     "9538fa3754e54266be152baf5c1e1d8c": {
      "model_module": "@jupyter-widgets/controls",
      "model_module_version": "1.4.0",
      "model_name": "RadioButtonsModel",
      "state": {
       "_options_labels": [
        "0.25"
       ],
       "description": "ambiguity",
       "index": 0,
       "layout": "IPY_MODEL_56a17cb15f37466fb84ce408419645f2",
       "style": "IPY_MODEL_563c2b027c434691b7e32c4168c773af"
      }
     },
     "9550001c35a6469c8846d2934e098609": {
      "model_module": "@jupyter-widgets/base",
      "model_module_version": "1.1.0",
      "model_name": "LayoutModel",
      "state": {}
     },
     "9598a2bfdc744e16adcce5375a4b66d1": {
      "model_module": "@jupyter-widgets/controls",
      "model_module_version": "1.4.0",
      "model_name": "RadioButtonsModel",
      "state": {
       "_options_labels": [
        "0",
        "0.01"
       ],
       "description": "noise",
       "index": 0,
       "layout": "IPY_MODEL_b3e12fae221249a19b1e2d3f901efa82",
       "style": "IPY_MODEL_24e1a94a6b35479399895daeb4cd6926"
      }
     },
     "96b36df4e601460da3b481bd6ff7dcb3": {
      "model_module": "@jupyter-widgets/controls",
      "model_module_version": "1.4.0",
      "model_name": "ToggleButtonsStyleModel",
      "state": {
       "button_width": "",
       "description_width": ""
      }
     },
     "96b3dfb529e542478e344cc2d2d15adc": {
      "model_module": "@jupyter-widgets/output",
      "model_module_version": "1.0.0",
      "model_name": "OutputModel",
      "state": {
       "layout": "IPY_MODEL_2ea977d17a5e49bfafb5fdca4b3ec6ca",
       "outputs": [
        {
         "ename": "KeyError",
         "evalue": "(0.25, 0, 1, 1.0, 24, 1)",
         "output_type": "error",
         "traceback": [
          "\u001b[0;31m---------------------------------------------------------------------------\u001b[0m",
          "\u001b[0;31mKeyError\u001b[0m                                  Traceback (most recent call last)",
          "\u001b[0;32m~/anaconda3/lib/python3.6/site-packages/ipywidgets/widgets/interaction.py\u001b[0m in \u001b[0;36mupdate\u001b[0;34m(self, *args)\u001b[0m\n\u001b[1;32m    249\u001b[0m                     \u001b[0mvalue\u001b[0m \u001b[0;34m=\u001b[0m \u001b[0mwidget\u001b[0m\u001b[0;34m.\u001b[0m\u001b[0mget_interact_value\u001b[0m\u001b[0;34m(\u001b[0m\u001b[0;34m)\u001b[0m\u001b[0;34m\u001b[0m\u001b[0m\n\u001b[1;32m    250\u001b[0m                     \u001b[0mself\u001b[0m\u001b[0;34m.\u001b[0m\u001b[0mkwargs\u001b[0m\u001b[0;34m[\u001b[0m\u001b[0mwidget\u001b[0m\u001b[0;34m.\u001b[0m\u001b[0m_kwarg\u001b[0m\u001b[0;34m]\u001b[0m \u001b[0;34m=\u001b[0m \u001b[0mvalue\u001b[0m\u001b[0;34m\u001b[0m\u001b[0m\n\u001b[0;32m--> 251\u001b[0;31m                 \u001b[0mself\u001b[0m\u001b[0;34m.\u001b[0m\u001b[0mresult\u001b[0m \u001b[0;34m=\u001b[0m \u001b[0mself\u001b[0m\u001b[0;34m.\u001b[0m\u001b[0mf\u001b[0m\u001b[0;34m(\u001b[0m\u001b[0;34m**\u001b[0m\u001b[0mself\u001b[0m\u001b[0;34m.\u001b[0m\u001b[0mkwargs\u001b[0m\u001b[0;34m)\u001b[0m\u001b[0;34m\u001b[0m\u001b[0m\n\u001b[0m\u001b[1;32m    252\u001b[0m                 \u001b[0mshow_inline_matplotlib_plots\u001b[0m\u001b[0;34m(\u001b[0m\u001b[0;34m)\u001b[0m\u001b[0;34m\u001b[0m\u001b[0m\n\u001b[1;32m    253\u001b[0m                 \u001b[0;32mif\u001b[0m \u001b[0mself\u001b[0m\u001b[0;34m.\u001b[0m\u001b[0mauto_display\u001b[0m \u001b[0;32mand\u001b[0m \u001b[0mself\u001b[0m\u001b[0;34m.\u001b[0m\u001b[0mresult\u001b[0m \u001b[0;32mis\u001b[0m \u001b[0;32mnot\u001b[0m \u001b[0;32mNone\u001b[0m\u001b[0;34m:\u001b[0m\u001b[0;34m\u001b[0m\u001b[0m\n",
          "\u001b[0;32m<ipython-input-17-ab189f248349>\u001b[0m in \u001b[0;36mswitch_img\u001b[0;34m(ambiguity, noise, n_retrievals, mismatch_sensitivity, fixed_m2_val, penalty_strenth)\u001b[0m\n\u001b[1;32m      2\u001b[0m \u001b[0;32mdef\u001b[0m \u001b[0mswitch_img\u001b[0m\u001b[0;34m(\u001b[0m\u001b[0mambiguity\u001b[0m\u001b[0;34m,\u001b[0m \u001b[0mnoise\u001b[0m\u001b[0;34m,\u001b[0m \u001b[0mn_retrievals\u001b[0m\u001b[0;34m,\u001b[0m \u001b[0mmismatch_sensitivity\u001b[0m\u001b[0;34m,\u001b[0m \u001b[0mfixed_m2_val\u001b[0m\u001b[0;34m,\u001b[0m \u001b[0mpenalty_strenth\u001b[0m\u001b[0;34m)\u001b[0m\u001b[0;34m:\u001b[0m\u001b[0;34m\u001b[0m\u001b[0m\n\u001b[1;32m      3\u001b[0m     ax.imshow(\n\u001b[0;32m----> 4\u001b[0;31m         \u001b[0mimgs\u001b[0m\u001b[0;34m[\u001b[0m\u001b[0;34m(\u001b[0m\u001b[0mambiguity\u001b[0m\u001b[0;34m,\u001b[0m \u001b[0mnoise\u001b[0m\u001b[0;34m,\u001b[0m \u001b[0mn_retrievals\u001b[0m\u001b[0;34m,\u001b[0m \u001b[0mmismatch_sensitivity\u001b[0m\u001b[0;34m,\u001b[0m \u001b[0mfixed_m2_val\u001b[0m\u001b[0;34m,\u001b[0m \u001b[0mpenalty_strenth\u001b[0m\u001b[0;34m)\u001b[0m\u001b[0;34m]\u001b[0m\u001b[0;34m\u001b[0m\u001b[0m\n\u001b[0m\u001b[1;32m      5\u001b[0m     )\n",
          "\u001b[0;31mKeyError\u001b[0m: (0.25, 0, 1, 1.0, 24, 1)"
         ]
        }
       ]
      }
     },
     "975282d5676d4cd180bd92f199de4d3c": {
      "model_module": "@jupyter-widgets/controls",
      "model_module_version": "1.4.0",
      "model_name": "RadioButtonsModel",
      "state": {
       "_options_labels": [
        "1",
        "3"
       ],
       "description": "n_retrievals",
       "index": 0,
       "layout": "IPY_MODEL_773b79ed97e3425eb7ef621aaf995f5b",
       "style": "IPY_MODEL_9a2c9c55611c4717b42857ae48cb85f6"
      }
     },
     "97d7b83dd3df40c4a286545c7b05a53d": {
      "model_module": "@jupyter-widgets/base",
      "model_module_version": "1.1.0",
      "model_name": "LayoutModel",
      "state": {}
     },
     "97dfb85b81ff4dcc8ddd71569dda86f5": {
      "model_module": "@jupyter-widgets/controls",
      "model_module_version": "1.4.0",
      "model_name": "DescriptionStyleModel",
      "state": {
       "description_width": ""
      }
     },
     "981effe1fdfe46f083e9441ba8d9f52c": {
      "model_module": "@jupyter-widgets/controls",
      "model_module_version": "1.4.0",
      "model_name": "ToggleButtonsStyleModel",
      "state": {
       "button_width": "",
       "description_width": ""
      }
     },
     "990fe0f488694ec486e241620533c8b2": {
      "model_module": "@jupyter-widgets/output",
      "model_module_version": "1.0.0",
      "model_name": "OutputModel",
      "state": {
       "layout": "IPY_MODEL_aea5093f4df947db8bd555d66e64f17d"
      }
     },
     "9986472f0d3045d48a7f57c22f190bae": {
      "model_module": "@jupyter-widgets/controls",
      "model_module_version": "1.4.0",
      "model_name": "DescriptionStyleModel",
      "state": {
       "description_width": ""
      }
     },
     "9a171a8099074c73aca8d5c18a6099de": {
      "model_module": "@jupyter-widgets/controls",
      "model_module_version": "1.4.0",
      "model_name": "DescriptionStyleModel",
      "state": {
       "description_width": ""
      }
     },
     "9a2c9c55611c4717b42857ae48cb85f6": {
      "model_module": "@jupyter-widgets/controls",
      "model_module_version": "1.4.0",
      "model_name": "DescriptionStyleModel",
      "state": {
       "description_width": ""
      }
     },
     "9a63239140004770b9fc8ade5a8bd972": {
      "model_module": "@jupyter-widgets/controls",
      "model_module_version": "1.4.0",
      "model_name": "RadioButtonsModel",
      "state": {
       "_options_labels": [
        "1",
        "3"
       ],
       "description": "n_retrievals",
       "index": 0,
       "layout": "IPY_MODEL_7b31d54da56d49c393ed4ccdbbdadf6e",
       "style": "IPY_MODEL_54b61c9ba1cb4f5a96303553c3b8c006"
      }
     },
     "9af4b8fb579c439b9e83b1db02a136e4": {
      "model_module": "@jupyter-widgets/base",
      "model_module_version": "1.1.0",
      "model_name": "LayoutModel",
      "state": {}
     },
     "9b8081db580342a094ab6aaa6813d47d": {
      "model_module": "@jupyter-widgets/controls",
      "model_module_version": "1.4.0",
      "model_name": "DescriptionStyleModel",
      "state": {
       "description_width": ""
      }
     },
     "9c8c73e5eef449aba443a42641ff29b9": {
      "model_module": "@jupyter-widgets/controls",
      "model_module_version": "1.4.0",
      "model_name": "RadioButtonsModel",
      "state": {
       "_options_labels": [
        "0",
        "1.0"
       ],
       "description": "mismatch_sensitivity",
       "index": 1,
       "layout": "IPY_MODEL_86d161f19a6146e7a47d7d232271ef14",
       "style": "IPY_MODEL_4280ad125bf64dcbb323d656f735933f"
      }
     },
     "9cc350a164cd46b69bc4c198b01c5ed7": {
      "model_module": "@jupyter-widgets/base",
      "model_module_version": "1.1.0",
      "model_name": "LayoutModel",
      "state": {}
     },
     "9cdeb1e0f6464fbcb9a6fe2c11d6c38c": {
      "model_module": "@jupyter-widgets/base",
      "model_module_version": "1.1.0",
      "model_name": "LayoutModel",
      "state": {}
     },
     "9d11a08849e04a9fa7fb998d01bb4d74": {
      "model_module": "@jupyter-widgets/controls",
      "model_module_version": "1.4.0",
      "model_name": "DescriptionStyleModel",
      "state": {
       "description_width": ""
      }
     },
     "9d592830fcf2414cbbe6f2b62c9df68b": {
      "model_module": "@jupyter-widgets/controls",
      "model_module_version": "1.4.0",
      "model_name": "DescriptionStyleModel",
      "state": {
       "description_width": ""
      }
     },
     "9f6c3380039b4016a62ba1ce8bec2ae0": {
      "model_module": "@jupyter-widgets/base",
      "model_module_version": "1.1.0",
      "model_name": "LayoutModel",
      "state": {}
     },
     "a00863f309d2433dac16239b3f24179e": {
      "model_module": "@jupyter-widgets/base",
      "model_module_version": "1.1.0",
      "model_name": "LayoutModel",
      "state": {}
     },
     "a03557f389b24913b394f50d7d6541fe": {
      "model_module": "@jupyter-widgets/controls",
      "model_module_version": "1.4.0",
      "model_name": "DescriptionStyleModel",
      "state": {
       "description_width": ""
      }
     },
     "a0540a0c68124e9f831e9df14fc22b88": {
      "model_module": "@jupyter-widgets/base",
      "model_module_version": "1.1.0",
      "model_name": "LayoutModel",
      "state": {}
     },
     "a05eccfdc53144169026bdafb7da932c": {
      "model_module": "@jupyter-widgets/base",
      "model_module_version": "1.1.0",
      "model_name": "LayoutModel",
      "state": {}
     },
     "a07bb0f031234c159aeb8713a9991870": {
      "model_module": "@jupyter-widgets/controls",
      "model_module_version": "1.4.0",
      "model_name": "ToggleButtonsStyleModel",
      "state": {
       "button_width": "",
       "description_width": ""
      }
     },
     "a0941626960a4d75ba572b816ede1d17": {
      "model_module": "@jupyter-widgets/controls",
      "model_module_version": "1.4.0",
      "model_name": "VBoxModel",
      "state": {
       "_dom_classes": [
        "widget-interact"
       ],
       "children": [
        "IPY_MODEL_b68e3534c7244763964ce214e80be1b5",
        "IPY_MODEL_87b756538c04430db913532f6109ee75",
        "IPY_MODEL_70ea0b07b1c14d67a8af1eeafe4b5df9",
        "IPY_MODEL_3937a82ca6f44f30a48df564eef185c8",
        "IPY_MODEL_7aab15a5ab564e5e9d53e3aeec4fa0d6",
        "IPY_MODEL_7a215799984540379a14ef29669f387e",
        "IPY_MODEL_f28ddfc06ee847a9a334ddd0d2591b5b"
       ],
       "layout": "IPY_MODEL_4efc326075a74447920fab6cfe053c4d"
      }
     },
     "a0af02f7fe9c4874932da0faf49334a0": {
      "model_module": "@jupyter-widgets/controls",
      "model_module_version": "1.4.0",
      "model_name": "RadioButtonsModel",
      "state": {
       "_options_labels": [
        "0.25"
       ],
       "description": "ambiguity",
       "index": 0,
       "layout": "IPY_MODEL_0c17a65914384c21888cda3d8e0fa0a1",
       "style": "IPY_MODEL_08ccfb535daa4eadbf80cca61629ee8a"
      }
     },
     "a0d4198ef4d84cda9f9f997df1374a16": {
      "model_module": "@jupyter-widgets/controls",
      "model_module_version": "1.4.0",
      "model_name": "DescriptionStyleModel",
      "state": {
       "description_width": ""
      }
     },
     "a18615e3f6a7433fbcb4e08a0ea94bd9": {
      "model_module": "@jupyter-widgets/controls",
      "model_module_version": "1.4.0",
      "model_name": "RadioButtonsModel",
      "state": {
       "_options_labels": [
        "0",
        "1.0"
       ],
       "description": "mismatch_sensitivity",
       "index": 0,
       "layout": "IPY_MODEL_761d5f61523d47e38af37c2728978e65",
       "style": "IPY_MODEL_7bdec0e216fb495d8c28b20fe2e6b1f4"
      }
     },
     "a187f83cf87b4b8eafd46b0a38988844": {
      "model_module": "@jupyter-widgets/base",
      "model_module_version": "1.1.0",
      "model_name": "LayoutModel",
      "state": {}
     },
     "a19086316ad646e7a88fed6553011c09": {
      "model_module": "@jupyter-widgets/base",
      "model_module_version": "1.1.0",
      "model_name": "LayoutModel",
      "state": {}
     },
     "a1df5a2a0129472c97809ee5e74d082a": {
      "model_module": "@jupyter-widgets/controls",
      "model_module_version": "1.4.0",
      "model_name": "DescriptionStyleModel",
      "state": {
       "description_width": ""
      }
     },
     "a215c20d249d438eb9440bdc792350a9": {
      "model_module": "@jupyter-widgets/controls",
      "model_module_version": "1.4.0",
      "model_name": "RadioButtonsModel",
      "state": {
       "_options_labels": [
        "0.25"
       ],
       "description": "ambiguity",
       "index": 0,
       "layout": "IPY_MODEL_d186fcef60124a359f53ad8d0a1cbfb6",
       "style": "IPY_MODEL_a8bccb5f2a7748ee9be606997d33b595"
      }
     },
     "a30ef1857f2d47a2a8546601ff277933": {
      "model_module": "@jupyter-widgets/controls",
      "model_module_version": "1.4.0",
      "model_name": "DescriptionStyleModel",
      "state": {
       "description_width": ""
      }
     },
     "a392fdf3d26641cba99485d7a9d74949": {
      "model_module": "@jupyter-widgets/controls",
      "model_module_version": "1.4.0",
      "model_name": "DescriptionStyleModel",
      "state": {
       "description_width": ""
      }
     },
     "a3d9d0f176fd461ab181d2c43f6c888e": {
      "model_module": "@jupyter-widgets/controls",
      "model_module_version": "1.4.0",
      "model_name": "ToggleButtonsModel",
      "state": {
       "_options_labels": [
        "0",
        "1"
       ],
       "button_style": "",
       "description": "Penalty strenth",
       "icons": [],
       "index": 1,
       "layout": "IPY_MODEL_5f983cfa84e94bf4b0df44dcd02d0878",
       "style": "IPY_MODEL_8427eaea56a7438c897eebbba773e492",
       "tooltips": []
      }
     },
     "a464460132aa477e937fd8728a021ee3": {
      "model_module": "@jupyter-widgets/controls",
      "model_module_version": "1.4.0",
      "model_name": "RadioButtonsModel",
      "state": {
       "_options_labels": [
        "1",
        "3"
       ],
       "description": "n_retrievals",
       "index": 0,
       "layout": "IPY_MODEL_b78a1fc2f84440878495e144d2a52d08",
       "style": "IPY_MODEL_1787be80c28542cf8e52fcb157532c8f"
      }
     },
     "a4abfbe81ca24add98aa3d054d1922ce": {
      "model_module": "@jupyter-widgets/controls",
      "model_module_version": "1.4.0",
      "model_name": "DescriptionStyleModel",
      "state": {
       "description_width": ""
      }
     },
     "a4ff8c6f12cf44548b2384687bceff34": {
      "model_module": "@jupyter-widgets/controls",
      "model_module_version": "1.4.0",
      "model_name": "RadioButtonsModel",
      "state": {
       "_options_labels": [
        "0",
        "1.0"
       ],
       "description": "mismatch_sensitivity",
       "index": 1,
       "layout": "IPY_MODEL_6c2824a344314ff383d1f58f12b13e35",
       "style": "IPY_MODEL_7d1e119fa83746a887a8dc405a848c43"
      }
     },
     "a527fd7bf4d242a2b694329b50097628": {
      "model_module": "@jupyter-widgets/controls",
      "model_module_version": "1.4.0",
      "model_name": "ToggleButtonsStyleModel",
      "state": {
       "button_width": "",
       "description_width": ""
      }
     },
     "a5e90664364842e9b6dd203056851ab0": {
      "model_module": "@jupyter-widgets/base",
      "model_module_version": "1.1.0",
      "model_name": "LayoutModel",
      "state": {}
     },
     "a5f6ca9cf4dd43f58ad1ec9acbc902cb": {
      "model_module": "@jupyter-widgets/controls",
      "model_module_version": "1.4.0",
      "model_name": "RadioButtonsModel",
      "state": {
       "_options_labels": [
        "1",
        "3"
       ],
       "description": "n_retrievals",
       "index": 0,
       "layout": "IPY_MODEL_d62b14b91d01486fa5c9cf529e7b137d",
       "style": "IPY_MODEL_f5d4357e85e24c46987c31c4485497bc"
      }
     },
     "a5f9d2ca75214911af027643b6a29d8a": {
      "model_module": "@jupyter-widgets/base",
      "model_module_version": "1.1.0",
      "model_name": "LayoutModel",
      "state": {}
     },
     "a626997e85f348f198a6ed2e54f944db": {
      "model_module": "@jupyter-widgets/base",
      "model_module_version": "1.1.0",
      "model_name": "LayoutModel",
      "state": {}
     },
     "a6a519b877584f9ca085a84399e68492": {
      "model_module": "@jupyter-widgets/controls",
      "model_module_version": "1.4.0",
      "model_name": "RadioButtonsModel",
      "state": {
       "_options_labels": [
        "0",
        "1",
        "2",
        "4",
        "8",
        "16",
        "32",
        "64"
       ],
       "description": "max_mismatch",
       "index": 0,
       "layout": "IPY_MODEL_1d349f174d3b40e1801e71d88e8d97b8",
       "style": "IPY_MODEL_6b5c24b7d693431a8ace1d709a61386c"
      }
     },
     "a6a9379643944504be62d7654924524d": {
      "model_module": "@jupyter-widgets/base",
      "model_module_version": "1.1.0",
      "model_name": "LayoutModel",
      "state": {}
     },
     "a70c8c5f11b74a078f7679525e5d2acc": {
      "model_module": "@jupyter-widgets/base",
      "model_module_version": "1.1.0",
      "model_name": "LayoutModel",
      "state": {}
     },
     "a76a163a728a4c978cd16df891eadc9c": {
      "model_module": "@jupyter-widgets/base",
      "model_module_version": "1.1.0",
      "model_name": "LayoutModel",
      "state": {}
     },
     "a8bccb5f2a7748ee9be606997d33b595": {
      "model_module": "@jupyter-widgets/controls",
      "model_module_version": "1.4.0",
      "model_name": "DescriptionStyleModel",
      "state": {
       "description_width": ""
      }
     },
     "a8d8a5b915a0407eb250c66247459133": {
      "model_module": "@jupyter-widgets/output",
      "model_module_version": "1.0.0",
      "model_name": "OutputModel",
      "state": {
       "layout": "IPY_MODEL_df9b17ef88ba49978f601efa60f133cd"
      }
     },
     "a97e887307a346c3989e5c22a3cbf67c": {
      "model_module": "@jupyter-widgets/controls",
      "model_module_version": "1.4.0",
      "model_name": "RadioButtonsModel",
      "state": {
       "_options_labels": [
        "0",
        "0.01"
       ],
       "description": "noise",
       "index": 0,
       "layout": "IPY_MODEL_281f16d8e9824133b00388fc87e438fb",
       "style": "IPY_MODEL_cb8fab7e33764080bb550e6752129018"
      }
     },
     "a9bb8f982a9542e98900e61584078e55": {
      "model_module": "@jupyter-widgets/controls",
      "model_module_version": "1.4.0",
      "model_name": "VBoxModel",
      "state": {
       "_dom_classes": [
        "widget-interact"
       ],
       "children": [
        "IPY_MODEL_e27e013675af43acae866ec491fe197d",
        "IPY_MODEL_ab450d33c86240a084459320e9d0a79d",
        "IPY_MODEL_6df02b9f92914fe2bd542c2cf40f002e",
        "IPY_MODEL_eecf0d93c7744674836bb61b83c432d6",
        "IPY_MODEL_6998ae1924e24bdcbae29bc03e840c25",
        "IPY_MODEL_d50b82d13fde404aab28f51a4502cc34",
        "IPY_MODEL_62b05966b48742c48eb162a3fa889623"
       ],
       "layout": "IPY_MODEL_9cdeb1e0f6464fbcb9a6fe2c11d6c38c"
      }
     },
     "aa1e90a30a854d7baf357690a0e68820": {
      "model_module": "@jupyter-widgets/controls",
      "model_module_version": "1.4.0",
      "model_name": "DescriptionStyleModel",
      "state": {
       "description_width": ""
      }
     },
     "aa95bc08acc84c6ba8023b30646b0388": {
      "model_module": "@jupyter-widgets/controls",
      "model_module_version": "1.4.0",
      "model_name": "ToggleButtonsModel",
      "state": {
       "_options_labels": [
        "0",
        "1",
        "2",
        "4",
        "8",
        "16",
        "32",
        "64"
       ],
       "button_style": "",
       "description": "Max-mismatch",
       "icons": [],
       "index": 0,
       "layout": "IPY_MODEL_0ecb25f1accb4d78b1cb9171102647d3",
       "style": "IPY_MODEL_353116a94ba64e23b1c735fa56fd6c16",
       "tooltips": []
      }
     },
     "aac0807de07f4031982a2034b10cc672": {
      "model_module": "@jupyter-widgets/base",
      "model_module_version": "1.1.0",
      "model_name": "LayoutModel",
      "state": {}
     },
     "aadb49e9e0b049e29cc0279aacaa4f8e": {
      "model_module": "@jupyter-widgets/controls",
      "model_module_version": "1.4.0",
      "model_name": "VBoxModel",
      "state": {
       "_dom_classes": [
        "widget-interact"
       ],
       "children": [
        "IPY_MODEL_1c8e3d3c19ae472697a5daeb57993cf2",
        "IPY_MODEL_ec5ebac53ba643a382ec8f805b938f5d",
        "IPY_MODEL_c3894019489b470eab16f34180c5ef41",
        "IPY_MODEL_ebbbb17f386348f2ad239707790ae7b7",
        "IPY_MODEL_06841cf3103048518b34fcac8a40cce7",
        "IPY_MODEL_93d27d9b13cf46acb48c0832c72fe966",
        "IPY_MODEL_7f403fbe4b4b4b20a51d636498139ff4"
       ],
       "layout": "IPY_MODEL_0a6e0db645584d6081f55d14d48cff56"
      }
     },
     "ab41944780d147f9a31bf2b39cf12bf4": {
      "model_module": "@jupyter-widgets/controls",
      "model_module_version": "1.4.0",
      "model_name": "RadioButtonsModel",
      "state": {
       "_options_labels": [
        "0",
        "1.0"
       ],
       "description": "mismatch_sensitivity",
       "index": 0,
       "layout": "IPY_MODEL_c0cdc09dce1147b2a7788eb3d70113b0",
       "style": "IPY_MODEL_a0d4198ef4d84cda9f9f997df1374a16"
      }
     },
     "ab450d33c86240a084459320e9d0a79d": {
      "model_module": "@jupyter-widgets/controls",
      "model_module_version": "1.4.0",
      "model_name": "RadioButtonsModel",
      "state": {
       "_options_labels": [
        "0",
        "0.01"
       ],
       "description": "noise",
       "index": 0,
       "layout": "IPY_MODEL_0d3b645881ba4d6c9c04160c3d31e357",
       "style": "IPY_MODEL_604e6bc44df74732a3018ffc0c25072a"
      }
     },
     "abebc174f11245aaa4a72d12f8e2bc42": {
      "model_module": "@jupyter-widgets/controls",
      "model_module_version": "1.4.0",
      "model_name": "RadioButtonsModel",
      "state": {
       "_options_labels": [
        "1",
        "0.5",
        "0"
       ],
       "description": "penalty_strenth",
       "index": 0,
       "layout": "IPY_MODEL_108803633c784e9283cf52e79320685b",
       "style": "IPY_MODEL_cf5a77b72f144d8fb531b50e05b27028"
      }
     },
     "acf127e425b548f98b4c0617e92bfa95": {
      "model_module": "@jupyter-widgets/controls",
      "model_module_version": "1.4.0",
      "model_name": "RadioButtonsModel",
      "state": {
       "_options_labels": [
        "0",
        "1.0"
       ],
       "description": "mismatch_sensitivity",
       "index": 0,
       "layout": "IPY_MODEL_19b73638b9134942813ccb0979e24831",
       "style": "IPY_MODEL_b7223087aa234dafa679da8f953b08ec"
      }
     },
     "ad292d8bf9ed4c1bbeb8f9c72fd3648d": {
      "model_module": "@jupyter-widgets/controls",
      "model_module_version": "1.4.0",
      "model_name": "DescriptionStyleModel",
      "state": {
       "description_width": ""
      }
     },
     "ad3b61b4226e4482ba6eab3b8800c187": {
      "model_module": "@jupyter-widgets/controls",
      "model_module_version": "1.4.0",
      "model_name": "DescriptionStyleModel",
      "state": {
       "description_width": ""
      }
     },
     "ad6bb3079ae54671b8c654b0563943e0": {
      "model_module": "@jupyter-widgets/controls",
      "model_module_version": "1.4.0",
      "model_name": "DescriptionStyleModel",
      "state": {
       "description_width": ""
      }
     },
     "ae132abdd4e9467e91c31fb75a25e11c": {
      "model_module": "@jupyter-widgets/controls",
      "model_module_version": "1.4.0",
      "model_name": "SelectionSliderModel",
      "state": {
       "_options_labels": [
        "0",
        "1",
        "2",
        "4",
        "8",
        "16",
        "32",
        "64"
       ],
       "continuous_update": false,
       "description": "Max-mismatch",
       "index": 2,
       "layout": "IPY_MODEL_f4637ebd4d1542708cd5af2515d62eac",
       "style": "IPY_MODEL_771ee14c393d4020bc47329267aed749"
      }
     },
     "ae85f21de8b0412fb7600641fc919c7f": {
      "model_module": "@jupyter-widgets/controls",
      "model_module_version": "1.4.0",
      "model_name": "DescriptionStyleModel",
      "state": {
       "description_width": ""
      }
     },
     "aea5093f4df947db8bd555d66e64f17d": {
      "model_module": "@jupyter-widgets/base",
      "model_module_version": "1.1.0",
      "model_name": "LayoutModel",
      "state": {}
     },
     "af7eb9b6b18548e1bf43c9e108e4a5d0": {
      "model_module": "@jupyter-widgets/controls",
      "model_module_version": "1.4.0",
      "model_name": "RadioButtonsModel",
      "state": {
       "_options_labels": [
        "0",
        "1",
        "2",
        "4",
        "8",
        "16",
        "32",
        "64"
       ],
       "description": "max_mismatch",
       "index": 0,
       "layout": "IPY_MODEL_65ff8c7b641c43ff99e05dd1f4161455",
       "style": "IPY_MODEL_dcf654c1c2e84b7983a729d17ce44021"
      }
     },
     "b035968bfa1142cfaa737688fad804f6": {
      "model_module": "@jupyter-widgets/base",
      "model_module_version": "1.1.0",
      "model_name": "LayoutModel",
      "state": {}
     },
     "b0824f5cf6924e91a3f27bd1822bd56f": {
      "model_module": "@jupyter-widgets/controls",
      "model_module_version": "1.4.0",
      "model_name": "RadioButtonsModel",
      "state": {
       "_options_labels": [
        "1",
        "0.5",
        "0"
       ],
       "description": "penalty_strenth",
       "index": 0,
       "layout": "IPY_MODEL_3886f90be6134136be93b8fa9be77f90",
       "style": "IPY_MODEL_398bd307df7c4dec9d977841e3f79d46"
      }
     },
     "b09ce4a308a945ebbb2ec34fdfe5f671": {
      "model_module": "@jupyter-widgets/controls",
      "model_module_version": "1.4.0",
      "model_name": "RadioButtonsModel",
      "state": {
       "_options_labels": [
        "0.25"
       ],
       "description": "ambiguity",
       "index": 0,
       "layout": "IPY_MODEL_65b117626c374b72a48cd150e0bb2c15",
       "style": "IPY_MODEL_481440064b794f63b08c3e8ef0b6377f"
      }
     },
     "b0bb2df8d51b4c9c9eb77219371f35a9": {
      "model_module": "@jupyter-widgets/controls",
      "model_module_version": "1.4.0",
      "model_name": "DescriptionStyleModel",
      "state": {
       "description_width": ""
      }
     },
     "b0d569cdb9ea4c038580da8d4dd4f123": {
      "model_module": "@jupyter-widgets/base",
      "model_module_version": "1.1.0",
      "model_name": "LayoutModel",
      "state": {}
     },
     "b1094598ddad4c6d924a028e68f72acd": {
      "model_module": "@jupyter-widgets/controls",
      "model_module_version": "1.4.0",
      "model_name": "RadioButtonsModel",
      "state": {
       "_options_labels": [
        "0",
        "1.0"
       ],
       "description": "mismatch_sensitivity",
       "index": 1,
       "layout": "IPY_MODEL_e7e0e87461044a05a1c805cb26e34520",
       "style": "IPY_MODEL_0a7e9bc53a6e4b69bc7f2018bf1981d8"
      }
     },
     "b21986cff43149488778a5fdc8b14cf9": {
      "model_module": "@jupyter-widgets/base",
      "model_module_version": "1.1.0",
      "model_name": "LayoutModel",
      "state": {}
     },
     "b23223e78c9e4a7d8ea803e23a19a1e1": {
      "model_module": "@jupyter-widgets/controls",
      "model_module_version": "1.4.0",
      "model_name": "DescriptionStyleModel",
      "state": {
       "description_width": ""
      }
     },
     "b238bd16228342f7850a9e1c730228f1": {
      "model_module": "@jupyter-widgets/controls",
      "model_module_version": "1.4.0",
      "model_name": "DescriptionStyleModel",
      "state": {
       "description_width": ""
      }
     },
     "b296a6603a1d4ecd8f695fc8af5d0acb": {
      "model_module": "@jupyter-widgets/controls",
      "model_module_version": "1.4.0",
      "model_name": "DescriptionStyleModel",
      "state": {
       "description_width": ""
      }
     },
     "b2c456f86a48487680d05fd4c72512ae": {
      "model_module": "@jupyter-widgets/controls",
      "model_module_version": "1.4.0",
      "model_name": "VBoxModel",
      "state": {
       "_dom_classes": [
        "widget-interact"
       ],
       "children": [
        "IPY_MODEL_72b8f1834a214289afebdb7b61935476",
        "IPY_MODEL_b6dbc041e1134a0b90abdc883ba13f40",
        "IPY_MODEL_46f78643952c45b4a5ddf5a3710e73a1",
        "IPY_MODEL_ded1c999fdfd4b81870db6a7d48db159",
        "IPY_MODEL_6fe8439641004d7aa29d6cd2f2a58107",
        "IPY_MODEL_b4c32a1ed0ed49da8339c923331b96da",
        "IPY_MODEL_08c6fa1419984b4b98cb3fa38c042822"
       ],
       "layout": "IPY_MODEL_7816349164f44da9903555f5099df82f"
      }
     },
     "b2eb8e6013f541fdabad1e6feee9ea8b": {
      "model_module": "@jupyter-widgets/controls",
      "model_module_version": "1.4.0",
      "model_name": "VBoxModel",
      "state": {
       "_dom_classes": [
        "widget-interact"
       ],
       "children": [
        "IPY_MODEL_bf50342480e2424da039645eb577cd04",
        "IPY_MODEL_d00f6b91ffd6461598d3c5150878eddf",
        "IPY_MODEL_ea45549a07b94239a0d0909f1b3baaf4",
        "IPY_MODEL_fcec7206e9034dd69c6b88c1c4fae3fd",
        "IPY_MODEL_7a6db8ff15d742f1976b7408556d2d6e",
        "IPY_MODEL_1b938210603e48d3aaee70510078e230",
        "IPY_MODEL_877a159cf9d5481b90401bcf102f977b"
       ],
       "layout": "IPY_MODEL_5dad2d222e81481882151640478812ef"
      }
     },
     "b3e12fae221249a19b1e2d3f901efa82": {
      "model_module": "@jupyter-widgets/base",
      "model_module_version": "1.1.0",
      "model_name": "LayoutModel",
      "state": {}
     },
     "b47ea815a5eb48aabab073e63090bb7d": {
      "model_module": "@jupyter-widgets/base",
      "model_module_version": "1.1.0",
      "model_name": "LayoutModel",
      "state": {}
     },
     "b4b24e4f1ebf457aa5da37ecd2674365": {
      "model_module": "@jupyter-widgets/controls",
      "model_module_version": "1.4.0",
      "model_name": "ToggleButtonsModel",
      "state": {
       "_options_labels": [
        "0",
        "1"
       ],
       "button_style": "",
       "description": "Penalty strenth",
       "icons": [],
       "index": 1,
       "layout": "IPY_MODEL_d739025aca59418987238149417bbf86",
       "style": "IPY_MODEL_5e8de52399b0438e9068a9961be8a94f",
       "tooltips": []
      }
     },
     "b4c32a1ed0ed49da8339c923331b96da": {
      "model_module": "@jupyter-widgets/controls",
      "model_module_version": "1.4.0",
      "model_name": "ToggleButtonsModel",
      "state": {
       "_options_labels": [
        "0",
        "1"
       ],
       "button_style": "",
       "description": "Penalty strenth",
       "icons": [],
       "index": 1,
       "layout": "IPY_MODEL_76354e86f62143c98dcaae25574e3f80",
       "style": "IPY_MODEL_42d6260301fa44439f8d622b2c2847b8",
       "tooltips": []
      }
     },
     "b4d3c1ddea99402ebf5cc4bd5aaf4fb4": {
      "model_module": "@jupyter-widgets/controls",
      "model_module_version": "1.4.0",
      "model_name": "DescriptionStyleModel",
      "state": {
       "description_width": ""
      }
     },
     "b5a8a51553e9425a964ecb90623f7e29": {
      "model_module": "@jupyter-widgets/base",
      "model_module_version": "1.1.0",
      "model_name": "LayoutModel",
      "state": {}
     },
     "b68e3534c7244763964ce214e80be1b5": {
      "model_module": "@jupyter-widgets/controls",
      "model_module_version": "1.4.0",
      "model_name": "RadioButtonsModel",
      "state": {
       "_options_labels": [
        "0.25"
       ],
       "description": "ambiguity",
       "index": 0,
       "layout": "IPY_MODEL_f33c9b1026fb43d5b17ea55965ac1d5d",
       "style": "IPY_MODEL_d97c9f46ddb44f58b1536f1cf1872de3"
      }
     },
     "b6a69544227e48919a7c9cd9051e9027": {
      "model_module": "@jupyter-widgets/base",
      "model_module_version": "1.1.0",
      "model_name": "LayoutModel",
      "state": {}
     },
     "b6dbc041e1134a0b90abdc883ba13f40": {
      "model_module": "@jupyter-widgets/controls",
      "model_module_version": "1.4.0",
      "model_name": "RadioButtonsModel",
      "state": {
       "_options_labels": [
        "0",
        "0.01"
       ],
       "description": "noise",
       "index": 0,
       "layout": "IPY_MODEL_c6829a8dab96421f8ed5da31798200d7",
       "style": "IPY_MODEL_fdf60f81d4c84017a0e7aa3cd661ae3f"
      }
     },
     "b6f47521d2234c8f8a3ad1669c53cf2a": {
      "model_module": "@jupyter-widgets/controls",
      "model_module_version": "1.4.0",
      "model_name": "RadioButtonsModel",
      "state": {
       "_options_labels": [
        "0",
        "0.01"
       ],
       "description": "noise",
       "index": 0,
       "layout": "IPY_MODEL_b0d569cdb9ea4c038580da8d4dd4f123",
       "style": "IPY_MODEL_82addc33f7f6466abf2fac950ed903bc"
      }
     },
     "b7223087aa234dafa679da8f953b08ec": {
      "model_module": "@jupyter-widgets/controls",
      "model_module_version": "1.4.0",
      "model_name": "DescriptionStyleModel",
      "state": {
       "description_width": ""
      }
     },
     "b73e90170bf14ccc9a811004444ab8ba": {
      "model_module": "@jupyter-widgets/controls",
      "model_module_version": "1.4.0",
      "model_name": "DescriptionStyleModel",
      "state": {
       "description_width": ""
      }
     },
     "b78a1fc2f84440878495e144d2a52d08": {
      "model_module": "@jupyter-widgets/base",
      "model_module_version": "1.1.0",
      "model_name": "LayoutModel",
      "state": {}
     },
     "b7b8dcd832ba4f509daa83cdada08b25": {
      "model_module": "@jupyter-widgets/controls",
      "model_module_version": "1.4.0",
      "model_name": "ToggleButtonsStyleModel",
      "state": {
       "button_width": "",
       "description_width": ""
      }
     },
     "b8229aabb5e2488abdd4568cacb7fafb": {
      "model_module": "@jupyter-widgets/base",
      "model_module_version": "1.1.0",
      "model_name": "LayoutModel",
      "state": {}
     },
     "b83933cb42584818b2776295baeecde0": {
      "model_module": "@jupyter-widgets/controls",
      "model_module_version": "1.4.0",
      "model_name": "VBoxModel",
      "state": {
       "_dom_classes": [
        "widget-interact"
       ],
       "children": [
        "IPY_MODEL_6f47b3818f65459298798aca103d7100",
        "IPY_MODEL_2edaf7d23a7348b5b3f9e2bed752f2a8",
        "IPY_MODEL_f903e4edb9724d71bc48102b2ae2b951",
        "IPY_MODEL_4402a403b8de4405a8790a5e9314098d",
        "IPY_MODEL_ba74a60f60b64418927bc87bff5c383f",
        "IPY_MODEL_721dc58404dc4af5940871e99fac5d44",
        "IPY_MODEL_2ef9dfd2675243169a5f137e21d15d05"
       ],
       "layout": "IPY_MODEL_78aa4de5c50249aeb300b9bdf39ed296"
      }
     },
     "b85fbc9dd38e412eb037f2701ae9caed": {
      "model_module": "@jupyter-widgets/base",
      "model_module_version": "1.1.0",
      "model_name": "LayoutModel",
      "state": {}
     },
     "b8816ef7feeb48c099bd9eaf7b0fbab1": {
      "model_module": "@jupyter-widgets/base",
      "model_module_version": "1.1.0",
      "model_name": "LayoutModel",
      "state": {}
     },
     "ba30419cb3794f9cae454b16dba7e4bc": {
      "model_module": "@jupyter-widgets/controls",
      "model_module_version": "1.4.0",
      "model_name": "SelectionSliderModel",
      "state": {
       "_options_labels": [
        "1",
        "0.5",
        "0"
       ],
       "continuous_update": false,
       "description": "Penalty strenth",
       "index": 2,
       "layout": "IPY_MODEL_e7b5222438bc4e63825ad142edc4c3ba",
       "style": "IPY_MODEL_ced69a1084dd482aba642f7cacee9ecb"
      }
     },
     "ba6a97e396db407e8ea38387f266d3a6": {
      "model_module": "@jupyter-widgets/output",
      "model_module_version": "1.0.0",
      "model_name": "OutputModel",
      "state": {
       "layout": "IPY_MODEL_b5a8a51553e9425a964ecb90623f7e29"
      }
     },
     "ba74a60f60b64418927bc87bff5c383f": {
      "model_module": "@jupyter-widgets/controls",
      "model_module_version": "1.4.0",
      "model_name": "RadioButtonsModel",
      "state": {
       "_options_labels": [
        "0",
        "1",
        "2",
        "4",
        "8",
        "16",
        "32",
        "64"
       ],
       "description": "max_mismatch",
       "index": 0,
       "layout": "IPY_MODEL_7e324c1123d9438ca5acfc3d331ce76d",
       "style": "IPY_MODEL_e87f1ed79c8b404c8038c455f72accd5"
      }
     },
     "bb0245b8fe334697a12356c3d2a3391f": {
      "model_module": "@jupyter-widgets/controls",
      "model_module_version": "1.4.0",
      "model_name": "DescriptionStyleModel",
      "state": {
       "description_width": ""
      }
     },
     "bb90ef0c3efd434fa79a035852780e85": {
      "model_module": "@jupyter-widgets/base",
      "model_module_version": "1.1.0",
      "model_name": "LayoutModel",
      "state": {}
     },
     "bb91ba0438474d63aa462851fee59796": {
      "model_module": "@jupyter-widgets/base",
      "model_module_version": "1.1.0",
      "model_name": "LayoutModel",
      "state": {}
     },
     "bbdad78f53104e07b549de6d5d1ac2e3": {
      "model_module": "@jupyter-widgets/base",
      "model_module_version": "1.1.0",
      "model_name": "LayoutModel",
      "state": {}
     },
     "bc368177e0d340e59740fae51fca63dc": {
      "model_module": "@jupyter-widgets/base",
      "model_module_version": "1.1.0",
      "model_name": "LayoutModel",
      "state": {}
     },
     "bc46643515ad4706b357a85ea18e3660": {
      "model_module": "@jupyter-widgets/controls",
      "model_module_version": "1.4.0",
      "model_name": "RadioButtonsModel",
      "state": {
       "_options_labels": [
        "1",
        "3"
       ],
       "description": "n_retrievals",
       "index": 0,
       "layout": "IPY_MODEL_cd79eccd0c4646e79c58249b41a773df",
       "style": "IPY_MODEL_c677786fd16b432494cc42aec612efcb"
      }
     },
     "bc5c2d21480942f39fdd81a637455e0d": {
      "model_module": "@jupyter-widgets/controls",
      "model_module_version": "1.4.0",
      "model_name": "DescriptionStyleModel",
      "state": {
       "description_width": ""
      }
     },
     "bc6d87591160456697738a7dfa9856c1": {
      "model_module": "@jupyter-widgets/controls",
      "model_module_version": "1.4.0",
      "model_name": "DescriptionStyleModel",
      "state": {
       "description_width": ""
      }
     },
     "bcb7f907571c4eacb653e4bad2153dc2": {
      "model_module": "@jupyter-widgets/controls",
      "model_module_version": "1.4.0",
      "model_name": "RadioButtonsModel",
      "state": {
       "_options_labels": [
        "1",
        "0.5",
        "0"
       ],
       "description": "penalty_strenth",
       "index": 0,
       "layout": "IPY_MODEL_a0540a0c68124e9f831e9df14fc22b88",
       "style": "IPY_MODEL_ad292d8bf9ed4c1bbeb8f9c72fd3648d"
      }
     },
     "bcdbdb793467428988839a443ef1e8e1": {
      "model_module": "@jupyter-widgets/controls",
      "model_module_version": "1.4.0",
      "model_name": "RadioButtonsModel",
      "state": {
       "_options_labels": [
        "0",
        "1.0"
       ],
       "description": "mismatch_sensitivity",
       "index": 1,
       "layout": "IPY_MODEL_9f6c3380039b4016a62ba1ce8bec2ae0",
       "style": "IPY_MODEL_ecc756fae8784c2da2a09d4b72cc1ca0"
      }
     },
     "bcf2f011aee443a1a4340d7f9f83f175": {
      "model_module": "@jupyter-widgets/base",
      "model_module_version": "1.1.0",
      "model_name": "LayoutModel",
      "state": {}
     },
     "bcfc98b95b6047b88dc0da39ec1d76e3": {
      "model_module": "@jupyter-widgets/controls",
      "model_module_version": "1.4.0",
      "model_name": "DescriptionStyleModel",
      "state": {
       "description_width": ""
      }
     },
     "bd7f60c3e83343a8a34cd08b7b19c91d": {
      "model_module": "@jupyter-widgets/base",
      "model_module_version": "1.1.0",
      "model_name": "LayoutModel",
      "state": {}
     },
     "bd9c6081f39c4fc48294b5ee97d16e67": {
      "model_module": "@jupyter-widgets/output",
      "model_module_version": "1.0.0",
      "model_name": "OutputModel",
      "state": {
       "layout": "IPY_MODEL_090a61965440485386f05f71cf9a93af"
      }
     },
     "bdbc5646fe234be3a728ac3b826a0354": {
      "model_module": "@jupyter-widgets/base",
      "model_module_version": "1.1.0",
      "model_name": "LayoutModel",
      "state": {}
     },
     "bde7cfb7b6ae4c53a3381aff5a8a5c8e": {
      "model_module": "@jupyter-widgets/output",
      "model_module_version": "1.0.0",
      "model_name": "OutputModel",
      "state": {
       "layout": "IPY_MODEL_fcc0f840d6cc48fcb7cb8276c5d3d3f4"
      }
     },
     "bec7bf7323dc4f039fa146e79e48b43f": {
      "model_module": "@jupyter-widgets/controls",
      "model_module_version": "1.4.0",
      "model_name": "VBoxModel",
      "state": {
       "_dom_classes": [
        "widget-interact"
       ],
       "children": [
        "IPY_MODEL_64131bb44a384fb6b2f451565d0a95e5",
        "IPY_MODEL_fbf3ad6707524f6b9a7c640f55fc9b61",
        "IPY_MODEL_d422a52310984159b228dec1e35ea4ff",
        "IPY_MODEL_2ac0f76761f3457b8e3b725e76256c29",
        "IPY_MODEL_dedb1622dfc844daa21af28f2cacfbbf",
        "IPY_MODEL_b0824f5cf6924e91a3f27bd1822bd56f",
        "IPY_MODEL_69e468c78ff24ee69062a88a45c57e48"
       ],
       "layout": "IPY_MODEL_e30d3499c261463d8c86d0e051ba5b0f"
      }
     },
     "bed1db98ff6b4df8a59fc7df9d1cd962": {
      "model_module": "@jupyter-widgets/output",
      "model_module_version": "1.0.0",
      "model_name": "OutputModel",
      "state": {
       "layout": "IPY_MODEL_879cd8ba764e4fa0838e2790230ebccf"
      }
     },
     "bf50342480e2424da039645eb577cd04": {
      "model_module": "@jupyter-widgets/controls",
      "model_module_version": "1.4.0",
      "model_name": "ToggleButtonsModel",
      "state": {
       "_options_labels": [
        "0.25"
       ],
       "button_style": "",
       "description": "ambiguity",
       "icons": [],
       "index": 0,
       "layout": "IPY_MODEL_37a5031ce99140f5993036f7ad6745eb",
       "style": "IPY_MODEL_a07bb0f031234c159aeb8713a9991870",
       "tooltips": []
      }
     },
     "bf8091d023384bd5ae80e93f3c398f52": {
      "model_module": "@jupyter-widgets/base",
      "model_module_version": "1.1.0",
      "model_name": "LayoutModel",
      "state": {}
     },
     "c084cdbdc86b436d99c35f51843fda53": {
      "model_module": "@jupyter-widgets/base",
      "model_module_version": "1.1.0",
      "model_name": "LayoutModel",
      "state": {}
     },
     "c0b9fc68078b44ae9279f10882008f4a": {
      "model_module": "@jupyter-widgets/base",
      "model_module_version": "1.1.0",
      "model_name": "LayoutModel",
      "state": {}
     },
     "c0cdc09dce1147b2a7788eb3d70113b0": {
      "model_module": "@jupyter-widgets/base",
      "model_module_version": "1.1.0",
      "model_name": "LayoutModel",
      "state": {}
     },
     "c1336e4c2f9b4aa7b6d3ba283234744d": {
      "model_module": "@jupyter-widgets/controls",
      "model_module_version": "1.4.0",
      "model_name": "ToggleButtonsStyleModel",
      "state": {
       "button_width": "",
       "description_width": ""
      }
     },
     "c234aa902f90477b9c687427fad696ce": {
      "model_module": "@jupyter-widgets/controls",
      "model_module_version": "1.4.0",
      "model_name": "DescriptionStyleModel",
      "state": {
       "description_width": ""
      }
     },
     "c333c10e1c9a44d68950c3118e1e711c": {
      "model_module": "@jupyter-widgets/controls",
      "model_module_version": "1.4.0",
      "model_name": "DescriptionStyleModel",
      "state": {
       "description_width": ""
      }
     },
     "c33e6b267ffe4a559fd3a7fc41f27921": {
      "model_module": "@jupyter-widgets/base",
      "model_module_version": "1.1.0",
      "model_name": "LayoutModel",
      "state": {}
     },
     "c3894019489b470eab16f34180c5ef41": {
      "model_module": "@jupyter-widgets/controls",
      "model_module_version": "1.4.0",
      "model_name": "RadioButtonsModel",
      "state": {
       "_options_labels": [
        "1",
        "3"
       ],
       "description": "n_retrievals",
       "index": 0,
       "layout": "IPY_MODEL_f61874fd121a4d72a811f0df8abd7c0f",
       "style": "IPY_MODEL_1bdbe93cc1f342ad9104632f765d9753"
      }
     },
     "c41bd148cf884a2daebe13609449b5e8": {
      "model_module": "@jupyter-widgets/base",
      "model_module_version": "1.1.0",
      "model_name": "LayoutModel",
      "state": {}
     },
     "c456b594ec004d52bac9e4b138e8f25a": {
      "model_module": "@jupyter-widgets/controls",
      "model_module_version": "1.4.0",
      "model_name": "DescriptionStyleModel",
      "state": {
       "description_width": ""
      }
     },
     "c5c5da2f6eae464f8fa6642285ed345c": {
      "model_module": "@jupyter-widgets/controls",
      "model_module_version": "1.4.0",
      "model_name": "SelectionSliderModel",
      "state": {
       "_options_labels": [
        "0",
        "1",
        "2",
        "4",
        "8",
        "16",
        "32",
        "64"
       ],
       "continuous_update": false,
       "description": "max-mismatch:",
       "index": 0,
       "layout": "IPY_MODEL_3096d9520da0443484baf21c2734198f",
       "style": "IPY_MODEL_6a355b19fbe749ba83d50d821151c57e"
      }
     },
     "c6730d26089a449a8b5c9607ae570228": {
      "model_module": "@jupyter-widgets/base",
      "model_module_version": "1.1.0",
      "model_name": "LayoutModel",
      "state": {}
     },
     "c677786fd16b432494cc42aec612efcb": {
      "model_module": "@jupyter-widgets/controls",
      "model_module_version": "1.4.0",
      "model_name": "DescriptionStyleModel",
      "state": {
       "description_width": ""
      }
     },
     "c6829a8dab96421f8ed5da31798200d7": {
      "model_module": "@jupyter-widgets/base",
      "model_module_version": "1.1.0",
      "model_name": "LayoutModel",
      "state": {}
     },
     "c6e8b3c1f5bb4bab9aa217fe51116560": {
      "model_module": "@jupyter-widgets/controls",
      "model_module_version": "1.4.0",
      "model_name": "ToggleButtonsStyleModel",
      "state": {
       "button_width": "",
       "description_width": ""
      }
     },
     "c708759a6cc8421bbbab14c86905a4af": {
      "model_module": "@jupyter-widgets/controls",
      "model_module_version": "1.4.0",
      "model_name": "VBoxModel",
      "state": {
       "_dom_classes": [
        "widget-interact"
       ],
       "children": [
        "IPY_MODEL_2cff8db97928474384f9e6afd30041d1",
        "IPY_MODEL_ce8f0e1ca8364fed9c0f3fdcd67e455d",
        "IPY_MODEL_7a3cd8d79d304965aa52ac73bbfd04a6",
        "IPY_MODEL_bcdbdb793467428988839a443ef1e8e1",
        "IPY_MODEL_af7eb9b6b18548e1bf43c9e108e4a5d0",
        "IPY_MODEL_bcb7f907571c4eacb653e4bad2153dc2",
        "IPY_MODEL_990fe0f488694ec486e241620533c8b2"
       ],
       "layout": "IPY_MODEL_403ae0cdd2f54b9eb256e4ec7a5a344f"
      }
     },
     "c70a58ce573743ff8cc587910fb4f34b": {
      "model_module": "@jupyter-widgets/base",
      "model_module_version": "1.1.0",
      "model_name": "LayoutModel",
      "state": {}
     },
     "c75c1c2430e64ad7a6016022d9651e8c": {
      "model_module": "@jupyter-widgets/base",
      "model_module_version": "1.1.0",
      "model_name": "LayoutModel",
      "state": {}
     },
     "c79e6ebe93e5482eae5bb8ed8f5a376e": {
      "model_module": "@jupyter-widgets/base",
      "model_module_version": "1.1.0",
      "model_name": "LayoutModel",
      "state": {}
     },
     "c88892b84bb14566a190806a338a8c48": {
      "model_module": "@jupyter-widgets/base",
      "model_module_version": "1.1.0",
      "model_name": "LayoutModel",
      "state": {}
     },
     "c96f9392ad514913adbf5da8b2b10ebd": {
      "model_module": "@jupyter-widgets/output",
      "model_module_version": "1.0.0",
      "model_name": "OutputModel",
      "state": {
       "layout": "IPY_MODEL_a5f9d2ca75214911af027643b6a29d8a"
      }
     },
     "ca5ab87134884ad7863391633584c0d4": {
      "model_module": "@jupyter-widgets/base",
      "model_module_version": "1.1.0",
      "model_name": "LayoutModel",
      "state": {}
     },
     "caebac641b544bf6a7f874d40e457486": {
      "model_module": "@jupyter-widgets/controls",
      "model_module_version": "1.4.0",
      "model_name": "RadioButtonsModel",
      "state": {
       "_options_labels": [
        "1",
        "3"
       ],
       "description": "n_retrievals",
       "index": 0,
       "layout": "IPY_MODEL_7d6e44411f0345f787138745a9050565",
       "style": "IPY_MODEL_2bb78736b34b451995c9b354a4833e33"
      }
     },
     "cb8fab7e33764080bb550e6752129018": {
      "model_module": "@jupyter-widgets/controls",
      "model_module_version": "1.4.0",
      "model_name": "DescriptionStyleModel",
      "state": {
       "description_width": ""
      }
     },
     "ccf348b813074ccca90619af4cfea105": {
      "model_module": "@jupyter-widgets/controls",
      "model_module_version": "1.4.0",
      "model_name": "DescriptionStyleModel",
      "state": {
       "description_width": ""
      }
     },
     "cd2ce643da0d4d7b8705efed17b13417": {
      "model_module": "@jupyter-widgets/controls",
      "model_module_version": "1.4.0",
      "model_name": "DescriptionStyleModel",
      "state": {
       "description_width": ""
      }
     },
     "cd6594434ea74fafa15d3f8c6bf8ab54": {
      "model_module": "@jupyter-widgets/controls",
      "model_module_version": "1.4.0",
      "model_name": "RadioButtonsModel",
      "state": {
       "_options_labels": [
        "0",
        "0.01"
       ],
       "description": "noise",
       "index": 0,
       "layout": "IPY_MODEL_eb6fa09f42324f179d7d08ffd1cb99cf",
       "style": "IPY_MODEL_45a34fd41f6941cc8beca2ad1d4a84d0"
      }
     },
     "cd79eccd0c4646e79c58249b41a773df": {
      "model_module": "@jupyter-widgets/base",
      "model_module_version": "1.1.0",
      "model_name": "LayoutModel",
      "state": {}
     },
     "cdd1badfe8374ec9b67447f306c01028": {
      "model_module": "@jupyter-widgets/controls",
      "model_module_version": "1.4.0",
      "model_name": "VBoxModel",
      "state": {
       "_dom_classes": [
        "widget-interact"
       ],
       "children": [
        "IPY_MODEL_04d382f6b9904518ba7de94e179cad7f",
        "IPY_MODEL_6e61053a7475449b9d6a47332f79497e",
        "IPY_MODEL_669a05e104c04fe78ee0d564214ae76a",
        "IPY_MODEL_a18615e3f6a7433fbcb4e08a0ea94bd9",
        "IPY_MODEL_278ebd1eb5974ebd81988fe25bd66058",
        "IPY_MODEL_09e3afb730904dc1a437416e4fe003e7",
        "IPY_MODEL_bd9c6081f39c4fc48294b5ee97d16e67"
       ],
       "layout": "IPY_MODEL_6e4f2b81de8f46e8906d0ad66931ff93"
      }
     },
     "ce8f0e1ca8364fed9c0f3fdcd67e455d": {
      "model_module": "@jupyter-widgets/controls",
      "model_module_version": "1.4.0",
      "model_name": "RadioButtonsModel",
      "state": {
       "_options_labels": [
        "0",
        "0.01"
       ],
       "description": "noise",
       "index": 0,
       "layout": "IPY_MODEL_263331d7ca59470dbb6c9c2a56dbbcb9",
       "style": "IPY_MODEL_cd2ce643da0d4d7b8705efed17b13417"
      }
     },
     "ced69a1084dd482aba642f7cacee9ecb": {
      "model_module": "@jupyter-widgets/controls",
      "model_module_version": "1.4.0",
      "model_name": "DescriptionStyleModel",
      "state": {
       "description_width": ""
      }
     },
     "cf08eb59280c4ff8a6a1707f586c3e09": {
      "model_module": "@jupyter-widgets/controls",
      "model_module_version": "1.4.0",
      "model_name": "ToggleButtonsStyleModel",
      "state": {
       "button_width": "",
       "description_width": ""
      }
     },
     "cf5a77b72f144d8fb531b50e05b27028": {
      "model_module": "@jupyter-widgets/controls",
      "model_module_version": "1.4.0",
      "model_name": "DescriptionStyleModel",
      "state": {
       "description_width": ""
      }
     },
     "cf97f03667694c8499a176452b317129": {
      "model_module": "@jupyter-widgets/base",
      "model_module_version": "1.1.0",
      "model_name": "LayoutModel",
      "state": {}
     },
     "d0029ec128a1468d82fffc408ce8dd51": {
      "model_module": "@jupyter-widgets/base",
      "model_module_version": "1.1.0",
      "model_name": "LayoutModel",
      "state": {}
     },
     "d00f6b91ffd6461598d3c5150878eddf": {
      "model_module": "@jupyter-widgets/controls",
      "model_module_version": "1.4.0",
      "model_name": "ToggleButtonsModel",
      "state": {
       "_options_labels": [
        "0",
        "0.01"
       ],
       "button_style": "",
       "description": "noise",
       "icons": [],
       "index": 0,
       "layout": "IPY_MODEL_9af4b8fb579c439b9e83b1db02a136e4",
       "style": "IPY_MODEL_cf08eb59280c4ff8a6a1707f586c3e09",
       "tooltips": []
      }
     },
     "d0db7a50eb8b49ccb15580c33c762150": {
      "model_module": "@jupyter-widgets/base",
      "model_module_version": "1.1.0",
      "model_name": "LayoutModel",
      "state": {}
     },
     "d131d05350974aeebec1ebf83935b93c": {
      "model_module": "@jupyter-widgets/controls",
      "model_module_version": "1.4.0",
      "model_name": "RadioButtonsModel",
      "state": {
       "_options_labels": [
        "0",
        "1.0"
       ],
       "description": "mismatch_sensitivity",
       "index": 1,
       "layout": "IPY_MODEL_ff70b8c97e8c4d349941a278635a8714",
       "style": "IPY_MODEL_e68bba0ea937477d8cbd298b7025507a"
      }
     },
     "d186fcef60124a359f53ad8d0a1cbfb6": {
      "model_module": "@jupyter-widgets/base",
      "model_module_version": "1.1.0",
      "model_name": "LayoutModel",
      "state": {}
     },
     "d1a14ced77ff4be488eccd7e9a5d3e14": {
      "model_module": "@jupyter-widgets/controls",
      "model_module_version": "1.4.0",
      "model_name": "DescriptionStyleModel",
      "state": {
       "description_width": ""
      }
     },
     "d1b24c81ccf34fd7b7a73e7765ba8e76": {
      "model_module": "@jupyter-widgets/base",
      "model_module_version": "1.1.0",
      "model_name": "LayoutModel",
      "state": {}
     },
     "d1c4851cdc934e6ba368293b991144d3": {
      "model_module": "@jupyter-widgets/controls",
      "model_module_version": "1.4.0",
      "model_name": "VBoxModel",
      "state": {
       "_dom_classes": [
        "widget-interact"
       ],
       "children": [
        "IPY_MODEL_4ec6f0cd7fdd4f5eadb372c650e73df6",
        "IPY_MODEL_003b0cb8e63f4d0cb542830439faef5c",
        "IPY_MODEL_caebac641b544bf6a7f874d40e457486",
        "IPY_MODEL_1a9ee41c84af42aeb874ff86bd1a683b",
        "IPY_MODEL_51581864fd654769b4c31bc2a15b41a1",
        "IPY_MODEL_f3825e071a65484cb6cf285a79468ab0",
        "IPY_MODEL_9083f48ec2074cb0913626d872bf3a98"
       ],
       "layout": "IPY_MODEL_bf8091d023384bd5ae80e93f3c398f52"
      }
     },
     "d265b1fb0d0e47e4939aa78121ec6396": {
      "model_module": "@jupyter-widgets/base",
      "model_module_version": "1.1.0",
      "model_name": "LayoutModel",
      "state": {}
     },
     "d31ed8930984409ea4ea87cbaa794754": {
      "model_module": "@jupyter-widgets/controls",
      "model_module_version": "1.4.0",
      "model_name": "RadioButtonsModel",
      "state": {
       "_options_labels": [
        "1",
        "3"
       ],
       "description": "n_retrievals",
       "index": 1,
       "layout": "IPY_MODEL_7bf510b47f2e4db9b87c075cf3fabaee",
       "style": "IPY_MODEL_5672f425e2f4485f91a9bbc2495b49cd"
      }
     },
     "d422a52310984159b228dec1e35ea4ff": {
      "model_module": "@jupyter-widgets/controls",
      "model_module_version": "1.4.0",
      "model_name": "RadioButtonsModel",
      "state": {
       "_options_labels": [
        "1",
        "3"
       ],
       "description": "n_retrievals",
       "index": 0,
       "layout": "IPY_MODEL_a19086316ad646e7a88fed6553011c09",
       "style": "IPY_MODEL_80d91d43699e4bfcb8a187af05bb7ba0"
      }
     },
     "d42c74e388124e32bcbb38e16476a7a1": {
      "model_module": "@jupyter-widgets/controls",
      "model_module_version": "1.4.0",
      "model_name": "DescriptionStyleModel",
      "state": {
       "description_width": ""
      }
     },
     "d49103fbf20a4f71a0a016f7f4c3144f": {
      "model_module": "@jupyter-widgets/controls",
      "model_module_version": "1.4.0",
      "model_name": "DescriptionStyleModel",
      "state": {
       "description_width": ""
      }
     },
     "d50245bb192242d595db6fc1231fdbc5": {
      "model_module": "@jupyter-widgets/controls",
      "model_module_version": "1.4.0",
      "model_name": "DescriptionStyleModel",
      "state": {
       "description_width": ""
      }
     },
     "d50b82d13fde404aab28f51a4502cc34": {
      "model_module": "@jupyter-widgets/controls",
      "model_module_version": "1.4.0",
      "model_name": "RadioButtonsModel",
      "state": {
       "_options_labels": [
        "1",
        "0.5",
        "0"
       ],
       "description": "penalty_strenth",
       "index": 0,
       "layout": "IPY_MODEL_e518c6aabcf24c73a37598b5ec8b3e3f",
       "style": "IPY_MODEL_449f260e1ef84327a69112a425b80278"
      }
     },
     "d52f4ca945d148e1869ff7ae3b5d27b7": {
      "model_module": "@jupyter-widgets/controls",
      "model_module_version": "1.4.0",
      "model_name": "DescriptionStyleModel",
      "state": {
       "description_width": ""
      }
     },
     "d5fa6b93da5d4656a1ab62e3c06e80c8": {
      "model_module": "@jupyter-widgets/controls",
      "model_module_version": "1.4.0",
      "model_name": "RadioButtonsModel",
      "state": {
       "_options_labels": [
        "0.25"
       ],
       "description": "ambiguity",
       "index": 0,
       "layout": "IPY_MODEL_70d5e876757940459f5eb35eb5736a4e",
       "style": "IPY_MODEL_78a5136fb52f4e669046e9c7ef722ac1"
      }
     },
     "d61e18e17caf4a79b966758a16c40504": {
      "model_module": "@jupyter-widgets/controls",
      "model_module_version": "1.4.0",
      "model_name": "DescriptionStyleModel",
      "state": {
       "description_width": ""
      }
     },
     "d62b14b91d01486fa5c9cf529e7b137d": {
      "model_module": "@jupyter-widgets/base",
      "model_module_version": "1.1.0",
      "model_name": "LayoutModel",
      "state": {}
     },
     "d62e54c2b15746c08011e76419e38b7a": {
      "model_module": "@jupyter-widgets/base",
      "model_module_version": "1.1.0",
      "model_name": "LayoutModel",
      "state": {}
     },
     "d70fda493eba4a4b972b67fee5742e99": {
      "model_module": "@jupyter-widgets/base",
      "model_module_version": "1.1.0",
      "model_name": "LayoutModel",
      "state": {}
     },
     "d739025aca59418987238149417bbf86": {
      "model_module": "@jupyter-widgets/base",
      "model_module_version": "1.1.0",
      "model_name": "LayoutModel",
      "state": {}
     },
     "d81b2939fa49410ab44d7099d7a4b4c3": {
      "model_module": "@jupyter-widgets/controls",
      "model_module_version": "1.4.0",
      "model_name": "VBoxModel",
      "state": {
       "_dom_classes": [
        "widget-interact"
       ],
       "children": [
        "IPY_MODEL_4e7a0c7bcef9419995eb45ca3ef88aac",
        "IPY_MODEL_6625cb1c2a044cfc8de86a07181467f8",
        "IPY_MODEL_7aa3146e47374c248a8b5be71d69e571",
        "IPY_MODEL_4a646a3b45314103bb42825e9cf61661",
        "IPY_MODEL_2dee705b75914320bf07a0a6552eaadd",
        "IPY_MODEL_f35423a21060490b810374ad7a3e314c",
        "IPY_MODEL_1c05795d50b54f23b86ce8a00911869d"
       ],
       "layout": "IPY_MODEL_213975f3b7fd48be9b5e02df35e07627"
      }
     },
     "d853a99aadd747dbbb63996eb552ffb6": {
      "model_module": "@jupyter-widgets/controls",
      "model_module_version": "1.4.0",
      "model_name": "ToggleButtonsStyleModel",
      "state": {
       "button_width": "",
       "description_width": ""
      }
     },
     "d8645abe0b154577bb51bcdff22d1d8b": {
      "model_module": "@jupyter-widgets/controls",
      "model_module_version": "1.4.0",
      "model_name": "ToggleButtonsStyleModel",
      "state": {
       "button_width": "",
       "description_width": ""
      }
     },
     "d8968271f2e24a8e831c981de8649386": {
      "model_module": "@jupyter-widgets/base",
      "model_module_version": "1.1.0",
      "model_name": "LayoutModel",
      "state": {}
     },
     "d89dfebb155a4e2d8929f5b6773e9aac": {
      "model_module": "@jupyter-widgets/base",
      "model_module_version": "1.1.0",
      "model_name": "LayoutModel",
      "state": {}
     },
     "d97c9f46ddb44f58b1536f1cf1872de3": {
      "model_module": "@jupyter-widgets/controls",
      "model_module_version": "1.4.0",
      "model_name": "DescriptionStyleModel",
      "state": {
       "description_width": ""
      }
     },
     "d98f7402e3cb4bc08571cce4d5ab6a05": {
      "model_module": "@jupyter-widgets/controls",
      "model_module_version": "1.4.0",
      "model_name": "ToggleButtonsStyleModel",
      "state": {
       "button_width": "",
       "description_width": ""
      }
     },
     "da40682e0e48435788f0dca0d1227aa3": {
      "model_module": "@jupyter-widgets/controls",
      "model_module_version": "1.4.0",
      "model_name": "VBoxModel",
      "state": {
       "_dom_classes": [
        "widget-interact"
       ],
       "children": [
        "IPY_MODEL_815b69e08b0c4af5b63baa3b7444ac7c",
        "IPY_MODEL_a97e887307a346c3989e5c22a3cbf67c",
        "IPY_MODEL_83d283420b0a43cb9bafaafee499c263",
        "IPY_MODEL_acf127e425b548f98b4c0617e92bfa95",
        "IPY_MODEL_efe5e717ecd044b2a29d422ed942ca9c",
        "IPY_MODEL_5a8f0a5d0ef54378b078d6974f828248",
        "IPY_MODEL_5d551dc254cb413298b408743f896dec"
       ],
       "layout": "IPY_MODEL_3b794ec7250b4d6ab2ec6b8d4bf2bf7c"
      }
     },
     "daa73855449c42b19835231a179b5088": {
      "model_module": "@jupyter-widgets/base",
      "model_module_version": "1.1.0",
      "model_name": "LayoutModel",
      "state": {}
     },
     "dae7b1d5c804451abf14fd2ebe0f123f": {
      "model_module": "@jupyter-widgets/base",
      "model_module_version": "1.1.0",
      "model_name": "LayoutModel",
      "state": {}
     },
     "db5668f3d0af4be2b9a3ee12c4ce7650": {
      "model_module": "@jupyter-widgets/controls",
      "model_module_version": "1.4.0",
      "model_name": "ToggleButtonsModel",
      "state": {
       "_options_labels": [
        "0.25"
       ],
       "button_style": "",
       "description": "ambiguity",
       "icons": [],
       "index": 0,
       "layout": "IPY_MODEL_2508c40ca1fb47ff930573b58d3a2f99",
       "style": "IPY_MODEL_b7b8dcd832ba4f509daa83cdada08b25",
       "tooltips": []
      }
     },
     "dc0d651004d7420689c3c67d35ee272e": {
      "model_module": "@jupyter-widgets/controls",
      "model_module_version": "1.4.0",
      "model_name": "RadioButtonsModel",
      "state": {
       "_options_labels": [
        "1",
        "0.5",
        "0"
       ],
       "description": "penalty_strenth",
       "index": 0,
       "layout": "IPY_MODEL_0ab124aa1bf5401890b8e509aa2bb1f7",
       "style": "IPY_MODEL_26d0e99166ef4a72ba412b7ef8e3ae57"
      }
     },
     "dcb25e772bfa44d28a5dbabf7636f769": {
      "model_module": "@jupyter-widgets/base",
      "model_module_version": "1.1.0",
      "model_name": "LayoutModel",
      "state": {}
     },
     "dcda23b63057497b8e77f3d808ea6a1c": {
      "model_module": "@jupyter-widgets/base",
      "model_module_version": "1.1.0",
      "model_name": "LayoutModel",
      "state": {}
     },
     "dcf654c1c2e84b7983a729d17ce44021": {
      "model_module": "@jupyter-widgets/controls",
      "model_module_version": "1.4.0",
      "model_name": "DescriptionStyleModel",
      "state": {
       "description_width": ""
      }
     },
     "dd224b5b135d49d993c2dcfcf83f78ce": {
      "model_module": "@jupyter-widgets/base",
      "model_module_version": "1.1.0",
      "model_name": "LayoutModel",
      "state": {}
     },
     "dd34629a33774dfdb06827cc5b42cf63": {
      "model_module": "@jupyter-widgets/controls",
      "model_module_version": "1.4.0",
      "model_name": "DescriptionStyleModel",
      "state": {
       "description_width": ""
      }
     },
     "de0ab11c77f54a2d996c6662aaba46b4": {
      "model_module": "@jupyter-widgets/controls",
      "model_module_version": "1.4.0",
      "model_name": "DescriptionStyleModel",
      "state": {
       "description_width": ""
      }
     },
     "de39aef15ecf42faba438a6d8a33bb64": {
      "model_module": "@jupyter-widgets/base",
      "model_module_version": "1.1.0",
      "model_name": "LayoutModel",
      "state": {}
     },
     "ded1c999fdfd4b81870db6a7d48db159": {
      "model_module": "@jupyter-widgets/controls",
      "model_module_version": "1.4.0",
      "model_name": "ToggleButtonsModel",
      "state": {
       "_options_labels": [
        "0",
        "1.0"
       ],
       "button_style": "",
       "description": "mismatch_sensitivity",
       "icons": [],
       "index": 1,
       "layout": "IPY_MODEL_3cb5ef30d5af46caa3ddb746b2ed9031",
       "style": "IPY_MODEL_76d397105d6542f59be778f3654d4a81",
       "tooltips": []
      }
     },
     "dedb1622dfc844daa21af28f2cacfbbf": {
      "model_module": "@jupyter-widgets/controls",
      "model_module_version": "1.4.0",
      "model_name": "RadioButtonsModel",
      "state": {
       "_options_labels": [
        "0",
        "1",
        "2",
        "4",
        "8",
        "16",
        "32",
        "64"
       ],
       "description": "max_mismatch",
       "index": 0,
       "layout": "IPY_MODEL_9243f4a517664682a839ad856930adb2",
       "style": "IPY_MODEL_8ee725638c67497a8240ade5e5d3b228"
      }
     },
     "df6fececfdc1428d8189388f0d0a2036": {
      "model_module": "@jupyter-widgets/base",
      "model_module_version": "1.1.0",
      "model_name": "LayoutModel",
      "state": {}
     },
     "df79e4701d544525a9f66793b2a91208": {
      "model_module": "@jupyter-widgets/base",
      "model_module_version": "1.1.0",
      "model_name": "LayoutModel",
      "state": {}
     },
     "df9b17ef88ba49978f601efa60f133cd": {
      "model_module": "@jupyter-widgets/base",
      "model_module_version": "1.1.0",
      "model_name": "LayoutModel",
      "state": {}
     },
     "e02c5bc63edc4445a5ee413326eec8b4": {
      "model_module": "@jupyter-widgets/controls",
      "model_module_version": "1.4.0",
      "model_name": "DescriptionStyleModel",
      "state": {
       "description_width": ""
      }
     },
     "e27e013675af43acae866ec491fe197d": {
      "model_module": "@jupyter-widgets/controls",
      "model_module_version": "1.4.0",
      "model_name": "RadioButtonsModel",
      "state": {
       "_options_labels": [
        "0.25"
       ],
       "description": "ambiguity",
       "index": 0,
       "layout": "IPY_MODEL_97d7b83dd3df40c4a286545c7b05a53d",
       "style": "IPY_MODEL_d1a14ced77ff4be488eccd7e9a5d3e14"
      }
     },
     "e2a02c1a8a25482eb5b5581e723d6f08": {
      "model_module": "@jupyter-widgets/controls",
      "model_module_version": "1.4.0",
      "model_name": "DescriptionStyleModel",
      "state": {
       "description_width": ""
      }
     },
     "e2cf581f9f554dedb68c7b1b312abc8f": {
      "model_module": "@jupyter-widgets/base",
      "model_module_version": "1.1.0",
      "model_name": "LayoutModel",
      "state": {}
     },
     "e2fbb728c3c644ff9e6704b058464ce4": {
      "model_module": "@jupyter-widgets/controls",
      "model_module_version": "1.4.0",
      "model_name": "DescriptionStyleModel",
      "state": {
       "description_width": ""
      }
     },
     "e30d3499c261463d8c86d0e051ba5b0f": {
      "model_module": "@jupyter-widgets/base",
      "model_module_version": "1.1.0",
      "model_name": "LayoutModel",
      "state": {}
     },
     "e3500a243b564534a88521d4fd60abc1": {
      "model_module": "@jupyter-widgets/controls",
      "model_module_version": "1.4.0",
      "model_name": "ToggleButtonsModel",
      "state": {
       "_options_labels": [
        "0",
        "1.0"
       ],
       "button_style": "",
       "description": "mismatch_sensitivity",
       "icons": [],
       "index": 1,
       "layout": "IPY_MODEL_64ef30eca1144d4bb27332b03827ec20",
       "style": "IPY_MODEL_02b748e19ff44935b87362795ab08597",
       "tooltips": []
      }
     },
     "e3c66ac6fb74432abcacddf9a3f59571": {
      "model_module": "@jupyter-widgets/base",
      "model_module_version": "1.1.0",
      "model_name": "LayoutModel",
      "state": {}
     },
     "e3f09af93fbf47649b9a577868a4875d": {
      "model_module": "@jupyter-widgets/base",
      "model_module_version": "1.1.0",
      "model_name": "LayoutModel",
      "state": {}
     },
     "e459660659b044f98a4cb36955924fdd": {
      "model_module": "@jupyter-widgets/output",
      "model_module_version": "1.0.0",
      "model_name": "OutputModel",
      "state": {
       "layout": "IPY_MODEL_2a168d2275914dc7a6342d7f08f931b2"
      }
     },
     "e472fae90e264cb182ca44026f3200cd": {
      "model_module": "@jupyter-widgets/controls",
      "model_module_version": "1.4.0",
      "model_name": "RadioButtonsModel",
      "state": {
       "_options_labels": [
        "1",
        "0.5",
        "0"
       ],
       "description": "penalty_strenth",
       "index": 0,
       "layout": "IPY_MODEL_3322287ecbcb44f7b5e87780f807cc65",
       "style": "IPY_MODEL_8900297b56bf4fa3b63a95cd6b664c5d"
      }
     },
     "e4c5bf3855514d7ab67dc4b4a364e982": {
      "model_module": "@jupyter-widgets/base",
      "model_module_version": "1.1.0",
      "model_name": "LayoutModel",
      "state": {}
     },
     "e4f4f88e70d6423091a3d5d6791f03a9": {
      "model_module": "@jupyter-widgets/controls",
      "model_module_version": "1.4.0",
      "model_name": "DescriptionStyleModel",
      "state": {
       "description_width": ""
      }
     },
     "e518c6aabcf24c73a37598b5ec8b3e3f": {
      "model_module": "@jupyter-widgets/base",
      "model_module_version": "1.1.0",
      "model_name": "LayoutModel",
      "state": {}
     },
     "e58bd62cb2f144e39a0b9c2bc3800ad1": {
      "model_module": "@jupyter-widgets/controls",
      "model_module_version": "1.4.0",
      "model_name": "DescriptionStyleModel",
      "state": {
       "description_width": ""
      }
     },
     "e5cf6d65293a4ff88c98f180a956f52c": {
      "model_module": "@jupyter-widgets/controls",
      "model_module_version": "1.4.0",
      "model_name": "DescriptionStyleModel",
      "state": {
       "description_width": ""
      }
     },
     "e5dae9b852284fc096acf3fdbac08f84": {
      "model_module": "@jupyter-widgets/controls",
      "model_module_version": "1.4.0",
      "model_name": "RadioButtonsModel",
      "state": {
       "_options_labels": [
        "1",
        "0.5",
        "0"
       ],
       "description": "penalty_strenth",
       "index": 0,
       "layout": "IPY_MODEL_74fbcbd8b544408794eabdd986d2f405",
       "style": "IPY_MODEL_b0bb2df8d51b4c9c9eb77219371f35a9"
      }
     },
     "e68bba0ea937477d8cbd298b7025507a": {
      "model_module": "@jupyter-widgets/controls",
      "model_module_version": "1.4.0",
      "model_name": "DescriptionStyleModel",
      "state": {
       "description_width": ""
      }
     },
     "e7b5222438bc4e63825ad142edc4c3ba": {
      "model_module": "@jupyter-widgets/base",
      "model_module_version": "1.1.0",
      "model_name": "LayoutModel",
      "state": {}
     },
     "e7e0e87461044a05a1c805cb26e34520": {
      "model_module": "@jupyter-widgets/base",
      "model_module_version": "1.1.0",
      "model_name": "LayoutModel",
      "state": {}
     },
     "e7f5667f81324da09c106557549256b1": {
      "model_module": "@jupyter-widgets/base",
      "model_module_version": "1.1.0",
      "model_name": "LayoutModel",
      "state": {}
     },
     "e832dd03074c4ac289837885f8634193": {
      "model_module": "@jupyter-widgets/controls",
      "model_module_version": "1.4.0",
      "model_name": "RadioButtonsModel",
      "state": {
       "_options_labels": [
        "1",
        "0.5",
        "0"
       ],
       "description": "penalty_strenth",
       "index": 0,
       "layout": "IPY_MODEL_ec4f51d67e6b4f0599017d37740073e4",
       "style": "IPY_MODEL_89d70093ecc14fd9ae9c7d1124a8b48d"
      }
     },
     "e850f468b4224cdc8526e2e4407f44a6": {
      "model_module": "@jupyter-widgets/base",
      "model_module_version": "1.1.0",
      "model_name": "LayoutModel",
      "state": {}
     },
     "e87f1ed79c8b404c8038c455f72accd5": {
      "model_module": "@jupyter-widgets/controls",
      "model_module_version": "1.4.0",
      "model_name": "DescriptionStyleModel",
      "state": {
       "description_width": ""
      }
     },
     "e8d5d76caec54b3a8a2d4c569f4c09b5": {
      "model_module": "@jupyter-widgets/base",
      "model_module_version": "1.1.0",
      "model_name": "LayoutModel",
      "state": {}
     },
     "e9197a6dc7334c9fa93a2c2a2b5697b0": {
      "model_module": "@jupyter-widgets/controls",
      "model_module_version": "1.4.0",
      "model_name": "RadioButtonsModel",
      "state": {
       "_options_labels": [
        "0",
        "0.01"
       ],
       "description": "noise",
       "index": 0,
       "layout": "IPY_MODEL_0a30b192a99f4c72ad15be0d26ad2289",
       "style": "IPY_MODEL_d61e18e17caf4a79b966758a16c40504"
      }
     },
     "e9dc5c6eb4c64a1cb18aa4069c4d99b1": {
      "model_module": "@jupyter-widgets/base",
      "model_module_version": "1.1.0",
      "model_name": "LayoutModel",
      "state": {}
     },
     "ea23e7021c3b483faed0f231f397b820": {
      "model_module": "@jupyter-widgets/controls",
      "model_module_version": "1.4.0",
      "model_name": "DescriptionStyleModel",
      "state": {
       "description_width": ""
      }
     },
     "ea45549a07b94239a0d0909f1b3baaf4": {
      "model_module": "@jupyter-widgets/controls",
      "model_module_version": "1.4.0",
      "model_name": "ToggleButtonsModel",
      "state": {
       "_options_labels": [
        "1",
        "3"
       ],
       "button_style": "",
       "description": "n_retrievals",
       "icons": [],
       "index": 0,
       "layout": "IPY_MODEL_5488fbb378d14f1d9a85807b42bb72d4",
       "style": "IPY_MODEL_11780744eb494b0995043e4f7383dda6",
       "tooltips": []
      }
     },
     "ea4bffaed79847a9a1bcdbbed5f1777f": {
      "model_module": "@jupyter-widgets/base",
      "model_module_version": "1.1.0",
      "model_name": "LayoutModel",
      "state": {}
     },
     "ea520b15c8d24259a41889f11f9aa8b2": {
      "model_module": "@jupyter-widgets/controls",
      "model_module_version": "1.4.0",
      "model_name": "VBoxModel",
      "state": {
       "_dom_classes": [
        "widget-interact"
       ],
       "children": [
        "IPY_MODEL_4778173892d14c419ceeb2363a26ace1",
        "IPY_MODEL_cd6594434ea74fafa15d3f8c6bf8ab54",
        "IPY_MODEL_76a2ea8097014cf6afc7c79f1d8cce8f",
        "IPY_MODEL_3bf08897e65740e1a7fea4ff28bc4b03",
        "IPY_MODEL_f4c6e91bae0f4a4a86f8beca33e89057",
        "IPY_MODEL_260099cc0a8248f4a571ecd68b21535c",
        "IPY_MODEL_26ac40849fed4075b02a409263b3757c"
       ],
       "layout": "IPY_MODEL_d1b24c81ccf34fd7b7a73e7765ba8e76"
      }
     },
     "ea65aa20467e415d98f71fe47ef44e46": {
      "model_module": "@jupyter-widgets/controls",
      "model_module_version": "1.4.0",
      "model_name": "RadioButtonsModel",
      "state": {
       "_options_labels": [
        "1",
        "3"
       ],
       "description": "n_retrievals",
       "index": 0,
       "layout": "IPY_MODEL_dcda23b63057497b8e77f3d808ea6a1c",
       "style": "IPY_MODEL_1a9605ed028242579412d49da0cc766b"
      }
     },
     "eab0c2e346c046609ff7b8057dbbd174": {
      "model_module": "@jupyter-widgets/output",
      "model_module_version": "1.0.0",
      "model_name": "OutputModel",
      "state": {
       "layout": "IPY_MODEL_154b322ebf0d4e3bbb9946e697305fad"
      }
     },
     "ead4ab0ef76549b18dbc8f212f616bde": {
      "model_module": "@jupyter-widgets/controls",
      "model_module_version": "1.4.0",
      "model_name": "RadioButtonsModel",
      "state": {
       "_options_labels": [
        "0",
        "1",
        "2",
        "4",
        "8",
        "16",
        "32",
        "64"
       ],
       "description": "max_mismatch",
       "index": 0,
       "layout": "IPY_MODEL_d0db7a50eb8b49ccb15580c33c762150",
       "style": "IPY_MODEL_a1df5a2a0129472c97809ee5e74d082a"
      }
     },
     "eadc2493d49d494db9e728e3655a1843": {
      "model_module": "@jupyter-widgets/controls",
      "model_module_version": "1.4.0",
      "model_name": "DescriptionStyleModel",
      "state": {
       "description_width": ""
      }
     },
     "eaebe9b179254ec6b586a5ad28c083ba": {
      "model_module": "@jupyter-widgets/controls",
      "model_module_version": "1.4.0",
      "model_name": "VBoxModel",
      "state": {
       "_dom_classes": [
        "widget-interact"
       ],
       "children": [
        "IPY_MODEL_145aac1124924fdd852687246fdd585f",
        "IPY_MODEL_312cc7705ff7462ba132b1f051e3acb4",
        "IPY_MODEL_5f850356cdc14296a94409bf9aea2da4",
        "IPY_MODEL_25b7a723831f4641b5160b26b843654b",
        "IPY_MODEL_ead4ab0ef76549b18dbc8f212f616bde",
        "IPY_MODEL_094e989458fe4a96a6913cc19500eeec",
        "IPY_MODEL_c96f9392ad514913adbf5da8b2b10ebd"
       ],
       "layout": "IPY_MODEL_48d681ce4783469f800c0b81b5481ece"
      }
     },
     "eb20bd47d6124e6e9c409f1292f195e5": {
      "model_module": "@jupyter-widgets/base",
      "model_module_version": "1.1.0",
      "model_name": "LayoutModel",
      "state": {}
     },
     "eb6fa09f42324f179d7d08ffd1cb99cf": {
      "model_module": "@jupyter-widgets/base",
      "model_module_version": "1.1.0",
      "model_name": "LayoutModel",
      "state": {}
     },
     "eb9d0514b8d14bf19dd5d33eec2d310d": {
      "model_module": "@jupyter-widgets/controls",
      "model_module_version": "1.4.0",
      "model_name": "RadioButtonsModel",
      "state": {
       "_options_labels": [
        "0",
        "1.0"
       ],
       "description": "mismatch_sensitivity",
       "index": 1,
       "layout": "IPY_MODEL_b21986cff43149488778a5fdc8b14cf9",
       "style": "IPY_MODEL_19401cf444af4037ac01544dc3e0882b"
      }
     },
     "ebbbb17f386348f2ad239707790ae7b7": {
      "model_module": "@jupyter-widgets/controls",
      "model_module_version": "1.4.0",
      "model_name": "RadioButtonsModel",
      "state": {
       "_options_labels": [
        "0",
        "1.0"
       ],
       "description": "mismatch_sensitivity",
       "index": 1,
       "layout": "IPY_MODEL_f4f1769c32a54c0f97b4be386f469c3b",
       "style": "IPY_MODEL_66b1be95477a4226b1ecc82e8496a7c7"
      }
     },
     "ec4f51d67e6b4f0599017d37740073e4": {
      "model_module": "@jupyter-widgets/base",
      "model_module_version": "1.1.0",
      "model_name": "LayoutModel",
      "state": {}
     },
     "ec5ebac53ba643a382ec8f805b938f5d": {
      "model_module": "@jupyter-widgets/controls",
      "model_module_version": "1.4.0",
      "model_name": "RadioButtonsModel",
      "state": {
       "_options_labels": [
        "0",
        "0.01"
       ],
       "description": "noise",
       "index": 0,
       "layout": "IPY_MODEL_43c37a9353b84719bea4cc6fc9235f20",
       "style": "IPY_MODEL_4627492900df4840906704aef2e208b4"
      }
     },
     "ec87c57a144d45d8975dcce294a4c124": {
      "model_module": "@jupyter-widgets/output",
      "model_module_version": "1.0.0",
      "model_name": "OutputModel",
      "state": {
       "layout": "IPY_MODEL_873a794ff2aa45228aa7d54083387119"
      }
     },
     "ecc756fae8784c2da2a09d4b72cc1ca0": {
      "model_module": "@jupyter-widgets/controls",
      "model_module_version": "1.4.0",
      "model_name": "DescriptionStyleModel",
      "state": {
       "description_width": ""
      }
     },
     "ed16cde9083b4e32ac2458bc5f4c65fb": {
      "model_module": "@jupyter-widgets/controls",
      "model_module_version": "1.4.0",
      "model_name": "RadioButtonsModel",
      "state": {
       "_options_labels": [
        "0",
        "1",
        "2",
        "4",
        "8",
        "16",
        "32",
        "64"
       ],
       "description": "max_mismatch",
       "index": 0,
       "layout": "IPY_MODEL_e4c5bf3855514d7ab67dc4b4a364e982",
       "style": "IPY_MODEL_de0ab11c77f54a2d996c6662aaba46b4"
      }
     },
     "ed38627eb9744ee0bb252c55e7bea75b": {
      "model_module": "@jupyter-widgets/controls",
      "model_module_version": "1.4.0",
      "model_name": "DescriptionStyleModel",
      "state": {
       "description_width": ""
      }
     },
     "ee400187f4ae4070b9af4bb790b8121a": {
      "model_module": "@jupyter-widgets/base",
      "model_module_version": "1.1.0",
      "model_name": "LayoutModel",
      "state": {}
     },
     "eecf0d93c7744674836bb61b83c432d6": {
      "model_module": "@jupyter-widgets/controls",
      "model_module_version": "1.4.0",
      "model_name": "RadioButtonsModel",
      "state": {
       "_options_labels": [
        "0",
        "1.0"
       ],
       "description": "mismatch_sensitivity",
       "index": 1,
       "layout": "IPY_MODEL_a6a9379643944504be62d7654924524d",
       "style": "IPY_MODEL_ae85f21de8b0412fb7600641fc919c7f"
      }
     },
     "ef0c02f1d5384105ac6e71b121be2e40": {
      "model_module": "@jupyter-widgets/base",
      "model_module_version": "1.1.0",
      "model_name": "LayoutModel",
      "state": {}
     },
     "ef8e652e7f104f63b18201053924dcd7": {
      "model_module": "@jupyter-widgets/base",
      "model_module_version": "1.1.0",
      "model_name": "LayoutModel",
      "state": {}
     },
     "efc92b1d4b714e7e9732de7cde3b3873": {
      "model_module": "@jupyter-widgets/controls",
      "model_module_version": "1.4.0",
      "model_name": "ToggleButtonsStyleModel",
      "state": {
       "button_width": "",
       "description_width": ""
      }
     },
     "efe5e717ecd044b2a29d422ed942ca9c": {
      "model_module": "@jupyter-widgets/controls",
      "model_module_version": "1.4.0",
      "model_name": "RadioButtonsModel",
      "state": {
       "_options_labels": [
        "1",
        "0.5",
        "0"
       ],
       "description": "penalty_strenth",
       "index": 0,
       "layout": "IPY_MODEL_dcb25e772bfa44d28a5dbabf7636f769",
       "style": "IPY_MODEL_8a20ec967a3c4b8db63ffb890bb8fdb9"
      }
     },
     "eff0eaf09d704f449b1ddf233812b944": {
      "model_module": "@jupyter-widgets/controls",
      "model_module_version": "1.4.0",
      "model_name": "DescriptionStyleModel",
      "state": {
       "description_width": ""
      }
     },
     "f05dae435c434bda9eaffdefb9f30fee": {
      "model_module": "@jupyter-widgets/controls",
      "model_module_version": "1.4.0",
      "model_name": "VBoxModel",
      "state": {
       "_dom_classes": [
        "widget-interact"
       ],
       "children": [
        "IPY_MODEL_6c39c98beb3e4a39a550ac1111997d71",
        "IPY_MODEL_2678d8d4fc0f4cf5b6a8926792d8cc05",
        "IPY_MODEL_d31ed8930984409ea4ea87cbaa794754",
        "IPY_MODEL_7ae0bcb5440d44058ff6fe9ccfc906a2",
        "IPY_MODEL_04b37813f3ff4143ab01c1dad53dca7c",
        "IPY_MODEL_abebc174f11245aaa4a72d12f8e2bc42",
        "IPY_MODEL_ba6a97e396db407e8ea38387f266d3a6"
       ],
       "layout": "IPY_MODEL_18fe84f34fe645768350cfa3fc161619"
      }
     },
     "f06d4cd5d215446294ead26a9a779f3a": {
      "model_module": "@jupyter-widgets/base",
      "model_module_version": "1.1.0",
      "model_name": "LayoutModel",
      "state": {}
     },
     "f0d43437ae2a42d18bd2a67f2193e3a8": {
      "model_module": "@jupyter-widgets/controls",
      "model_module_version": "1.4.0",
      "model_name": "DescriptionStyleModel",
      "state": {
       "description_width": ""
      }
     },
     "f0f3bba08f9f4ddfb52b2b3944683350": {
      "model_module": "@jupyter-widgets/controls",
      "model_module_version": "1.4.0",
      "model_name": "RadioButtonsModel",
      "state": {
       "_options_labels": [
        "0",
        "1",
        "2",
        "4",
        "8",
        "16",
        "32",
        "64"
       ],
       "description": "max_mismatch",
       "index": 0,
       "layout": "IPY_MODEL_b6a69544227e48919a7c9cd9051e9027",
       "style": "IPY_MODEL_431a27c872994773ac7d384a20639153"
      }
     },
     "f1aacded61d0400fb4fa2c0ffb5dbbce": {
      "model_module": "@jupyter-widgets/controls",
      "model_module_version": "1.4.0",
      "model_name": "DescriptionStyleModel",
      "state": {
       "description_width": ""
      }
     },
     "f1cc39d8420348bd875eecab79aabe03": {
      "model_module": "@jupyter-widgets/base",
      "model_module_version": "1.1.0",
      "model_name": "LayoutModel",
      "state": {}
     },
     "f28ddfc06ee847a9a334ddd0d2591b5b": {
      "model_module": "@jupyter-widgets/output",
      "model_module_version": "1.0.0",
      "model_name": "OutputModel",
      "state": {
       "layout": "IPY_MODEL_bb91ba0438474d63aa462851fee59796"
      }
     },
     "f2d0608997a0470fae1fa8a6a0bceeb5": {
      "model_module": "@jupyter-widgets/controls",
      "model_module_version": "1.4.0",
      "model_name": "ToggleButtonsModel",
      "state": {
       "_options_labels": [
        "0",
        "0.01"
       ],
       "button_style": "",
       "description": "noise",
       "icons": [],
       "index": 0,
       "layout": "IPY_MODEL_b85fbc9dd38e412eb037f2701ae9caed",
       "style": "IPY_MODEL_96b36df4e601460da3b481bd6ff7dcb3",
       "tooltips": []
      }
     },
     "f2e57c38b6f646faaee3432cf959510f": {
      "model_module": "@jupyter-widgets/base",
      "model_module_version": "1.1.0",
      "model_name": "LayoutModel",
      "state": {}
     },
     "f33c9b1026fb43d5b17ea55965ac1d5d": {
      "model_module": "@jupyter-widgets/base",
      "model_module_version": "1.1.0",
      "model_name": "LayoutModel",
      "state": {}
     },
     "f35423a21060490b810374ad7a3e314c": {
      "model_module": "@jupyter-widgets/controls",
      "model_module_version": "1.4.0",
      "model_name": "ToggleButtonsModel",
      "state": {
       "_options_labels": [
        "0",
        "1"
       ],
       "button_style": "",
       "description": "Penalty strenth",
       "icons": [],
       "index": 1,
       "layout": "IPY_MODEL_c0b9fc68078b44ae9279f10882008f4a",
       "style": "IPY_MODEL_d98f7402e3cb4bc08571cce4d5ab6a05",
       "tooltips": []
      }
     },
     "f36dadf15a8d4dc9bb487f03d27da467": {
      "model_module": "@jupyter-widgets/controls",
      "model_module_version": "1.4.0",
      "model_name": "DescriptionStyleModel",
      "state": {
       "description_width": ""
      }
     },
     "f3825e071a65484cb6cf285a79468ab0": {
      "model_module": "@jupyter-widgets/controls",
      "model_module_version": "1.4.0",
      "model_name": "SelectionSliderModel",
      "state": {
       "_options_labels": [
        "0",
        "0.5",
        "1"
       ],
       "continuous_update": false,
       "description": "Penalty strenth",
       "index": 0,
       "layout": "IPY_MODEL_e7f5667f81324da09c106557549256b1",
       "style": "IPY_MODEL_7262298598404ec09665681cfb46feec"
      }
     },
     "f3cf7519961c4cc8afd40e7ad03dbe62": {
      "model_module": "@jupyter-widgets/controls",
      "model_module_version": "1.4.0",
      "model_name": "SelectionSliderModel",
      "state": {
       "_options_labels": [
        "0",
        "1",
        "2",
        "4",
        "8",
        "16",
        "32",
        "64"
       ],
       "continuous_update": false,
       "description": "Max-mismatch",
       "index": 0,
       "layout": "IPY_MODEL_3e1ded26e1b245ae8556496ea9edfa89",
       "style": "IPY_MODEL_d52f4ca945d148e1869ff7ae3b5d27b7"
      }
     },
     "f3d57dddf6ce4526aa063a3ea351f218": {
      "model_module": "@jupyter-widgets/controls",
      "model_module_version": "1.4.0",
      "model_name": "DescriptionStyleModel",
      "state": {
       "description_width": ""
      }
     },
     "f3ed379e52714b9e888a8ea634c7e5b7": {
      "model_module": "@jupyter-widgets/controls",
      "model_module_version": "1.4.0",
      "model_name": "RadioButtonsModel",
      "state": {
       "_options_labels": [
        "0.25"
       ],
       "description": "ambiguity",
       "index": 0,
       "layout": "IPY_MODEL_43163a62666f46ceb82deb5748cc412b",
       "style": "IPY_MODEL_7fc4abbfbc6444bcb75f527335413f0a"
      }
     },
     "f4637ebd4d1542708cd5af2515d62eac": {
      "model_module": "@jupyter-widgets/base",
      "model_module_version": "1.1.0",
      "model_name": "LayoutModel",
      "state": {}
     },
     "f4a6ecf3f0cf4c14975a0a1f05ad7d33": {
      "model_module": "@jupyter-widgets/output",
      "model_module_version": "1.0.0",
      "model_name": "OutputModel",
      "state": {
       "layout": "IPY_MODEL_77e2acd195004a1998f327d603b804f9"
      }
     },
     "f4c6e91bae0f4a4a86f8beca33e89057": {
      "model_module": "@jupyter-widgets/controls",
      "model_module_version": "1.4.0",
      "model_name": "RadioButtonsModel",
      "state": {
       "_options_labels": [
        "0",
        "1",
        "2",
        "4",
        "8",
        "16",
        "32",
        "64"
       ],
       "description": "max_mismatch",
       "index": 0,
       "layout": "IPY_MODEL_c75c1c2430e64ad7a6016022d9651e8c",
       "style": "IPY_MODEL_fff06aa535d844a59dfaa1d8280594b9"
      }
     },
     "f4e0cb713a864d26adf831eb0936b77e": {
      "model_module": "@jupyter-widgets/base",
      "model_module_version": "1.1.0",
      "model_name": "LayoutModel",
      "state": {}
     },
     "f4f1769c32a54c0f97b4be386f469c3b": {
      "model_module": "@jupyter-widgets/base",
      "model_module_version": "1.1.0",
      "model_name": "LayoutModel",
      "state": {}
     },
     "f54c32246eb44f1ba6c29837badbd217": {
      "model_module": "@jupyter-widgets/controls",
      "model_module_version": "1.4.0",
      "model_name": "RadioButtonsModel",
      "state": {
       "_options_labels": [
        "0.25"
       ],
       "description": "ambiguity",
       "index": 0,
       "layout": "IPY_MODEL_4446e1a607ab4bf78ede51a01931e433",
       "style": "IPY_MODEL_a4abfbe81ca24add98aa3d054d1922ce"
      }
     },
     "f58adb97d8694b4c8771f0c5ff0ae64c": {
      "model_module": "@jupyter-widgets/controls",
      "model_module_version": "1.4.0",
      "model_name": "IntSliderModel",
      "state": {
       "continuous_update": false,
       "description": "max-mismatch:",
       "layout": "IPY_MODEL_021b5d9b463f43f6b740ea45566f28cd",
       "max": 64,
       "style": "IPY_MODEL_5612fe7546984373bc7b50427f3634ca",
       "value": 24
      }
     },
     "f5920c564d784d3e9de78eea4c89c0be": {
      "model_module": "@jupyter-widgets/base",
      "model_module_version": "1.1.0",
      "model_name": "LayoutModel",
      "state": {}
     },
     "f5d4357e85e24c46987c31c4485497bc": {
      "model_module": "@jupyter-widgets/controls",
      "model_module_version": "1.4.0",
      "model_name": "DescriptionStyleModel",
      "state": {
       "description_width": ""
      }
     },
     "f61874fd121a4d72a811f0df8abd7c0f": {
      "model_module": "@jupyter-widgets/base",
      "model_module_version": "1.1.0",
      "model_name": "LayoutModel",
      "state": {}
     },
     "f6de4efcca83496b82000a5546adb175": {
      "model_module": "@jupyter-widgets/base",
      "model_module_version": "1.1.0",
      "model_name": "LayoutModel",
      "state": {}
     },
     "f70f1f31f7b04dc29bb26cdf677225e4": {
      "model_module": "@jupyter-widgets/base",
      "model_module_version": "1.1.0",
      "model_name": "LayoutModel",
      "state": {}
     },
     "f72639dd02d84d54b3583ea1044ef14d": {
      "model_module": "@jupyter-widgets/controls",
      "model_module_version": "1.4.0",
      "model_name": "RadioButtonsModel",
      "state": {
       "_options_labels": [
        "1",
        "3"
       ],
       "description": "n_retrievals",
       "index": 0,
       "layout": "IPY_MODEL_a05eccfdc53144169026bdafb7da932c",
       "style": "IPY_MODEL_4a0bb967a57e4515949c0e062825fd4f"
      }
     },
     "f766310ba59246ef883142fcf13d2b58": {
      "model_module": "@jupyter-widgets/controls",
      "model_module_version": "1.4.0",
      "model_name": "ButtonModel",
      "state": {
       "description": "(50% width, 80px height) button",
       "layout": "IPY_MODEL_93c2081095794030b5c2c56814de542c",
       "style": "IPY_MODEL_8e330e6205584bfdbe5beb41379ca327"
      }
     },
     "f81f01706cfb4a8bb1e0c4adf1f5eeb4": {
      "model_module": "@jupyter-widgets/controls",
      "model_module_version": "1.4.0",
      "model_name": "RadioButtonsModel",
      "state": {
       "_options_labels": [
        "1",
        "3"
       ],
       "description": "n_retrievals",
       "index": 0,
       "layout": "IPY_MODEL_fe33476b19d246c1b9c63a802f8db169",
       "style": "IPY_MODEL_c333c10e1c9a44d68950c3118e1e711c"
      }
     },
     "f84a3f0be64f4117a64aa589290854f9": {
      "model_module": "@jupyter-widgets/base",
      "model_module_version": "1.1.0",
      "model_name": "LayoutModel",
      "state": {}
     },
     "f8a0dc98998346be888fa8ac5755cc6c": {
      "model_module": "@jupyter-widgets/output",
      "model_module_version": "1.0.0",
      "model_name": "OutputModel",
      "state": {
       "layout": "IPY_MODEL_ea4bffaed79847a9a1bcdbbed5f1777f"
      }
     },
     "f903e4edb9724d71bc48102b2ae2b951": {
      "model_module": "@jupyter-widgets/controls",
      "model_module_version": "1.4.0",
      "model_name": "RadioButtonsModel",
      "state": {
       "_options_labels": [
        "1",
        "3"
       ],
       "description": "n_retrievals",
       "index": 0,
       "layout": "IPY_MODEL_ca5ab87134884ad7863391633584c0d4",
       "style": "IPY_MODEL_36810d4368454aa691466d943e2f8eee"
      }
     },
     "f96186cd94cb4c9d9852cdae8432b022": {
      "model_module": "@jupyter-widgets/controls",
      "model_module_version": "1.4.0",
      "model_name": "DescriptionStyleModel",
      "state": {
       "description_width": ""
      }
     },
     "f9a70626d6d940c2a88f20d949b395fd": {
      "model_module": "@jupyter-widgets/controls",
      "model_module_version": "1.4.0",
      "model_name": "RadioButtonsModel",
      "state": {
       "_options_labels": [
        "0",
        "1",
        "2",
        "4",
        "8",
        "16",
        "32",
        "64"
       ],
       "description": "max_mismatch",
       "index": 0,
       "layout": "IPY_MODEL_a5e90664364842e9b6dd203056851ab0",
       "style": "IPY_MODEL_d42c74e388124e32bcbb38e16476a7a1"
      }
     },
     "f9ad9febc3ab4a0e89ba0a477687fd7b": {
      "model_module": "@jupyter-widgets/controls",
      "model_module_version": "1.4.0",
      "model_name": "VBoxModel",
      "state": {
       "_dom_classes": [
        "widget-interact"
       ],
       "children": [
        "IPY_MODEL_0e405bd4d56443f8b05c2a88f1cf6db8",
        "IPY_MODEL_37bb8b785105448db7962898e885a582",
        "IPY_MODEL_bc46643515ad4706b357a85ea18e3660",
        "IPY_MODEL_eb9d0514b8d14bf19dd5d33eec2d310d",
        "IPY_MODEL_aa95bc08acc84c6ba8023b30646b0388",
        "IPY_MODEL_0cd6f44647c044dcb6e46dc7b9db7ee6",
        "IPY_MODEL_751bcabfaace48d4b2c55c71fd4522e6"
       ],
       "layout": "IPY_MODEL_b8816ef7feeb48c099bd9eaf7b0fbab1"
      }
     },
     "f9d638ada2594a71b1a7df7b23ae476c": {
      "model_module": "@jupyter-widgets/base",
      "model_module_version": "1.1.0",
      "model_name": "LayoutModel",
      "state": {}
     },
     "fb66a4f064524618820bad6d5e3cb851": {
      "model_module": "@jupyter-widgets/base",
      "model_module_version": "1.1.0",
      "model_name": "LayoutModel",
      "state": {}
     },
     "fbf3ad6707524f6b9a7c640f55fc9b61": {
      "model_module": "@jupyter-widgets/controls",
      "model_module_version": "1.4.0",
      "model_name": "RadioButtonsModel",
      "state": {
       "_options_labels": [
        "0",
        "0.01"
       ],
       "description": "noise",
       "index": 0,
       "layout": "IPY_MODEL_a626997e85f348f198a6ed2e54f944db",
       "style": "IPY_MODEL_7d74394e1ecb410587155acf679f34b7"
      }
     },
     "fbfa38d4c36f41399fd409c62046fe11": {
      "model_module": "@jupyter-widgets/base",
      "model_module_version": "1.1.0",
      "model_name": "LayoutModel",
      "state": {}
     },
     "fcc0f840d6cc48fcb7cb8276c5d3d3f4": {
      "model_module": "@jupyter-widgets/base",
      "model_module_version": "1.1.0",
      "model_name": "LayoutModel",
      "state": {}
     },
     "fcec7206e9034dd69c6b88c1c4fae3fd": {
      "model_module": "@jupyter-widgets/controls",
      "model_module_version": "1.4.0",
      "model_name": "ToggleButtonsModel",
      "state": {
       "_options_labels": [
        "0",
        "1.0"
       ],
       "button_style": "",
       "description": "mismatch_sensitivity",
       "icons": [],
       "index": 1,
       "layout": "IPY_MODEL_f9d638ada2594a71b1a7df7b23ae476c",
       "style": "IPY_MODEL_d8645abe0b154577bb51bcdff22d1d8b",
       "tooltips": []
      }
     },
     "fd4865d1d61646ea8255b2b0f8214ad9": {
      "model_module": "@jupyter-widgets/controls",
      "model_module_version": "1.4.0",
      "model_name": "RadioButtonsModel",
      "state": {
       "_options_labels": [
        "1",
        "0.5",
        "0"
       ],
       "description": "penalty_strenth",
       "index": 0,
       "layout": "IPY_MODEL_b035968bfa1142cfaa737688fad804f6",
       "style": "IPY_MODEL_76804e765d37449f816b7a82edc8dd81"
      }
     },
     "fdb0f3d89eb14c759168c6b21b0e3cc5": {
      "model_module": "@jupyter-widgets/controls",
      "model_module_version": "1.4.0",
      "model_name": "SelectionSliderModel",
      "state": {
       "_options_labels": [
        "0",
        "1",
        "2",
        "4",
        "8",
        "16",
        "32",
        "64"
       ],
       "continuous_update": false,
       "description": "Max-mismatch",
       "index": 0,
       "layout": "IPY_MODEL_c084cdbdc86b436d99c35f51843fda53",
       "style": "IPY_MODEL_45e3e2fc013c44dbbdb12b34d5662857"
      }
     },
     "fdf60f81d4c84017a0e7aa3cd661ae3f": {
      "model_module": "@jupyter-widgets/controls",
      "model_module_version": "1.4.0",
      "model_name": "DescriptionStyleModel",
      "state": {
       "description_width": ""
      }
     },
     "fe33476b19d246c1b9c63a802f8db169": {
      "model_module": "@jupyter-widgets/base",
      "model_module_version": "1.1.0",
      "model_name": "LayoutModel",
      "state": {}
     },
     "fe459b24bc3e4a7e8f6b09111a0b77ae": {
      "model_module": "@jupyter-widgets/controls",
      "model_module_version": "1.4.0",
      "model_name": "DescriptionStyleModel",
      "state": {
       "description_width": ""
      }
     },
     "ff4c3e43df6247ee8fa107b96dcf000c": {
      "model_module": "@jupyter-widgets/base",
      "model_module_version": "1.1.0",
      "model_name": "LayoutModel",
      "state": {}
     },
     "ff70b8c97e8c4d349941a278635a8714": {
      "model_module": "@jupyter-widgets/base",
      "model_module_version": "1.1.0",
      "model_name": "LayoutModel",
      "state": {}
     },
     "ffb6dbe6a6b5423ba9ad9cb88b223a92": {
      "model_module": "@jupyter-widgets/base",
      "model_module_version": "1.1.0",
      "model_name": "LayoutModel",
      "state": {}
     },
     "fff06aa535d844a59dfaa1d8280594b9": {
      "model_module": "@jupyter-widgets/controls",
      "model_module_version": "1.4.0",
      "model_name": "DescriptionStyleModel",
      "state": {
       "description_width": ""
      }
     }
    },
    "version_major": 2,
    "version_minor": 0
   }
  }
 },
 "nbformat": 4,
 "nbformat_minor": 2
}
